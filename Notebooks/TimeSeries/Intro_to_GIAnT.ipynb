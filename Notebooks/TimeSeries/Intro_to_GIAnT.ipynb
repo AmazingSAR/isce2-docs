{
 "cells": [
  {
   "cell_type": "markdown",
   "metadata": {
    "extensions": {
     "jupyter_dashboards": {
      "version": 1,
      "views": {
       "grid_default": {
        "col": 0,
        "height": 16,
        "hidden": false,
        "row": 0,
        "width": 12
       },
       "report_default": {}
      }
     }
    },
    "slideshow": {
     "slide_type": "slide"
    }
   },
   "source": [
    "<center><img src=\"notebook_images/Giant.png\" width=\"640\"/></center>"
   ]
  },
  {
   "cell_type": "markdown",
   "metadata": {
    "extensions": {
     "jupyter_dashboards": {
      "version": 1,
      "views": {
       "grid_default": {
        "col": 0,
        "height": 17,
        "hidden": false,
        "row": 16,
        "width": 12
       },
       "report_default": {}
      }
     }
    },
    "slideshow": {
     "slide_type": "slide"
    }
   },
   "source": [
    "\n",
    "<center><img src=\"notebook_images/GIAnT_motivation.png\" width=\"640\"/></center>"
   ]
  },
  {
   "cell_type": "markdown",
   "metadata": {
    "extensions": {
     "jupyter_dashboards": {
      "version": 1,
      "views": {
       "grid_default": {
        "col": 0,
        "height": 8,
        "hidden": false,
        "row": 33,
        "width": 12
       },
       "report_default": {}
      }
     }
    },
    "slideshow": {
     "slide_type": "slide"
    }
   },
   "source": [
    "<center><h3>Features</h3></center>\n",
    "\n",
    "1. Free, Open source and Python-based framework\n",
    "2. Modularity - easy to extend\n",
    "3. Memory mapped files - can handle large files\n",
    "4. Weather model based phase corrections - PyAPS\n",
    "5. Simple parallelization - using multiprocessing\n",
    "6. Visualization\n",
    "7. Documentation"
   ]
  },
  {
   "cell_type": "markdown",
   "metadata": {
    "extensions": {
     "jupyter_dashboards": {
      "version": 1,
      "views": {
       "grid_default": {
        "col": 0,
        "height": 6,
        "hidden": false,
        "row": 41,
        "width": 12
       },
       "report_default": {}
      }
     }
    },
    "slideshow": {
     "slide_type": "slide"
    }
   },
   "source": [
    "<center><h3>Before starting</h3></center>\n",
    "\n",
    "1. Familiarity with Python\n",
    "   - Similar to Matlab / IDL\n",
    "2. Familiarity with Matplotlib\n",
    "   - We have already been using it for other exercises\n"
   ]
  },
  {
   "cell_type": "markdown",
   "metadata": {
    "extensions": {
     "jupyter_dashboards": {
      "version": 1,
      "views": {
       "grid_default": {
        "col": 0,
        "height": 7,
        "hidden": false,
        "row": 47,
        "width": 12
       },
       "report_default": {}
      }
     }
    },
    "slideshow": {
     "slide_type": "subslide"
    }
   },
   "source": [
    "<center><h3>Before starting ...</h3></center>\n",
    "3. Familiarity with HDF5 and h5py\n",
    "   - Similar to IDL's .sav or Matlab's .mat \n",
    "   - GIAnT uses this for organizing and storing data\n",
    "4. XML files\n",
    "   - Passing parameters to GIAnT"
   ]
  },
  {
   "cell_type": "markdown",
   "metadata": {
    "extensions": {
     "jupyter_dashboards": {
      "version": 1,
      "views": {
       "grid_default": {
        "col": 0,
        "height": 7,
        "hidden": false,
        "row": 54,
        "width": 12
       },
       "report_default": {}
      }
     }
    },
    "slideshow": {
     "slide_type": "slide"
    }
   },
   "source": [
    "<center><h3>Simple conventions</h3></center>\n",
    "\n",
    "1. Work with unwrapped interferograms in radians\n",
    "\n",
    "2. Reference scene convention: Latest scene \n",
    "   - GIAnT can handle both conventions\n",
    "   \n",
    "3. Data needs to be aligned in radar / geo coordinates"
   ]
  },
  {
   "cell_type": "markdown",
   "metadata": {
    "extensions": {
     "jupyter_dashboards": {
      "version": 1,
      "views": {
       "grid_default": {
        "col": 0,
        "height": 7,
        "hidden": false,
        "row": 61,
        "width": 12
       },
       "report_default": {}
      }
     }
    },
    "slideshow": {
     "slide_type": "subslide"
    }
   },
   "source": [
    "<center><h3> Conventions ... </h3></center>\n",
    "4. Ground to satellite vector as reference\n",
    "    - Positive is uplift (towards satellite)\n",
    "    - Negative is subsidence (away from satellite)\n",
    "5. Units - everything is converted to mm before analysis\n",
    "6. Help strings in all products (HDF5) and inputs (XML)"
   ]
  },
  {
   "cell_type": "markdown",
   "metadata": {
    "extensions": {
     "jupyter_dashboards": {
      "version": 1,
      "views": {
       "grid_default": {
        "col": 0,
        "height": 6,
        "hidden": false,
        "row": 68,
        "width": 12
       },
       "report_default": {}
      }
     }
    },
    "slideshow": {
     "slide_type": "slide"
    }
   },
   "source": [
    "<center><h3>Software resources</h3></center>\n",
    "\n",
    "1. Pre-requisites are already available via conda / package managers\n",
    "2. Avoid reinventing the wheel .. reuse Python libraries\n",
    "3. svn repository http://earthdef.caltech.edu\n",
    "4. User forums for questions"
   ]
  },
  {
   "cell_type": "markdown",
   "metadata": {
    "extensions": {
     "jupyter_dashboards": {
      "version": 1,
      "views": {
       "grid_default": {
        "col": 0,
        "height": 10,
        "hidden": false,
        "row": 74,
        "width": 12
       },
       "report_default": {}
      }
     }
    },
    "slideshow": {
     "slide_type": "subslide"
    }
   },
   "source": [
    "<center><h3>Software structure</h3></center>\n",
    "\n",
    "```\n",
    "GIAnT (INSTALL directory)\n",
    "|\n",
    "|----tsinsar (Time-series library)\n",
    "|----SCR (Time-series analysis scripts)\n",
    "|----geocode (Geocoding library and scripts)\n",
    "|----solvers (Solvers)\n",
    "|----setup.py  (Installation script)\n",
    "|----setup.cfg (Setup configure file)\n",
    "pyaps  (Atmospheric corrections)\n",
    "```"
   ]
  },
  {
   "cell_type": "markdown",
   "metadata": {
    "extensions": {
     "jupyter_dashboards": {
      "version": 1,
      "views": {
       "grid_default": {
        "col": 0,
        "height": 15,
        "hidden": false,
        "row": 84,
        "width": 12
       },
       "report_default": {}
      }
     }
    },
    "slideshow": {
     "slide_type": "subslide"
    }
   },
   "source": [
    "<center><h3>Synthetic dataset</h3></center>\n",
    "\n",
    "<center><img src=\"notebook_images/Bperpplot.png\" width=\"400\"></center>\n",
    "\n",
    "- 85 SAR scenes - 57 ERS + 28 ENV\n",
    "- 263 interferograms (1992 - 2008)"
   ]
  },
  {
   "cell_type": "markdown",
   "metadata": {
    "extensions": {
     "jupyter_dashboards": {
      "version": 1,
      "views": {
       "grid_default": {
        "col": 0,
        "height": 22,
        "hidden": false,
        "row": 99,
        "width": 12
       },
       "report_default": {}
      }
     }
    },
    "slideshow": {
     "slide_type": "slide"
    }
   },
   "source": [
    "<center><img src=\"notebook_images/GIAnT_TO.png\" width=\"600\"/></center>"
   ]
  },
  {
   "cell_type": "markdown",
   "metadata": {
    "extensions": {
     "jupyter_dashboards": {
      "version": 1,
      "views": {
       "grid_default": {
        "col": 0,
        "height": 7,
        "hidden": false,
        "row": 121,
        "width": 12
       },
       "report_default": {}
      }
     }
    },
    "slideshow": {
     "slide_type": "slide"
    }
   },
   "source": [
    "<center><h3>Organization of this tutorial</h3></center>\n",
    "0. Gather and preprocess data (PrepGIAnT)\n",
    "1. Prepare aligned data stack (PrepIgramStack)\n",
    "2. Apply Corrections (not part of tutorial)\n",
    "3. SBAS and Timefn Inversion (SBASInvert)\n",
    "5. Visualization and export"
   ]
  },
  {
   "cell_type": "markdown",
   "metadata": {
    "extensions": {
     "jupyter_dashboards": {
      "version": 1,
      "views": {
       "grid_default": {
        "col": 0,
        "height": 7,
        "hidden": false,
        "row": 128,
        "width": 12
       },
       "report_default": {}
      }
     }
    },
    "slideshow": {
     "slide_type": "slide"
    }
   },
   "source": [
    "<center><h3>Step 0: PrepGIAnT</h3></center>\n",
    "\n",
    "1. Align and coregister unwrapped IFGs and coherence files\n",
    "2. Collect list of interferograms - **ifg.list**\n",
    "3. Collect lat, lon, hgt files (optional)\n",
    "4. Create common mask (optional)\n",
    "\n",
    "<center><u>Run PrepGIAnT notebook now</u></center>"
   ]
  },
  {
   "cell_type": "markdown",
   "metadata": {
    "extensions": {
     "jupyter_dashboards": {
      "version": 1,
      "views": {
       "grid_default": {
        "col": 0,
        "height": 7,
        "hidden": false,
        "row": 135,
        "width": 12
       },
       "report_default": {}
      }
     }
    },
    "slideshow": {
     "slide_type": "slide"
    }
   },
   "source": [
    "<center><h3>Step 1: PrepIgramStack</h3></center>\n",
    "\n",
    "Now that we have gathered all the data needed for analysis, we are ready to prepare a data cube for time-series inversion.\n",
    "\n",
    "This step performs the following operations:\n",
    "\n",
    "1. Read in unwrapped data and mask it with the coherence layer\n",
    "\n",
    "2. Reference the data to a user-defined region"
   ]
  },
  {
   "cell_type": "markdown",
   "metadata": {
    "extensions": {
     "jupyter_dashboards": {
      "version": 1,
      "views": {
       "grid_default": {
        "col": 0,
        "height": 18,
        "hidden": false,
        "row": 142,
        "width": 12
       },
       "report_default": {}
      }
     }
    },
    "slideshow": {
     "slide_type": "subslide"
    }
   },
   "source": [
    "<center><img src=\"notebook_images/PrepIgramStack.png\" width=\"640\"/></center>\n",
    "<center> <u>Run PrepIgramStack notebook now </u></center>"
   ]
  },
  {
   "cell_type": "markdown",
   "metadata": {
    "extensions": {
     "jupyter_dashboards": {
      "version": 1,
      "views": {
       "grid_default": {
        "col": 0,
        "height": 8,
        "hidden": false,
        "row": 160,
        "width": 12
       },
       "report_default": {}
      }
     }
    },
    "slideshow": {
     "slide_type": "slide"
    }
   },
   "source": [
    "<center><h3>Step 2: ProcessStack </h3></center>\n",
    "\n",
    "This step is meant to apply various types of corrections to the data \n",
    "\n",
    "1. Tropospheric phase screens\n",
    "\n",
    "2. Ramps introduced by orbital errors\n",
    "\n",
    "We are not actually going to apply any of these corrections as part of this exercise.\n",
    "We have already discussed tropospheric corrections as part of yesterday's tutorials."
   ]
  },
  {
   "cell_type": "markdown",
   "metadata": {
    "extensions": {
     "jupyter_dashboards": {
      "version": 1,
      "views": {
       "grid_default": {
        "col": 0,
        "height": 26,
        "hidden": false,
        "row": 168,
        "width": 12
       },
       "report_default": {}
      }
     }
    },
    "slideshow": {
     "slide_type": "subslide"
    }
   },
   "source": [
    "<center><img src=\"notebook_images/ProcessStack.png\" width=\"640\"/></center>"
   ]
  },
  {
   "cell_type": "markdown",
   "metadata": {
    "slideshow": {
     "slide_type": "subslide"
    }
   },
   "source": [
    "<center><h3><u>PyAPS workflow</u></h3></center>\n",
    "<center><img src=\"notebook_images/pyaps.png\" width=\"560\"></center>"
   ]
  },
  {
   "cell_type": "markdown",
   "metadata": {
    "extensions": {
     "jupyter_dashboards": {
      "version": 1,
      "views": {
       "grid_default": {
        "col": 0,
        "height": 9,
        "hidden": false,
        "row": 194,
        "width": 12
       },
       "report_default": {}
      }
     }
    },
    "slideshow": {
     "slide_type": "slide"
    }
   },
   "source": [
    "<center><h3><u>Time-series inversions</u></h3></center>\n",
    "\n",
    "We will look at two different inversion methods as part of this exercise\n",
    "\n",
    "1. SBASInvert.py\n",
    "   - Traditional least-squares based SBAS\n",
    "\n",
    "2. TimefnInvert.py\n",
    "   - GPS-like functional representation"
   ]
  },
  {
   "cell_type": "markdown",
   "metadata": {
    "extensions": {
     "jupyter_dashboards": {
      "version": 1,
      "views": {
       "grid_default": {
        "hidden": true
       },
       "report_default": {}
      }
     }
    },
    "slideshow": {
     "slide_type": "slide"
    }
   },
   "source": [
    "<center><h3><u>Step 3: SBASInvert </u></h3></center>\n",
    "\n",
    "1. Only consider pixels that are coherent in all interferograms \n",
    "\n",
    "2. Consider short temporal and geometric baseline pairs\n",
    "\n",
    "3. Very conservative approach in terms of spatial coverage\n",
    "\n",
    "4. With good temporal sampling, great connectivity of networks\n",
    "\n",
    "<center><u>Run SBASInvert Notebook Now</u></center>"
   ]
  },
  {
   "cell_type": "markdown",
   "metadata": {
    "slideshow": {
     "slide_type": "slide"
    }
   },
   "source": [
    "<center><h3><u>Step 4: TimefnInvert </u></h3></center>\n",
    "\n",
    "1. Only consider pixels that are coherent in all interferograms\n",
    "2. Consider short temporal and geometric baseline pairs \n",
    "3. Can handle disconnected networks - tied by model\n",
    "4. With good temporal sampling, great connectivity of networks\n",
    "\n",
    "<center><u>Run TimefnInvert Notebook Now</u></center>"
   ]
  },
  {
   "cell_type": "markdown",
   "metadata": {
    "hideCode": true,
    "slideshow": {
     "slide_type": "slide"
    }
   },
   "source": [
    "<center><h3><u>Estimating Uncertainties: Cross Validation</u></h3></center>\n",
    "\n",
    "1. An approach to estimate uncertainties from the data itself\n",
    "\n",
    "2. N-1 subsets created by removing one scene at a time\n",
    "\n",
    "3. Error statistics on (N-1) estimates of deformation\n",
    "\n",
    "<center><u>Now run SBASxval.py in the GIAnT folder</u></center>"
   ]
  },
  {
   "cell_type": "markdown",
   "metadata": {
    "slideshow": {
     "slide_type": "slide"
    }
   },
   "source": [
    "<center><h3><u>Limitations</u></h3></center>\n",
    "\n",
    "1. GIAnT implements the simplest time-series inversion methods\n",
    "\n",
    "2. Single coherence threshold is very conservative in terms of pixel selection\n",
    "   \n",
    "3. Does not include consistency checks for unwrapping errors\n",
    "\n",
    "4. Limited dictionary of temporal model functions"
   ]
  },
  {
   "cell_type": "markdown",
   "metadata": {
    "slideshow": {
     "slide_type": "slide"
    }
   },
   "source": [
    "<center><h3><u>Resources </u></h3></center>\n",
    "\n",
    "- Website: http://earthdef.caltech.edu\n",
    "\n",
    "- User manual: \n",
    "http://earthdef.caltech.edu/projects/giant/wiki\n",
    "\n",
    "- User forums:\n",
    "http://earthdef.caltech.edu/projects/giant/boards\n",
    "\n",
    "- Citation:\n",
    "New Radar Interferometric Time Series Analysis Toolbox Released, P. S. Agram, R. Jolivet, B. Riel, Y. N. Lin, M. Simons, E. Hetland, M. P. Doin and C. Lassere, Eos Trans. AGU, 94 (69), 2013."
   ]
  },
  {
   "cell_type": "markdown",
   "metadata": {
    "slideshow": {
     "slide_type": "slide"
    }
   },
   "source": [
    "<center><h3><u>Acknowledgement of contributors</u></h3></center>\n",
    "\n",
    "Romain Jolivet, Bryan Riel, Nina Lin, \n",
    "\n",
    "Batuhan Osmanoglu, Cathleen Jones, Eric Lindsey, \n",
    "\n",
    "Simran Sangha, Cong Liu, Wenyu Gong, \n",
    "\n",
    "Priyanka Sharma and many others ..."
   ]
  },
  {
   "cell_type": "markdown",
   "metadata": {
    "slideshow": {
     "slide_type": "slide"
    }
   },
   "source": [
    "<center><h1>Thank you</h1></center>"
   ]
  }
 ],
 "metadata": {
  "celltoolbar": "Slideshow",
  "extensions": {
   "jupyter_dashboards": {
    "activeView": "grid_default",
    "version": 1,
    "views": {
     "grid_default": {
      "cellMargin": 10,
      "defaultCellHeight": 20,
      "maxColumns": 12,
      "name": "grid",
      "type": "grid"
     },
     "report_default": {
      "name": "report",
      "type": "report"
     }
    }
   }
  },
  "kernelspec": {
   "display_name": "Python 3",
   "language": "python",
   "name": "python3"
  },
  "language_info": {
   "codemirror_mode": {
    "name": "ipython",
    "version": 3
   },
   "file_extension": ".py",
   "mimetype": "text/x-python",
   "name": "python",
   "nbconvert_exporter": "python",
   "pygments_lexer": "ipython3",
   "version": "3.6.6"
  },
  "rise": {
   "theme": "sky"
  }
 },
 "nbformat": 4,
 "nbformat_minor": 2
}
