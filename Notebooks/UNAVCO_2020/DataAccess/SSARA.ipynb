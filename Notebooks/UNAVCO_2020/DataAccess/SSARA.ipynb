{
 "cells": [
  {
   "cell_type": "markdown",
   "metadata": {},
   "source": [
    "# Seamless SAR Archive (SSARA) Federated data search and access  \n",
    "In this tutorial we will download the command line client, demonstrate searching, and perform data download for later processing.\n",
    "The SSARA federated query tool (ssara_federated_query.py) is located on the SSARA GitHub page: https://github.com/bakerunavco/SSARA .  You can clone the entire project and use git for tracking and pulling changes that have been made to the software.  \n",
    "Documentation and API details are on the GitHub wiki page:  \n",
    "https://github.com/bakerunavco/SSARA/wiki/SSARA-API  \n",
    "https://github.com/bakerunavco/SSARA/wiki/Usage-Examples  \n",
    "\n",
    "## 1. Download and setup the SSARA Federated Query tool"
   ]
  },
  {
   "cell_type": "code",
   "execution_count": 1,
   "metadata": {},
   "outputs": [],
   "source": [
    "import os\n",
    "os.chdir(os.getenv(\"HOME\")+'/work')"
   ]
  },
  {
   "cell_type": "code",
   "execution_count": 2,
   "metadata": {},
   "outputs": [
    {
     "name": "stdout",
     "output_type": "stream",
     "text": [
      "Cloning into '/home/jovyan/work/SSARA'...\n"
     ]
    }
   ],
   "source": [
    "!git clone https://github.com/bakerunavco/SSARA.git $HOME/work/SSARA"
   ]
  },
  {
   "cell_type": "markdown",
   "metadata": {},
   "source": [
    "In order to download data outside the course, you will need to obtain credentials from WInSAR, ASF, and ESA, then store your username and password in the password_config.py file.  We will be using a special temporary account only for this short course demonstratioin to download some ESA data from WInSAR: \n",
    "\n",
    "Edit the file $HOME/work/SSARA/password_config.py in either in a terminal with vi or selecting it on the left under Files:  \n",
    "```\n",
    "unavuser=’insarcourse’  \n",
    "unavpass=’insarcourse’\n",
    "```"
   ]
  },
  {
   "cell_type": "markdown",
   "metadata": {},
   "source": [
    "## 2. Using the SSARA Federated Query tool\n",
    "Running the client without any options will print the help message and describe the options.  Some usage examples are given in the help as well.  Take some time to perform some example searches in a terminal window to get a feel from how the client works."
   ]
  },
  {
   "cell_type": "code",
   "execution_count": 3,
   "metadata": {},
   "outputs": [
    {
     "name": "stdout",
     "output_type": "stream",
     "text": [
      "Usage: ssara_federated_query.py [options]\n",
      "\n",
      "Command line client for searching with the SSARA Federated API, \n",
      "creating KMLs, and downloading data.  See the options and \n",
      "descriptions below for details and usage examples.\n",
      "\n",
      "For questions or comments, contact Scott Baker: baker@unavco.org\n",
      "    \n",
      "Options:\n",
      "  --version             show program's version number and exit\n",
      "  -h, --help            show this help message and exit\n",
      "\n"
     ]
    }
   ],
   "source": [
    "!$HOME/work/SSARA/ssara_federated_query.py"
   ]
  },
  {
   "cell_type": "markdown",
   "metadata": {},
   "source": [
    "## 2. Searching and Downloading Envisat data for Baja earthquake\n",
    "Now that the client is working properly on our system, we will do a search for Envisat data covering the April 4, 2010 Baja earthquake.  We want Envisat, track (or relativeOrbit) 84, frames 2943 and 2961 from the WInSAR ESA collection.  The following command provides the necessary filters for the search and returns the 4 scenes we need for processing:"
   ]
  },
  {
   "cell_type": "code",
   "execution_count": 4,
   "metadata": {},
   "outputs": [
    {
     "name": "stdout",
     "output_type": "stream",
     "text": [
     ]
    }
   ],
   "source": [
    "!$HOME/work/SSARA/ssara_federated_query.py --platform=ENVISAT --relativeOrbit=84 --frame=2943,2961 --start=2010-03-27 --end=2010-05-03 --collection=\"WInSAR ESA\" --print"
   ]
  },
  {
   "cell_type": "markdown",
   "metadata": {},
   "source": [
    "The --print option prints the results in comma separated value (CSV) format to the screen with the following fields:  \n",
    "collection,platform,start,end,relativeOrbit,first_frame,final_frame,beamMode,beamSwath,\n",
    "flightDirection,lookDirection,polarization,downloadURL  \n",
    "\n",
    "We confirm that those are the scenes we want, so now we can provide the --download option.  \n"
   ]
  },
  {
   "cell_type": "code",
   "execution_count": 5,
   "metadata": {},
   "outputs": [
    {
     "name": "stdout",
     "output_type": "stream",
     "text": [
     ]
    }
   ],
   "source": [
    "!mkdir -p $HOME/work/data/Baja/\n",
    "!cd $HOME/work/data/Baja/\n",
    "!$HOME/work/SSARA/ssara_federated_query.py -p ENVISAT -r 84 -f 2943,2961 -s 2010-03-27 -e 2010-05-03 --collection=\"WInSAR ESA\" --download --parallel=4 "
   ]
  },
  {
   "cell_type": "markdown",
   "metadata": {},
   "source": [
    "Now we can organize the data to prepare for processing later.  We want to create directories for each date and move the two frames into them"
   ]
  },
  {
   "cell_type": "code",
   "execution_count": 6,
   "metadata": {},
   "outputs": [],
   "source": [
    "!mkdir -p $HOME/work/data/Baja/20100328 ; mv A*20100328*.N1 $HOME/work/data/Baja/20100328\n",
    "!mkdir -p $HOME/work/data/Baja/20100502 ; mv A*20100502*.N1 $HOME/work/data/Baja/20100502"
   ]
  },
  {
   "cell_type": "code",
   "execution_count": null,
   "metadata": {},
   "outputs": [],
   "source": []
  }
 ],
 "metadata": {
  "kernelspec": {
   "display_name": "Python 3",
   "language": "python",
   "name": "python3"
  },
  "language_info": {
   "codemirror_mode": {
    "name": "ipython",
    "version": 3
   },
   "file_extension": ".py",
   "mimetype": "text/x-python",
   "name": "python",
   "nbconvert_exporter": "python",
   "pygments_lexer": "ipython3",
   "version": "3.6.6"
  }
 },
 "nbformat": 4,
 "nbformat_minor": 2
}
