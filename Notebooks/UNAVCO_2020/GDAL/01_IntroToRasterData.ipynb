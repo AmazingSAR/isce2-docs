{
 "cells": [
  {
   "cell_type": "markdown",
   "metadata": {},
   "source": [
    "<div align=\"center\">\n",
    "<font color=\"blue\"><h1>GDAL - Introduction to Raster Data</h1>\n",
    "<h3> Aug 14-18, 2020 @ UNAVCO</h3></font></div>"
   ]
  },
  {
   "cell_type": "markdown",
   "metadata": {
    "hideCode": true,
    "hidePrompt": true
   },
   "source": [
    "In this tutorial, we will demonstrate the use of GDAL software for working geospatial data in general and with radar data products generated using the ISCE software. We will start with very basics of geospatial data representations and work through various common operations involving geospatial imagery.\n",
    "\n",
    "At the end of this general introduction, we will use GDAL to manipulate Standard Unwrapped Interferogram products from the ARIA/GRFN archive."
   ]
  },
  {
   "cell_type": "markdown",
   "metadata": {
    "heading_collapsed": true
   },
   "source": [
    "## 0 Notebook setup"
   ]
  },
  {
   "cell_type": "code",
   "execution_count": 6,
   "metadata": {
    "hidden": true
   },
   "outputs": [],
   "source": [
    "# Always run this cell at the start of each session\n",
    "import os\n",
    "from osgeo import gdal, osr\n",
    "\n",
    "if 'nb_dir' not in globals():\n",
    "    nb_dir = os.getcwd()"
   ]
  },
  {
   "cell_type": "markdown",
   "metadata": {},
   "source": [
    "## 1 Download datasets for notebook"
   ]
  },
  {
   "cell_type": "markdown",
   "metadata": {},
   "source": [
    "We will download the datasets used in this notebook. "
   ]
  },
  {
   "cell_type": "markdown",
   "metadata": {
    "heading_collapsed": true
   },
   "source": [
    "### Dataset 1: SRTM DEM tile in geotiff format over California from opentopography"
   ]
  },
  {
   "cell_type": "code",
   "execution_count": 2,
   "metadata": {
    "hidden": true
   },
   "outputs": [
    {
     "name": "stdout",
     "output_type": "stream",
     "text": [
      "--2020-07-26 19:54:49--  https://cloud.sdsc.edu/v1/AUTH_opentopography/Raster/SRTM_GL1_Ellip/SRTM_GL1_Ellip_srtm/North/North_30_60/N33W119_wgs84.tif\n",
      "Resolving cloud.sdsc.edu (cloud.sdsc.edu)... 132.249.120.48, 132.249.120.78\n",
      "Connecting to cloud.sdsc.edu (cloud.sdsc.edu)|132.249.120.48|:443... connected.\n",
      "HTTP request sent, awaiting response... 200 OK\n",
      "Length: 6410371 (6.1M) [image/tiff]\n",
      "Saving to: ‘N33W119_wgs84.tif’\n",
      "\n",
      "N33W119_wgs84.tif   100%[===================>]   6.11M  6.95MB/s    in 0.9s    \n",
      "\n",
      "2020-07-26 19:54:50 (6.95 MB/s) - ‘N33W119_wgs84.tif’ saved [6410371/6410371]\n",
      "\n"
     ]
    }
   ],
   "source": [
    "!wget -nc https://cloud.sdsc.edu/v1/AUTH_opentopography/Raster/SRTM_GL1_Ellip/SRTM_GL1_Ellip_srtm/North/North_30_60/N33W119_wgs84.tif"
   ]
  },
  {
   "cell_type": "markdown",
   "metadata": {
    "heading_collapsed": true
   },
   "source": [
    "### Dataset 2: Greenland DEM in netcdf format from Univ of Montana"
   ]
  },
  {
   "cell_type": "code",
   "execution_count": 3,
   "metadata": {
    "hidden": true
   },
   "outputs": [
    {
     "name": "stdout",
     "output_type": "stream",
     "text": [
      "--2020-07-26 19:54:59--  http://websrv.cs.umt.edu/isis/images/a/ab/Greenland1km.nc\n",
      "Resolving websrv.cs.umt.edu (websrv.cs.umt.edu)... 150.131.192.24\n",
      "Connecting to websrv.cs.umt.edu (websrv.cs.umt.edu)|150.131.192.24|:80... connected.\n",
      "HTTP request sent, awaiting response... 200 OK\n",
      "Length: 84110176 (80M) [application/x-netcdf]\n",
      "Saving to: ‘Greenland1km.nc’\n",
      "\n",
      "Greenland1km.nc     100%[===================>]  80.21M  6.85MB/s    in 18s     \n",
      "\n",
      "2020-07-26 19:55:17 (4.37 MB/s) - ‘Greenland1km.nc’ saved [84110176/84110176]\n",
      "\n"
     ]
    }
   ],
   "source": [
    "!wget -nc http://websrv.cs.umt.edu/isis/images/a/ab/Greenland1km.nc"
   ]
  },
  {
   "cell_type": "markdown",
   "metadata": {
    "heading_collapsed": true
   },
   "source": [
    "### Dataset 3: Southern California DEM in GMT format from UC Santa Barbara"
   ]
  },
  {
   "cell_type": "code",
   "execution_count": 4,
   "metadata": {
    "hidden": true
   },
   "outputs": [
    {
     "name": "stdout",
     "output_type": "stream",
     "text": [
      "--2020-07-26 19:55:20--  https://projects.eri.ucsb.edu/mapcat/mapftp/18.grd\n",
      "Resolving projects.eri.ucsb.edu (projects.eri.ucsb.edu)... 128.111.100.88\n",
      "Connecting to projects.eri.ucsb.edu (projects.eri.ucsb.edu)|128.111.100.88|:443... connected.\n",
      "HTTP request sent, awaiting response... 200 OK\n",
      "Length: 2888672 (2.8M)\n",
      "Saving to: ‘18.grd’\n",
      "\n",
      "18.grd              100%[===================>]   2.75M  6.45MB/s    in 0.4s    \n",
      "\n",
      "2020-07-26 19:55:21 (6.45 MB/s) - ‘18.grd’ saved [2888672/2888672]\n",
      "\n"
     ]
    }
   ],
   "source": [
    "!wget -nc https://projects.eri.ucsb.edu/mapcat/mapftp/18.grd"
   ]
  },
  {
   "cell_type": "markdown",
   "metadata": {
    "heading_collapsed": true
   },
   "source": [
    "### Dataset 4: USGS DEM over Bushkill, PA from PSU"
   ]
  },
  {
   "cell_type": "code",
   "execution_count": 5,
   "metadata": {
    "hidden": true
   },
   "outputs": [
    {
     "name": "stdout",
     "output_type": "stream",
     "text": [
      "--2020-07-26 19:55:25--  https://courseware.e-education.psu.edu/downloads/natureofgeoinfo/DEM.zip\n",
      "Resolving courseware.e-education.psu.edu (courseware.e-education.psu.edu)... 146.186.26.53\n",
      "Connecting to courseware.e-education.psu.edu (courseware.e-education.psu.edu)|146.186.26.53|:443... connected.\n",
      "HTTP request sent, awaiting response... 200 OK\n",
      "Length: 2600801 (2.5M) [application/zip]\n",
      "Saving to: ‘DEM.zip’\n",
      "\n",
      "DEM.zip             100%[===================>]   2.48M  2.57MB/s    in 1.0s    \n",
      "\n",
      "2020-07-26 19:55:27 (2.57 MB/s) - ‘DEM.zip’ saved [2600801/2600801]\n",
      "\n"
     ]
    }
   ],
   "source": [
    "!wget -nc https://courseware.e-education.psu.edu/downloads/natureofgeoinfo/DEM.zip"
   ]
  },
  {
   "cell_type": "markdown",
   "metadata": {
    "heading_collapsed": true
   },
   "source": [
    "### Dataset 5: An example ISCE stripmapApp.py run folder"
   ]
  },
  {
   "cell_type": "markdown",
   "metadata": {
    "hidden": true
   },
   "source": [
    "We can use any stripmapApp.py output folder. In our case, we will reuse the one from our earlier notebook using ALOS PALSAR data."
   ]
  },
  {
   "cell_type": "code",
   "execution_count": null,
   "metadata": {
    "hidden": true
   },
   "outputs": [],
   "source": [
    "#If you are on UNAVCO Jupyterlab setup, link to outputs from stripmap notebook\n",
    "#If not feel free to use any stripmapApp.py run from ISCE\n",
    "!ln -s /home/jovyan/work/Stripmap/Hawaii_ALOS1 stripmap"
   ]
  },
  {
   "cell_type": "markdown",
   "metadata": {
    "heading_collapsed": true,
    "hideCode": true,
    "hidePrompt": true
   },
   "source": [
    "## 2. GIS - Geographic Information System"
   ]
  },
  {
   "cell_type": "markdown",
   "metadata": {
    "hidden": true,
    "hideCode": true,
    "hidePrompt": true
   },
   "source": [
    "GIS is a framework for organizing, managing, visualizing and analyzing geospatial data. As geophysicists, geologists or geodesists, we all use these set of tools to work with data on maps. Any data that can be plotted on a map can be classified as **geospatial** data. \n",
    "\n",
    "Most popular free GIS tools include:\n",
    "\n",
    "1. Generic Mapping Tools (GMT) http://gmt.soest.hawaii.edu/\n",
    "2. Geospatial Data Abstraction Library (GDAL) http://www.gdal.org/\n",
    "3. QGIS https://qgis.org/\n",
    "4. PROJ.4 / pyproj https://proj4.org/\n",
    "5. Others like Shapely, Fiona, Caropy, Basemap etc \n",
    "\n",
    "In this tutorial, we will focus on the <u>Geospatial Data Abstraction Library (GDAL)</u>."
   ]
  },
  {
   "cell_type": "markdown",
   "metadata": {
    "heading_collapsed": true,
    "hidden": true,
    "hideCode": true,
    "hidePrompt": true
   },
   "source": [
    "### 1.1 Types of geospatial data"
   ]
  },
  {
   "cell_type": "markdown",
   "metadata": {
    "hidden": true,
    "hideCode": true,
    "hidePrompt": true
   },
   "source": [
    "Geospatial data can generally be classified into 2 types"
   ]
  },
  {
   "cell_type": "markdown",
   "metadata": {
    "heading_collapsed": true,
    "hidden": true,
    "hideCode": true,
    "hidePrompt": true
   },
   "source": [
    "#### Raster data"
   ]
  },
  {
   "cell_type": "markdown",
   "metadata": {
    "hidden": true,
    "hideCode": true,
    "hidePrompt": true
   },
   "source": [
    "From the ARCGIS webpage:\n",
    "\n",
    "In its simplest form, a raster consists of a matrix of cells (or pixels) organized into rows and columns (or a grid) where each cell contains a value representing information. Typical examples of raster imagery include:\n",
    "\n",
    "1. Weather radar maps\n",
    "2. Satellite imagery\n",
    "\n",
    "Clearly, from the exercises that we have been doing with SAR data - these types of imagery fall under raster datasets. This tutorial will focus on raster data manipulation."
   ]
  },
  {
   "cell_type": "markdown",
   "metadata": {
    "heading_collapsed": true,
    "hidden": true,
    "hideCode": true,
    "hidePrompt": true
   },
   "source": [
    "#### Vector data"
   ]
  },
  {
   "cell_type": "markdown",
   "metadata": {
    "hidden": true,
    "hideCode": true,
    "hidePrompt": true
   },
   "source": [
    "Vector data refers to datasets that attempt to represent information using goemetric constructs like points, line and polygons. Typical examples of vector data include:\n",
    "\n",
    "1. Highways, country boundaries etc\n",
    "2. Earthquake locations from a catalog\n",
    "3. Polygon shaped features like coastlines etc\n",
    "\n",
    "With SAR/InSAR, these types of datasets tend to be used in an ancillary fashion to assist in interpretation. This type of data will not discussed in detail as such in this tutorial."
   ]
  },
  {
   "cell_type": "markdown",
   "metadata": {
    "heading_collapsed": true,
    "hidden": true,
    "hideCode": true,
    "hidePrompt": true
   },
   "source": [
    "### 1.2 Why GDAL?"
   ]
  },
  {
   "cell_type": "markdown",
   "metadata": {
    "hidden": true,
    "hideCode": true,
    "hidePrompt": true
   },
   "source": [
    "* Free and Open Source (https://github.com/OSGeo/gdal)\n",
    "* Support for over 80+ Image formats and map projections\n",
    "* Command line as well as C/C++/Python/R API\n",
    "* Used extensively by worlds large geospatial data services\n",
    "* Extensive test suite and active developer community\n",
    "* GDAL also includes extensive support for vector datasets (Not a topic for this tutorial)\n",
    "\n",
    "<b><font color=\"blue\">Note:<br>\n",
    "    This notebook is specifically to be used with GDAL 3.x\n",
    "    </font></b>"
   ]
  },
  {
   "cell_type": "markdown",
   "metadata": {
    "heading_collapsed": true,
    "hideCode": true,
    "hidePrompt": true
   },
   "source": [
    "## 2. Raster Data Model in GDAL"
   ]
  },
  {
   "cell_type": "markdown",
   "metadata": {
    "hidden": true,
    "hideCode": true,
    "hidePrompt": true
   },
   "source": [
    "GDAL has a very clearly defined Data Model. For a detailed description of all the aspects of the Data Model - see http://www.gdal.org/gdal_datamodel.html. In this tutorial, we will focus on some important aspects of this model."
   ]
  },
  {
   "cell_type": "markdown",
   "metadata": {
    "heading_collapsed": true,
    "hidden": true,
    "hideCode": true,
    "hidePrompt": true
   },
   "source": [
    "### a. Raster Bands"
   ]
  },
  {
   "cell_type": "markdown",
   "metadata": {
    "hidden": true,
    "hideCode": true,
    "hidePrompt": true
   },
   "source": [
    "A GDAL-comptabile raster image can consist of many 2D matrices contained in it as long as\n",
    "\n",
    "1. They are of the same size \n",
    "2. They represent information from the same points, i.e the map coordinates are the same.\n",
    "3. Some data formats inherently allow the different bands to be of different datatypes, but this is not very common.\n",
    "\n",
    "Let's look at examples of single and multi-band images using the **gdalinfo** utility."
   ]
  },
  {
   "cell_type": "code",
   "execution_count": 7,
   "metadata": {
    "hidden": true,
    "hideCode": false,
    "hidePrompt": false,
    "scrolled": true
   },
   "outputs": [
    {
     "name": "stdout",
     "output_type": "stream",
     "text": [
      "Driver: GTiff/GeoTIFF\n",
      "Files: N33W119_wgs84.tif\n",
      "Size is 3601, 3601\n",
      "Coordinate System is:\n",
      "GEOGCRS[\"WGS 84\",\n",
      "    DATUM[\"World Geodetic System 1984\",\n",
      "        ELLIPSOID[\"WGS 84\",6378137,298.257223563,\n",
      "            LENGTHUNIT[\"metre\",1]]],\n",
      "    PRIMEM[\"Greenwich\",0,\n",
      "        ANGLEUNIT[\"degree\",0.0174532925199433]],\n",
      "    CS[ellipsoidal,2],\n",
      "        AXIS[\"geodetic latitude (Lat)\",north,\n",
      "            ORDER[1],\n",
      "            ANGLEUNIT[\"degree\",0.0174532925199433]],\n",
      "        AXIS[\"geodetic longitude (Lon)\",east,\n",
      "            ORDER[2],\n",
      "            ANGLEUNIT[\"degree\",0.0174532925199433]],\n",
      "    ID[\"EPSG\",4326]]\n",
      "Data axis to CRS axis mapping: 2,1\n",
      "Origin = (-119.000138888888884,34.000138888888891)\n",
      "Pixel Size = (0.000277777777778,-0.000277777777778)\n",
      "Metadata:\n",
      "  AREA_OR_POINT=Area\n",
      "Image Structure Metadata:\n",
      "  COMPRESSION=DEFLATE\n",
      "  INTERLEAVE=BAND\n",
      "Corner Coordinates:\n",
      "Upper Left  (-119.0001389,  34.0001389) (119d 0' 0.50\"W, 34d 0' 0.50\"N)\n",
      "Lower Left  (-119.0001389,  32.9998611) (119d 0' 0.50\"W, 32d59'59.50\"N)\n",
      "Upper Right (-117.9998611,  34.0001389) (117d59'59.50\"W, 34d 0' 0.50\"N)\n",
      "Lower Right (-117.9998611,  32.9998611) (117d59'59.50\"W, 32d59'59.50\"N)\n",
      "Center      (-118.5000000,  33.5000000) (118d30' 0.00\"W, 33d30' 0.00\"N)\n",
      "Band 1 Block=3601x1 Type=Float32, ColorInterp=Gray\n",
      "  NoData Value=-32768\n"
     ]
    }
   ],
   "source": [
    "#Lets look at one downloaded SRTM tile\n",
    "# This is a single band file\n",
    "\n",
    "!gdalinfo N33W119_wgs84.tif"
   ]
  },
  {
   "cell_type": "code",
   "execution_count": null,
   "metadata": {
    "hidden": true,
    "hideCode": false,
    "hidePrompt": false,
    "scrolled": true
   },
   "outputs": [],
   "source": [
    "#Lets look at a coherence product generated by ISCE\n",
    "# This is a two band file\n",
    "\n",
    "!gdalinfo stripmap/interferogram/topophase.cor.geo.vrt"
   ]
  },
  {
   "cell_type": "code",
   "execution_count": null,
   "metadata": {
    "hidden": true,
    "hideCode": false,
    "hidePrompt": false,
    "scrolled": true
   },
   "outputs": [],
   "source": [
    "###How do we get this information programatically\n",
    "ds = gdal.Open('stripmap/interferogram/topophase.cor.geo.vrt', gdal.GA_ReadOnly)\n",
    "print('Bands = ', ds.RasterCount)\n",
    "print('Dimensions = ', ds.RasterXSize, ' x ', ds.RasterYSize)\n",
    "ds = None"
   ]
  },
  {
   "cell_type": "markdown",
   "metadata": {
    "heading_collapsed": true,
    "hidden": true,
    "hideCode": true,
    "hidePrompt": true
   },
   "source": [
    "### b. Data types"
   ]
  },
  {
   "cell_type": "markdown",
   "metadata": {
    "hidden": true,
    "hideCode": true,
    "hidePrompt": true
   },
   "source": [
    "The following data types are supported by GDAL:\n",
    "\n",
    "1. Byte \n",
    "2. UInt16 \n",
    "3. Int16 \n",
    "4. UInt32 \n",
    "5. Int32 \n",
    "6. Float32\n",
    "7. Float64\n",
    "8. **CInt16**\n",
    "9. **CInt32**\n",
    "10. **CFloat32**\n",
    "11. **CFloat64** \n",
    "\n",
    "Fact that GDAL includes support for complex numbers makes it significantly more relevant than other GIS systems for use with radar datasets."
   ]
  },
  {
   "cell_type": "code",
   "execution_count": null,
   "metadata": {
    "hidden": true,
    "hideCode": false,
    "hidePrompt": false,
    "scrolled": true
   },
   "outputs": [],
   "source": [
    "!gdalinfo stripmap/interferogram/topophase.flat.vrt"
   ]
  },
  {
   "cell_type": "code",
   "execution_count": null,
   "metadata": {
    "hidden": true,
    "hideCode": false,
    "hidePrompt": false
   },
   "outputs": [],
   "source": [
    "##Programmatic method of querying data type\n",
    "ds = gdal.Open('18.grd', gdal.GA_ReadOnly)\n",
    "band = ds.GetRasterBand(1)\n",
    "print(gdal.GetDataTypeName(band.DataType))\n",
    "band = None\n",
    "ds = None"
   ]
  },
  {
   "cell_type": "markdown",
   "metadata": {
    "heading_collapsed": true,
    "hidden": true,
    "hideCode": true,
    "hidePrompt": true
   },
   "source": [
    "### c. Coordinate System"
   ]
  },
  {
   "cell_type": "markdown",
   "metadata": {
    "hidden": true,
    "hideCode": true,
    "hidePrompt": true
   },
   "source": [
    "This is where GDAL really stands out. There are numerous conventions used globally for representing the coordinate system for map data. Here are some popular ones:\n",
    "\n",
    "1. PROJ4 - https://proj4.org/usage/projections.html\n",
    "2. USGS - Collection of 18 numbers, extremely unusable\n",
    "3. OGC WKT (defacto standard) - http://docs.opengeospatial.org/is/12-063r5/12-063r5.html\n",
    "4. EPSG codes (Easy to use) - http://spatialreference.org/ref/epsg/\n",
    "5. XML etc\n",
    "\n",
    "We will use the **gdalsrsinfo** to demonstrate the complications involved in supporting these coordinate sytems."
   ]
  },
  {
   "cell_type": "code",
   "execution_count": 8,
   "metadata": {
    "hidden": true,
    "hideCode": false,
    "hidePrompt": false,
    "scrolled": true
   },
   "outputs": [
    {
     "name": "stdout",
     "output_type": "stream",
     "text": [
      "\r\n",
      "PROJ.4 : +proj=longlat +datum=WGS84 +no_defs\r\n",
      "\r\n",
      "OGC WKT1 :\r\n",
      "GEOGCS[\"WGS 84\",\r\n",
      "    DATUM[\"WGS_1984\",\r\n",
      "        SPHEROID[\"WGS 84\",6378137,298.257223563,\r\n",
      "            AUTHORITY[\"EPSG\",\"7030\"]],\r\n",
      "        AUTHORITY[\"EPSG\",\"6326\"]],\r\n",
      "    PRIMEM[\"Greenwich\",0,\r\n",
      "        AUTHORITY[\"EPSG\",\"8901\"]],\r\n",
      "    UNIT[\"degree\",0.0174532925199433,\r\n",
      "        AUTHORITY[\"EPSG\",\"9122\"]],\r\n",
      "    AXIS[\"Latitude\",NORTH],\r\n",
      "    AXIS[\"Longitude\",EAST],\r\n",
      "    AUTHORITY[\"EPSG\",\"4326\"]]\r\n",
      "\r\n",
      "OGC WKT2:2015 :\r\n",
      "GEODCRS[\"WGS 84\",\r\n",
      "    DATUM[\"World Geodetic System 1984\",\r\n",
      "        ELLIPSOID[\"WGS 84\",6378137,298.257223563,\r\n",
      "            LENGTHUNIT[\"metre\",1]]],\r\n",
      "    PRIMEM[\"Greenwich\",0,\r\n",
      "        ANGLEUNIT[\"degree\",0.0174532925199433]],\r\n",
      "    CS[ellipsoidal,2],\r\n",
      "        AXIS[\"geodetic latitude (Lat)\",north,\r\n",
      "            ORDER[1],\r\n",
      "            ANGLEUNIT[\"degree\",0.0174532925199433]],\r\n",
      "        AXIS[\"geodetic longitude (Lon)\",east,\r\n",
      "            ORDER[2],\r\n",
      "            ANGLEUNIT[\"degree\",0.0174532925199433]],\r\n",
      "    AREA[\"World\"],\r\n",
      "    BBOX[-90,-180,90,180],\r\n",
      "    ID[\"EPSG\",4326]]\r\n",
      "\r\n",
      "OGC WKT2:2018 :\r\n",
      "GEOGCRS[\"WGS 84\",\r\n",
      "    DATUM[\"World Geodetic System 1984\",\r\n",
      "        ELLIPSOID[\"WGS 84\",6378137,298.257223563,\r\n",
      "            LENGTHUNIT[\"metre\",1]]],\r\n",
      "    PRIMEM[\"Greenwich\",0,\r\n",
      "        ANGLEUNIT[\"degree\",0.0174532925199433]],\r\n",
      "    CS[ellipsoidal,2],\r\n",
      "        AXIS[\"geodetic latitude (Lat)\",north,\r\n",
      "            ORDER[1],\r\n",
      "            ANGLEUNIT[\"degree\",0.0174532925199433]],\r\n",
      "        AXIS[\"geodetic longitude (Lon)\",east,\r\n",
      "            ORDER[2],\r\n",
      "            ANGLEUNIT[\"degree\",0.0174532925199433]],\r\n",
      "    USAGE[\r\n",
      "        SCOPE[\"unknown\"],\r\n",
      "        AREA[\"World\"],\r\n",
      "        BBOX[-90,-180,90,180]],\r\n",
      "    ID[\"EPSG\",4326]]\r\n",
      "\r\n",
      "OGC WKT1 (simple) :\r\n",
      "GEOGCS[\"WGS 84\",\r\n",
      "    DATUM[\"WGS_1984\",\r\n",
      "        SPHEROID[\"WGS 84\",6378137,298.257223563]],\r\n",
      "    PRIMEM[\"Greenwich\",0],\r\n",
      "    UNIT[\"degree\",0.0174532925199433]]\r\n",
      "\r\n",
      "OGC WKT1 (no CT) :\r\n",
      "GEOGCS[\"WGS 84\",\r\n",
      "    DATUM[\"WGS_1984\",\r\n",
      "        SPHEROID[\"WGS 84\",6378137,298.257223563]],\r\n",
      "    PRIMEM[\"Greenwich\",0],\r\n",
      "    UNIT[\"degree\",0.0174532925199433]]\r\n",
      "\r\n",
      "ESRI WKT :\r\n",
      "GEOGCS[\"GCS_WGS_1984\",\r\n",
      "    DATUM[\"D_WGS_1984\",\r\n",
      "        SPHEROID[\"WGS_1984\",6378137.0,298.257223563]],\r\n",
      "    PRIMEM[\"Greenwich\",0.0],\r\n",
      "    UNIT[\"Degree\",0.0174532925199433]]\r\n",
      "\r\n",
      "MAPINFO : 'Earth Projection 1, 104'\r\n",
      "\r\n",
      "XML :\r\n",
      "<gml:GeographicCRS gml:id=\"ogrcrs1\">\r\n",
      "  <gml:srsName>WGS 84</gml:srsName>\r\n",
      "  <gml:srsID>\r\n",
      "    <gml:name codeSpace=\"urn:ogc:def:crs:EPSG::\">4326</gml:name>\r\n",
      "  </gml:srsID>\r\n",
      "  <gml:usesEllipsoidalCS>\r\n",
      "    <gml:EllipsoidalCS gml:id=\"ogrcrs2\">\r\n",
      "      <gml:csName>ellipsoidal</gml:csName>\r\n",
      "      <gml:csID>\r\n",
      "        <gml:name codeSpace=\"urn:ogc:def:cs:EPSG::\">6402</gml:name>\r\n",
      "      </gml:csID>\r\n",
      "      <gml:usesAxis>\r\n",
      "        <gml:CoordinateSystemAxis gml:id=\"ogrcrs3\" gml:uom=\"urn:ogc:def:uom:EPSG::9102\">\r\n",
      "          <gml:name>Geodetic latitude</gml:name>\r\n",
      "          <gml:axisID>\r\n",
      "            <gml:name codeSpace=\"urn:ogc:def:axis:EPSG::\">9901</gml:name>\r\n",
      "          </gml:axisID>\r\n",
      "          <gml:axisAbbrev>Lat</gml:axisAbbrev>\r\n",
      "          <gml:axisDirection>north</gml:axisDirection>\r\n",
      "        </gml:CoordinateSystemAxis>\r\n",
      "      </gml:usesAxis>\r\n",
      "      <gml:usesAxis>\r\n",
      "        <gml:CoordinateSystemAxis gml:id=\"ogrcrs4\" gml:uom=\"urn:ogc:def:uom:EPSG::9102\">\r\n",
      "          <gml:name>Geodetic longitude</gml:name>\r\n",
      "          <gml:axisID>\r\n",
      "            <gml:name codeSpace=\"urn:ogc:def:axis:EPSG::\">9902</gml:name>\r\n",
      "          </gml:axisID>\r\n",
      "          <gml:axisAbbrev>Lon</gml:axisAbbrev>\r\n",
      "          <gml:axisDirection>east</gml:axisDirection>\r\n",
      "        </gml:CoordinateSystemAxis>\r\n",
      "      </gml:usesAxis>\r\n",
      "    </gml:EllipsoidalCS>\r\n",
      "  </gml:usesEllipsoidalCS>\r\n",
      "  <gml:usesGeodeticDatum>\r\n",
      "    <gml:GeodeticDatum gml:id=\"ogrcrs5\">\r\n",
      "      <gml:datumName>WGS_1984</gml:datumName>\r\n",
      "      <gml:datumID>\r\n",
      "        <gml:name codeSpace=\"urn:ogc:def:datum:EPSG::\">6326</gml:name>\r\n",
      "      </gml:datumID>\r\n",
      "      <gml:usesPrimeMeridian>\r\n",
      "        <gml:PrimeMeridian gml:id=\"ogrcrs6\">\r\n",
      "          <gml:meridianName>Greenwich</gml:meridianName>\r\n",
      "          <gml:meridianID>\r\n",
      "            <gml:name codeSpace=\"urn:ogc:def:meridian:EPSG::\">8901</gml:name>\r\n",
      "          </gml:meridianID>\r\n",
      "          <gml:greenwichLongitude>\r\n",
      "            <gml:angle uom=\"urn:ogc:def:uom:EPSG::9102\">0</gml:angle>\r\n",
      "          </gml:greenwichLongitude>\r\n",
      "        </gml:PrimeMeridian>\r\n",
      "      </gml:usesPrimeMeridian>\r\n",
      "      <gml:usesEllipsoid>\r\n",
      "        <gml:Ellipsoid gml:id=\"ogrcrs7\">\r\n",
      "          <gml:ellipsoidName>WGS 84</gml:ellipsoidName>\r\n",
      "          <gml:ellipsoidID>\r\n",
      "            <gml:name codeSpace=\"urn:ogc:def:ellipsoid:EPSG::\">7030</gml:name>\r\n",
      "          </gml:ellipsoidID>\r\n",
      "          <gml:semiMajorAxis uom=\"urn:ogc:def:uom:EPSG::9001\">6378137</gml:semiMajorAxis>\r\n",
      "          <gml:secondDefiningParameter>\r\n",
      "            <gml:inverseFlattening uom=\"urn:ogc:def:uom:EPSG::9201\">298.257223563</gml:inverseFlattening>\r\n",
      "          </gml:secondDefiningParameter>\r\n",
      "        </gml:Ellipsoid>\r\n",
      "      </gml:usesEllipsoid>\r\n",
      "    </gml:GeodeticDatum>\r\n",
      "  </gml:usesGeodeticDatum>\r\n",
      "</gml:GeographicCRS>\r\n",
      "\r\n",
      "\r\n",
      "PROJJSON :\r\n",
      "{\r\n",
      "  \"$schema\": \"https://proj.org/schemas/v0.2/projjson.schema.json\",\r\n",
      "  \"type\": \"GeographicCRS\",\r\n",
      "  \"name\": \"WGS 84\",\r\n",
      "  \"datum\": {\r\n",
      "    \"type\": \"GeodeticReferenceFrame\",\r\n",
      "    \"name\": \"World Geodetic System 1984\",\r\n",
      "    \"ellipsoid\": {\r\n",
      "      \"name\": \"WGS 84\",\r\n",
      "      \"semi_major_axis\": 6378137,\r\n",
      "      \"inverse_flattening\": 298.257223563\r\n",
      "    }\r\n",
      "  },\r\n",
      "  \"coordinate_system\": {\r\n",
      "    \"subtype\": \"ellipsoidal\",\r\n",
      "    \"axis\": [\r\n",
      "      {\r\n",
      "        \"name\": \"Geodetic latitude\",\r\n",
      "        \"abbreviation\": \"Lat\",\r\n",
      "        \"direction\": \"north\",\r\n",
      "        \"unit\": \"degree\"\r\n",
      "      },\r\n",
      "      {\r\n",
      "        \"name\": \"Geodetic longitude\",\r\n",
      "        \"abbreviation\": \"Lon\",\r\n",
      "        \"direction\": \"east\",\r\n",
      "        \"unit\": \"degree\"\r\n",
      "      }\r\n",
      "    ]\r\n",
      "  },\r\n",
      "  \"area\": \"World\",\r\n",
      "  \"bbox\": {\r\n",
      "    \"south_latitude\": -90,\r\n",
      "    \"west_longitude\": -180,\r\n",
      "    \"north_latitude\": 90,\r\n",
      "    \"east_longitude\": 180\r\n",
      "  },\r\n",
      "  \"id\": {\r\n",
      "    \"authority\": \"EPSG\",\r\n",
      "    \"code\": 4326\r\n",
      "  }\r\n",
      "}\r\n",
      "\r\n"
     ]
    }
   ],
   "source": [
    "##Simple WGS84 lat/lon projection has EPSG code 4326.\n",
    "##To look at all equivalent representations of this system\n",
    "!gdalsrsinfo -o all EPSG:4326"
   ]
  },
  {
   "cell_type": "code",
   "execution_count": 9,
   "metadata": {
    "hidden": true,
    "hideCode": false,
    "hidePrompt": false,
    "scrolled": true
   },
   "outputs": [
    {
     "name": "stdout",
     "output_type": "stream",
     "text": [
      "\n",
      "PROJ.4 : +proj=utm +zone=20 +datum=WGS84 +units=m +no_defs\n",
      "\n",
      "OGC WKT1 :\n",
      "PROJCS[\"WGS 84 / UTM zone 20N\",\n",
      "    GEOGCS[\"WGS 84\",\n",
      "        DATUM[\"WGS_1984\",\n",
      "            SPHEROID[\"WGS 84\",6378137,298.257223563,\n",
      "                AUTHORITY[\"EPSG\",\"7030\"]],\n",
      "            AUTHORITY[\"EPSG\",\"6326\"]],\n",
      "        PRIMEM[\"Greenwich\",0,\n",
      "            AUTHORITY[\"EPSG\",\"8901\"]],\n",
      "        UNIT[\"degree\",0.0174532925199433,\n",
      "            AUTHORITY[\"EPSG\",\"9122\"]],\n",
      "        AUTHORITY[\"EPSG\",\"4326\"]],\n",
      "    PROJECTION[\"Transverse_Mercator\"],\n",
      "    PARAMETER[\"latitude_of_origin\",0],\n",
      "    PARAMETER[\"central_meridian\",-63],\n",
      "    PARAMETER[\"scale_factor\",0.9996],\n",
      "    PARAMETER[\"false_easting\",500000],\n",
      "    PARAMETER[\"false_northing\",0],\n",
      "    UNIT[\"metre\",1,\n",
      "        AUTHORITY[\"EPSG\",\"9001\"]],\n",
      "    AXIS[\"Easting\",EAST],\n",
      "    AXIS[\"Northing\",NORTH],\n",
      "    AUTHORITY[\"EPSG\",\"32620\"]]\n",
      "\n",
      "OGC WKT2:2015 :\n",
      "PROJCRS[\"WGS 84 / UTM zone 20N\",\n",
      "    BASEGEODCRS[\"WGS 84\",\n",
      "        DATUM[\"World Geodetic System 1984\",\n",
      "            ELLIPSOID[\"WGS 84\",6378137,298.257223563,\n",
      "                LENGTHUNIT[\"metre\",1]]],\n",
      "        PRIMEM[\"Greenwich\",0,\n",
      "            ANGLEUNIT[\"degree\",0.0174532925199433]]],\n",
      "    CONVERSION[\"UTM zone 20N\",\n",
      "        METHOD[\"Transverse Mercator\",\n",
      "            ID[\"EPSG\",9807]],\n",
      "        PARAMETER[\"Latitude of natural origin\",0,\n",
      "            ANGLEUNIT[\"degree\",0.0174532925199433],\n",
      "            ID[\"EPSG\",8801]],\n",
      "        PARAMETER[\"Longitude of natural origin\",-63,\n",
      "            ANGLEUNIT[\"degree\",0.0174532925199433],\n",
      "            ID[\"EPSG\",8802]],\n",
      "        PARAMETER[\"Scale factor at natural origin\",0.9996,\n",
      "            SCALEUNIT[\"unity\",1],\n",
      "            ID[\"EPSG\",8805]],\n",
      "        PARAMETER[\"False easting\",500000,\n",
      "            LENGTHUNIT[\"metre\",1],\n",
      "            ID[\"EPSG\",8806]],\n",
      "        PARAMETER[\"False northing\",0,\n",
      "            LENGTHUNIT[\"metre\",1],\n",
      "            ID[\"EPSG\",8807]]],\n",
      "    CS[Cartesian,2],\n",
      "        AXIS[\"(E)\",east,\n",
      "            ORDER[1],\n",
      "            LENGTHUNIT[\"metre\",1]],\n",
      "        AXIS[\"(N)\",north,\n",
      "            ORDER[2],\n",
      "            LENGTHUNIT[\"metre\",1]],\n",
      "    AREA[\"World - N hemisphere - 66°W to 60°W - by country\"],\n",
      "    BBOX[0,-66,84,-60],\n",
      "    ID[\"EPSG\",32620]]\n",
      "\n",
      "OGC WKT2:2018 :\n",
      "PROJCRS[\"WGS 84 / UTM zone 20N\",\n",
      "    BASEGEOGCRS[\"WGS 84\",\n",
      "        DATUM[\"World Geodetic System 1984\",\n",
      "            ELLIPSOID[\"WGS 84\",6378137,298.257223563,\n",
      "                LENGTHUNIT[\"metre\",1]]],\n",
      "        PRIMEM[\"Greenwich\",0,\n",
      "            ANGLEUNIT[\"degree\",0.0174532925199433]],\n",
      "        ID[\"EPSG\",4326]],\n",
      "    CONVERSION[\"UTM zone 20N\",\n",
      "        METHOD[\"Transverse Mercator\",\n",
      "            ID[\"EPSG\",9807]],\n",
      "        PARAMETER[\"Latitude of natural origin\",0,\n",
      "            ANGLEUNIT[\"degree\",0.0174532925199433],\n",
      "            ID[\"EPSG\",8801]],\n",
      "        PARAMETER[\"Longitude of natural origin\",-63,\n",
      "            ANGLEUNIT[\"degree\",0.0174532925199433],\n",
      "            ID[\"EPSG\",8802]],\n",
      "        PARAMETER[\"Scale factor at natural origin\",0.9996,\n",
      "            SCALEUNIT[\"unity\",1],\n",
      "            ID[\"EPSG\",8805]],\n",
      "        PARAMETER[\"False easting\",500000,\n",
      "            LENGTHUNIT[\"metre\",1],\n",
      "            ID[\"EPSG\",8806]],\n",
      "        PARAMETER[\"False northing\",0,\n",
      "            LENGTHUNIT[\"metre\",1],\n",
      "            ID[\"EPSG\",8807]]],\n",
      "    CS[Cartesian,2],\n",
      "        AXIS[\"(E)\",east,\n",
      "            ORDER[1],\n",
      "            LENGTHUNIT[\"metre\",1]],\n",
      "        AXIS[\"(N)\",north,\n",
      "            ORDER[2],\n",
      "            LENGTHUNIT[\"metre\",1]],\n",
      "    USAGE[\n",
      "        SCOPE[\"unknown\"],\n",
      "        AREA[\"World - N hemisphere - 66°W to 60°W - by country\"],\n",
      "        BBOX[0,-66,84,-60]],\n",
      "    ID[\"EPSG\",32620]]\n",
      "\n",
      "OGC WKT1 (simple) :\n",
      "PROJCS[\"WGS 84 / UTM zone 20N\",\n",
      "    GEOGCS[\"WGS 84\",\n",
      "        DATUM[\"WGS_1984\",\n",
      "            SPHEROID[\"WGS 84\",6378137,298.257223563]],\n",
      "        PRIMEM[\"Greenwich\",0],\n",
      "        UNIT[\"degree\",0.0174532925199433]],\n",
      "    PROJECTION[\"Transverse_Mercator\"],\n",
      "    PARAMETER[\"latitude_of_origin\",0],\n",
      "    PARAMETER[\"central_meridian\",-63],\n",
      "    PARAMETER[\"scale_factor\",0.9996],\n",
      "    PARAMETER[\"false_easting\",500000],\n",
      "    PARAMETER[\"false_northing\",0],\n",
      "    UNIT[\"metre\",1]]\n",
      "\n",
      "OGC WKT1 (no CT) :\n",
      "PROJCS[\"WGS 84 / UTM zone 20N\",\n",
      "    GEOGCS[\"WGS 84\",\n",
      "        DATUM[\"WGS_1984\",\n",
      "            SPHEROID[\"WGS 84\",6378137,298.257223563]],\n",
      "        PRIMEM[\"Greenwich\",0],\n",
      "        UNIT[\"degree\",0.0174532925199433]],\n",
      "    PROJECTION[\"Transverse_Mercator\"],\n",
      "    PARAMETER[\"latitude_of_origin\",0],\n",
      "    PARAMETER[\"central_meridian\",-63],\n",
      "    PARAMETER[\"scale_factor\",0.9996],\n",
      "    PARAMETER[\"false_easting\",500000],\n",
      "    PARAMETER[\"false_northing\",0],\n",
      "    UNIT[\"metre\",1]]\n",
      "\n",
      "ESRI WKT :\n",
      "PROJCS[\"WGS_1984_UTM_Zone_20N\",\n",
      "    GEOGCS[\"GCS_WGS_1984\",\n",
      "        DATUM[\"D_WGS_1984\",\n",
      "            SPHEROID[\"WGS_1984\",6378137.0,298.257223563]],\n",
      "        PRIMEM[\"Greenwich\",0.0],\n",
      "        UNIT[\"Degree\",0.0174532925199433]],\n",
      "    PROJECTION[\"Transverse_Mercator\"],\n",
      "    PARAMETER[\"False_Easting\",500000.0],\n",
      "    PARAMETER[\"False_Northing\",0.0],\n",
      "    PARAMETER[\"Central_Meridian\",-63.0],\n",
      "    PARAMETER[\"Scale_Factor\",0.9996],\n",
      "    PARAMETER[\"Latitude_Of_Origin\",0.0],\n",
      "    UNIT[\"Meter\",1.0]]\n",
      "\n",
      "MAPINFO : 'Earth Projection 8, 104, \"m\", -63, 0, 0.9996, 500000, 0'\n",
      "\n",
      "XML :\n",
      "<gml:ProjectedCRS gml:id=\"ogrcrs1\">\n",
      "  <gml:srsName>WGS 84 / UTM zone 20N</gml:srsName>\n",
      "  <gml:srsID>\n",
      "    <gml:name codeSpace=\"urn:ogc:def:crs:EPSG::\">32620</gml:name>\n",
      "  </gml:srsID>\n",
      "  <gml:baseCRS>\n",
      "    <gml:GeographicCRS gml:id=\"ogrcrs2\">\n",
      "      <gml:srsName>WGS 84</gml:srsName>\n",
      "      <gml:srsID>\n",
      "        <gml:name codeSpace=\"urn:ogc:def:crs:EPSG::\">4326</gml:name>\n",
      "      </gml:srsID>\n",
      "      <gml:usesEllipsoidalCS>\n",
      "        <gml:EllipsoidalCS gml:id=\"ogrcrs3\">\n",
      "          <gml:csName>ellipsoidal</gml:csName>\n",
      "          <gml:csID>\n",
      "            <gml:name codeSpace=\"urn:ogc:def:cs:EPSG::\">6402</gml:name>\n",
      "          </gml:csID>\n",
      "          <gml:usesAxis>\n",
      "            <gml:CoordinateSystemAxis gml:id=\"ogrcrs4\" gml:uom=\"urn:ogc:def:uom:EPSG::9102\">\n",
      "              <gml:name>Geodetic latitude</gml:name>\n",
      "              <gml:axisID>\n",
      "                <gml:name codeSpace=\"urn:ogc:def:axis:EPSG::\">9901</gml:name>\n",
      "              </gml:axisID>\n",
      "              <gml:axisAbbrev>Lat</gml:axisAbbrev>\n",
      "              <gml:axisDirection>north</gml:axisDirection>\n",
      "            </gml:CoordinateSystemAxis>\n",
      "          </gml:usesAxis>\n",
      "          <gml:usesAxis>\n",
      "            <gml:CoordinateSystemAxis gml:id=\"ogrcrs5\" gml:uom=\"urn:ogc:def:uom:EPSG::9102\">\n",
      "              <gml:name>Geodetic longitude</gml:name>\n",
      "              <gml:axisID>\n",
      "                <gml:name codeSpace=\"urn:ogc:def:axis:EPSG::\">9902</gml:name>\n",
      "              </gml:axisID>\n",
      "              <gml:axisAbbrev>Lon</gml:axisAbbrev>\n",
      "              <gml:axisDirection>east</gml:axisDirection>\n",
      "            </gml:CoordinateSystemAxis>\n",
      "          </gml:usesAxis>\n",
      "        </gml:EllipsoidalCS>\n",
      "      </gml:usesEllipsoidalCS>\n",
      "      <gml:usesGeodeticDatum>\n",
      "        <gml:GeodeticDatum gml:id=\"ogrcrs6\">\n",
      "          <gml:datumName>WGS_1984</gml:datumName>\n",
      "          <gml:datumID>\n",
      "            <gml:name codeSpace=\"urn:ogc:def:datum:EPSG::\">6326</gml:name>\n",
      "          </gml:datumID>\n",
      "          <gml:usesPrimeMeridian>\n",
      "            <gml:PrimeMeridian gml:id=\"ogrcrs7\">\n",
      "              <gml:meridianName>Greenwich</gml:meridianName>\n",
      "              <gml:meridianID>\n",
      "                <gml:name codeSpace=\"urn:ogc:def:meridian:EPSG::\">8901</gml:name>\n",
      "              </gml:meridianID>\n",
      "              <gml:greenwichLongitude>\n",
      "                <gml:angle uom=\"urn:ogc:def:uom:EPSG::9102\">0</gml:angle>\n",
      "              </gml:greenwichLongitude>\n",
      "            </gml:PrimeMeridian>\n",
      "          </gml:usesPrimeMeridian>\n",
      "          <gml:usesEllipsoid>\n",
      "            <gml:Ellipsoid gml:id=\"ogrcrs8\">\n",
      "              <gml:ellipsoidName>WGS 84</gml:ellipsoidName>\n",
      "              <gml:ellipsoidID>\n",
      "                <gml:name codeSpace=\"urn:ogc:def:ellipsoid:EPSG::\">7030</gml:name>\n",
      "              </gml:ellipsoidID>\n",
      "              <gml:semiMajorAxis uom=\"urn:ogc:def:uom:EPSG::9001\">6378137</gml:semiMajorAxis>\n",
      "              <gml:secondDefiningParameter>\n",
      "                <gml:inverseFlattening uom=\"urn:ogc:def:uom:EPSG::9201\">298.257223563</gml:inverseFlattening>\n",
      "              </gml:secondDefiningParameter>\n",
      "            </gml:Ellipsoid>\n",
      "          </gml:usesEllipsoid>\n",
      "        </gml:GeodeticDatum>\n",
      "      </gml:usesGeodeticDatum>\n",
      "    </gml:GeographicCRS>\n",
      "  </gml:baseCRS>\n",
      "  <gml:definedByConversion>\n",
      "    <gml:Conversion gml:id=\"ogrcrs9\">\n",
      "      <gml:coordinateOperationName>Transverse_Mercator</gml:coordinateOperationName>\n",
      "      <gml:usesMethod xlink:href=\"urn:ogc:def:method:EPSG::9807\" />\n",
      "      <gml:usesValue>\n",
      "        <gml:value uom=\"urn:ogc:def:uom:EPSG::9102\">0</gml:value>\n",
      "        <gml:valueOfParameter xlink:href=\"urn:ogc:def:parameter:EPSG::8801\" />\n",
      "      </gml:usesValue>\n",
      "      <gml:usesValue>\n",
      "        <gml:value uom=\"urn:ogc:def:uom:EPSG::9102\">-63</gml:value>\n",
      "        <gml:valueOfParameter xlink:href=\"urn:ogc:def:parameter:EPSG::8802\" />\n",
      "      </gml:usesValue>\n",
      "      <gml:usesValue>\n",
      "        <gml:value uom=\"urn:ogc:def:uom:EPSG::9001\">0.9996</gml:value>\n",
      "        <gml:valueOfParameter xlink:href=\"urn:ogc:def:parameter:EPSG::8805\" />\n",
      "      </gml:usesValue>\n",
      "      <gml:usesValue>\n",
      "        <gml:value uom=\"urn:ogc:def:uom:EPSG::9001\">500000</gml:value>\n",
      "        <gml:valueOfParameter xlink:href=\"urn:ogc:def:parameter:EPSG::8806\" />\n",
      "      </gml:usesValue>\n",
      "      <gml:usesValue>\n",
      "        <gml:value uom=\"urn:ogc:def:uom:EPSG::9001\">0</gml:value>\n",
      "        <gml:valueOfParameter xlink:href=\"urn:ogc:def:parameter:EPSG::8807\" />\n",
      "      </gml:usesValue>\n",
      "    </gml:Conversion>\n",
      "  </gml:definedByConversion>\n",
      "  <gml:usesCartesianCS>\n",
      "    <gml:CartesianCS gml:id=\"ogrcrs10\">\n",
      "      <gml:csName>Cartesian</gml:csName>\n",
      "      <gml:csID>\n",
      "        <gml:name codeSpace=\"urn:ogc:def:cs:EPSG::\">4400</gml:name>\n",
      "      </gml:csID>\n",
      "      <gml:usesAxis>\n",
      "        <gml:CoordinateSystemAxis gml:id=\"ogrcrs11\" gml:uom=\"urn:ogc:def:uom:EPSG::9001\">\n",
      "          <gml:name>Easting</gml:name>\n",
      "          <gml:axisID>\n",
      "            <gml:name codeSpace=\"urn:ogc:def:axis:EPSG::\">9906</gml:name>\n",
      "          </gml:axisID>\n",
      "          <gml:axisAbbrev>E</gml:axisAbbrev>\n",
      "          <gml:axisDirection>east</gml:axisDirection>\n",
      "        </gml:CoordinateSystemAxis>\n",
      "      </gml:usesAxis>\n",
      "      <gml:usesAxis>\n",
      "        <gml:CoordinateSystemAxis gml:id=\"ogrcrs12\" gml:uom=\"urn:ogc:def:uom:EPSG::9001\">\n",
      "          <gml:name>Northing</gml:name>\n",
      "          <gml:axisID>\n",
      "            <gml:name codeSpace=\"urn:ogc:def:axis:EPSG::\">9907</gml:name>\n",
      "          </gml:axisID>\n",
      "          <gml:axisAbbrev>N</gml:axisAbbrev>\n",
      "          <gml:axisDirection>north</gml:axisDirection>\n",
      "        </gml:CoordinateSystemAxis>\n",
      "      </gml:usesAxis>\n",
      "    </gml:CartesianCS>\n",
      "  </gml:usesCartesianCS>\n",
      "</gml:ProjectedCRS>\n",
      "\n",
      "\n",
      "PROJJSON :\n",
      "{\n",
      "  \"$schema\": \"https://proj.org/schemas/v0.2/projjson.schema.json\",\n",
      "  \"type\": \"ProjectedCRS\",\n",
      "  \"name\": \"WGS 84 / UTM zone 20N\",\n",
      "  \"base_crs\": {\n",
      "    \"name\": \"WGS 84\",\n",
      "    \"datum\": {\n",
      "      \"type\": \"GeodeticReferenceFrame\",\n",
      "      \"name\": \"World Geodetic System 1984\",\n",
      "      \"ellipsoid\": {\n",
      "        \"name\": \"WGS 84\",\n",
      "        \"semi_major_axis\": 6378137,\n",
      "        \"inverse_flattening\": 298.257223563\n",
      "      }\n",
      "    },\n",
      "    \"coordinate_system\": {\n",
      "      \"subtype\": \"ellipsoidal\",\n",
      "      \"axis\": [\n",
      "        {\n",
      "          \"name\": \"Geodetic latitude\",\n",
      "          \"abbreviation\": \"Lat\",\n",
      "          \"direction\": \"north\",\n",
      "          \"unit\": \"degree\"\n",
      "        },\n",
      "        {\n",
      "          \"name\": \"Geodetic longitude\",\n",
      "          \"abbreviation\": \"Lon\",\n",
      "          \"direction\": \"east\",\n",
      "          \"unit\": \"degree\"\n",
      "        }\n",
      "      ]\n",
      "    },\n",
      "    \"id\": {\n",
      "      \"authority\": \"EPSG\",\n",
      "      \"code\": 4326\n",
      "    }\n",
      "  },\n",
      "  \"conversion\": {\n",
      "    \"name\": \"UTM zone 20N\",\n",
      "    \"method\": {\n",
      "      \"name\": \"Transverse Mercator\",\n",
      "      \"id\": {\n",
      "        \"authority\": \"EPSG\",\n",
      "        \"code\": 9807\n",
      "      }\n",
      "    },\n",
      "    \"parameters\": [\n",
      "      {\n",
      "        \"name\": \"Latitude of natural origin\",\n",
      "        \"value\": 0,\n",
      "        \"unit\": \"degree\",\n",
      "        \"id\": {\n",
      "          \"authority\": \"EPSG\",\n",
      "          \"code\": 8801\n",
      "        }\n",
      "      },\n",
      "      {\n",
      "        \"name\": \"Longitude of natural origin\",\n",
      "        \"value\": -63,\n",
      "        \"unit\": \"degree\",\n",
      "        \"id\": {\n",
      "          \"authority\": \"EPSG\",\n",
      "          \"code\": 8802\n",
      "        }\n",
      "      },\n",
      "      {\n",
      "        \"name\": \"Scale factor at natural origin\",\n",
      "        \"value\": 0.9996,\n",
      "        \"unit\": \"unity\",\n",
      "        \"id\": {\n",
      "          \"authority\": \"EPSG\",\n",
      "          \"code\": 8805\n",
      "        }\n",
      "      },\n",
      "      {\n",
      "        \"name\": \"False easting\",\n",
      "        \"value\": 500000,\n",
      "        \"unit\": \"metre\",\n",
      "        \"id\": {\n",
      "          \"authority\": \"EPSG\",\n",
      "          \"code\": 8806\n",
      "        }\n",
      "      },\n",
      "      {\n",
      "        \"name\": \"False northing\",\n",
      "        \"value\": 0,\n",
      "        \"unit\": \"metre\",\n",
      "        \"id\": {\n",
      "          \"authority\": \"EPSG\",\n",
      "          \"code\": 8807\n",
      "        }\n",
      "      }\n",
      "    ]\n",
      "  },\n",
      "  \"coordinate_system\": {\n",
      "    \"subtype\": \"Cartesian\",\n",
      "    \"axis\": [\n",
      "      {\n",
      "        \"name\": \"Easting\",\n",
      "        \"abbreviation\": \"E\",\n",
      "        \"direction\": \"east\",\n",
      "        \"unit\": \"metre\"\n",
      "      },\n",
      "      {\n",
      "        \"name\": \"Northing\",\n",
      "        \"abbreviation\": \"N\",\n",
      "        \"direction\": \"north\",\n",
      "        \"unit\": \"metre\"\n",
      "      }\n",
      "    ]\n",
      "  },\n",
      "  \"area\": \"World - N hemisphere - 66°W to 60°W - by country\",\n",
      "  \"bbox\": {\n",
      "    \"south_latitude\": 0,\n",
      "    \"west_longitude\": -66,\n",
      "    \"north_latitude\": 84,\n",
      "    \"east_longitude\": -60\n",
      "  },\n",
      "  \"id\": {\n",
      "    \"authority\": \"EPSG\",\n",
      "    \"code\": 32620\n",
      "  }\n",
      "}\n",
      "\n"
     ]
    }
   ],
   "source": [
    "##Lets look at UTM zone 20N\n",
    "!gdalsrsinfo -o all EPSG:32620"
   ]
  },
  {
   "cell_type": "markdown",
   "metadata": {
    "hidden": true,
    "hideCode": true,
    "hidePrompt": true
   },
   "source": [
    "You can also use **gdalsrsinfo** to query the coordinate system of a given raster product in a specific format."
   ]
  },
  {
   "cell_type": "code",
   "execution_count": 10,
   "metadata": {
    "hidden": true,
    "hideCode": false,
    "hidePrompt": false,
    "scrolled": false
   },
   "outputs": [
    {
     "name": "stdout",
     "output_type": "stream",
     "text": [
      "\r\n",
      "+proj=longlat +datum=WGS84 +no_defs\r\n",
      "\r\n"
     ]
    }
   ],
   "source": [
    "##Get projection information for a raster file\n",
    "!gdalsrsinfo -o proj4  N33W119_wgs84.tif"
   ]
  },
  {
   "cell_type": "code",
   "execution_count": 12,
   "metadata": {
    "hidden": true,
    "hideCode": false,
    "hidePrompt": false
   },
   "outputs": [
    {
     "name": "stdout",
     "output_type": "stream",
     "text": [
      "GEOGCS[\"WGS 84\",DATUM[\"WGS_1984\",SPHEROID[\"WGS 84\",6378137,298.257223563,AUTHORITY[\"EPSG\",\"7030\"]],AUTHORITY[\"EPSG\",\"6326\"]],PRIMEM[\"Greenwich\",0],UNIT[\"degree\",0.0174532925199433,AUTHORITY[\"EPSG\",\"9122\"]],AXIS[\"Latitude\",NORTH],AXIS[\"Longitude\",EAST],AUTHORITY[\"EPSG\",\"4326\"]]\n"
     ]
    },
    {
     "data": {
      "text/plain": [
       "'+proj=longlat +datum=WGS84 +no_defs'"
      ]
     },
     "execution_count": 12,
     "metadata": {},
     "output_type": "execute_result"
    }
   ],
   "source": [
    "###Programmatic method of querying spatial reference\n",
    "ds = gdal.Open('N33W119_wgs84.tif', gdal.GA_ReadOnly)\n",
    "srs = ds.GetProjectionRef()\n",
    "ds = None\n",
    "print(srs)\n",
    "\n",
    "ref = osr.SpatialReference()\n",
    "ref.ImportFromWkt(srs)\n",
    "ref.ExportToProj4()"
   ]
  },
  {
   "cell_type": "markdown",
   "metadata": {
    "hidden": true,
    "hideCode": true,
    "hidePrompt": true
   },
   "source": [
    "When you use **gdalsrsinfo** on a raster that does not have the coordinate system information, or as is often the case with radar products in radar geometry - it should raise an error."
   ]
  },
  {
   "cell_type": "code",
   "execution_count": 13,
   "metadata": {
    "hidden": true,
    "hideCode": false,
    "hidePrompt": false
   },
   "outputs": [
    {
     "name": "stdout",
     "output_type": "stream",
     "text": [
      "ERROR 1: ERROR - failed to load SRS definition from 18.grd\r\n"
     ]
    }
   ],
   "source": [
    "##This should raise an error\n",
    "!gdalsrsinfo 18.grd"
   ]
  },
  {
   "cell_type": "code",
   "execution_count": null,
   "metadata": {
    "hidden": true,
    "hideCode": false,
    "hidePrompt": false
   },
   "outputs": [],
   "source": [
    "##This should raise an error\n",
    "!gdalsrsinfo stripmap/topophase.cor"
   ]
  },
  {
   "cell_type": "markdown",
   "metadata": {
    "heading_collapsed": true,
    "hidden": true,
    "hideCode": true,
    "hidePrompt": true
   },
   "source": [
    "### d. Coordinates on a map"
   ]
  },
  {
   "cell_type": "markdown",
   "metadata": {
    "hidden": true,
    "hideCode": true,
    "hidePrompt": true
   },
   "source": [
    "In the subsection above, we discussed coordinate systems. In this section, we talk about how GDAL associates a line/pixel location in a raster with map coordinates.\n",
    "\n",
    "GDAL uses a simple affine system to translate (pixel, line) location to (X,Y) coordinates in map coordinates. The affine system is represented by 6 double precision numbers collectively known as the ''GeoTransform''.\n",
    "\n",
    "**Top-left** map coordinate of a pixel represented by pixel number (P) and line number (L) in C/Python indexing is given by\n",
    "\n",
    "$$\\begin{equation*}\n",
    "\\left[ \\begin{array}{c}\n",
    "X_{left} \\\\\n",
    "Y_{top}\n",
    "\\end{array} \\right] = \\left[ \\begin{array}{c}\n",
    "G_0 \\\\\n",
    "G_3 \\end{array}\\right] + \\left[ \\begin{array}{cc}\n",
    "G_1 & G_2 \\\\\n",
    "G_4 & G_5 \n",
    "\\end{array} \\right] \\cdot \\left[ \\begin{array}{c}\n",
    "P \\\\\n",
    "L \n",
    "\\end{array} \\right]\n",
    "\\end{equation*}\n",
    "$$\n",
    "\n",
    "\n",
    "Here is the exact manner in which pixel indices are interpreted by GDAL\n",
    "![Raster Layout](notebook_images/Raster_layout.png)"
   ]
  },
  {
   "cell_type": "code",
   "execution_count": 14,
   "metadata": {
    "hidden": true,
    "hideCode": false,
    "hidePrompt": false
   },
   "outputs": [
    {
     "name": "stdout",
     "output_type": "stream",
     "text": [
      "Driver: GTiff/GeoTIFF\n",
      "Files: N33W119_wgs84.tif\n",
      "Size is 3601, 3601\n",
      "Coordinate System is:\n",
      "GEOGCRS[\"WGS 84\",\n",
      "    DATUM[\"World Geodetic System 1984\",\n",
      "        ELLIPSOID[\"WGS 84\",6378137,298.257223563,\n",
      "            LENGTHUNIT[\"metre\",1]]],\n",
      "    PRIMEM[\"Greenwich\",0,\n",
      "        ANGLEUNIT[\"degree\",0.0174532925199433]],\n",
      "    CS[ellipsoidal,2],\n",
      "        AXIS[\"geodetic latitude (Lat)\",north,\n",
      "            ORDER[1],\n",
      "            ANGLEUNIT[\"degree\",0.0174532925199433]],\n",
      "        AXIS[\"geodetic longitude (Lon)\",east,\n",
      "            ORDER[2],\n",
      "            ANGLEUNIT[\"degree\",0.0174532925199433]],\n",
      "    ID[\"EPSG\",4326]]\n",
      "Data axis to CRS axis mapping: 2,1\n",
      "Origin = (-119.000138888888884,34.000138888888891)\n",
      "Pixel Size = (0.000277777777778,-0.000277777777778)\n",
      "Metadata:\n",
      "  AREA_OR_POINT=Area\n",
      "Image Structure Metadata:\n",
      "  COMPRESSION=DEFLATE\n",
      "  INTERLEAVE=BAND\n",
      "Corner Coordinates:\n",
      "Upper Left  (-119.0001389,  34.0001389) (119d 0' 0.50\"W, 34d 0' 0.50\"N)\n",
      "Lower Left  (-119.0001389,  32.9998611) (119d 0' 0.50\"W, 32d59'59.50\"N)\n",
      "Upper Right (-117.9998611,  34.0001389) (117d59'59.50\"W, 34d 0' 0.50\"N)\n",
      "Lower Right (-117.9998611,  32.9998611) (117d59'59.50\"W, 32d59'59.50\"N)\n",
      "Center      (-118.5000000,  33.5000000) (118d30' 0.00\"W, 33d30' 0.00\"N)\n",
      "Band 1 Block=3601x1 Type=Float32, ColorInterp=Gray\n",
      "  NoData Value=-32768\n"
     ]
    }
   ],
   "source": [
    "##To confirm the Top-left interpretation, lets look gdalinfo output for the SRTM tile again\n",
    "!gdalinfo N33W119_wgs84.tif"
   ]
  },
  {
   "cell_type": "code",
   "execution_count": 15,
   "metadata": {
    "hidden": true,
    "hideCode": false,
    "hidePrompt": false
   },
   "outputs": [
    {
     "name": "stdout",
     "output_type": "stream",
     "text": [
      "Driver: GMT/GMT NetCDF Grid Format\r\n",
      "Files: 18.grd\r\n",
      "Size is 1201, 601\r\n",
      "Origin = (-121.002499999999998,35.502499999999998)\r\n",
      "Pixel Size = (0.005000000000000,-0.005000000000000)\r\n",
      "Corner Coordinates:\r\n",
      "Upper Left  (-121.0025000,  35.5025000) \r\n",
      "Lower Left  (-121.0025000,  32.4975000) \r\n",
      "Upper Right (-114.9975000,  35.5025000) \r\n",
      "Lower Right (-114.9975000,  32.4975000) \r\n",
      "Center      (-118.0000000,  34.0000000) \r\n",
      "Band 1 Block=1201x1 Type=Float32, ColorInterp=Undefined\r\n"
     ]
    }
   ],
   "source": [
    "##An image can include coordinate information even if the coordinate system information is missing\n",
    "##But this is highly discouraged\n",
    "\n",
    "!gdalinfo 18.grd"
   ]
  },
  {
   "cell_type": "code",
   "execution_count": 16,
   "metadata": {
    "hidden": true,
    "hideCode": false,
    "hidePrompt": false
   },
   "outputs": [
    {
     "name": "stdout",
     "output_type": "stream",
     "text": [
      "(-119.00013888888888, 0.0002777777777777778, 0.0, 34.00013888888889, 0.0, -0.0002777777777777778)\n"
     ]
    }
   ],
   "source": [
    "###Programmatic method of querying the geotransform\n",
    "\n",
    "ds = gdal.Open('N33W119_wgs84.tif', gdal.GA_ReadOnly)\n",
    "print(ds.GetGeoTransform())\n",
    "ds = None"
   ]
  },
  {
   "cell_type": "markdown",
   "metadata": {
    "hidden": true,
    "hideCode": true,
    "hidePrompt": true
   },
   "source": [
    "Most geospatial data formats prefer North-up orientation for storing map data. Hence, it is very common to see a negative $G_5$ term in the GeoTransform representation."
   ]
  },
  {
   "cell_type": "code",
   "execution_count": null,
   "metadata": {
    "hidden": true,
    "hideCode": false,
    "hidePrompt": false
   },
   "outputs": [],
   "source": [
    "###For a dataset with no coordinate system / map information - i.e, plain raster\n",
    "ds = gdal.Open('stripmap/interferogram/topophase.cor.vrt', gdal.GA_ReadOnly)\n",
    "print(ds.GetGeoTransform())\n",
    "ds = None"
   ]
  },
  {
   "cell_type": "markdown",
   "metadata": {
    "heading_collapsed": true,
    "hidden": true,
    "hideCode": true,
    "hidePrompt": true
   },
   "source": [
    "### e. Ground Control Points (GCPs)"
   ]
  },
  {
   "cell_type": "markdown",
   "metadata": {
    "hidden": true,
    "hideCode": true,
    "hidePrompt": true
   },
   "source": [
    "GCPs are another mechanism to associate geocoordinate information with raster images. GCPs represent an explicit mapping from a (pixel, line) location to (X,Y) location in map coordinates. These are usually not the most accurate representations, but for some applications are more than sufficient. For example, radar images acquired over very flat terrain or oceans can be geocoded reasonably well using GCPs. We are not going to use this feature in our tutorials, but one should be aware that this information is available with most SLC products delivered by different agencies.\n",
    "\n",
    "Sentinel-1 SLC and GRD geotiff files are all annotated with GCPs. Shown below is an example output of gdalinfo on a Sentinel-1 SLC image\n",
    "\n",
    "```bash\n",
    "> gdalinfo s1a-iw1-slc-vv-20160408t091355-20160408t091428-010728-01001f-001.tiff\n",
    "Driver: GTiff/GeoTIFF\n",
    "Files: s1a-iw1-slc-vv-20160408t091355-20160408t091428-010728-01001f-001.tiff\n",
    "Size is 20665, 17916\n",
    "Coordinate System is `'\n",
    "GCP Projection =\n",
    "GEOGCS[\"WGS 84\",\n",
    "    DATUM[\"WGS_1984\",\n",
    "        SPHEROID[\"unnamed\",6378137,298.2572235604902,\n",
    "            AUTHORITY[\"EPSG\",\"4326\"]],\n",
    "        AUTHORITY[\"EPSG\",\"6326\"]],\n",
    "    PRIMEM[\"Greenwich\",0],\n",
    "    UNIT[\"degree\",0.0174532925199433],\n",
    "    AUTHORITY[\"EPSG\",\"4326\"]]\n",
    "GCP[  0]: Id=1, Info=\n",
    "          (0,0) -> (130.457799786776,32.2907336141953,478.460773384615)\n",
    "GCP[  1]: Id=2, Info=\n",
    "          (1034,0) -> (130.506581179458,32.2986697089719,478.460773384615)\n",
    "GCP[  2]: Id=3, Info=\n",
    "          (2068,0) -> (130.554913356166,32.3065128120191,478.460773384615)\n",
    "GCP[  3]: Id=4, Info=\n",
    "          (3102,0) -> (130.602812666404,32.3142661230211,478.460773384615)\n",
    "...\n",
    "GCP[270]: Id=271, Info=\n",
    "          (18612,17915) -> (130.826037469855,34.4318305450677,0)\n",
    "GCP[271]: Id=272, Info=\n",
    "          (19646,17915) -> (130.869763720912,34.438454503529,0)\n",
    "GCP[272]: Id=273, Info=\n",
    "          (20664,17915) -> (130.912557438728,34.4449210788505,0)\n",
    "Metadata:\n",
    "  AREA_OR_POINT=Area\n",
    "  TIFFTAG_DATETIME=2016:04:08 16:04:16\n",
    "  TIFFTAG_IMAGEDESCRIPTION=Sentinel-1A IW SLC L1\n",
    "  TIFFTAG_SOFTWARE=Sentinel-1 IPF 002.62\n",
    "Image Structure Metadata:\n",
    "  INTERLEAVE=BAND\n",
    "Corner Coordinates:\n",
    "Upper Left  (    0.0,    0.0)\n",
    "Lower Left  (    0.0,17916.0)\n",
    "Upper Right (20665.0,    0.0)\n",
    "Lower Right (20665.0,17916.0)\n",
    "Center      (10332.5, 8958.0)\n",
    "Band 1 Block=20665x1 Type=CInt16, ColorInterp=Gray\n",
    "```"
   ]
  },
  {
   "cell_type": "markdown",
   "metadata": {
    "heading_collapsed": true,
    "hidden": true
   },
   "source": [
    "### f. Subdatasets"
   ]
  },
  {
   "cell_type": "markdown",
   "metadata": {
    "hidden": true
   },
   "source": [
    "There are some file formats like netcdf or HDF5 that allow multiple datasets to be packaged together. In such cases, GDAL will report these different layers as sub-datasets. We will explore this will the downloaded Greenland dataset."
   ]
  },
  {
   "cell_type": "code",
   "execution_count": 17,
   "metadata": {
    "hidden": true
   },
   "outputs": [
    {
     "name": "stdout",
     "output_type": "stream",
     "text": [
      "Warning 1: No UNIDATA NC_GLOBAL:Conventions attribute\r\n",
      "Driver: netCDF/Network Common Data Format\r\n",
      "Files: Greenland1km.nc\r\n",
      "Size is 512, 512\r\n",
      "Metadata:\r\n",
      "  NC_GLOBAL#comments=The data in this file was interpolated onto a 1km grid using natural neighbor interpolation which is based on Delauney triangulation.  This was accomplished using the function natgridd (see http://www.ncarg.ucar.edu//ngmath/natgrid/nnhome.html) from the National Center for Atmospheric Research (NCAR).  Natgrid is part of the NCAR Command Language (NCL) package which can be downloaded via http://www.ncl.ucar.edu/Download/\r\n",
      "  NC_GLOBAL#creator=Glen D. Granzow\r\n",
      "  NC_GLOBAL#Date=1 November 2010\r\n",
      "  NC_GLOBAL#institution=University of Montana\r\n",
      "  NC_GLOBAL#title=Greenland 1 km Data Set\r\n",
      "Subdatasets:\r\n",
      "  SUBDATASET_1_NAME=NETCDF:\"Greenland1km.nc\":presprcp\r\n",
      "  SUBDATASET_1_DESC=[1x2801x1501] lwe_precipitation_rate (32-bit floating-point)\r\n",
      "  SUBDATASET_2_NAME=NETCDF:\"Greenland1km.nc\":bheatflx\r\n",
      "  SUBDATASET_2_DESC=[1x2801x1501] upward_geothermal_flux_at_ice_base (32-bit floating-point)\r\n",
      "  SUBDATASET_3_NAME=NETCDF:\"Greenland1km.nc\":presartm\r\n",
      "  SUBDATASET_3_DESC=[1x2801x1501] air_temperature (32-bit floating-point)\r\n",
      "  SUBDATASET_4_NAME=NETCDF:\"Greenland1km.nc\":topg\r\n",
      "  SUBDATASET_4_DESC=[1x2801x1501] bedrock_altitude (32-bit floating-point)\r\n",
      "  SUBDATASET_5_NAME=NETCDF:\"Greenland1km.nc\":thk\r\n",
      "  SUBDATASET_5_DESC=[1x2801x1501] land_ice_thickness (32-bit floating-point)\r\n",
      "Corner Coordinates:\r\n",
      "Upper Left  (    0.0,    0.0)\r\n",
      "Lower Left  (    0.0,  512.0)\r\n",
      "Upper Right (  512.0,    0.0)\r\n",
      "Lower Right (  512.0,  512.0)\r\n",
      "Center      (  256.0,  256.0)\r\n"
     ]
    }
   ],
   "source": [
    "!gdalinfo Greenland1km.nc"
   ]
  },
  {
   "cell_type": "markdown",
   "metadata": {
    "hidden": true
   },
   "source": [
    "To access a specific sub-dataset within the netcdf file, you can use the \"SUBDATASET\\_\\*\\_NAME\" atrtibute reported by gdalinfo."
   ]
  },
  {
   "cell_type": "code",
   "execution_count": 18,
   "metadata": {
    "hidden": true
   },
   "outputs": [
    {
     "name": "stdout",
     "output_type": "stream",
     "text": [
      "Warning 1: No UNIDATA NC_GLOBAL:Conventions attribute\n",
      "Driver: netCDF/Network Common Data Format\n",
      "Files: Greenland1km.nc\n",
      "Size is 1501, 2801\n",
      "Coordinate System is:\n",
      "PROJCRS[\"unnamed\",\n",
      "    BASEGEOGCRS[\"WGS 84\",\n",
      "        DATUM[\"World Geodetic System 1984\",\n",
      "            ELLIPSOID[\"WGS 84\",6378137,298.257223563,\n",
      "                LENGTHUNIT[\"metre\",1]]],\n",
      "        PRIMEM[\"Greenwich\",0,\n",
      "            ANGLEUNIT[\"degree\",0.0174532925199433]],\n",
      "        ID[\"EPSG\",4326]],\n",
      "    CONVERSION[\"unnamed\",\n",
      "        METHOD[\"Polar Stereographic (variant B)\",\n",
      "            ID[\"EPSG\",9829]],\n",
      "        PARAMETER[\"Latitude of standard parallel\",71,\n",
      "            ANGLEUNIT[\"degree\",0.0174532925199433],\n",
      "            ID[\"EPSG\",8832]],\n",
      "        PARAMETER[\"Longitude of origin\",-39,\n",
      "            ANGLEUNIT[\"degree\",0.0174532925199433],\n",
      "            ID[\"EPSG\",8833]],\n",
      "        PARAMETER[\"False easting\",0,\n",
      "            LENGTHUNIT[\"unknown\",1],\n",
      "            ID[\"EPSG\",8806]],\n",
      "        PARAMETER[\"False northing\",0,\n",
      "            LENGTHUNIT[\"unknown\",1],\n",
      "            ID[\"EPSG\",8807]]],\n",
      "    CS[Cartesian,2],\n",
      "        AXIS[\"easting\",south,\n",
      "            ORDER[1],\n",
      "            LENGTHUNIT[\"unknown\",1]],\n",
      "        AXIS[\"northing\",south,\n",
      "            ORDER[2],\n",
      "            LENGTHUNIT[\"unknown\",1]]]\n",
      "Data axis to CRS axis mapping: 1,2\n",
      "Origin = (-800500.000000000000000,-599500.000000000000000)\n",
      "Pixel Size = (1000.000000000000000,-1000.000000000000000)\n",
      "Metadata:\n",
      "  mapping#ellipsoid=WGS84\n",
      "  mapping#false_easting=0\n",
      "  mapping#false_northing=0\n",
      "  mapping#grid_mapping_name=polar_stereographic\n",
      "  mapping#latitude_of_projection_origin=90\n",
      "  mapping#standard_parallel=71\n",
      "  mapping#straight_vertical_longitude_from_pole=-39\n",
      "  NC_GLOBAL#comments=The data in this file was interpolated onto a 1km grid using natural neighbor interpolation which is based on Delauney triangulation.  This was accomplished using the function natgridd (see http://www.ncarg.ucar.edu//ngmath/natgrid/nnhome.html) from the National Center for Atmospheric Research (NCAR).  Natgrid is part of the NCAR Command Language (NCL) package which can be downloaded via http://www.ncl.ucar.edu/Download/\n",
      "  NC_GLOBAL#creator=Glen D. Granzow\n",
      "  NC_GLOBAL#Date=1 November 2010\n",
      "  NC_GLOBAL#institution=University of Montana\n",
      "  NC_GLOBAL#title=Greenland 1 km Data Set\n",
      "  NETCDF_DIM_EXTRA={t}\n",
      "  NETCDF_DIM_t_DEF={1,5}\n",
      "  NETCDF_DIM_t_VALUES=0\n",
      "  topg#comments=The bedrock topography field incorporates (corrected) 5 km gridded data from the National Snow and Ice Data Center (NSIDC), bathymetric data and surface elevation data for Ellesmere Island from the General Bathymetric Chart of the Oceans (GEBCO), gridded data for the Jakobshavn and Pettermann Glacier regions from the Center for Remote Sensing of Ice Sheets (CReSIS), and flightline data for the Kangerdlugsuaq and Helheim Glacier regions also from CReSIS.  Because of the large number of data points, interpolation onto the output grid (using natgridd's nonlinear natural neighbor algorithm) was performed in blocks to reduce the computing time required.  The available flightline data was for ice thickness only; To calculate bed elevations from these thicknesses, the thicknesses were subtracted from surface elevations obtained using a bicubic spline of 5km gridded surface data from NSIDC.\n",
      "  topg#grid_mapping=mapping\n",
      "  topg#long_name=Bedrock Topography\n",
      "  topg#reference=[1a] Bamber, J.L., R.L. Layberry, S.P. Gogenini. 2001. A new ice thickness and bed data set for the Greenland ice sheet 1: Measurement, data reduction, and errors. Journal of Geophysical Research 106 (D24): 33773-33780. [1b] Bamber, J.L., R.L. Layberry, S.P. Gogenini. 2001. A new ice thickness and bed data set for the Greenland ice sheet 2: Relationship between dynamics and basal topography. Journal of Geophysical Research 106 (D24): 33781-33788.\n",
      "  topg#source=[1] http://nsidc.org/data/nsidc-0092.html, [2] http://www.gebco.net/data_and_products/gridded_bathymetry_data/, [3] https://www.cresis.ku.edu/data/Greenland\n",
      "  topg#standard_name=bedrock_altitude\n",
      "  topg#units=meters\n",
      "  x#long_name=Cartesian x-coordinate\n",
      "  x#standard_name=projection_x_coordinate\n",
      "  x#units=meters\n",
      "  y#long_name=Cartesian y-coordinate\n",
      "  y#standard_name=projection_y_coordinate\n",
      "  y#units=meters\n",
      "Corner Coordinates:\n",
      "Upper Left  ( -800500.000, -599500.000) ( 92d10'12.74\"W, 80d48'51.65\"N)\n",
      "Lower Left  ( -800500.000,-3400500.000) ( 52d14'47.85\"W, 58d37'26.85\"N)\n",
      "Upper Right (  700500.000, -599500.000) ( 10d26'33.06\"E, 81d31'44.34\"N)\n",
      "Lower Right (  700500.000,-3400500.000) ( 27d21'35.81\"W, 58d48'30.80\"N)\n",
      "Center      (  -50000.000,-2000000.000) ( 40d25'55.55\"W, 71d44'12.84\"N)\n",
      "Band 1 Block=1501x1 Type=Float32, ColorInterp=Undefined\n",
      "  NoData Value=9.96920996838686905e+36\n",
      "  Unit Type: meters\n",
      "  Metadata:\n",
      "    comments=The bedrock topography field incorporates (corrected) 5 km gridded data from the National Snow and Ice Data Center (NSIDC), bathymetric data and surface elevation data for Ellesmere Island from the General Bathymetric Chart of the Oceans (GEBCO), gridded data for the Jakobshavn and Pettermann Glacier regions from the Center for Remote Sensing of Ice Sheets (CReSIS), and flightline data for the Kangerdlugsuaq and Helheim Glacier regions also from CReSIS.  Because of the large number of data points, interpolation onto the output grid (using natgridd's nonlinear natural neighbor algorithm) was performed in blocks to reduce the computing time required.  The available flightline data was for ice thickness only; To calculate bed elevations from these thicknesses, the thicknesses were subtracted from surface elevations obtained using a bicubic spline of 5km gridded surface data from NSIDC.\n",
      "    grid_mapping=mapping\n",
      "    long_name=Bedrock Topography\n",
      "    NETCDF_DIM_t=0\n",
      "    NETCDF_VARNAME=topg\n",
      "    reference=[1a] Bamber, J.L., R.L. Layberry, S.P. Gogenini. 2001. A new ice thickness and bed data set for the Greenland ice sheet 1: Measurement, data reduction, and errors. Journal of Geophysical Research 106 (D24): 33773-33780. [1b] Bamber, J.L., R.L. Layberry, S.P. Gogenini. 2001. A new ice thickness and bed data set for the Greenland ice sheet 2: Relationship between dynamics and basal topography. Journal of Geophysical Research 106 (D24): 33781-33788.\n",
      "    source=[1] http://nsidc.org/data/nsidc-0092.html, [2] http://www.gebco.net/data_and_products/gridded_bathymetry_data/, [3] https://www.cresis.ku.edu/data/Greenland\n",
      "    standard_name=bedrock_altitude\n",
      "    units=meters\n"
     ]
    }
   ],
   "source": [
    "!gdalinfo NETCDF:\"Greenland1km.nc\":topg"
   ]
  },
  {
   "cell_type": "code",
   "execution_count": 19,
   "metadata": {
    "hidden": true
   },
   "outputs": [
    {
     "name": "stdout",
     "output_type": "stream",
     "text": [
      "\r\n",
      "PROJ.4 : +proj=stere +lat_0=90 +lat_ts=71 +lon_0=-39 +x_0=0 +y_0=0 +datum=WGS84 +units=m +no_defs\r\n",
      "\r\n",
      "OGC WKT2:2018 :\r\n",
      "PROJCRS[\"unnamed\",\r\n",
      "    BASEGEOGCRS[\"WGS 84\",\r\n",
      "        DATUM[\"World Geodetic System 1984\",\r\n",
      "            ELLIPSOID[\"WGS 84\",6378137,298.257223563,\r\n",
      "                LENGTHUNIT[\"metre\",1]]],\r\n",
      "        PRIMEM[\"Greenwich\",0,\r\n",
      "            ANGLEUNIT[\"degree\",0.0174532925199433]],\r\n",
      "        ID[\"EPSG\",4326]],\r\n",
      "    CONVERSION[\"unnamed\",\r\n",
      "        METHOD[\"Polar Stereographic (variant B)\",\r\n",
      "            ID[\"EPSG\",9829]],\r\n",
      "        PARAMETER[\"Latitude of standard parallel\",71,\r\n",
      "            ANGLEUNIT[\"degree\",0.0174532925199433],\r\n",
      "            ID[\"EPSG\",8832]],\r\n",
      "        PARAMETER[\"Longitude of origin\",-39,\r\n",
      "            ANGLEUNIT[\"degree\",0.0174532925199433],\r\n",
      "            ID[\"EPSG\",8833]],\r\n",
      "        PARAMETER[\"False easting\",0,\r\n",
      "            LENGTHUNIT[\"unknown\",1],\r\n",
      "            ID[\"EPSG\",8806]],\r\n",
      "        PARAMETER[\"False northing\",0,\r\n",
      "            LENGTHUNIT[\"unknown\",1],\r\n",
      "            ID[\"EPSG\",8807]]],\r\n",
      "    CS[Cartesian,2],\r\n",
      "        AXIS[\"easting\",south,\r\n",
      "            ORDER[1],\r\n",
      "            LENGTHUNIT[\"unknown\",1]],\r\n",
      "        AXIS[\"northing\",south,\r\n",
      "            ORDER[2],\r\n",
      "            LENGTHUNIT[\"unknown\",1]]]\r\n",
      "\r\n"
     ]
    }
   ],
   "source": [
    "!gdalsrsinfo NETCDF:\"Greenland1km.nc\":topg"
   ]
  },
  {
   "cell_type": "markdown",
   "metadata": {
    "heading_collapsed": true,
    "hidden": true,
    "hideCode": true,
    "hidePrompt": true
   },
   "source": [
    "### g. Other features"
   ]
  },
  {
   "cell_type": "markdown",
   "metadata": {
    "hidden": true,
    "hideCode": true,
    "hidePrompt": true
   },
   "source": [
    "There are other useful features that GDAL provides for working with raster data. One can read more about these here: \n",
    "http://www.gdal.org/gdal_datamodel.html"
   ]
  },
  {
   "cell_type": "markdown",
   "metadata": {
    "heading_collapsed": true,
    "hideCode": true,
    "hidePrompt": true
   },
   "source": [
    "## 3. Raster data formats"
   ]
  },
  {
   "cell_type": "markdown",
   "metadata": {
    "hidden": true,
    "hideCode": true,
    "hidePrompt": true
   },
   "source": [
    "We have already mentioned that GDAL can support over 80+ data formats. GDAL tries to provide a unified interface to reading data from these different formats. Support for different formats depends on what libraries were used when building the GDAL library. You can find out the various raster formats that GDAL supports using **gdalinfo**."
   ]
  },
  {
   "cell_type": "code",
   "execution_count": 20,
   "metadata": {
    "hidden": true,
    "hideCode": false,
    "hidePrompt": false
   },
   "outputs": [
    {
     "name": "stdout",
     "output_type": "stream",
     "text": [
      "Supported Formats:\r\n",
      "  VRT -raster,multidimensional raster- (rw+v): Virtual Raster\r\n",
      "  DERIVED -raster- (ro): Derived datasets using VRT pixel functions\r\n",
      "  GTiff -raster- (rw+vs): GeoTIFF\r\n",
      "  COG -raster- (wv): Cloud optimized GeoTIFF generator\r\n",
      "  NITF -raster- (rw+vs): National Imagery Transmission Format\r\n",
      "  RPFTOC -raster- (rovs): Raster Product Format TOC format\r\n",
      "  ECRGTOC -raster- (rovs): ECRG TOC format\r\n",
      "  HFA -raster- (rw+v): Erdas Imagine Images (.img)\r\n",
      "  SAR_CEOS -raster- (rov): CEOS SAR Image\r\n",
      "  CEOS -raster- (rov): CEOS Image\r\n",
      "  JAXAPALSAR -raster- (rov): JAXA PALSAR Product Reader (Level 1.1/1.5)\r\n",
      "  GFF -raster- (rov): Ground-based SAR Applications Testbed File Format (.gff)\r\n",
      "  ELAS -raster- (rw+v): ELAS\r\n",
      "  AIG -raster- (rov): Arc/Info Binary Grid\r\n",
      "  AAIGrid -raster- (rwv): Arc/Info ASCII Grid\r\n",
      "  GRASSASCIIGrid -raster- (rov): GRASS ASCII Grid\r\n",
      "  ISG -raster- (rov): International Service for the Geoid\r\n",
      "  SDTS -raster- (rov): SDTS Raster\r\n",
      "  DTED -raster- (rwv): DTED Elevation Raster\r\n",
      "  PNG -raster- (rwv): Portable Network Graphics\r\n",
      "  JPEG -raster- (rwv): JPEG JFIF\r\n",
      "  MEM -raster,multidimensional raster- (rw+): In Memory Raster\r\n",
      "  JDEM -raster- (rov): Japanese DEM (.mem)\r\n",
      "  GIF -raster- (rwv): Graphics Interchange Format (.gif)\r\n",
      "  BIGGIF -raster- (rov): Graphics Interchange Format (.gif)\r\n",
      "  ESAT -raster- (rov): Envisat Image Format\r\n",
      "  BSB -raster- (rov): Maptech BSB Nautical Charts\r\n",
      "  XPM -raster- (rwv): X11 PixMap Format\r\n",
      "  BMP -raster- (rw+v): MS Windows Device Independent Bitmap\r\n",
      "  DIMAP -raster- (rov): SPOT DIMAP\r\n",
      "  AirSAR -raster- (rov): AirSAR Polarimetric Image\r\n",
      "  RS2 -raster- (rovs): RadarSat 2 XML Product\r\n",
      "  SAFE -raster- (rov): Sentinel-1 SAR SAFE Product\r\n",
      "  PCIDSK -raster,vector- (rw+v): PCIDSK Database File\r\n",
      "  PCRaster -raster- (rw+): PCRaster Raster File\r\n",
      "  ILWIS -raster- (rw+v): ILWIS Raster Map\r\n",
      "  SGI -raster- (rw+v): SGI Image File Format 1.0\r\n",
      "  SRTMHGT -raster- (rwv): SRTMHGT File Format\r\n",
      "  Leveller -raster- (rw+v): Leveller heightfield\r\n",
      "  Terragen -raster- (rw+v): Terragen heightfield\r\n",
      "  GMT -raster- (rw): GMT NetCDF Grid Format\r\n",
      "  netCDF -raster,multidimensional raster,vector- (rw+s): Network Common Data Format\r\n",
      "  HDF4 -raster,multidimensional raster- (ros): Hierarchical Data Format Release 4\r\n",
      "  HDF4Image -raster- (rw+): HDF4 Dataset\r\n",
      "  ISIS3 -raster- (rw+v): USGS Astrogeology ISIS cube (Version 3)\r\n",
      "  ISIS2 -raster- (rw+v): USGS Astrogeology ISIS cube (Version 2)\r\n",
      "  PDS -raster- (rov): NASA Planetary Data System\r\n",
      "  PDS4 -raster,vector- (rw+vs): NASA Planetary Data System 4\r\n",
      "  VICAR -raster,vector- (rw+v): MIPL VICAR file\r\n",
      "  TIL -raster- (rov): EarthWatch .TIL\r\n",
      "  ERS -raster- (rw+v): ERMapper .ers Labelled\r\n",
      "  JP2OpenJPEG -raster,vector- (rwv): JPEG-2000 driver based on OpenJPEG library\r\n",
      "  L1B -raster- (rovs): NOAA Polar Orbiter Level 1b Data Set\r\n",
      "  FIT -raster- (rwv): FIT Image\r\n",
      "  GRIB -raster,multidimensional raster- (rwv): GRIdded Binary (.grb, .grb2)\r\n",
      "  RMF -raster- (rw+v): Raster Matrix Format\r\n",
      "  WCS -raster- (rovs): OGC Web Coverage Service\r\n",
      "  WMS -raster- (rwvs): OGC Web Map Service\r\n",
      "  MSGN -raster- (rov): EUMETSAT Archive native (.nat)\r\n",
      "  RST -raster- (rw+v): Idrisi Raster A.1\r\n",
      "  INGR -raster- (rw+v): Intergraph Raster\r\n",
      "  GSAG -raster- (rwv): Golden Software ASCII Grid (.grd)\r\n",
      "  GSBG -raster- (rw+v): Golden Software Binary Grid (.grd)\r\n",
      "  GS7BG -raster- (rw+v): Golden Software 7 Binary Grid (.grd)\r\n",
      "  COSAR -raster- (rov): COSAR Annotated Binary Matrix (TerraSAR-X)\r\n",
      "  TSX -raster- (rov): TerraSAR-X Product\r\n",
      "  COASP -raster- (ro): DRDC COASP SAR Processor Raster\r\n",
      "  R -raster- (rwv): R Object Data Store\r\n",
      "  MAP -raster- (rov): OziExplorer .MAP\r\n",
      "  KMLSUPEROVERLAY -raster- (rwv): Kml Super Overlay\r\n",
      "  WEBP -raster- (rwv): WEBP\r\n",
      "  PDF -raster,vector- (w+): Geospatial PDF\r\n",
      "  Rasterlite -raster- (rwvs): Rasterlite\r\n",
      "  MBTiles -raster,vector- (rw+v): MBTiles\r\n",
      "  PLMOSAIC -raster- (ro): Planet Labs Mosaics API\r\n",
      "  CALS -raster- (rwv): CALS (Type 1)\r\n",
      "  WMTS -raster- (rwv): OGC Web Map Tile Service\r\n",
      "  SENTINEL2 -raster- (rovs): Sentinel 2\r\n",
      "  MRF -raster- (rw+v): Meta Raster Format\r\n",
      "  PNM -raster- (rw+v): Portable Pixmap Format (netpbm)\r\n",
      "  DOQ1 -raster- (rov): USGS DOQ (Old Style)\r\n",
      "  DOQ2 -raster- (rov): USGS DOQ (New Style)\r\n",
      "  PAux -raster- (rw+v): PCI .aux Labelled\r\n",
      "  MFF -raster- (rw+v): Vexcel MFF Raster\r\n",
      "  MFF2 -raster- (rw+): Vexcel MFF2 (HKV) Raster\r\n",
      "  FujiBAS -raster- (rov): Fuji BAS Scanner Image\r\n",
      "  GSC -raster- (rov): GSC Geogrid\r\n",
      "  FAST -raster- (rov): EOSAT FAST Format\r\n",
      "  BT -raster- (rw+v): VTP .bt (Binary Terrain) 1.3 Format\r\n",
      "  LAN -raster- (rw+v): Erdas .LAN/.GIS\r\n",
      "  CPG -raster- (rov): Convair PolGASP\r\n",
      "  IDA -raster- (rw+v): Image Data and Analysis\r\n",
      "  NDF -raster- (rov): NLAPS Data Format\r\n",
      "  EIR -raster- (rov): Erdas Imagine Raw\r\n",
      "  DIPEx -raster- (rov): DIPEx\r\n",
      "  LCP -raster- (rwv): FARSITE v.4 Landscape File (.lcp)\r\n",
      "  GTX -raster- (rw+v): NOAA Vertical Datum .GTX\r\n",
      "  LOSLAS -raster- (rov): NADCON .los/.las Datum Grid Shift\r\n",
      "  NTv1 -raster- (rov): NTv1 Datum Grid Shift\r\n",
      "  NTv2 -raster- (rw+vs): NTv2 Datum Grid Shift\r\n",
      "  CTable2 -raster- (rw+v): CTable2 Datum Grid Shift\r\n",
      "  ACE2 -raster- (rov): ACE2\r\n",
      "  SNODAS -raster- (rov): Snow Data Assimilation System\r\n",
      "  KRO -raster- (rw+v): KOLOR Raw\r\n",
      "  ROI_PAC -raster- (rw+v): ROI_PAC raster\r\n",
      "  RRASTER -raster- (rw+v): R Raster\r\n",
      "  BYN -raster- (rw+v): Natural Resources Canada's Geoid\r\n",
      "  ARG -raster- (rwv): Azavea Raster Grid format\r\n",
      "  RIK -raster- (rov): Swedish Grid RIK (.rik)\r\n",
      "  USGSDEM -raster- (rwv): USGS Optional ASCII DEM (and CDED)\r\n",
      "  GXF -raster- (rov): GeoSoft Grid Exchange Format\r\n",
      "  BAG -raster- (rwv): Bathymetry Attributed Grid\r\n",
      "  HDF5 -raster,multidimensional raster- (rovs): Hierarchical Data Format Release 5\r\n",
      "  HDF5Image -raster- (rov): HDF5 Dataset\r\n",
      "  NWT_GRD -raster- (rw+v): Northwood Numeric Grid Format .grd/.tab\r\n",
      "  NWT_GRC -raster- (rov): Northwood Classified Grid Format .grc/.tab\r\n",
      "  ADRG -raster- (rw+vs): ARC Digitized Raster Graphics\r\n",
      "  SRP -raster- (rovs): Standard Raster Product (ASRP/USRP)\r\n",
      "  BLX -raster- (rwv): Magellan topo (.blx)\r\n",
      "  SAGA -raster- (rw+v): SAGA GIS Binary Grid (.sdat, .sg-grd-z)\r\n",
      "  IGNFHeightASCIIGrid -raster- (rov): IGN France height correction ASCII Grid\r\n",
      "  XYZ -raster- (rwv): ASCII Gridded XYZ\r\n",
      "  HF2 -raster- (rwv): HF2/HFZ heightfield raster\r\n",
      "  JPEGLS -raster- (rwv): JPEGLS\r\n",
      "  OZI -raster- (rov): OziExplorer Image File\r\n",
      "  CTG -raster- (rov): USGS LULC Composite Theme Grid\r\n",
      "  E00GRID -raster- (rov): Arc/Info Export E00 GRID\r\n",
      "  ZMap -raster- (rwv): ZMap Plus Grid\r\n",
      "  NGSGEOID -raster- (rov): NOAA NGS Geoid Height Grids\r\n",
      "  IRIS -raster- (rov): IRIS data (.PPI, .CAPPi etc)\r\n",
      "  PRF -raster- (rov): Racurs PHOTOMOD PRF\r\n",
      "  RDA -raster- (ro): DigitalGlobe Raster Data Access driver\r\n",
      "  EEDAI -raster- (ros): Earth Engine Data API Image\r\n",
      "  DAAS -raster- (ro): Airbus DS Intelligence Data As A Service driver\r\n",
      "  SIGDEM -raster- (rwv): Scaled Integer Gridded DEM .sigdem\r\n",
      "  GPKG -raster,vector- (rw+vs): GeoPackage\r\n",
      "  CAD -raster,vector- (rovs): AutoCAD Driver\r\n",
      "  PLSCENES -raster,vector- (ro): Planet Labs Scenes API\r\n",
      "  NGW -raster,vector- (rw+s): NextGIS Web\r\n",
      "  GenBin -raster- (rov): Generic Binary (.hdr Labelled)\r\n",
      "  ENVI -raster- (rw+v): ENVI .hdr Labelled\r\n",
      "  EHdr -raster- (rw+v): ESRI .hdr Labelled\r\n",
      "  ISCE -raster- (rw+v): ISCE raster\r\n",
      "  HTTP -raster,vector- (ro): HTTP Fetching Wrapper\r\n"
     ]
    }
   ],
   "source": [
    "#List all supported formats in your GDAL build\n",
    "!gdalinfo --formats"
   ]
  },
  {
   "cell_type": "markdown",
   "metadata": {
    "hidden": true,
    "hideCode": true,
    "hidePrompt": true
   },
   "source": [
    "The capability for each format is indicated with a string in the output and here is the corresponding legend:\n",
    "\n",
    "1. r: read\n",
    "2. ro: read only\n",
    "3. w: write \"Create dataset by copying another\"\n",
    "4. w+: write with support to update \"create writable dataset\"\n",
    "5. s: supports subdatasets\n",
    "6. v: supports virtual IO - eg. /vsimem/\n",
    "\n",
    "Virtual features are special and we will revisit this later in this tutorial."
   ]
  },
  {
   "cell_type": "markdown",
   "metadata": {
    "hidden": true,
    "hideCode": true,
    "hidePrompt": true
   },
   "source": [
    "To demonstrate that different formats can be used to represent the same data, we have included a folder called **DEM** that contains the SRTM 90m DEM for the same tile in 3 different formats - SRTM native hgt format (from LPDAAC), GMT format (from GMTSAR's dem service) and Geotiff format (OpenTopography). You can verify that the contents are same by running the command."
   ]
  },
  {
   "cell_type": "code",
   "execution_count": 21,
   "metadata": {
    "hidden": true,
    "hideCode": false,
    "hidePrompt": false
   },
   "outputs": [
    {
     "name": "stdout",
     "output_type": "stream",
     "text": [
      "Driver: GTiff/GeoTIFF\n",
      "Files: N33W119_wgs84.tif\n",
      "Size is 3601, 3601\n",
      "Coordinate System is:\n",
      "GEOGCRS[\"WGS 84\",\n",
      "    DATUM[\"World Geodetic System 1984\",\n",
      "        ELLIPSOID[\"WGS 84\",6378137,298.257223563,\n",
      "            LENGTHUNIT[\"metre\",1]]],\n",
      "    PRIMEM[\"Greenwich\",0,\n",
      "        ANGLEUNIT[\"degree\",0.0174532925199433]],\n",
      "    CS[ellipsoidal,2],\n",
      "        AXIS[\"geodetic latitude (Lat)\",north,\n",
      "            ORDER[1],\n",
      "            ANGLEUNIT[\"degree\",0.0174532925199433]],\n",
      "        AXIS[\"geodetic longitude (Lon)\",east,\n",
      "            ORDER[2],\n",
      "            ANGLEUNIT[\"degree\",0.0174532925199433]],\n",
      "    ID[\"EPSG\",4326]]\n",
      "Data axis to CRS axis mapping: 2,1\n",
      "Origin = (-119.000138888888884,34.000138888888891)\n",
      "Pixel Size = (0.000277777777778,-0.000277777777778)\n",
      "Metadata:\n",
      "  AREA_OR_POINT=Area\n",
      "Image Structure Metadata:\n",
      "  COMPRESSION=DEFLATE\n",
      "  INTERLEAVE=BAND\n",
      "Corner Coordinates:\n",
      "Upper Left  (-119.0001389,  34.0001389) (119d 0' 0.50\"W, 34d 0' 0.50\"N)\n",
      "Lower Left  (-119.0001389,  32.9998611) (119d 0' 0.50\"W, 32d59'59.50\"N)\n",
      "Upper Right (-117.9998611,  34.0001389) (117d59'59.50\"W, 34d 0' 0.50\"N)\n",
      "Lower Right (-117.9998611,  32.9998611) (117d59'59.50\"W, 32d59'59.50\"N)\n",
      "Center      (-118.5000000,  33.5000000) (118d30' 0.00\"W, 33d30' 0.00\"N)\n",
      "Band 1 Block=3601x1 Type=Float32, ColorInterp=Gray\n",
      "  Minimum=-61.785, Maximum=602.602, Mean=4.558, StdDev=38.234\n",
      "  NoData Value=-32768\n",
      "  Metadata:\n",
      "    STATISTICS_MAXIMUM=602.60241699219\n",
      "    STATISTICS_MEAN=4.558004645329\n",
      "    STATISTICS_MINIMUM=-61.78483581543\n",
      "    STATISTICS_STDDEV=38.233630056431\n",
      "    STATISTICS_VALID_PERCENT=100\n"
     ]
    }
   ],
   "source": [
    "!gdalinfo -stats N33W119_wgs84.tif"
   ]
  },
  {
   "cell_type": "code",
   "execution_count": 22,
   "metadata": {
    "hidden": true,
    "hideCode": false,
    "hidePrompt": false
   },
   "outputs": [
    {
     "name": "stdout",
     "output_type": "stream",
     "text": [
      "Driver: GMT/GMT NetCDF Grid Format\r\n",
      "Files: 18.grd\r\n",
      "Size is 1201, 601\r\n",
      "Origin = (-121.002499999999998,35.502499999999998)\r\n",
      "Pixel Size = (0.005000000000000,-0.005000000000000)\r\n",
      "Corner Coordinates:\r\n",
      "Upper Left  (-121.0025000,  35.5025000) \r\n",
      "Lower Left  (-121.0025000,  32.4975000) \r\n",
      "Upper Right (-114.9975000,  35.5025000) \r\n",
      "Lower Right (-114.9975000,  32.4975000) \r\n",
      "Center      (-118.0000000,  34.0000000) \r\n",
      "Band 1 Block=1201x1 Type=Float32, ColorInterp=Undefined\r\n",
      "  Minimum=-74.586, Maximum=3411.414, Mean=443.527, StdDev=504.287\r\n",
      "  Metadata:\r\n",
      "    STATISTICS_MAXIMUM=3411.4138183594\r\n",
      "    STATISTICS_MEAN=443.52650734192\r\n",
      "    STATISTICS_MINIMUM=-74.586204528809\r\n",
      "    STATISTICS_STDDEV=504.28678716346\r\n",
      "    STATISTICS_VALID_PERCENT=100\r\n"
     ]
    }
   ],
   "source": [
    "!gdalinfo -stats 18.grd"
   ]
  },
  {
   "cell_type": "markdown",
   "metadata": {
    "hidden": true,
    "hideCode": true,
    "hidePrompt": true
   },
   "source": [
    "<br>\n",
    "<div class=\"alert alert-info\">\n",
    "<b>Note :</b>\n",
    "As you can see that GDAL supports a wide range of data formats and provides a unified interface. If you plan to work with raster datasets, we strongly recommend that you use one of these supported formats as a basis. There needs to be a really compelling reason to pick a different format.\n",
    "</div>\n",
    "\n"
   ]
  },
  {
   "cell_type": "markdown",
   "metadata": {
    "hideCode": true,
    "hidePrompt": true
   },
   "source": [
    "## 4. Virtual File Systems"
   ]
  },
  {
   "cell_type": "markdown",
   "metadata": {
    "hideCode": true,
    "hidePrompt": true
   },
   "source": [
    "GDAL does not necessarily your need data to be stored on a local file. It provides a file like interface to various data sources and these are referred to as Virtual Formats. Such systems are called Virtual File Systems. For a complete list of Virtual File Systems supported by GDAL - see http://www.gdal.org/gdal_virtual_file_systems.html\n",
    "\n",
    "We will look at a couple of examples of how these work. "
   ]
  },
  {
   "cell_type": "markdown",
   "metadata": {
    "hideCode": true,
    "hidePrompt": true
   },
   "source": [
    "### a. vsicurl"
   ]
  },
  {
   "cell_type": "markdown",
   "metadata": {
    "hideCode": true,
    "hidePrompt": true
   },
   "source": [
    "This is meant to be used with datasets that are served online via http / https/ ftp . To enable this feature, GDAL needs to be built with \"curl\" support. Here is an example of how we would use this feature"
   ]
  },
  {
   "cell_type": "code",
   "execution_count": 23,
   "metadata": {
    "hideCode": false,
    "hidePrompt": false,
    "scrolled": true
   },
   "outputs": [
    {
     "name": "stdout",
     "output_type": "stream",
     "text": [
      "Driver: GTiff/GeoTIFF\n",
      "Files: /vsicurl/https://cloud.sdsc.edu/v1/AUTH_opentopography/Raster/SRTM_GL1_Ellip/SRTM_GL1_Ellip_srtm/North/North_30_60/N34W120_wgs84.tif\n",
      "Size is 3601, 3601\n",
      "Coordinate System is:\n",
      "GEOGCRS[\"WGS 84\",\n",
      "    DATUM[\"World Geodetic System 1984\",\n",
      "        ELLIPSOID[\"WGS 84\",6378137,298.257223563,\n",
      "            LENGTHUNIT[\"metre\",1]]],\n",
      "    PRIMEM[\"Greenwich\",0,\n",
      "        ANGLEUNIT[\"degree\",0.0174532925199433]],\n",
      "    CS[ellipsoidal,2],\n",
      "        AXIS[\"geodetic latitude (Lat)\",north,\n",
      "            ORDER[1],\n",
      "            ANGLEUNIT[\"degree\",0.0174532925199433]],\n",
      "        AXIS[\"geodetic longitude (Lon)\",east,\n",
      "            ORDER[2],\n",
      "            ANGLEUNIT[\"degree\",0.0174532925199433]],\n",
      "    ID[\"EPSG\",4326]]\n",
      "Data axis to CRS axis mapping: 2,1\n",
      "Origin = (-120.000138888888884,35.000138888888891)\n",
      "Pixel Size = (0.000277777777778,-0.000277777777778)\n",
      "Metadata:\n",
      "  AREA_OR_POINT=Area\n",
      "Image Structure Metadata:\n",
      "  COMPRESSION=DEFLATE\n",
      "  INTERLEAVE=BAND\n",
      "Corner Coordinates:\n",
      "Upper Left  (-120.0001389,  35.0001389) (120d 0' 0.50\"W, 35d 0' 0.50\"N)\n",
      "Lower Left  (-120.0001389,  33.9998611) (120d 0' 0.50\"W, 33d59'59.50\"N)\n",
      "Upper Right (-118.9998611,  35.0001389) (118d59'59.50\"W, 35d 0' 0.50\"N)\n",
      "Lower Right (-118.9998611,  33.9998611) (118d59'59.50\"W, 33d59'59.50\"N)\n",
      "Center      (-119.5000000,  34.5000000) (119d30' 0.00\"W, 34d30' 0.00\"N)\n",
      "Band 1 Block=3601x1 Type=Float32, ColorInterp=Gray\n",
      "  NoData Value=-32768\n"
     ]
    }
   ],
   "source": [
    "##Let's look at opentopography's ellipsoid corrected dataset\n",
    "!gdalinfo /vsicurl/https://cloud.sdsc.edu/v1/AUTH_opentopography/Raster/SRTM_GL1_Ellip/SRTM_GL1_Ellip_srtm/North/North_30_60/N34W120_wgs84.tif"
   ]
  },
  {
   "cell_type": "code",
   "execution_count": 24,
   "metadata": {},
   "outputs": [
    {
     "name": "stdout",
     "output_type": "stream",
     "text": [
      "Driver: GTiff/GeoTIFF\n",
      "Files: /vsicurl/http://landsat-pds.s3.amazonaws.com/L8/001/003/LC80010032014272LGN00/LC80010032014272LGN00_B1.TIF\n",
      "       /vsicurl/http://landsat-pds.s3.amazonaws.com/L8/001/003/LC80010032014272LGN00/LC80010032014272LGN00_B1.TIF.ovr\n",
      "       /vsicurl/http://landsat-pds.s3.amazonaws.com/L8/001/003/LC80010032014272LGN00/LC80010032014272LGN00_MTL.txt\n",
      "Size is 9131, 9121\n",
      "Coordinate System is:\n",
      "PROJCRS[\"WGS 84 / UTM zone 29N\",\n",
      "    BASEGEOGCRS[\"WGS 84\",\n",
      "        DATUM[\"World Geodetic System 1984\",\n",
      "            ELLIPSOID[\"WGS 84\",6378137,298.257223563,\n",
      "                LENGTHUNIT[\"metre\",1]]],\n",
      "        PRIMEM[\"Greenwich\",0,\n",
      "            ANGLEUNIT[\"degree\",0.0174532925199433]],\n",
      "        ID[\"EPSG\",4326]],\n",
      "    CONVERSION[\"UTM zone 29N\",\n",
      "        METHOD[\"Transverse Mercator\",\n",
      "            ID[\"EPSG\",9807]],\n",
      "        PARAMETER[\"Latitude of natural origin\",0,\n",
      "            ANGLEUNIT[\"degree\",0.0174532925199433],\n",
      "            ID[\"EPSG\",8801]],\n",
      "        PARAMETER[\"Longitude of natural origin\",-9,\n",
      "            ANGLEUNIT[\"degree\",0.0174532925199433],\n",
      "            ID[\"EPSG\",8802]],\n",
      "        PARAMETER[\"Scale factor at natural origin\",0.9996,\n",
      "            SCALEUNIT[\"unity\",1],\n",
      "            ID[\"EPSG\",8805]],\n",
      "        PARAMETER[\"False easting\",500000,\n",
      "            LENGTHUNIT[\"metre\",1],\n",
      "            ID[\"EPSG\",8806]],\n",
      "        PARAMETER[\"False northing\",0,\n",
      "            LENGTHUNIT[\"metre\",1],\n",
      "            ID[\"EPSG\",8807]]],\n",
      "    CS[Cartesian,2],\n",
      "        AXIS[\"(E)\",east,\n",
      "            ORDER[1],\n",
      "            LENGTHUNIT[\"metre\",1]],\n",
      "        AXIS[\"(N)\",north,\n",
      "            ORDER[2],\n",
      "            LENGTHUNIT[\"metre\",1]],\n",
      "    USAGE[\n",
      "        SCOPE[\"unknown\"],\n",
      "        AREA[\"World - N hemisphere - 12°W to 6°W - by country\"],\n",
      "        BBOX[0,-12,84,-6]],\n",
      "    ID[\"EPSG\",32629]]\n",
      "Data axis to CRS axis mapping: 1,2\n",
      "Origin = (330885.000000000000000,8920815.000000000000000)\n",
      "Pixel Size = (30.000000000000000,-30.000000000000000)\n",
      "Metadata:\n",
      "  AREA_OR_POINT=Point\n",
      "  METADATATYPE=ODL\n",
      "Image Structure Metadata:\n",
      "  COMPRESSION=DEFLATE\n",
      "  INTERLEAVE=BAND\n",
      "Corner Coordinates:\n",
      "Upper Left  (  330885.000, 8920815.000) ( 17d57'55.37\"W, 80d14' 3.80\"N)\n",
      "Lower Left  (  330885.000, 8647185.000) ( 16d11'23.20\"W, 77d48'24.17\"N)\n",
      "Upper Right (  604815.000, 8920815.000) (  3d24'56.67\"W, 80d18'22.74\"N)\n",
      "Lower Right (  604815.000, 8647185.000) (  4d31'47.12\"W, 77d51'50.18\"N)\n",
      "Center      (  467850.000, 8784000.000) ( 10d31'34.26\"W, 79d 7'18.85\"N)\n",
      "Band 1 Block=512x512 Type=UInt16, ColorInterp=Gray\n",
      "  Overviews: 3044x3041, 1015x1014, 339x338, 113x113\n"
     ]
    }
   ],
   "source": [
    "#This is an example of working with Amazon's Landsat archive\n",
    "!gdalinfo /vsicurl/http://landsat-pds.s3.amazonaws.com/L8/001/003/LC80010032014272LGN00/LC80010032014272LGN00_B1.TIF    "
   ]
  },
  {
   "cell_type": "markdown",
   "metadata": {
    "heading_collapsed": true,
    "hideCode": true,
    "hidePrompt": true
   },
   "source": [
    "### b. vsizip / vsitar / vsigzip"
   ]
  },
  {
   "cell_type": "code",
   "execution_count": 25,
   "metadata": {
    "hidden": true
   },
   "outputs": [
    {
     "name": "stdout",
     "output_type": "stream",
     "text": [
      "Archive:  DEM.zip\r\n",
      "Zip file size: 2600801 bytes, number of entries: 12\r\n",
      "drwx---     2.0 fat        0 b- stor 04-Nov-17 10:01 DEM_10m/\r\n",
      "-rw-a--     2.0 fat  9687040 t- defN 03-Mar-18 06:39 DEM_10m/bushkill_pa.dem\r\n",
      "-rw-a--     2.0 fat    29376 t- defN 03-Apr-05 18:41 DEM_10m/bushkill_pa.html\r\n",
      "-rw-a--     2.0 fat    23087 t- defN 03-Apr-05 18:41 DEM_10m/bushkill_pa.text\r\n",
      "-rw-a--     2.0 fat      973 t- defN 03-Feb-07 15:48 DEM_10m/bushkill_pa.txt\r\n",
      "-rw-a--     2.0 fat    20758 t- defN 03-Apr-05 18:41 DEM_10m/bushkill_pa.xml\r\n",
      "drwx---     2.0 fat        0 b- stor 04-Nov-17 10:01 DEM_30m/\r\n",
      "-rw-a--     2.0 fat    26279 t- defN 03-Aug-28 08:11 DEM_30m/bushkill_dem_30m_metadata.html\r\n",
      "drwx---     2.0 fat        0 b- stor 04-Nov-17 10:01 DEM_30m/bushkill_dem_30m_metadata_files/\r\n",
      "-rw-a--     2.0 fat      104 b- defN 03-Aug-28 08:10 DEM_30m/bushkill_dem_30m_metadata_files/disk.gif\r\n",
      "-rw-ah-     2.0 fat     3072 b- defN 03-Aug-28 08:33 DEM_30m/bushkill_dem_30m_metadata_files/Thumbs.db\r\n",
      "-rw-a--     2.0 fat  1077248 t- defN 00-Oct-24 05:52 DEM_30m/bushkill_pa.dem\r\n",
      "12 files, 10867937 bytes uncompressed, 2599205 bytes compressed:  76.1%\r\n"
     ]
    }
   ],
   "source": [
    "#Look at the DEM downloaded from the PSU site\n",
    "!zipinfo DEM.zip"
   ]
  },
  {
   "cell_type": "code",
   "execution_count": 26,
   "metadata": {
    "hidden": true,
    "hideCode": false,
    "hidePrompt": false,
    "scrolled": true
   },
   "outputs": [
    {
     "name": "stdout",
     "output_type": "stream",
     "text": [
      "Driver: USGSDEM/USGS Optional ASCII DEM (and CDED)\r\n",
      "Files: /vsizip/DEM.zip/DEM_30m/bushkill_pa.dem\r\n",
      "Size is 350, 465\r\n",
      "Coordinate System is:\r\n",
      "PROJCRS[\"unnamed\",\r\n",
      "    BASEGEOGCRS[\"NAD27\",\r\n",
      "        DATUM[\"North American Datum 1927\",\r\n",
      "            ELLIPSOID[\"Clarke 1866\",6378206.4,294.978698213898,\r\n",
      "                LENGTHUNIT[\"metre\",1]]],\r\n",
      "        PRIMEM[\"Greenwich\",0,\r\n",
      "            ANGLEUNIT[\"degree\",0.0174532925199433]],\r\n",
      "        ID[\"EPSG\",4267]],\r\n",
      "    CONVERSION[\"UTM zone 18N\",\r\n",
      "        METHOD[\"Transverse Mercator\",\r\n",
      "            ID[\"EPSG\",9807]],\r\n",
      "        PARAMETER[\"Latitude of natural origin\",0,\r\n",
      "            ANGLEUNIT[\"degree\",0.0174532925199433],\r\n",
      "            ID[\"EPSG\",8801]],\r\n",
      "        PARAMETER[\"Longitude of natural origin\",-75,\r\n",
      "            ANGLEUNIT[\"degree\",0.0174532925199433],\r\n",
      "            ID[\"EPSG\",8802]],\r\n",
      "        PARAMETER[\"Scale factor at natural origin\",0.9996,\r\n",
      "            SCALEUNIT[\"unity\",1],\r\n",
      "            ID[\"EPSG\",8805]],\r\n",
      "        PARAMETER[\"False easting\",500000,\r\n",
      "            LENGTHUNIT[\"metre\",1],\r\n",
      "            ID[\"EPSG\",8806]],\r\n",
      "        PARAMETER[\"False northing\",0,\r\n",
      "            LENGTHUNIT[\"metre\",1],\r\n",
      "            ID[\"EPSG\",8807]],\r\n",
      "        ID[\"EPSG\",16018]],\r\n",
      "    CS[Cartesian,2],\r\n",
      "        AXIS[\"easting\",east,\r\n",
      "            ORDER[1],\r\n",
      "            LENGTHUNIT[\"metre\",1,\r\n",
      "                ID[\"EPSG\",9001]]],\r\n",
      "        AXIS[\"northing\",north,\r\n",
      "            ORDER[2],\r\n",
      "            LENGTHUNIT[\"metre\",1,\r\n",
      "                ID[\"EPSG\",9001]]]]\r\n",
      "Data axis to CRS axis mapping: 1,2\r\n",
      "Origin = (489495.000000000000000,4552455.000000000000000)\r\n",
      "Pixel Size = (30.000000000000000,-30.000000000000000)\r\n",
      "Metadata:\r\n",
      "  AREA_OR_POINT=Point\r\n",
      "Corner Coordinates:\r\n",
      "Upper Left  (  489495.000, 4552455.000) ( 75d 7'30.51\"W, 41d 7'30.85\"N)\r\n",
      "Lower Left  (  489495.000, 4538505.000) ( 75d 7'29.66\"W, 40d59'58.45\"N)\r\n",
      "Upper Right (  499995.000, 4552455.000) ( 75d 0' 0.21\"W, 41d 7'31.09\"N)\r\n",
      "Lower Right (  499995.000, 4538505.000) ( 75d 0' 0.21\"W, 40d59'58.70\"N)\r\n",
      "Center      (  494745.000, 4545480.000) ( 75d 3'45.15\"W, 41d 3'44.84\"N)\r\n",
      "Band 1 Block=350x465 Type=Int16, ColorInterp=Undefined\r\n",
      "  NoData Value=-32767\r\n",
      "  Unit Type: m\r\n"
     ]
    }
   ],
   "source": [
    "###Directly interact with data inside zip / tar files\n",
    "!gdalinfo /vsizip/DEM.zip/DEM_30m/bushkill_pa.dem"
   ]
  },
  {
   "cell_type": "markdown",
   "metadata": {
    "heading_collapsed": true,
    "hideCode": true,
    "hidePrompt": true
   },
   "source": [
    "### c. vsis3/ vsigs/ vsiaz"
   ]
  },
  {
   "cell_type": "markdown",
   "metadata": {
    "hidden": true,
    "hideCode": true,
    "hidePrompt": true
   },
   "source": [
    "Lot of the new updates in GDAL are focused on extending support to data stored on cloud platforms - allowing users to interact with small portions of data without having to download everything."
   ]
  },
  {
   "cell_type": "markdown",
   "metadata": {
    "hidden": true
   },
   "source": [
    "#### Option 1: Using vsicurl and cookies with .netrc file"
   ]
  },
  {
   "cell_type": "markdown",
   "metadata": {
    "hidden": true
   },
   "source": [
    "In this case, we will reuse the .netrc file settings that we had setup earlier for automated DEM downloads from LP DAAC. If you haven't done this, complete Step 2 from the link shown here: \n",
    "https://wiki.earthdata.nasa.gov/display/EL/How+To+Access+Data+With+cURL+And+Wget"
   ]
  },
  {
   "cell_type": "code",
   "execution_count": 28,
   "metadata": {
    "hidden": true
   },
   "outputs": [
    {
     "name": "stdout",
     "output_type": "stream",
     "text": [
      "Driver: HDF5/Hierarchical Data Format Release 5\n",
      "Files: /vsicurl/https://grfn.asf.alaska.edu/door/download/S1-GUNW-D-R-160-tops-20190710_20190628-162436-20935N_18926N-PP-6a53-v2_0_2.nc\n",
      "Size is 512, 512\n",
      "Metadata:\n",
      "  author=David Bekaert\n",
      "  Conventions=CF-1.6\n",
      "  crs_polygon_long_name=crs_polygon\n",
      "  crs_polygon_spatial_ref=GEOGCS[\"WGS 84\",DATUM[\"WGS_1984\",SPHEROID[\"WGS 84\",6378137,298.257223563,AUTHORITY[\"EPSG\",\"7030\"]],AUTHORITY[\"EPSG\",\"6326\"]],PRIMEM[\"Greenwich\",0,AUTHORITY[\"EPSG\",\"8901\"]],UNIT[\"degree\",0.0174532925199433,AUTHORITY[\"EPSG\",\"9122\"]],AUTHORITY[\"EPSG\",\"4326\"]]\n",
      "  crs_polygon_standard_name=crs_polygon\n",
      "  institution=Jet Propulsion Laboratory\n",
      "  matchup_CLASS=DIMENSION_SCALE\n",
      "  matchup_NAME=This is a netCDF dimension but not a netCDF variable.         0\n",
      "  matchup_REFERENCE_LIST=\n",
      "  matchup__Netcdf4Dimid=0 \n",
      "  ogr_geometry_field=productBoundingBox\n",
      "  ogr_layer_name=productBoundingBox\n",
      "  ogr_layer_type=POLYGON\n",
      "  product_type=UNW GEO IFG\n",
      "  references=https://aria.jpl.nasa.gov/\n",
      "  science_grids_data_amplitude_description=Amplitude\n",
      "  science_grids_data_amplitude_grid_mapping=crs\n",
      "  science_grids_data_amplitude_long_name=amplitude\n",
      "  science_grids_data_amplitude_standard_name=amplitude\n",
      "  science_grids_data_amplitude_units=watt\n",
      "  science_grids_data_amplitude__FillValue=0 \n",
      "  science_grids_data_amplitude__Netcdf4Dimid=1 \n",
      "  science_grids_data_coherence_description=Coherence\n",
      "  science_grids_data_coherence_grid_mapping=crs\n",
      "  science_grids_data_coherence_long_name=coherence\n",
      "  science_grids_data_coherence_standard_name=coherence\n",
      "  science_grids_data_coherence_units=unitless\n",
      "  science_grids_data_coherence__FillValue=0 \n",
      "  science_grids_data_coherence__Netcdf4Dimid=1 \n",
      "  science_grids_data_connectedComponents_description=Snaphu connected components\n",
      "  science_grids_data_connectedComponents_grid_mapping=crs\n",
      "  science_grids_data_connectedComponents_long_name=connectedComponents\n",
      "  science_grids_data_connectedComponents_standard_name=connectedComponents\n",
      "  science_grids_data_connectedComponents_units=unitless\n",
      "  science_grids_data_connectedComponents__FillValue=-1 \n",
      "  science_grids_data_connectedComponents__Netcdf4Dimid=1 \n",
      "  science_grids_data_crs_crs_wkt=GEOGCS[\"WGS 84\",DATUM[\"WGS_1984\",SPHEROID[\"WGS 84\",6378137,298.257223563,AUTHORITY[\"EPSG\",\"7030\"]],AUTHORITY[\"EPSG\",\"6326\"]],PRIMEM[\"Greenwich\",0,AUTHORITY[\"EPSG\",\"8901\"]],UNIT[\"degree\",0.0174532925199433,AUTHORITY[\"EPSG\",\"9122\"]],AUTHORITY[\"EPSG\",\"4326\"]]\n",
      "  science_grids_data_crs_grid_mapping_name=latitude_longitude\n",
      "  science_grids_data_crs_inverse_flattening=298.257223563 \n",
      "  science_grids_data_crs_longitude_of_prime_meridian=0 \n",
      "  science_grids_data_crs_long_name=crs\n",
      "  science_grids_data_crs_semi_major_axis=6378137 \n",
      "  science_grids_data_crs_standard_name=crs\n",
      "  science_grids_data_latitude_CLASS=DIMENSION_SCALE\n",
      "  science_grids_data_latitude_long_name=latitude\n",
      "  science_grids_data_latitude_NAME=latitude\n",
      "  science_grids_data_latitude_REFERENCE_LIST=\n",
      "  science_grids_data_latitude_standard_name=latitude\n",
      "  science_grids_data_latitude_units=degrees_north\n",
      "  science_grids_data_latitude__CoordinateAxisType=Lat\n",
      "  science_grids_data_latitude__Netcdf4Dimid=1 \n",
      "  science_grids_data_longitude_CLASS=DIMENSION_SCALE\n",
      "  science_grids_data_longitude_long_name=longitude\n",
      "  science_grids_data_longitude_NAME=longitude\n",
      "  science_grids_data_longitude_REFERENCE_LIST=\n",
      "  science_grids_data_longitude_standard_name=longitude\n",
      "  science_grids_data_longitude_units=degrees_east\n",
      "  science_grids_data_longitude__CoordinateAxisType=Lon\n",
      "  science_grids_data_longitude__Netcdf4Dimid=2 \n",
      "  science_grids_data_unwrappedPhase_description=Unwrapped phase\n",
      "  science_grids_data_unwrappedPhase_grid_mapping=crs\n",
      "  science_grids_data_unwrappedPhase_long_name=unwrappedPhase\n",
      "  science_grids_data_unwrappedPhase_standard_name=unwrappedPhase\n",
      "  science_grids_data_unwrappedPhase_units=rad\n",
      "  science_grids_data_unwrappedPhase__FillValue=0 \n",
      "  science_grids_data_unwrappedPhase__Netcdf4Dimid=1 \n",
      "  science_grids_imagingGeometry_azimuthAngle_description=Azimuth angle\n",
      "  science_grids_imagingGeometry_azimuthAngle_grid_mapping=crsMeta\n",
      "  science_grids_imagingGeometry_azimuthAngle_long_name=azimuthAngle\n",
      "  science_grids_imagingGeometry_azimuthAngle_standard_name=azimuthAngle\n",
      "  science_grids_imagingGeometry_azimuthAngle_units=degrees\n",
      "  science_grids_imagingGeometry_azimuthAngle__FillValue=0 \n",
      "  science_grids_imagingGeometry_azimuthAngle__Netcdf4Dimid=5 \n",
      "  science_grids_imagingGeometry_crsMeta_crs_wkt=GEOGCS[\"WGS 84\",DATUM[\"WGS_1984\",SPHEROID[\"WGS 84\",6378137,298.257223563,AUTHORITY[\"EPSG\",\"7030\"]],AUTHORITY[\"EPSG\",\"6326\"]],PRIMEM[\"Greenwich\",0,AUTHORITY[\"EPSG\",\"8901\"]],UNIT[\"degree\",0.0174532925199433,AUTHORITY[\"EPSG\",\"9122\"]],AUTHORITY[\"EPSG\",\"4326\"]]\n",
      "  science_grids_imagingGeometry_crsMeta_grid_mapping_name=latitude_longitude\n",
      "  science_grids_imagingGeometry_crsMeta_inverse_flattening=298.257223563 \n",
      "  science_grids_imagingGeometry_crsMeta_longitude_of_prime_meridian=0 \n",
      "  science_grids_imagingGeometry_crsMeta_long_name=crsMeta\n",
      "  science_grids_imagingGeometry_crsMeta_semi_major_axis=6378137 \n",
      "  science_grids_imagingGeometry_crsMeta_standard_name=crsMeta\n",
      "  science_grids_imagingGeometry_heightsMeta_CLASS=DIMENSION_SCALE\n",
      "  science_grids_imagingGeometry_heightsMeta_long_name=height\n",
      "  science_grids_imagingGeometry_heightsMeta_NAME=heightsMeta\n",
      "  science_grids_imagingGeometry_heightsMeta_positive=up\n",
      "  science_grids_imagingGeometry_heightsMeta_REFERENCE_LIST=\n",
      "  science_grids_imagingGeometry_heightsMeta_standard_name=height\n",
      "  science_grids_imagingGeometry_heightsMeta_units=meter\n",
      "  science_grids_imagingGeometry_heightsMeta__CoordinateAxisType=Lev\n",
      "  science_grids_imagingGeometry_heightsMeta__Netcdf4Dimid=5 \n",
      "  science_grids_imagingGeometry_incidenceAngle_description=Incidence angle\n",
      "  science_grids_imagingGeometry_incidenceAngle_grid_mapping=crsMeta\n",
      "  science_grids_imagingGeometry_incidenceAngle_long_name=incidenceAngle\n",
      "  science_grids_imagingGeometry_incidenceAngle_standard_name=incidenceAngle\n",
      "  science_grids_imagingGeometry_incidenceAngle_units=degrees\n",
      "  science_grids_imagingGeometry_incidenceAngle__FillValue=0 \n",
      "  science_grids_imagingGeometry_incidenceAngle__Netcdf4Dimid=5 \n",
      "  science_grids_imagingGeometry_latitudeMeta_CLASS=DIMENSION_SCALE\n",
      "  science_grids_imagingGeometry_latitudeMeta_long_name=latitude\n",
      "  science_grids_imagingGeometry_latitudeMeta_NAME=latitudeMeta\n",
      "  science_grids_imagingGeometry_latitudeMeta_REFERENCE_LIST=\n",
      "  science_grids_imagingGeometry_latitudeMeta_standard_name=latitude\n",
      "  science_grids_imagingGeometry_latitudeMeta_units=degrees_north\n",
      "  science_grids_imagingGeometry_latitudeMeta__CoordinateAxisType=Lat\n",
      "  science_grids_imagingGeometry_latitudeMeta__Netcdf4Dimid=3 \n",
      "  science_grids_imagingGeometry_longitudeMeta_CLASS=DIMENSION_SCALE\n",
      "  science_grids_imagingGeometry_longitudeMeta_long_name=longitude\n",
      "  science_grids_imagingGeometry_longitudeMeta_NAME=longitudeMeta\n",
      "  science_grids_imagingGeometry_longitudeMeta_REFERENCE_LIST=\n",
      "  science_grids_imagingGeometry_longitudeMeta_standard_name=longitude\n",
      "  science_grids_imagingGeometry_longitudeMeta_units=degrees_east\n",
      "  science_grids_imagingGeometry_longitudeMeta__CoordinateAxisType=Lon\n",
      "  science_grids_imagingGeometry_longitudeMeta__Netcdf4Dimid=4 \n",
      "  science_grids_imagingGeometry_lookAngle_description=Look angle\n",
      "  science_grids_imagingGeometry_lookAngle_grid_mapping=crsMeta\n",
      "  science_grids_imagingGeometry_lookAngle_long_name=lookAngle\n",
      "  science_grids_imagingGeometry_lookAngle_standard_name=lookAngle\n",
      "  science_grids_imagingGeometry_lookAngle_units=degrees\n",
      "  science_grids_imagingGeometry_lookAngle__FillValue=0 \n",
      "  science_grids_imagingGeometry_lookAngle__Netcdf4Dimid=5 \n",
      "  science_grids_imagingGeometry_parallelBaseline_description=Parallel baseline\n",
      "  science_grids_imagingGeometry_parallelBaseline_grid_mapping=crsMeta\n",
      "  science_grids_imagingGeometry_parallelBaseline_long_name=parallelBaseline\n",
      "  science_grids_imagingGeometry_parallelBaseline_standard_name=parallelBaseline\n",
      "  science_grids_imagingGeometry_parallelBaseline_units=meter\n",
      "  science_grids_imagingGeometry_parallelBaseline__FillValue=0 \n",
      "  science_grids_imagingGeometry_parallelBaseline__Netcdf4Dimid=5 \n",
      "  science_grids_imagingGeometry_perpendicularBaseline_description=Perpendicular baseline\n",
      "  science_grids_imagingGeometry_perpendicularBaseline_grid_mapping=crsMeta\n",
      "  science_grids_imagingGeometry_perpendicularBaseline_long_name=perpendicularBaseline\n",
      "  science_grids_imagingGeometry_perpendicularBaseline_standard_name=perpendicularBaseline\n",
      "  science_grids_imagingGeometry_perpendicularBaseline_units=meter\n",
      "  science_grids_imagingGeometry_perpendicularBaseline__FillValue=0 \n",
      "  science_grids_imagingGeometry_perpendicularBaseline__Netcdf4Dimid=5 \n",
      "  science_radarMetaData_azimuthTimeInterval_description=Azimuth time interval\n",
      "  science_radarMetaData_azimuthTimeInterval_long_name=azimuthTimeInterval\n",
      "  science_radarMetaData_azimuthTimeInterval_standard_name=azimuthTimeInterval\n",
      "  science_radarMetaData_azimuthTimeInterval_units=seconds\n",
      "  science_radarMetaData_centerFrequency_description=Radar center frequency\n",
      "  science_radarMetaData_centerFrequency_long_name=centerFrequency\n",
      "  science_radarMetaData_centerFrequency_standard_name=centerFrequency\n",
      "  science_radarMetaData_centerFrequency_units=Hertz\n",
      "  science_radarMetaData_ESDthreshold_description=ESD threshold, -1 = no ESD applied\n",
      "  science_radarMetaData_ESDthreshold_long_name=ESDthreshold\n",
      "  science_radarMetaData_ESDthreshold_standard_name=ESDthreshold\n",
      "  science_radarMetaData_ESDthreshold_units=unitless\n",
      "  science_radarMetaData_slantRangeEnd_description=Slant range end\n",
      "  science_radarMetaData_slantRangeEnd_long_name=slantRangeEnd\n",
      "  science_radarMetaData_slantRangeEnd_standard_name=slantRangeEnd\n",
      "  science_radarMetaData_slantRangeEnd_units=meter\n",
      "  science_radarMetaData_slantRangeSpacing_description=Slant range pixel spacing\n",
      "  science_radarMetaData_slantRangeSpacing_long_name=slantRangeSpacing\n",
      "  science_radarMetaData_slantRangeSpacing_standard_name=slantRangeSpacing\n",
      "  science_radarMetaData_slantRangeSpacing_units=meter\n",
      "  science_radarMetaData_slantRangeStart_description=Slant range start\n",
      "  science_radarMetaData_slantRangeStart_long_name=slantRangeStart\n",
      "  science_radarMetaData_slantRangeStart_standard_name=slantRangeStart\n",
      "  science_radarMetaData_slantRangeStart_units=meter\n",
      "  science_radarMetaData_wavelength_description=Radar wavelength\n",
      "  science_radarMetaData_wavelength_long_name=wavelength\n",
      "  science_radarMetaData_wavelength_standard_name=wavelength\n",
      "  science_radarMetaData_wavelength_units=meter\n",
      "  source=Contains modified Copernicus Sentinel data processed by ESA and ARIA NASA/JPL\n",
      "  title=ARIA standard product UNW GEO IFG\n",
      "  version=1b\n",
      "  wkt_count_CLASS=DIMENSION_SCALE\n",
      "  wkt_count_NAME=This is a netCDF dimension but not a netCDF variable.         1\n",
      "  wkt_count_REFERENCE_LIST=\n",
      "  wkt_count__Netcdf4Dimid=7 \n",
      "  wkt_length_CLASS=DIMENSION_SCALE\n",
      "  wkt_length_NAME=This is a netCDF dimension but not a netCDF variable.       463\n",
      "  wkt_length_REFERENCE_LIST=\n",
      "  wkt_length__Netcdf4Dimid=6 \n",
      "Subdatasets:\n",
      "  SUBDATASET_1_NAME=HDF5:\"/vsicurl/https://grfn.asf.alaska.edu/door/download/S1-GUNW-D-R-160-tops-20190710_20190628-162436-20935N_18926N-PP-6a53-v2_0_2.nc\"://science/grids/data/amplitude\n",
      "  SUBDATASET_1_DESC=[2412x3297] //science/grids/data/amplitude (32-bit floating-point)\n",
      "  SUBDATASET_2_NAME=HDF5:\"/vsicurl/https://grfn.asf.alaska.edu/door/download/S1-GUNW-D-R-160-tops-20190710_20190628-162436-20935N_18926N-PP-6a53-v2_0_2.nc\"://science/grids/data/coherence\n",
      "  SUBDATASET_2_DESC=[2412x3297] //science/grids/data/coherence (32-bit floating-point)\n",
      "  SUBDATASET_3_NAME=HDF5:\"/vsicurl/https://grfn.asf.alaska.edu/door/download/S1-GUNW-D-R-160-tops-20190710_20190628-162436-20935N_18926N-PP-6a53-v2_0_2.nc\"://science/grids/data/connectedComponents\n",
      "  SUBDATASET_3_DESC=[2412x3297] //science/grids/data/connectedComponents (32-bit floating-point)\n",
      "  SUBDATASET_4_NAME=HDF5:\"/vsicurl/https://grfn.asf.alaska.edu/door/download/S1-GUNW-D-R-160-tops-20190710_20190628-162436-20935N_18926N-PP-6a53-v2_0_2.nc\"://science/grids/data/unwrappedPhase\n",
      "  SUBDATASET_4_DESC=[2412x3297] //science/grids/data/unwrappedPhase (32-bit floating-point)\n",
      "  SUBDATASET_5_NAME=HDF5:\"/vsicurl/https://grfn.asf.alaska.edu/door/download/S1-GUNW-D-R-160-tops-20190710_20190628-162436-20935N_18926N-PP-6a53-v2_0_2.nc\"://science/grids/imagingGeometry/azimuthAngle\n",
      "  SUBDATASET_5_DESC=[4x26x33] //science/grids/imagingGeometry/azimuthAngle (32-bit floating-point)\n",
      "  SUBDATASET_6_NAME=HDF5:\"/vsicurl/https://grfn.asf.alaska.edu/door/download/S1-GUNW-D-R-160-tops-20190710_20190628-162436-20935N_18926N-PP-6a53-v2_0_2.nc\"://science/grids/imagingGeometry/incidenceAngle\n",
      "  SUBDATASET_6_DESC=[4x26x33] //science/grids/imagingGeometry/incidenceAngle (32-bit floating-point)\n",
      "  SUBDATASET_7_NAME=HDF5:\"/vsicurl/https://grfn.asf.alaska.edu/door/download/S1-GUNW-D-R-160-tops-20190710_20190628-162436-20935N_18926N-PP-6a53-v2_0_2.nc\"://science/grids/imagingGeometry/lookAngle\n",
      "  SUBDATASET_7_DESC=[4x26x33] //science/grids/imagingGeometry/lookAngle (32-bit floating-point)\n",
      "  SUBDATASET_8_NAME=HDF5:\"/vsicurl/https://grfn.asf.alaska.edu/door/download/S1-GUNW-D-R-160-tops-20190710_20190628-162436-20935N_18926N-PP-6a53-v2_0_2.nc\"://science/grids/imagingGeometry/parallelBaseline\n",
      "  SUBDATASET_8_DESC=[4x26x33] //science/grids/imagingGeometry/parallelBaseline (32-bit floating-point)\n",
      "  SUBDATASET_9_NAME=HDF5:\"/vsicurl/https://grfn.asf.alaska.edu/door/download/S1-GUNW-D-R-160-tops-20190710_20190628-162436-20935N_18926N-PP-6a53-v2_0_2.nc\"://science/grids/imagingGeometry/perpendicularBaseline\n",
      "  SUBDATASET_9_DESC=[4x26x33] //science/grids/imagingGeometry/perpendicularBaseline (32-bit floating-point)\n",
      "Corner Coordinates:\n",
      "Upper Left  (    0.0,    0.0)\n",
      "Lower Left  (    0.0,  512.0)\n",
      "Upper Right (  512.0,    0.0)\n",
      "Lower Right (  512.0,  512.0)\n",
      "Center      (  256.0,  256.0)\n",
      "\n"
     ]
    }
   ],
   "source": [
    "gdal.SetConfigOption('GDAL_HTTP_COOKIEFILE','asf_cookies.txt')\n",
    "gdal.SetConfigOption('GDAL_HTTP_COOKIEJAR', 'asf_cookies.txt')\n",
    "results = gdal.Info(\"/vsicurl/https://grfn.asf.alaska.edu/door/download/S1-GUNW-D-R-160-tops-20190710_20190628-162436-20935N_18926N-PP-6a53-v2_0_2.nc\")\n",
    "print(results)"
   ]
  },
  {
   "cell_type": "markdown",
   "metadata": {
    "hidden": true
   },
   "source": [
    "More about how to do interact with data that ASF is hosting on the Amazon Cloud in later tutorials ... "
   ]
  },
  {
   "cell_type": "markdown",
   "metadata": {
    "heading_collapsed": true,
    "hideCode": true,
    "hidePrompt": true
   },
   "source": [
    "### d. vsimem"
   ]
  },
  {
   "cell_type": "markdown",
   "metadata": {
    "hidden": true,
    "hideCode": true,
    "hidePrompt": true
   },
   "source": [
    "These are feature that allows one to use in memory arrays just like other GDAL datasets. Here is an example:"
   ]
  },
  {
   "cell_type": "code",
   "execution_count": 29,
   "metadata": {
    "hidden": true,
    "hideCode": false,
    "hidePrompt": false
   },
   "outputs": [
    {
     "name": "stdout",
     "output_type": "stream",
     "text": [
      "GEOGCS[\"WGS 84\",DATUM[\"WGS_1984\",SPHEROID[\"WGS 84\",6378137,298.257223563,AUTHORITY[\"EPSG\",\"7030\"]],AUTHORITY[\"EPSG\",\"6326\"]],PRIMEM[\"Greenwich\",0],UNIT[\"degree\",0.0174532925199433,AUTHORITY[\"EPSG\",\"9122\"]],AXIS[\"Latitude\",NORTH],AXIS[\"Longitude\",EAST],AUTHORITY[\"EPSG\",\"4326\"]]\n",
      "(-119.00013888888888, 0.0002777777777777778, 0.0, 34.00013888888889, 0.0, -0.0002777777777777778)\n"
     ]
    }
   ],
   "source": [
    "##Get memory driver\n",
    "memdrv = gdal.GetDriverByName('MEM')\n",
    "\n",
    "##Open source dataset in read only mode\n",
    "ds = gdal.Open('N33W119_wgs84.tif', gdal.GA_ReadOnly)\n",
    "\n",
    "##Create an in-memory copy\n",
    "memds = memdrv.CreateCopy('dummyname', ds)\n",
    "\n",
    "##Close source\n",
    "ds = None\n",
    "\n",
    "##Use copy for operations\n",
    "print(memds.GetProjection())\n",
    "print(memds.GetGeoTransform())\n",
    "\n",
    "##Close memory copy\n",
    "memds = None"
   ]
  },
  {
   "cell_type": "markdown",
   "metadata": {
    "hideCode": true,
    "hidePrompt": true
   },
   "source": [
    "## 5. Virtual Raster Table (VRT) format"
   ]
  },
  {
   "cell_type": "markdown",
   "metadata": {
    "hideCode": true,
    "hidePrompt": true
   },
   "source": [
    "Virtual Raster Table (VRT) format extends the idea of virtualization to actual disks on file. VRT is a custom format supported by GDAL that is similar to \"links\" or \"shortcuts\" on operating systems - except that it has more functionality than just pointing to other data sources.\n",
    "\n",
    "Often, when working with raster datasets, we tend to generate a fairly large volume of intermediate products due to operations like cropping, multilooking and masking. VRT's offer the option of building workflow pipelines that generate such products on the fly. We will rely extensively on this feature for our time-series exercises later. \n",
    "\n",
    "Details on GDAL's VRT feature can be found here: http://www.gdal.org/gdal_vrttut.html\n",
    "\n",
    "You may have already noticed that ISCE generates a **.vrt** file for every raster product that is generated by the workflows. We will be looking at VRTs in greater detail as part of the other notebooks on raster data manipulation. But here are some short examples that demonstrate the capabilities of this format."
   ]
  },
  {
   "cell_type": "markdown",
   "metadata": {
    "heading_collapsed": true
   },
   "source": [
    "### a. Cropping of datasets"
   ]
  },
  {
   "cell_type": "markdown",
   "metadata": {
    "hidden": true
   },
   "source": [
    "ISCE uses GDAL VRT files to virtually extract a single burst from the Sentinel-1 SAFE products. From our TOPS processing tutorial, you will remember that Sentinel-1 TOPS mode data is delivered as SAFE products which contains TIFF files for each imaged swath. Each swath consists of number of bursts or scans. \n",
    "\n",
    "To avoid replicating this data on disk again, we use a simple VRT file to point to the location of burst data within the TIFF files. For example, if you were to look at the contents of master/IW1/burst04.slc.vrt, you will see something like \n",
    "\n",
    "```xml\n",
    "<VRTDataset rasterXSize=\"20665\" rasterYSize=\"1493\">\n",
    "    <VRTRasterBand dataType=\"CFloat32\" band=\"1\">\n",
    "        <NoDataValue>0.0</NoDataValue>\n",
    "        <SimpleSource>\n",
    "            <SourceFilename relativeToVRT=\"1\">/vsizip//Users/agram/data/isce/japan/data/S1A_IW_SLC__1SSV_20160408T091355_20160408T091430_010728_01001F_83EB.zip/S1A_IW_SLC__1SSV_20160408T091355_20160408T091430_010728_01001F_83EB.SAFE/measurement/s1a-iw1-slc-vv-20160408t091355-20160408t091428-010728-01001f-001.tiff</SourceFilename>\n",
    "            <SourceBand>1</SourceBand>\n",
    "            <SourceProperties RasterXSize=\"20665\" RasterYSize=\"17916\" DataType=\"CInt16\"/>\n",
    "            <SrcRect xOff=\"130\" yOff=\"4498\" xSize=\"20468\" ySize=\"1458\"/>\n",
    "            <DstRect xOff=\"130\" yOff=\"19\" xSize=\"20468\" ySize=\"1458\"/>\n",
    "        </SimpleSource>\n",
    "    </VRTRasterBand>\n",
    "</VRTDataset>\n",
    "```"
   ]
  },
  {
   "cell_type": "markdown",
   "metadata": {
    "hidden": true,
    "hidePrompt": true
   },
   "source": [
    "For clarity, lets annotate the vrt file to describe what is happening. Note that VRT format is built on top of XML. So, we will use XML's comment feature to annotate the XML for your understanding.\n",
    "\n",
    "```xml\n",
    "<!--Size of the virtual dataset-->\n",
    "<VRTDataset rasterXSize=\"20665\" rasterYSize=\"1493\">\n",
    "    <!-- Band 1 of the dataset and its data type -->\n",
    "    <VRTRasterBand dataType=\"CFloat32\" band=\"1\">\n",
    "        <!--No data value for this dataset-->\n",
    "        <NoDataValue>0.0</NoDataValue>\n",
    "        <!--We use a simple source to suggest that we don't alter contents of the data in source-->\n",
    "        <SimpleSource>\n",
    "            <!--Name of the source - notice that we point to a TIFF inside a zip file -->\n",
    "            <SourceFilename relativeToVRT=\"1\">/vsizip//Users/agram/data/isce/japan/data/S1A_IW_SLC__1SSV_20160408T091355_20160408T091430_010728_01001F_83EB.zip/S1A_IW_SLC__1SSV_20160408T091355_20160408T091430_010728_01001F_83EB.SAFE/measurement/s1a-iw1-slc-vv-20160408t091355-20160408t091428-010728-01001f-001.tiff</SourceFilename>\n",
    "            <!--Source may contain multiple bands. Indicate band from source -->\n",
    "            <SourceBand>1</SourceBand>\n",
    "            <!--Properties of the source. This is optional. GDAL will figure it out on the fly if not provided, but will be slow as it actually has to read the source to figure this out. Note that source is of type CInt16 -->\n",
    "            <SourceProperties RasterXSize=\"20665\" RasterYSize=\"17916\" DataType=\"CInt16\"/>\n",
    "            <!--Indicate spatial subset of source data in pixels and lines -->\n",
    "            <SrcRect xOff=\"130\" yOff=\"4498\" xSize=\"20468\" ySize=\"1458\"/>\n",
    "            <!--Indicate spatial location of destination-->\n",
    "            <DstRect xOff=\"130\" yOff=\"19\" xSize=\"20468\" ySize=\"1458\"/>\n",
    "        </SimpleSource>\n",
    "    </VRTRasterBand>\n",
    "</VRTDataset>\n",
    "```"
   ]
  },
  {
   "cell_type": "markdown",
   "metadata": {
    "heading_collapsed": true
   },
   "source": [
    "### b. Modify some metadata"
   ]
  },
  {
   "cell_type": "markdown",
   "metadata": {
    "hidden": true
   },
   "source": [
    "Remember the GMT format dataset from the exercise above? Remember that it was tagged with spatial coordinate information but not with coordinate system metadata. We can fix that quickly by writing a VRT that points to the file with the coordinate information included in it."
   ]
  },
  {
   "cell_type": "code",
   "execution_count": 30,
   "metadata": {
    "hidden": true
   },
   "outputs": [
    {
     "name": "stdout",
     "output_type": "stream",
     "text": [
      "Input file size is 1201, 601\r\n"
     ]
    }
   ],
   "source": [
    "!gdal_translate -of VRT -a_srs EPSG:4326 18.grd UCSB_18arcsec.dem.vrt"
   ]
  },
  {
   "cell_type": "code",
   "execution_count": 31,
   "metadata": {
    "hidden": true,
    "scrolled": true
   },
   "outputs": [
    {
     "name": "stdout",
     "output_type": "stream",
     "text": [
      "<VRTDataset rasterXSize=\"1201\" rasterYSize=\"601\">\r\n",
      "  <SRS dataAxisToSRSAxisMapping=\"2,1\">GEOGCS[\"WGS 84\",DATUM[\"WGS_1984\",SPHEROID[\"WGS 84\",6378137,298.257223563,AUTHORITY[\"EPSG\",\"7030\"]],AUTHORITY[\"EPSG\",\"6326\"]],PRIMEM[\"Greenwich\",0,AUTHORITY[\"EPSG\",\"8901\"]],UNIT[\"degree\",0.0174532925199433,AUTHORITY[\"EPSG\",\"9122\"]],AXIS[\"Latitude\",NORTH],AXIS[\"Longitude\",EAST],AUTHORITY[\"EPSG\",\"4326\"]]</SRS>\r\n",
      "  <GeoTransform> -1.2100250000000000e+02,  5.0000000000000001e-03,  0.0000000000000000e+00,  3.5502499999999998e+01,  0.0000000000000000e+00, -5.0000000000000001e-03</GeoTransform>\r\n",
      "  <VRTRasterBand dataType=\"Float32\" band=\"1\">\r\n",
      "    <Metadata>\r\n",
      "      <MDI key=\"STATISTICS_MAXIMUM\">3411.4138183594</MDI>\r\n",
      "      <MDI key=\"STATISTICS_MEAN\">443.52650734192</MDI>\r\n",
      "      <MDI key=\"STATISTICS_MINIMUM\">-74.586204528809</MDI>\r\n",
      "      <MDI key=\"STATISTICS_STDDEV\">504.28678716346</MDI>\r\n",
      "      <MDI key=\"STATISTICS_VALID_PERCENT\">100</MDI>\r\n",
      "    </Metadata>\r\n",
      "    <SimpleSource>\r\n",
      "      <SourceFilename relativeToVRT=\"1\">18.grd</SourceFilename>\r\n",
      "      <SourceBand>1</SourceBand>\r\n",
      "      <SourceProperties RasterXSize=\"1201\" RasterYSize=\"601\" DataType=\"Float32\" BlockXSize=\"1201\" BlockYSize=\"1\" />\r\n",
      "      <SrcRect xOff=\"0\" yOff=\"0\" xSize=\"1201\" ySize=\"601\" />\r\n",
      "      <DstRect xOff=\"0\" yOff=\"0\" xSize=\"1201\" ySize=\"601\" />\r\n",
      "    </SimpleSource>\r\n",
      "  </VRTRasterBand>\r\n",
      "</VRTDataset>\r\n"
     ]
    }
   ],
   "source": [
    "!cat UCSB_18arcsec.dem.vrt"
   ]
  },
  {
   "cell_type": "code",
   "execution_count": 32,
   "metadata": {
    "hidden": true,
    "scrolled": true
   },
   "outputs": [
    {
     "name": "stdout",
     "output_type": "stream",
     "text": [
      "Driver: VRT/Virtual Raster\n",
      "Files: UCSB_18arcsec.dem.vrt\n",
      "       18.grd\n",
      "Size is 1201, 601\n",
      "Coordinate System is:\n",
      "GEOGCRS[\"WGS 84\",\n",
      "    DATUM[\"World Geodetic System 1984\",\n",
      "        ELLIPSOID[\"WGS 84\",6378137,298.257223563,\n",
      "            LENGTHUNIT[\"metre\",1]]],\n",
      "    PRIMEM[\"Greenwich\",0,\n",
      "        ANGLEUNIT[\"degree\",0.0174532925199433]],\n",
      "    CS[ellipsoidal,2],\n",
      "        AXIS[\"geodetic latitude (Lat)\",north,\n",
      "            ORDER[1],\n",
      "            ANGLEUNIT[\"degree\",0.0174532925199433]],\n",
      "        AXIS[\"geodetic longitude (Lon)\",east,\n",
      "            ORDER[2],\n",
      "            ANGLEUNIT[\"degree\",0.0174532925199433]],\n",
      "    ID[\"EPSG\",4326]]\n",
      "Data axis to CRS axis mapping: 2,1\n",
      "Origin = (-121.002499999999998,35.502499999999998)\n",
      "Pixel Size = (0.005000000000000,-0.005000000000000)\n",
      "Corner Coordinates:\n",
      "Upper Left  (-121.0025000,  35.5025000) (121d 0' 9.00\"W, 35d30' 9.00\"N)\n",
      "Lower Left  (-121.0025000,  32.4975000) (121d 0' 9.00\"W, 32d29'51.00\"N)\n",
      "Upper Right (-114.9975000,  35.5025000) (114d59'51.00\"W, 35d30' 9.00\"N)\n",
      "Lower Right (-114.9975000,  32.4975000) (114d59'51.00\"W, 32d29'51.00\"N)\n",
      "Center      (-118.0000000,  34.0000000) (118d 0' 0.00\"W, 34d 0' 0.00\"N)\n",
      "Band 1 Block=128x128 Type=Float32, ColorInterp=Undefined\n",
      "  Min=-74.586 Max=3411.414 \n",
      "  Minimum=-74.586, Maximum=3411.414, Mean=443.527, StdDev=504.287\n",
      "  Metadata:\n",
      "    STATISTICS_MAXIMUM=3411.4138183594\n",
      "    STATISTICS_MEAN=443.52650734192\n",
      "    STATISTICS_MINIMUM=-74.586204528809\n",
      "    STATISTICS_STDDEV=504.28678716346\n",
      "    STATISTICS_VALID_PERCENT=100\n"
     ]
    }
   ],
   "source": [
    "!gdalinfo UCSB_18arcsec.dem.vrt"
   ]
  },
  {
   "cell_type": "markdown",
   "metadata": {
    "heading_collapsed": true
   },
   "source": [
    "### c. Mosaicking"
   ]
  },
  {
   "cell_type": "markdown",
   "metadata": {
    "hidden": true
   },
   "source": [
    "A very common use case is the need to put together many tiles of rasters to create a wide-area map. One such example is the SRTM DEM. Remember that this data is distributed as 1 deg x 1 deg tiles. With the VRT format, one can put together a single file that represents the global collection of the SRTM DEM with the appropriate parts of the raster pointing to the corresponding tiles. For example, here is how the Open Topography system uses VRTs. Allow sometime for the following command to execute before moving to next cell..."
   ]
  },
  {
   "cell_type": "code",
   "execution_count": 33,
   "metadata": {
    "hidden": true,
    "scrolled": true
   },
   "outputs": [
    {
     "name": "stdout",
     "output_type": "stream",
     "text": [
      "Driver: VRT/Virtual Raster\n",
      "Files: /vsicurl/https://cloud.sdsc.edu/v1/AUTH_opentopography/Raster/SRTM_GL1_Ellip/SRTM_GL1_Ellip_srtm.vrt\n",
      "Size is 1296001, 417601\n",
      "Coordinate System is:\n",
      "GEOGCRS[\"WGS 84\",\n",
      "    DATUM[\"World Geodetic System 1984\",\n",
      "        ELLIPSOID[\"WGS 84\",6378137,298.257223563,\n",
      "            LENGTHUNIT[\"metre\",1]]],\n",
      "    PRIMEM[\"Greenwich\",0,\n",
      "        ANGLEUNIT[\"degree\",0.0174532925199433]],\n",
      "    CS[ellipsoidal,2],\n",
      "        AXIS[\"geodetic latitude (Lat)\",north,\n",
      "            ORDER[1],\n",
      "            ANGLEUNIT[\"degree\",0.0174532925199433]],\n",
      "        AXIS[\"geodetic longitude (Lon)\",east,\n",
      "            ORDER[2],\n",
      "            ANGLEUNIT[\"degree\",0.0174532925199433]],\n",
      "    ID[\"EPSG\",4326]]\n",
      "Data axis to CRS axis mapping: 2,1\n",
      "Origin = (-180.000138888888898,60.000138888888891)\n",
      "Pixel Size = (0.000277777777778,-0.000277777777778)\n",
      "Corner Coordinates:\n",
      "Upper Left  (-180.0001389,  60.0001389) (180d 0' 0.50\"W, 60d 0' 0.50\"N)\n",
      "Lower Left  (-180.0001389, -56.0001389) (180d 0' 0.50\"W, 56d 0' 0.50\"S)\n",
      "Upper Right ( 180.0001389,  60.0001389) (180d 0' 0.50\"E, 60d 0' 0.50\"N)\n",
      "Lower Right ( 180.0001389, -56.0001389) (180d 0' 0.50\"E, 56d 0' 0.50\"S)\n",
      "Center      (   0.0000000,   2.0000000) (  0d 0' 0.00\"E,  2d 0' 0.00\"N)\n",
      "Band 1 Block=128x128 Type=Float32, ColorInterp=Gray\n",
      "  NoData Value=-32768\n"
     ]
    }
   ],
   "source": [
    "!gdalinfo -nofl /vsicurl/https://cloud.sdsc.edu/v1/AUTH_opentopography/Raster/SRTM_GL1_Ellip/SRTM_GL1_Ellip_srtm.vrt"
   ]
  },
  {
   "cell_type": "markdown",
   "metadata": {
    "heading_collapsed": true
   },
   "source": [
    "### d. Derived datasets"
   ]
  },
  {
   "cell_type": "markdown",
   "metadata": {
    "hidden": true
   },
   "source": [
    "Often, we end up in situations where we need to manipulate the data slightly for use with other analysis tools. For example, derive power in dB or amplitude or phase from coregistered SLCs. Generating these derived products could use up a lot of disk space. VRTs provide a mechanism called **pixel functions** to do these transformations on the fly. Set of pixel functions available are (current list):\n",
    "\n",
    "* \"real\": extract real part from a single raster band (just a copy if the input is non-complex)\n",
    "* \"imag\": extract imaginary part from a single raster band (0 for non-complex)\n",
    "* \"complex\": make a complex band merging two bands used as real and imag values\n",
    "* \"mod\": extract module from a single raster band (real or complex)\n",
    "* \"phase\": extract phase from a single raster band [-PI,PI] (0 or PI for non-complex)\n",
    "* \"conj\": computes the complex conjugate of a single raster band (just a copy if the input is non-complex)\n",
    "* \"sum\": sum 2 or more raster bands\n",
    "* \"diff\": computes the difference between 2 raster bands (b1 - b2)\n",
    "* \"mul\": multiply 2 or more raster bands\n",
    "* \"cmul\": multiply the first band for the complex conjugate of the second\n",
    "* \"inv\": inverse (1./x). Note: no check is performed on zero division\n",
    "* \"intensity\": computes the intensity Re(x*conj(x)) of a single raster band (real or complex)\n",
    "* \"sqrt\": perform the square root of a single raster band (real only)\n",
    "* \"log10\": compute the logarithm (base 10) of the abs of a single raster band (real or complex): log10( abs( x ) )\n",
    "* \"dB\": perform conversion to dB of the abs of a single raster band (real or complex): 20. * log10( abs( x ) )\n",
    "* \"dB2amp\": perform scale conversion from logarithmic to linear (amplitude) (i.e. 10 ^ ( x / 20 ) ) of a single raster band (real only)\n",
    "* \"dB2pow\": perform scale conversion from logarithmic to linear (power) (i.e. 10 ^ ( x / 10 ) ) of a single raster band (real only)\n",
    "\n",
    "\n",
    "Note that this list is very relevant for SAR/InSAR users ;)"
   ]
  },
  {
   "cell_type": "markdown",
   "metadata": {
    "heading_collapsed": true
   },
   "source": [
    "# <u> You are now ready to start exploring the Geocoded, Unwrapped data products from ARIA using GDAL </u>"
   ]
  }
 ],
 "metadata": {
  "hide_code_all_hidden": true,
  "kernelspec": {
   "display_name": "Python 3",
   "language": "python",
   "name": "python3"
  },
  "language_info": {
   "codemirror_mode": {
    "name": "ipython",
    "version": 3
   },
   "file_extension": ".py",
   "mimetype": "text/x-python",
   "name": "python",
   "nbconvert_exporter": "python",
   "pygments_lexer": "ipython3",
   "version": "3.8.5"
  },
  "toc": {
   "base_numbering": 1,
   "nav_menu": {},
   "number_sections": false,
   "sideBar": true,
   "skip_h1_title": false,
   "title_cell": "Table of Contents",
   "title_sidebar": "Contents",
   "toc_cell": false,
   "toc_position": {},
   "toc_section_display": true,
   "toc_window_display": true
  }
 },
 "nbformat": 4,
 "nbformat_minor": 2
}
