{
 "cells": [
  {
   "cell_type": "markdown",
   "metadata": {
    "hideCode": true,
    "hidePrompt": true,
    "slideshow": {
     "slide_type": "slide"
    }
   },
   "source": [
    "# Principles and Theory of SAR Interferometry\n",
    "    \n",
    "Notebook author:  Paul A. Rosen, Jet Propulsion Laboratory, California Institute of  Technology\n",
    "\n",
    "Contributors to content include: Scott Hensley, Anthony Freeman, Jakob van Zyl, Piyush Agram, Howard Zebker\n",
    "\n",
    "This notebook presents the basics of synthetic aperture radar interferometry. The student will be exposed to:\n",
    "    \n",
    "1. What is Radar?\n",
    "2. Basic definitions\n",
    "3. What is Synthetic Aperture Radar?\n",
    "4. Properties of Radar Images\n",
    "5. What is Synthetic Aperture Radar Interferometry?\n",
    "6. What other modalities of SAR are important?\n",
    "7. What is range-Doppler geometry, why is it important, and how does it relate to geographic coordinates?\n",
    "8. SAR Interferometry Theory\n",
    "9. Decorrelation Theory\n",
    "\n"
   ]
  },
  {
   "cell_type": "markdown",
   "metadata": {
    "hideCode": true,
    "hidePrompt": true,
    "slideshow": {
     "slide_type": "slide"
    }
   },
   "source": [
    "# Lecture Outline\n",
    "    \n",
    "The lecture is divided into three segments:\n",
    "\n",
    "\n",
    "## First Segment: Radar Imaging Fundamentals\n",
    "\n",
    "1. <font color='green'>Basic Principles of Radar and SAR</font>\n",
    "2. <font color='green'>Properties of Radar Images</font>\n",
    "\n",
    "\n",
    "Second Segment: Geometric Aspects of Interferometry and Interferometric Phase\n",
    "\n",
    "1. Topographic Mapping\n",
    "2. Deformation Mapping\n",
    "3. Phase Unwrapping and Atmosphere\n",
    "\n",
    "Third Segment: Interferometric Correlation\n",
    "\n",
    "1. SNR and Interferometric Correlation\n",
    "2. Geometric, Temporal, Volumetric Decorrelation\n",
    "\n",
    "\n",
    "\n"
   ]
  },
  {
   "cell_type": "markdown",
   "metadata": {
    "hideCode": true,
    "hidePrompt": true,
    "slideshow": {
     "slide_type": "skip"
    }
   },
   "source": [
    "## Introduction and Motivation\n",
    "\n",
    "You are reading this because you are interested in the geodetic aspects of synthetic aperture radar (SAR), particularly interferometric synthetic aperture radar (InSAR).  From a technical perspective, SAR and InSAR are quite complex, and even to experts in the field be a source of wonder as to how an instrument that illuminates a very large footprint on the ground can deliver almost arbitrarily fine resolution images, and relative motions of image points over time at mm to cm accuracy.  This can be illustrated by first looking at an \"image\" of the raw data before processing.\n",
    "\n",
    "\n",
    "\n"
   ]
  },
  {
   "cell_type": "markdown",
   "metadata": {
    "hideCode": true,
    "hidePrompt": true,
    "slideshow": {
     "slide_type": "slide"
    }
   },
   "source": [
    "![label](InSARPrinciplesTheory_UNAVCO_18/Slide003.png)"
   ]
  },
  {
   "cell_type": "markdown",
   "metadata": {
    "hideCode": true,
    "hidePrompt": true,
    "slideshow": {
     "slide_type": "slide"
    }
   },
   "source": [
    "![label](InSARPrinciplesTheory_UNAVCO_18/Slide004.png)"
   ]
  },
  {
   "cell_type": "markdown",
   "metadata": {
    "hideCode": true,
    "hidePrompt": true,
    "slideshow": {
     "slide_type": "slide"
    }
   },
   "source": [
    "![label](InSARPrinciplesTheory_UNAVCO_18/Slide005.png)"
   ]
  },
  {
   "cell_type": "markdown",
   "metadata": {
    "hideCode": true,
    "hidePrompt": true,
    "slideshow": {
     "slide_type": "slide"
    }
   },
   "source": [
    "![label](InSARPrinciplesTheory_UNAVCO_18/Slide006.png)"
   ]
  },
  {
   "cell_type": "markdown",
   "metadata": {
    "hideCode": true,
    "hidePrompt": true,
    "slideshow": {
     "slide_type": "slide"
    }
   },
   "source": [
    "![label](InSARPrinciplesTheory_UNAVCO_18/Slide007.png)"
   ]
  },
  {
   "cell_type": "markdown",
   "metadata": {
    "hideCode": true,
    "hidePrompt": true,
    "slideshow": {
     "slide_type": "slide"
    }
   },
   "source": [
    "![label](InSARPrinciplesTheory_UNAVCO_18/Slide008.png)"
   ]
  },
  {
   "cell_type": "markdown",
   "metadata": {
    "hideCode": true,
    "hidePrompt": true,
    "slideshow": {
     "slide_type": "slide"
    }
   },
   "source": [
    "![label](InSARPrinciplesTheory_UNAVCO_18/Slide009.png)"
   ]
  },
  {
   "cell_type": "markdown",
   "metadata": {
    "hideCode": true,
    "hidePrompt": true,
    "slideshow": {
     "slide_type": "slide"
    }
   },
   "source": [
    "![label](InSARPrinciplesTheory_UNAVCO_18/Slide010.png)"
   ]
  },
  {
   "cell_type": "markdown",
   "metadata": {
    "hideCode": true,
    "hidePrompt": true,
    "slideshow": {
     "slide_type": "slide"
    }
   },
   "source": [
    "![label](InSARPrinciplesTheory_UNAVCO_18/Slide011.png)"
   ]
  },
  {
   "cell_type": "markdown",
   "metadata": {
    "hideCode": true,
    "hidePrompt": true,
    "slideshow": {
     "slide_type": "slide"
    }
   },
   "source": [
    "![label](InSARPrinciplesTheory_UNAVCO_18/Slide012.png)"
   ]
  },
  {
   "cell_type": "markdown",
   "metadata": {
    "hideCode": true,
    "hidePrompt": true,
    "slideshow": {
     "slide_type": "slide"
    }
   },
   "source": [
    "![label](InSARPrinciplesTheory_UNAVCO_18/Slide013.png)"
   ]
  },
  {
   "cell_type": "markdown",
   "metadata": {
    "hideCode": true,
    "hidePrompt": true,
    "slideshow": {
     "slide_type": "slide"
    }
   },
   "source": [
    "![label](InSARPrinciplesTheory_UNAVCO_18/Slide014.png)"
   ]
  },
  {
   "cell_type": "markdown",
   "metadata": {
    "hideCode": true,
    "hidePrompt": true,
    "slideshow": {
     "slide_type": "slide"
    }
   },
   "source": [
    "![label](InSARPrinciplesTheory_UNAVCO_18/Slide015.png)"
   ]
  },
  {
   "cell_type": "markdown",
   "metadata": {
    "hideCode": true,
    "hidePrompt": true,
    "slideshow": {
     "slide_type": "slide"
    }
   },
   "source": [
    "![label](InSARPrinciplesTheory_UNAVCO_18/Slide016.png)"
   ]
  },
  {
   "cell_type": "markdown",
   "metadata": {
    "hideCode": true,
    "hidePrompt": true,
    "slideshow": {
     "slide_type": "slide"
    }
   },
   "source": [
    "![label](InSARPrinciplesTheory_UNAVCO_18/Slide017.png)"
   ]
  },
  {
   "cell_type": "markdown",
   "metadata": {
    "hideCode": true,
    "hidePrompt": true,
    "slideshow": {
     "slide_type": "slide"
    }
   },
   "source": [
    "![label](InSARPrinciplesTheory_UNAVCO_18/Slide018.png)"
   ]
  },
  {
   "cell_type": "markdown",
   "metadata": {
    "hideCode": true,
    "hidePrompt": true,
    "slideshow": {
     "slide_type": "slide"
    }
   },
   "source": [
    "![label](InSARPrinciplesTheory_UNAVCO_18/Slide019.png)"
   ]
  },
  {
   "cell_type": "markdown",
   "metadata": {
    "hideCode": true,
    "hidePrompt": true,
    "slideshow": {
     "slide_type": "slide"
    }
   },
   "source": [
    "![label](InSARPrinciplesTheory_UNAVCO_18/Slide020.png)"
   ]
  },
  {
   "cell_type": "markdown",
   "metadata": {
    "hideCode": true,
    "hidePrompt": true,
    "slideshow": {
     "slide_type": "slide"
    }
   },
   "source": [
    "![label](InSARPrinciplesTheory_UNAVCO_18/Slide021.png)"
   ]
  },
  {
   "cell_type": "markdown",
   "metadata": {
    "hideCode": true,
    "hidePrompt": true,
    "slideshow": {
     "slide_type": "slide"
    }
   },
   "source": [
    "![label](InSARPrinciplesTheory_UNAVCO_18/Slide022.png)"
   ]
  },
  {
   "cell_type": "code",
   "execution_count": 9,
   "metadata": {
    "hideCode": true,
    "hidePrompt": true,
    "slideshow": {
     "slide_type": "slide"
    }
   },
   "outputs": [
    {
     "data": {
      "text/html": [
       "<video width=960 controls autoplay>\n",
       "    <source src=\"InSARPrinciplesTheory_UNAVCO_18/SAR.mp4\" type=\"video/mp4\"/>\n",
       "</video>"
      ],
      "text/plain": [
       "<IPython.core.display.HTML object>"
      ]
     },
     "metadata": {},
     "output_type": "display_data"
    }
   ],
   "source": [
    "%%html\n",
    "<video width=960 controls autoplay>\n",
    "    <source src=\"InSARPrinciplesTheory_UNAVCO_18/SAR.mp4\" type=\"video/mp4\"/>\n",
    "</video>"
   ]
  },
  {
   "cell_type": "markdown",
   "metadata": {
    "hideCode": true,
    "hidePrompt": true,
    "slideshow": {
     "slide_type": "slide"
    }
   },
   "source": [
    "![label](InSARPrinciplesTheory_UNAVCO_18/Slide023.png)"
   ]
  },
  {
   "cell_type": "markdown",
   "metadata": {
    "hideCode": true,
    "hidePrompt": true,
    "slideshow": {
     "slide_type": "slide"
    }
   },
   "source": [
    "![label](InSARPrinciplesTheory_UNAVCO_18/Slide024.png)"
   ]
  },
  {
   "cell_type": "markdown",
   "metadata": {
    "hideCode": true,
    "hidePrompt": true,
    "slideshow": {
     "slide_type": "slide"
    }
   },
   "source": [
    "![label](InSARPrinciplesTheory_UNAVCO_18/Slide025.png)"
   ]
  },
  {
   "cell_type": "markdown",
   "metadata": {
    "hideCode": true,
    "hidePrompt": true,
    "slideshow": {
     "slide_type": "slide"
    }
   },
   "source": [
    "![label](InSARPrinciplesTheory_UNAVCO_18/Slide026.png)"
   ]
  },
  {
   "cell_type": "markdown",
   "metadata": {
    "hideCode": true,
    "hidePrompt": true,
    "slideshow": {
     "slide_type": "slide"
    }
   },
   "source": [
    "![label](InSARPrinciplesTheory_UNAVCO_18/Slide027.png)"
   ]
  },
  {
   "cell_type": "markdown",
   "metadata": {
    "hideCode": true,
    "hidePrompt": true,
    "slideshow": {
     "slide_type": "slide"
    }
   },
   "source": [
    "![label](InSARPrinciplesTheory_UNAVCO_18/Slide028.png)"
   ]
  },
  {
   "cell_type": "markdown",
   "metadata": {
    "slideshow": {
     "slide_type": "slide"
    }
   },
   "source": [
    "![label](InSARPrinciplesTheory_UNAVCO_18/Slide028a.png)"
   ]
  },
  {
   "cell_type": "markdown",
   "metadata": {
    "slideshow": {
     "slide_type": "slide"
    }
   },
   "source": [
    "![label](InSARPrinciplesTheory_UNAVCO_18/Slide028b.png)"
   ]
  },
  {
   "cell_type": "markdown",
   "metadata": {
    "hideCode": true,
    "hidePrompt": true,
    "slideshow": {
     "slide_type": "slide"
    }
   },
   "source": [
    "![label](InSARPrinciplesTheory_UNAVCO_18/Slide029.png)"
   ]
  },
  {
   "cell_type": "markdown",
   "metadata": {
    "hideCode": true,
    "hidePrompt": true,
    "slideshow": {
     "slide_type": "slide"
    }
   },
   "source": [
    "![label](InSARPrinciplesTheory_UNAVCO_18/Slide030.png)"
   ]
  },
  {
   "cell_type": "markdown",
   "metadata": {
    "hideCode": true,
    "hidePrompt": true,
    "slideshow": {
     "slide_type": "slide"
    }
   },
   "source": [
    "![label](InSARPrinciplesTheory_UNAVCO_18/Slide031.png)"
   ]
  },
  {
   "cell_type": "markdown",
   "metadata": {
    "hideCode": true,
    "hidePrompt": true,
    "slideshow": {
     "slide_type": "slide"
    }
   },
   "source": [
    "![label](InSARPrinciplesTheory_UNAVCO_18/Slide032.png)"
   ]
  },
  {
   "cell_type": "markdown",
   "metadata": {
    "hideCode": true,
    "hidePrompt": true,
    "slideshow": {
     "slide_type": "slide"
    }
   },
   "source": [
    "![label](InSARPrinciplesTheory_UNAVCO_18/Slide033.png)"
   ]
  },
  {
   "cell_type": "markdown",
   "metadata": {
    "hideCode": true,
    "hidePrompt": true,
    "slideshow": {
     "slide_type": "slide"
    }
   },
   "source": [
    "![label](InSARPrinciplesTheory_UNAVCO_18/Slide034.png)"
   ]
  },
  {
   "cell_type": "markdown",
   "metadata": {
    "hideCode": true,
    "hidePrompt": true,
    "slideshow": {
     "slide_type": "slide"
    }
   },
   "source": [
    "![label](InSARPrinciplesTheory_UNAVCO_18/Slide035.png)"
   ]
  },
  {
   "cell_type": "markdown",
   "metadata": {
    "hideCode": true,
    "hidePrompt": true,
    "slideshow": {
     "slide_type": "slide"
    }
   },
   "source": [
    "![label](InSARPrinciplesTheory_UNAVCO_18/Slide036.png)"
   ]
  },
  {
   "cell_type": "markdown",
   "metadata": {
    "hideCode": true,
    "hidePrompt": true,
    "slideshow": {
     "slide_type": "slide"
    }
   },
   "source": [
    "![label](InSARPrinciplesTheory_UNAVCO_18/Slide037.png)"
   ]
  },
  {
   "cell_type": "markdown",
   "metadata": {
    "hideCode": true,
    "hidePrompt": true,
    "slideshow": {
     "slide_type": "slide"
    }
   },
   "source": [
    "![label](InSARPrinciplesTheory_UNAVCO_18/Slide038.png)"
   ]
  },
  {
   "cell_type": "markdown",
   "metadata": {
    "hideCode": true,
    "hidePrompt": true,
    "slideshow": {
     "slide_type": "slide"
    }
   },
   "source": [
    "![label](InSARPrinciplesTheory_UNAVCO_18/Slide039.png)"
   ]
  },
  {
   "cell_type": "markdown",
   "metadata": {
    "hideCode": true,
    "hidePrompt": true,
    "slideshow": {
     "slide_type": "slide"
    }
   },
   "source": [
    "![label](InSARPrinciplesTheory_UNAVCO_18/Slide040.png)"
   ]
  },
  {
   "cell_type": "markdown",
   "metadata": {
    "hideCode": true,
    "hidePrompt": true,
    "slideshow": {
     "slide_type": "slide"
    }
   },
   "source": [
    "![label](InSARPrinciplesTheory_UNAVCO_18/Slide041.png)"
   ]
  },
  {
   "cell_type": "markdown",
   "metadata": {
    "hideCode": true,
    "hidePrompt": true,
    "slideshow": {
     "slide_type": "slide"
    }
   },
   "source": [
    "![label](InSARPrinciplesTheory_UNAVCO_18/Slide042.png)"
   ]
  },
  {
   "cell_type": "markdown",
   "metadata": {
    "hideCode": true,
    "hidePrompt": true,
    "slideshow": {
     "slide_type": "slide"
    }
   },
   "source": [
    "![label](InSARPrinciplesTheory_UNAVCO_18/Slide043.png)"
   ]
  },
  {
   "cell_type": "markdown",
   "metadata": {
    "hideCode": true,
    "hidePrompt": true,
    "slideshow": {
     "slide_type": "slide"
    }
   },
   "source": [
    "![label](InSARPrinciplesTheory_UNAVCO_18/Slide044.png)"
   ]
  },
  {
   "cell_type": "markdown",
   "metadata": {
    "hideCode": true,
    "hidePrompt": true,
    "slideshow": {
     "slide_type": "slide"
    }
   },
   "source": [
    "![label](InSARPrinciplesTheory_UNAVCO_18/Slide045.png)"
   ]
  },
  {
   "cell_type": "markdown",
   "metadata": {
    "hideCode": true,
    "hidePrompt": true,
    "slideshow": {
     "slide_type": "skip"
    }
   },
   "source": [
    "![label](InSARPrinciplesTheory_UNAVCO_18/Slide046.png)"
   ]
  },
  {
   "cell_type": "markdown",
   "metadata": {
    "slideshow": {
     "slide_type": "slide"
    }
   },
   "source": [
    "# Lecture Outline\n",
    "    \n",
    "The lecture is divided into three segments:\n",
    "\n",
    "\n",
    "First Segment: Radar Imaging Fundamentals\n",
    "\n",
    "1. Basic Principles of Radar and SAR\n",
    "2. Properties of Radar Images\n",
    "\n",
    "\n",
    "## Second Segment: Geometric Aspects of Interferometry and Interferometric Phase\n",
    "\n",
    "1. <font color='green'>Topographic Mapping</font>\n",
    "2. <font color='green'>Deformation Mapping</font>\n",
    "3. <font color='green'>Phase Unwrapping and Atmosphere</font>\n",
    "\n",
    "Third Segment: Interferometric Correlation\n",
    "\n",
    "1. SNR and Interferometric Correlation\n",
    "2. Geometric, Temporal, Volumetric Decorrelation\n",
    "\n",
    "\n",
    "\n"
   ]
  },
  {
   "cell_type": "markdown",
   "metadata": {
    "hideCode": true,
    "hidePrompt": true,
    "slideshow": {
     "slide_type": "slide"
    }
   },
   "source": [
    "![label](InSARPrinciplesTheory_UNAVCO_18/Slide047.png)"
   ]
  },
  {
   "cell_type": "markdown",
   "metadata": {
    "hideCode": true,
    "hidePrompt": true,
    "slideshow": {
     "slide_type": "slide"
    }
   },
   "source": [
    "![label](InSARPrinciplesTheory_UNAVCO_18/Slide048.png)"
   ]
  },
  {
   "cell_type": "markdown",
   "metadata": {
    "hideCode": true,
    "hidePrompt": true,
    "slideshow": {
     "slide_type": "slide"
    }
   },
   "source": [
    "![label](InSARPrinciplesTheory_UNAVCO_18/Slide049.png)"
   ]
  },
  {
   "cell_type": "markdown",
   "metadata": {
    "hideCode": true,
    "hidePrompt": true,
    "slideshow": {
     "slide_type": "slide"
    }
   },
   "source": [
    "![label](InSARPrinciplesTheory_UNAVCO_18/Slide050.png)"
   ]
  },
  {
   "cell_type": "markdown",
   "metadata": {
    "hideCode": true,
    "hidePrompt": true,
    "slideshow": {
     "slide_type": "slide"
    }
   },
   "source": [
    "![label](InSARPrinciplesTheory_UNAVCO_18/Slide051.png)"
   ]
  },
  {
   "cell_type": "markdown",
   "metadata": {
    "hideCode": true,
    "hidePrompt": true,
    "slideshow": {
     "slide_type": "slide"
    }
   },
   "source": [
    "![label](InSARPrinciplesTheory_UNAVCO_18/Slide052.png)"
   ]
  },
  {
   "cell_type": "markdown",
   "metadata": {
    "hideCode": true,
    "hidePrompt": true,
    "slideshow": {
     "slide_type": "slide"
    }
   },
   "source": [
    "![label](InSARPrinciplesTheory_UNAVCO_18/Slide053.png)"
   ]
  },
  {
   "cell_type": "markdown",
   "metadata": {
    "hideCode": true,
    "hidePrompt": true,
    "slideshow": {
     "slide_type": "slide"
    }
   },
   "source": [
    "![label](InSARPrinciplesTheory_UNAVCO_18/Slide054.png)"
   ]
  },
  {
   "cell_type": "markdown",
   "metadata": {
    "hideCode": true,
    "hidePrompt": true,
    "slideshow": {
     "slide_type": "slide"
    }
   },
   "source": [
    "![label](InSARPrinciplesTheory_UNAVCO_18/Slide055.png)"
   ]
  },
  {
   "cell_type": "markdown",
   "metadata": {
    "hideCode": true,
    "hidePrompt": true,
    "slideshow": {
     "slide_type": "slide"
    }
   },
   "source": [
    "![label](InSARPrinciplesTheory_UNAVCO_18/Slide056.png)"
   ]
  },
  {
   "cell_type": "markdown",
   "metadata": {
    "hideCode": true,
    "hidePrompt": true,
    "slideshow": {
     "slide_type": "slide"
    }
   },
   "source": [
    "![label](InSARPrinciplesTheory_UNAVCO_18/Slide057.png)"
   ]
  },
  {
   "cell_type": "markdown",
   "metadata": {
    "hideCode": true,
    "hidePrompt": true,
    "slideshow": {
     "slide_type": "slide"
    }
   },
   "source": [
    "![label](InSARPrinciplesTheory_UNAVCO_18/Slide058.png)"
   ]
  },
  {
   "cell_type": "markdown",
   "metadata": {
    "hideCode": true,
    "hidePrompt": true,
    "slideshow": {
     "slide_type": "slide"
    }
   },
   "source": [
    "![label](InSARPrinciplesTheory_UNAVCO_18/Slide059.png)"
   ]
  },
  {
   "cell_type": "markdown",
   "metadata": {
    "hideCode": true,
    "hidePrompt": true,
    "slideshow": {
     "slide_type": "slide"
    }
   },
   "source": [
    "![label](InSARPrinciplesTheory_UNAVCO_18/Slide060.png)"
   ]
  },
  {
   "cell_type": "markdown",
   "metadata": {
    "hideCode": true,
    "hidePrompt": true,
    "slideshow": {
     "slide_type": "slide"
    }
   },
   "source": [
    "![label](InSARPrinciplesTheory_UNAVCO_18/Slide061.png)"
   ]
  },
  {
   "cell_type": "markdown",
   "metadata": {
    "hideCode": true,
    "hidePrompt": true,
    "slideshow": {
     "slide_type": "skip"
    }
   },
   "source": [
    "![label](InSARPrinciplesTheory_UNAVCO_18/Slide062.png)"
   ]
  },
  {
   "cell_type": "markdown",
   "metadata": {
    "hideCode": true,
    "hidePrompt": true,
    "slideshow": {
     "slide_type": "slide"
    }
   },
   "source": [
    "# Phase Gradient\n",
    "\n",
    "* For a number of applications including flight planning and unwrapping studies it is desirable to be able to compute the interferometric phase gradient for an arbitrarily sloped surface, look geometry and baseline.\n",
    "\n",
    "* The interferometric phase is well approximated for most applications  by\n",
    "\\begin{equation*}\n",
    "\\Delta\\phi = -\\frac{2\\pi p}{\\lambda} \\langle \\vec{b}, \\vec{l} \\rangle\n",
    "\\end{equation*}\n",
    "where  $\\vec{b}$ is the baseline vector,  $\\vec{l}$ a unit vector pointing to the target and $\\lambda$ is the wavelength, and $\\langle , \\rangle$ is the inner, or dot, product.\n",
    "\n",
    "* The phase gradient is\n",
    "\\begin{equation*}\n",
    "\\nabla\\Delta\\phi =  \\begin{bmatrix}\\frac{\\partial \\Delta\\phi}{\\partial s} \\\\ \\frac{\\partial\\Delta\\phi}{\\partial \\rho} \\end{bmatrix}\n",
    "=  -\\frac{2\\pi p}{\\lambda} \\begin{bmatrix}\\langle \\vec{b}, \\frac{\\partial\\vec{l}}{\\partial s} \\rangle \\\\ \\langle \\vec{b}, \\frac{\\partial\\vec{l}}{\\partial \\rho} \\rangle \\end{bmatrix}\n",
    "\\end{equation*}\n",
    "where $s$ is the along track coordinate and $\\rho$ is the range."
   ]
  },
  {
   "cell_type": "markdown",
   "metadata": {
    "hideCode": true,
    "hidePrompt": true,
    "slideshow": {
     "slide_type": "skip"
    }
   },
   "source": [
    "![label](InSARPrinciplesTheory_UNAVCO_18/Slide063.png)"
   ]
  },
  {
   "cell_type": "markdown",
   "metadata": {
    "hideCode": true,
    "hidePrompt": true,
    "slideshow": {
     "slide_type": "slide"
    }
   },
   "source": [
    "# Phase Gradient Observations\n",
    "\n",
    "* There in a change in phase with respect to range regardless of whether the terrain is sloped in the range direction or not. The phase rate, or fringe rate, with respect to a flat surface is called the flat surface (or spherical earth) fringe frequency. \n",
    "\n",
    "\\begin{equation*}\n",
    "\\frac{\\partial\\Delta\\phi}{\\partial \\rho} = \\frac{2\\pi p}{\\lambda} \\frac{b \\cos(\\theta - \\alpha)}{\\rho\\tan(\\theta -\\psi_c)} =\\frac{2\\pi p}{\\lambda} \\frac{b_\\perp}{\\rho\\tan(\\theta -\\psi_c)}\n",
    "\\end{equation*}\n",
    "\n",
    "* Note that the fringe rate depends on the local slope and the perpendicular baseline length.\n",
    "\n",
    "* The fringe rate in the azimuth or along track direction is zero unless there is an azimuth slope. It also depends on the magnitude of the local slope and the perpendicular baseline length\n",
    "\n",
    "\\begin{equation*}\n",
    "\\frac{\\partial\\Delta\\phi}{\\partial s} = \\frac{2\\pi p}{\\lambda} \\frac{b \\cos(\\theta - \\alpha)}{\\rho} \\sin(\\theta)\\tan(\\psi_s) =\\frac{2\\pi p}{\\lambda} \\frac{b_\\perp}{\\rho} \\sin(\\theta)\\tan(\\psi_s)\n",
    "\\end{equation*}\n"
   ]
  },
  {
   "cell_type": "markdown",
   "metadata": {
    "hideCode": true,
    "hidePrompt": true,
    "slideshow": {
     "slide_type": "slide"
    }
   },
   "source": [
    "![label](InSARPrinciplesTheory_UNAVCO_18/Slide064.png)"
   ]
  },
  {
   "cell_type": "markdown",
   "metadata": {
    "hideCode": true,
    "hidePrompt": true,
    "slideshow": {
     "slide_type": "slide"
    }
   },
   "source": [
    "![label](InSARPrinciplesTheory_UNAVCO_18/Slide065.png)"
   ]
  },
  {
   "cell_type": "markdown",
   "metadata": {
    "hideCode": true,
    "hidePrompt": true,
    "slideshow": {
     "slide_type": "skip"
    }
   },
   "source": [
    "![label](InSARPrinciplesTheory_UNAVCO_18/Slide066.png)"
   ]
  },
  {
   "cell_type": "markdown",
   "metadata": {
    "slideshow": {
     "slide_type": "slide"
    }
   },
   "source": [
    "# Sensitivity of Height with Respect to Phase\n",
    "\n",
    "* Sensitivity to Phase:\n",
    "$\\frac{\\partial\\vec{T}}{\\partial\\Delta\\phi} = \\frac{-\\lambda\\rho\\sin\\theta}{2 \\pi p b \\cos(\\theta-\\alpha)} \\begin{bmatrix} 0\\\\ \\cos \\theta \\\\ \\sin \\theta \\end{bmatrix} \\qquad \\qquad p=1,2$\n",
    "\n",
    "* Ambiguity Height:\n",
    "$h_a = 2\\pi \\frac{\\partial\\vec{T_z}}{\\partial\\Delta\\phi} = \\frac{-\\lambda\\rho}{2 \\pi p b \\cos(\\theta-\\alpha)} $ ; Observe that $\\frac{\\partial\\vec{T}}{\\partial\\Delta\\phi}$ is parallel to $\\hat{l} \\times \\hat{v}$\n",
    "![label](InSARPrinciplesTheory_UNAVCO_18/sens.png)\n",
    "\n"
   ]
  },
  {
   "cell_type": "markdown",
   "metadata": {
    "hideCode": true,
    "hidePrompt": true,
    "slideshow": {
     "slide_type": "slide"
    }
   },
   "source": [
    "![label](InSARPrinciplesTheory_UNAVCO_18/Slide067.png)"
   ]
  },
  {
   "cell_type": "markdown",
   "metadata": {
    "hideCode": true,
    "hidePrompt": true,
    "slideshow": {
     "slide_type": "slide"
    }
   },
   "source": [
    "![label](InSARPrinciplesTheory_UNAVCO_18/Slide068.png)"
   ]
  },
  {
   "cell_type": "markdown",
   "metadata": {
    "hideCode": true,
    "hidePrompt": true,
    "slideshow": {
     "slide_type": "slide"
    }
   },
   "source": [
    "![label](InSARPrinciplesTheory_UNAVCO_18/Slide069.png)"
   ]
  },
  {
   "cell_type": "markdown",
   "metadata": {
    "hideCode": true,
    "hidePrompt": true,
    "slideshow": {
     "slide_type": "slide"
    }
   },
   "source": [
    "![label](InSARPrinciplesTheory_UNAVCO_18/Slide070.png)"
   ]
  },
  {
   "cell_type": "markdown",
   "metadata": {
    "hideCode": true,
    "hidePrompt": true,
    "slideshow": {
     "slide_type": "slide"
    }
   },
   "source": [
    "![label](InSARPrinciplesTheory_UNAVCO_18/Slide071.png)"
   ]
  },
  {
   "cell_type": "markdown",
   "metadata": {
    "hideCode": true,
    "hidePrompt": true,
    "slideshow": {
     "slide_type": "slide"
    }
   },
   "source": [
    "![label](InSARPrinciplesTheory_UNAVCO_18/Slide072.png)"
   ]
  },
  {
   "cell_type": "markdown",
   "metadata": {
    "hideCode": true,
    "hidePrompt": true,
    "slideshow": {
     "slide_type": "skip"
    }
   },
   "source": [
    "![label](InSARPrinciplesTheory_UNAVCO_18/Slide073.png)"
   ]
  },
  {
   "cell_type": "markdown",
   "metadata": {
    "slideshow": {
     "slide_type": "slide"
    }
   },
   "source": [
    "# Differential Interferometry Sensitivities\n",
    "\n",
    "* Differential interferometry can detect millimeter level surface deformation\n",
    "\n",
    "* Differential phase is much more sensitive to displacements than to topography\n",
    "\n",
    "$\\qquad \\qquad{\\rm Topographic \\ Sensitivity:} \\frac{\\partial\\Delta\\phi}{\\partial h} = \\frac{2\\pi p b \\cos(\\theta-\\alpha)}{\\lambda \\rho \\sin \\theta}$\n",
    "\n",
    "$\\qquad \\qquad{\\rm Displacement \\ Sensitivity:} \\frac{\\partial\\Delta\\phi}{\\partial \\Delta\\rho} = \\frac{4\\pi}{\\lambda}$\n",
    "\n",
    "* Since $b/\\rho \\ll 1$, it takes a much larger change in $h$ than in $\\Delta\\rho$ to affect a change in $\\Delta\\phi$\n",
    "\n",
    "* \"Meter-scale topography - millimeter scale topographic change\""
   ]
  },
  {
   "cell_type": "markdown",
   "metadata": {
    "hideCode": true,
    "hidePrompt": true,
    "slideshow": {
     "slide_type": "slide"
    }
   },
   "source": [
    "![label](InSARPrinciplesTheory_UNAVCO_18/Slide074.png)"
   ]
  },
  {
   "cell_type": "markdown",
   "metadata": {
    "hideCode": true,
    "hidePrompt": true,
    "slideshow": {
     "slide_type": "slide"
    }
   },
   "source": [
    "![label](InSARPrinciplesTheory_UNAVCO_18/Slide075.png)"
   ]
  },
  {
   "cell_type": "markdown",
   "metadata": {
    "hideCode": true,
    "hidePrompt": true,
    "slideshow": {
     "slide_type": "slide"
    }
   },
   "source": [
    "![label](InSARPrinciplesTheory_UNAVCO_18/Slide076.png)"
   ]
  },
  {
   "cell_type": "markdown",
   "metadata": {
    "hideCode": true,
    "hidePrompt": true,
    "slideshow": {
     "slide_type": "slide"
    }
   },
   "source": [
    "![label](InSARPrinciplesTheory_UNAVCO_18/Slide077.png)"
   ]
  },
  {
   "cell_type": "markdown",
   "metadata": {
    "hideCode": true,
    "hidePrompt": true,
    "slideshow": {
     "slide_type": "slide"
    }
   },
   "source": [
    "![label](InSARPrinciplesTheory_UNAVCO_18/Slide078.png)"
   ]
  },
  {
   "cell_type": "markdown",
   "metadata": {
    "hideCode": true,
    "hidePrompt": true,
    "slideshow": {
     "slide_type": "slide"
    }
   },
   "source": [
    "![label](InSARPrinciplesTheory_UNAVCO_18/Slide079.png)"
   ]
  },
  {
   "cell_type": "markdown",
   "metadata": {
    "hideCode": true,
    "hidePrompt": true,
    "slideshow": {
     "slide_type": "slide"
    }
   },
   "source": [
    "![label](InSARPrinciplesTheory_UNAVCO_18/Slide080.png)"
   ]
  },
  {
   "cell_type": "markdown",
   "metadata": {
    "hideCode": true,
    "hidePrompt": true,
    "slideshow": {
     "slide_type": "slide"
    }
   },
   "source": [
    "![label](InSARPrinciplesTheory_UNAVCO_18/Slide081.png)"
   ]
  },
  {
   "cell_type": "markdown",
   "metadata": {
    "hideCode": true,
    "hidePrompt": true,
    "slideshow": {
     "slide_type": "slide"
    }
   },
   "source": [
    "![label](InSARPrinciplesTheory_UNAVCO_18/Slide082.png)"
   ]
  },
  {
   "cell_type": "markdown",
   "metadata": {
    "hideCode": true,
    "hidePrompt": true,
    "slideshow": {
     "slide_type": "slide"
    }
   },
   "source": [
    "![label](InSARPrinciplesTheory_UNAVCO_18/Slide083.png)"
   ]
  },
  {
   "cell_type": "markdown",
   "metadata": {
    "hideCode": true,
    "hidePrompt": true,
    "slideshow": {
     "slide_type": "slide"
    }
   },
   "source": [
    "![label](InSARPrinciplesTheory_UNAVCO_18/Slide084.png)"
   ]
  },
  {
   "cell_type": "markdown",
   "metadata": {
    "hideCode": true,
    "hidePrompt": true,
    "slideshow": {
     "slide_type": "slide"
    }
   },
   "source": [
    "![label](InSARPrinciplesTheory_UNAVCO_18/Slide085.png)"
   ]
  },
  {
   "cell_type": "markdown",
   "metadata": {
    "hideCode": true,
    "hidePrompt": true,
    "slideshow": {
     "slide_type": "slide"
    }
   },
   "source": [
    "![label](InSARPrinciplesTheory_UNAVCO_18/Slide086.png)"
   ]
  },
  {
   "cell_type": "markdown",
   "metadata": {
    "hideCode": true,
    "hidePrompt": true,
    "slideshow": {
     "slide_type": "slide"
    }
   },
   "source": [
    "![label](InSARPrinciplesTheory_UNAVCO_18/Slide087.png)"
   ]
  },
  {
   "cell_type": "markdown",
   "metadata": {
    "hideCode": true,
    "hidePrompt": true,
    "slideshow": {
     "slide_type": "slide"
    }
   },
   "source": [
    "![label](InSARPrinciplesTheory_UNAVCO_18/Slide088.png)"
   ]
  },
  {
   "cell_type": "markdown",
   "metadata": {
    "hideCode": true,
    "hidePrompt": true,
    "slideshow": {
     "slide_type": "slide"
    }
   },
   "source": [
    "![label](InSARPrinciplesTheory_UNAVCO_18/Slide089.png)"
   ]
  },
  {
   "cell_type": "markdown",
   "metadata": {
    "hideCode": true,
    "hidePrompt": true,
    "slideshow": {
     "slide_type": "slide"
    }
   },
   "source": [
    "![label](InSARPrinciplesTheory_UNAVCO_18/Slide090.png)"
   ]
  },
  {
   "cell_type": "markdown",
   "metadata": {
    "hideCode": true,
    "hidePrompt": true,
    "slideshow": {
     "slide_type": "slide"
    }
   },
   "source": [
    "![label](InSARPrinciplesTheory_UNAVCO_18/Slide091.png)"
   ]
  },
  {
   "cell_type": "markdown",
   "metadata": {
    "hideCode": true,
    "hidePrompt": true,
    "slideshow": {
     "slide_type": "slide"
    }
   },
   "source": [
    "![label](InSARPrinciplesTheory_UNAVCO_18/Slide092.png)"
   ]
  },
  {
   "cell_type": "markdown",
   "metadata": {
    "hideCode": true,
    "hidePrompt": true,
    "slideshow": {
     "slide_type": "slide"
    }
   },
   "source": [
    "![label](InSARPrinciplesTheory_UNAVCO_18/Slide093.png)"
   ]
  },
  {
   "cell_type": "markdown",
   "metadata": {
    "slideshow": {
     "slide_type": "slide"
    }
   },
   "source": [
    "# Lecture Outline\n",
    "    \n",
    "The lecture is divided into three segments:\n",
    "\n",
    "\n",
    "First Segment: Radar Imaging Fundamentals\n",
    "\n",
    "1. Basic Principles of Radar and SAR\n",
    "2. Properties of Radar Images\n",
    "\n",
    "\n",
    "Second Segment: Geometric Aspects of Interferometry and Interferometric Phase\n",
    "\n",
    "1. Topographic Mapping\n",
    "2. Deformation Mapping\n",
    "3. Phase Unwrapping and Atmosphere\n",
    "\n",
    "## Third Segment: Interferometric Correlation\n",
    "\n",
    "1. <font color='green'>SNR and Interferometric Correlation</font>\n",
    "2. <font color='green'>Geometric, Temporal, Volumetric Decorrelation</font>\n",
    "\n"
   ]
  },
  {
   "cell_type": "markdown",
   "metadata": {
    "hideCode": true,
    "hidePrompt": true,
    "slideshow": {
     "slide_type": "slide"
    }
   },
   "source": [
    "![label](InSARPrinciplesTheory_UNAVCO_18/Slide094.png)"
   ]
  },
  {
   "cell_type": "markdown",
   "metadata": {
    "hideCode": true,
    "hidePrompt": true,
    "slideshow": {
     "slide_type": "slide"
    }
   },
   "source": [
    "![label](InSARPrinciplesTheory_UNAVCO_18/Slide095.png)"
   ]
  },
  {
   "cell_type": "markdown",
   "metadata": {
    "hideCode": true,
    "hidePrompt": true,
    "slideshow": {
     "slide_type": "slide"
    }
   },
   "source": [
    "![label](InSARPrinciplesTheory_UNAVCO_18/Slide096.png)"
   ]
  },
  {
   "cell_type": "markdown",
   "metadata": {
    "hideCode": true,
    "hidePrompt": true,
    "slideshow": {
     "slide_type": "slide"
    }
   },
   "source": [
    "![label](InSARPrinciplesTheory_UNAVCO_18/Slide097.png)"
   ]
  },
  {
   "cell_type": "markdown",
   "metadata": {
    "hideCode": true,
    "hidePrompt": true,
    "slideshow": {
     "slide_type": "slide"
    }
   },
   "source": [
    "![label](InSARPrinciplesTheory_UNAVCO_18/Slide098.png)"
   ]
  },
  {
   "cell_type": "markdown",
   "metadata": {
    "hideCode": true,
    "hidePrompt": true,
    "slideshow": {
     "slide_type": "slide"
    }
   },
   "source": [
    "![label](InSARPrinciplesTheory_UNAVCO_18/Slide099.png)"
   ]
  },
  {
   "cell_type": "markdown",
   "metadata": {
    "hideCode": true,
    "hidePrompt": true,
    "slideshow": {
     "slide_type": "slide"
    }
   },
   "source": [
    "![label](InSARPrinciplesTheory_UNAVCO_18/Slide100.png)"
   ]
  },
  {
   "cell_type": "markdown",
   "metadata": {
    "hideCode": true,
    "hidePrompt": true,
    "slideshow": {
     "slide_type": "slide"
    }
   },
   "source": [
    "![label](InSARPrinciplesTheory_UNAVCO_18/Slide101.png)"
   ]
  },
  {
   "cell_type": "markdown",
   "metadata": {
    "hideCode": true,
    "hidePrompt": true,
    "slideshow": {
     "slide_type": "slide"
    }
   },
   "source": [
    "![label](InSARPrinciplesTheory_UNAVCO_18/Slide102.png)"
   ]
  },
  {
   "cell_type": "markdown",
   "metadata": {
    "hideCode": true,
    "hidePrompt": true,
    "slideshow": {
     "slide_type": "slide"
    }
   },
   "source": [
    "![label](InSARPrinciplesTheory_UNAVCO_18/Slide103.png)"
   ]
  },
  {
   "cell_type": "markdown",
   "metadata": {
    "hideCode": true,
    "hidePrompt": true,
    "slideshow": {
     "slide_type": "slide"
    }
   },
   "source": [
    "![label](InSARPrinciplesTheory_UNAVCO_18/Slide104.png)"
   ]
  },
  {
   "cell_type": "markdown",
   "metadata": {
    "hideCode": true,
    "hidePrompt": true,
    "slideshow": {
     "slide_type": "slide"
    }
   },
   "source": [
    "![label](InSARPrinciplesTheory_UNAVCO_18/Slide105.png)"
   ]
  },
  {
   "cell_type": "markdown",
   "metadata": {
    "hideCode": true,
    "hidePrompt": true,
    "slideshow": {
     "slide_type": "slide"
    }
   },
   "source": [
    "![label](InSARPrinciplesTheory_UNAVCO_18/Slide106.png)"
   ]
  },
  {
   "cell_type": "markdown",
   "metadata": {
    "hideCode": true,
    "hidePrompt": true,
    "slideshow": {
     "slide_type": "slide"
    }
   },
   "source": [
    "![label](InSARPrinciplesTheory_UNAVCO_18/Slide107.png)"
   ]
  },
  {
   "cell_type": "markdown",
   "metadata": {
    "hideCode": true,
    "hidePrompt": true,
    "slideshow": {
     "slide_type": "slide"
    }
   },
   "source": [
    "![label](InSARPrinciplesTheory_UNAVCO_18/Slide108.png)"
   ]
  },
  {
   "cell_type": "markdown",
   "metadata": {
    "hideCode": true,
    "hidePrompt": true,
    "slideshow": {
     "slide_type": "slide"
    }
   },
   "source": [
    "![label](InSARPrinciplesTheory_UNAVCO_18/Slide109.png)"
   ]
  },
  {
   "cell_type": "markdown",
   "metadata": {
    "hideCode": true,
    "hidePrompt": true,
    "slideshow": {
     "slide_type": "slide"
    }
   },
   "source": [
    "![label](InSARPrinciplesTheory_UNAVCO_18/Slide110.png)"
   ]
  },
  {
   "cell_type": "markdown",
   "metadata": {
    "hideCode": true,
    "hidePrompt": true,
    "slideshow": {
     "slide_type": "slide"
    }
   },
   "source": [
    "![label](InSARPrinciplesTheory_UNAVCO_18/Slide111.png)"
   ]
  },
  {
   "cell_type": "markdown",
   "metadata": {
    "hideCode": true,
    "hidePrompt": true,
    "slideshow": {
     "slide_type": "slide"
    }
   },
   "source": [
    "![label](InSARPrinciplesTheory_UNAVCO_18/Slide112.png)"
   ]
  },
  {
   "cell_type": "markdown",
   "metadata": {
    "hideCode": true,
    "hidePrompt": true,
    "slideshow": {
     "slide_type": "slide"
    }
   },
   "source": [
    "![label](InSARPrinciplesTheory_UNAVCO_18/Slide113.png)"
   ]
  },
  {
   "cell_type": "markdown",
   "metadata": {
    "hideCode": true,
    "hidePrompt": true,
    "slideshow": {
     "slide_type": "slide"
    }
   },
   "source": [
    "![label](InSARPrinciplesTheory_UNAVCO_18/Slide114.png)"
   ]
  },
  {
   "cell_type": "markdown",
   "metadata": {
    "hideCode": true,
    "hidePrompt": true,
    "slideshow": {
     "slide_type": "skip"
    }
   },
   "source": [
    "![label](InSARPrinciplesTheory_UNAVCO_18/Slide115.png)"
   ]
  },
  {
   "cell_type": "markdown",
   "metadata": {
    "hideCode": true,
    "hidePrompt": true,
    "slideshow": {
     "slide_type": "slide"
    }
   },
   "source": [
    "# Other Resources: \n",
    "\n",
    "\n",
    "* Treatise on Geophysics, Interferometric Synthetic Aperture Radar Geodesy (2015), Simons M. and Rosen, P.; Schubert, G. (ed.), 2nd Ed., Volume 3- Geodesy, Elsevier Press, 339-385; http://web.gps.caltech.edu/~simons/publications/pdfs/Simons_etal_2015.pdf\n",
    "\n",
    "\n",
    "* Synthetic Aperture Radar Interferometry (2000) Rosen, P. A.; Hensley, S.; Joughin, I. R.; Li, F. K.; Madsen, S. N.; Rodriquez, E. & Goldstein, R. M. Proc. IEEE, 88, 333-382\n",
    "\n",
    "\n",
    "* Synthetic Aperture Radar Interferometry to measure Earth's surface topography and its deformation (2000) Burgmann, R.; Rosen, P. & Fielding, E. Ann.~Rev.~Earth Planet.~Sci., 28, 169-209\n",
    "\n",
    "* Synthetic Aperture Radar Interferometry: Principles and Applications (1999) Madsen, S. N. & Zebker, H. A., Manual of Remote Sensing, Artech House, 3\n",
    "\n",
    "\n",
    "* Radar interferometry and its application to changes in the earth's surface (1998) Massonnet, D. & Feigl, K. L., Reviews of Geophysics, 36, 441-500\n",
    "\n",
    "\n",
    "* Synthetic Aperture Radar Interferometry (1998) Bamler, R. & Hartl, P., Inverse Problems, 14, 1-54\n",
    "\n",
    "\n",
    "* Remote Sensing with Imaging Radar (2009) Richards, J.A., Springer. \n"
   ]
  },
  {
   "cell_type": "code",
   "execution_count": null,
   "metadata": {
    "hideCode": true,
    "hidePrompt": true
   },
   "outputs": [],
   "source": []
  }
 ],
 "metadata": {
  "celltoolbar": "Slideshow",
  "hide_code_all_hidden": true,
  "kernelspec": {
   "display_name": "Python 3",
   "language": "python",
   "name": "python3"
  },
  "language_info": {
   "codemirror_mode": {
    "name": "ipython",
    "version": 3
   },
   "file_extension": ".py",
   "mimetype": "text/x-python",
   "name": "python",
   "nbconvert_exporter": "python",
   "pygments_lexer": "ipython3",
   "version": "3.6.5"
  },
  "rise": {
   "history": false,
   "transition": "none"
  }
 },
 "nbformat": 4,
 "nbformat_minor": 2
}
