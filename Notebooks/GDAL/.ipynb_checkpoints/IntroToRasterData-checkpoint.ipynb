{
 "cells": [
  {
   "cell_type": "markdown",
   "metadata": {
    "hideCode": true,
    "hidePrompt": true
   },
   "source": [
    "# Raster Data and GDAL"
   ]
  },
  {
   "cell_type": "markdown",
   "metadata": {
    "hideCode": true,
    "hidePrompt": true
   },
   "source": [
    "In this tutorial, we will demonstrate the use of GDAL software for working with radar data products generated using the ISCE software. We will start with very basics of geospatial data representations and work through various common operations involving geospatial imagery."
   ]
  },
  {
   "cell_type": "markdown",
   "metadata": {},
   "source": [
    "## Before we start"
   ]
  },
  {
   "cell_type": "markdown",
   "metadata": {},
   "source": [
    "Let's copy over the datasets needed for running the exercises in this notebook. You only have to do this, if the data is not available in the same folder as your notebook."
   ]
  },
  {
   "cell_type": "code",
   "execution_count": null,
   "metadata": {},
   "outputs": [],
   "source": [
    "#Ensure you are in the correct working directory\n",
    "!pwd"
   ]
  },
  {
   "cell_type": "code",
   "execution_count": null,
   "metadata": {},
   "outputs": [],
   "source": [
    "#If you are not in the correct folder, edit the cd command as needed \n",
    "#!cd /home/jovyan/work/notebooks/GDAL"
   ]
  },
  {
   "cell_type": "code",
   "execution_count": null,
   "metadata": {},
   "outputs": [],
   "source": [
    "###Copy over the data\n",
    "!cp /home/jovyan/course-material/datasets/GDAL/* ."
   ]
  },
  {
   "cell_type": "markdown",
   "metadata": {
    "hideCode": true,
    "hidePrompt": true
   },
   "source": [
    "## 1. GIS - Geographic Information System"
   ]
  },
  {
   "cell_type": "markdown",
   "metadata": {
    "hideCode": true,
    "hidePrompt": true
   },
   "source": [
    "GIS is a framework for organizing, managing, visualizing and analyzing geospatial data. As geophysicists, geologists or geodesists, we all use these set of tools to work with data on maps. Any data that can be plotted on a map can be classified as **geospatial** data. \n",
    "\n",
    "Most popular free GIS tools include:\n",
    "\n",
    "1. Generic Mapping Tools (GMT) http://gmt.soest.hawaii.edu/\n",
    "2. Geospatial Data Abstraction Library (GDAL) http://www.gdal.org/\n",
    "3. QGIS https://qgis.org/\n",
    "4. PROJ.4 / pyproj https://proj4.org/\n",
    "5. Others like Shapely, Fiona, Caropy, Basemap etc \n",
    "\n",
    "In this tutorial, we will focus on the Geospatial Data Abstraction Library (GDAL)."
   ]
  },
  {
   "cell_type": "markdown",
   "metadata": {
    "hideCode": true,
    "hidePrompt": true
   },
   "source": [
    "### 1.1 Types of geospatial data"
   ]
  },
  {
   "cell_type": "markdown",
   "metadata": {
    "hideCode": true,
    "hidePrompt": true
   },
   "source": [
    "Geospatial data can generally be classified into 2 types"
   ]
  },
  {
   "cell_type": "markdown",
   "metadata": {
    "hideCode": true,
    "hidePrompt": true
   },
   "source": [
    "#### Raster data"
   ]
  },
  {
   "cell_type": "markdown",
   "metadata": {
    "hideCode": true,
    "hidePrompt": true
   },
   "source": [
    "From the ARCGIS webpage:\n",
    "\n",
    "In its simplest form, a raster consists of a matrix of cells (or pixels) organized into rows and columns (or a grid) where each cell contains a value representing information. Typical examples of raster imagery include:\n",
    "\n",
    "1. Weather radar maps\n",
    "2. Satellite imagery\n",
    "\n",
    "Clearly, from the exercises that we have been doing with SAR data - these types of imagery fall under raster datasets. This tutorial will focus on raster data manipulation."
   ]
  },
  {
   "cell_type": "markdown",
   "metadata": {
    "hideCode": true,
    "hidePrompt": true
   },
   "source": [
    "#### Vector data"
   ]
  },
  {
   "cell_type": "markdown",
   "metadata": {
    "hideCode": true,
    "hidePrompt": true
   },
   "source": [
    "Vector data refers to datasets that attempt to represent information using goemetric constructs like points, line and polygons. Typical examples of vector data include:\n",
    "\n",
    "1. Highways, country boundaries etc\n",
    "2. Earthquake locations from a catalog\n",
    "\n",
    "With SAR/InSAR, these types of datasets tend to be used in an ancillary fashion to assist in interpretation. This type of data will not discussed in detail as such in this tutorial."
   ]
  },
  {
   "cell_type": "markdown",
   "metadata": {
    "hideCode": true,
    "hidePrompt": true
   },
   "source": [
    "### 1.2 Why GDAL?"
   ]
  },
  {
   "cell_type": "markdown",
   "metadata": {
    "hideCode": true,
    "hidePrompt": true
   },
   "source": [
    "* Free and Open Source (https://github.com/OSGeo/gdal)\n",
    "* Support for over 80+ Image formats and map projections\n",
    "* Command line as well as C/C++/Python/R API\n",
    "* Used extensively by worlds large geospatial data services\n",
    "* Extensive test suite and active developer community\n",
    "* GDAL also includes extensive support for vector datasets (Not a topic for this tutorial)"
   ]
  },
  {
   "cell_type": "markdown",
   "metadata": {
    "hideCode": true,
    "hidePrompt": true
   },
   "source": [
    "# 2. Raster Data Model in GDAL"
   ]
  },
  {
   "cell_type": "markdown",
   "metadata": {
    "hideCode": true,
    "hidePrompt": true
   },
   "source": [
    "GDAL has a very clearly defined Data Model. For a detailed description of all the aspects of the Data Model - see http://www.gdal.org/gdal_datamodel.html. In this tutorial, we will focus on some important aspects of this model."
   ]
  },
  {
   "cell_type": "markdown",
   "metadata": {
    "hideCode": true,
    "hidePrompt": true
   },
   "source": [
    "### a. Raster Bands"
   ]
  },
  {
   "cell_type": "markdown",
   "metadata": {
    "hideCode": true,
    "hidePrompt": true
   },
   "source": [
    "A GDAL-comptabile raster image can consist of many 2D matrices contained in it as long as\n",
    "\n",
    "1. They are of the same size \n",
    "2. They represent information from the same points, i.e the map coordinates are the same.\n",
    "3. Some data formats inherently allow the different bands to be of different datatypes, but this is not very common.\n",
    "\n",
    "Let's look at examples of single and multi-band images using the **gdalinfo** utility."
   ]
  },
  {
   "cell_type": "code",
   "execution_count": null,
   "metadata": {
    "hideCode": false,
    "hidePrompt": false,
    "scrolled": true
   },
   "outputs": [],
   "source": [
    "#Lets look at one downloaded SRTM tile\n",
    "# This is a single band file\n",
    "\n",
    "!gdalinfo DEM/N34W120.hgt"
   ]
  },
  {
   "cell_type": "code",
   "execution_count": null,
   "metadata": {
    "hideCode": false,
    "hidePrompt": false,
    "scrolled": true
   },
   "outputs": [],
   "source": [
    "#Lets look at a coherence product generated by ISCE\n",
    "# This is a two band file\n",
    "\n",
    "!gdalinfo stripmap/interferogram/topophase.cor.geo.vrt"
   ]
  },
  {
   "cell_type": "code",
   "execution_count": null,
   "metadata": {
    "hideCode": false,
    "hidePrompt": false,
    "scrolled": true
   },
   "outputs": [],
   "source": [
    "###How do we get this information programatically\n",
    "from osgeo import gdal\n",
    "\n",
    "ds = gdal.Open('stripmap/interferogram/topophase.cor.geo.vrt', gdal.GA_ReadOnly)\n",
    "print('Bands = ', ds.RasterCount)\n",
    "print('Dimensions = ', ds.RasterXSize, ' x ', ds.RasterYSize)\n",
    "ds = None"
   ]
  },
  {
   "cell_type": "markdown",
   "metadata": {
    "hideCode": true,
    "hidePrompt": true
   },
   "source": [
    "### b. Data types"
   ]
  },
  {
   "cell_type": "markdown",
   "metadata": {
    "hideCode": true,
    "hidePrompt": true
   },
   "source": [
    "The following data types are supported by GDAL:\n",
    "\n",
    "1. Byte \n",
    "2. UInt16 \n",
    "3. Int16 \n",
    "4. UInt32 \n",
    "5. Int32 \n",
    "6. Float32\n",
    "7. Float64\n",
    "8. **CInt16**\n",
    "9. **CInt32**\n",
    "10. **CFloat32**\n",
    "11. **CFloat64** \n",
    "\n",
    "Fact that GDAL includes support for complex numbers makes it significantly more relevant than other GIS systems for use with radar datasets."
   ]
  },
  {
   "cell_type": "code",
   "execution_count": null,
   "metadata": {
    "hideCode": false,
    "hidePrompt": false,
    "scrolled": true
   },
   "outputs": [],
   "source": [
    "!gdalinfo stripmap/interferogram/topophase.flat.vrt"
   ]
  },
  {
   "cell_type": "code",
   "execution_count": null,
   "metadata": {
    "hideCode": false,
    "hidePrompt": false
   },
   "outputs": [],
   "source": [
    "##Programmatic method of querying data type\n",
    "from osgeo import gdal\n",
    "ds = gdal.Open('DEM/dem_ortho.grd', gdal.GA_ReadOnly)\n",
    "band = ds.GetRasterBand(1)\n",
    "print(gdal.GetDataTypeName(band.DataType))\n",
    "band = None\n",
    "ds = None"
   ]
  },
  {
   "cell_type": "markdown",
   "metadata": {
    "hideCode": true,
    "hidePrompt": true
   },
   "source": [
    "### c. Coordinate System"
   ]
  },
  {
   "cell_type": "markdown",
   "metadata": {
    "hideCode": true,
    "hidePrompt": true
   },
   "source": [
    "This is where GDAL really stands out. There are numerous conventions used globally for representing the coordinate system for map data. Here are some popular ones:\n",
    "\n",
    "1. PROJ4 - https://proj4.org/usage/projections.html\n",
    "2. USGS - Collection of 18 numbers, extremely unusable\n",
    "3. OGC WKT (defacto standard) - http://docs.opengeospatial.org/is/12-063r5/12-063r5.html\n",
    "4. EPSG codes (Easy to use) - http://spatialreference.org/ref/epsg/\n",
    "5. XML etc\n",
    "\n",
    "We will use the **gdalsrsinfo** to demonstrate the complications involved in supporting these coordinate sytems."
   ]
  },
  {
   "cell_type": "code",
   "execution_count": null,
   "metadata": {
    "hideCode": false,
    "hidePrompt": false,
    "scrolled": true
   },
   "outputs": [],
   "source": [
    "##Simple WGS84 lat/lon projection has EPSG code 4326.\n",
    "##To look at all equivalent representations of this system\n",
    "!gdalsrsinfo -o all EPSG:4326"
   ]
  },
  {
   "cell_type": "code",
   "execution_count": null,
   "metadata": {
    "hideCode": false,
    "hidePrompt": false,
    "scrolled": true
   },
   "outputs": [],
   "source": [
    "##Lets look at UTM zone 20N\n",
    "!gdalsrsinfo -o all EPSG:32620"
   ]
  },
  {
   "cell_type": "markdown",
   "metadata": {
    "hideCode": true,
    "hidePrompt": true
   },
   "source": [
    "You can also use **gdalsrsinfo** to query the coordinate system of a given raster product in a specific format."
   ]
  },
  {
   "cell_type": "code",
   "execution_count": null,
   "metadata": {
    "hideCode": false,
    "hidePrompt": false,
    "scrolled": false
   },
   "outputs": [],
   "source": [
    "##Get projection information for a raster file\n",
    "!gdalsrsinfo -o proj4  DEM/N34W120.hgt"
   ]
  },
  {
   "cell_type": "code",
   "execution_count": null,
   "metadata": {
    "hideCode": false,
    "hidePrompt": false
   },
   "outputs": [],
   "source": [
    "###Programmatic method of querying spatial reference\n",
    "from osgeo import gdal, osr\n",
    "\n",
    "ds = gdal.Open('DEM/N34W120.hgt', gdal.GA_ReadOnly)\n",
    "srs = ds.GetProjectionRef()\n",
    "ds = None\n",
    "print(srs)\n",
    "\n",
    "ref = osr.SpatialReference()\n",
    "ref.ImportFromWkt(srs)\n",
    "ref.ExportToProj4()"
   ]
  },
  {
   "cell_type": "markdown",
   "metadata": {
    "hideCode": true,
    "hidePrompt": true
   },
   "source": [
    "When you use **gdalsrsinfo** on a raster that does not have the coordinate system information, or as is often the case with radar products in radar geometry - it should raise an error."
   ]
  },
  {
   "cell_type": "code",
   "execution_count": null,
   "metadata": {
    "hideCode": false,
    "hidePrompt": false
   },
   "outputs": [],
   "source": [
    "!gdalsrsinfo DEM/dem_ortho.grd"
   ]
  },
  {
   "cell_type": "code",
   "execution_count": null,
   "metadata": {
    "hideCode": false,
    "hidePrompt": false
   },
   "outputs": [],
   "source": [
    "!gdalsrsinfo stripmap/topophase.cor"
   ]
  },
  {
   "cell_type": "markdown",
   "metadata": {
    "hideCode": true,
    "hidePrompt": true
   },
   "source": [
    "### d. Coordinates on a map"
   ]
  },
  {
   "cell_type": "markdown",
   "metadata": {
    "hideCode": true,
    "hidePrompt": true
   },
   "source": [
    "In the subsection above, we discussed coordinate systems. In this section, we talk about how GDAL associates a line/pixel location in a raster with map coordinates.\n",
    "\n",
    "GDAL uses a simple affine system to translate (pixel, line) location to (X,Y) coordinates in map coordinates. The affine system is represented by 6 double precision numbers collectively known as the ''GeoTransform''.\n",
    "\n",
    "**Top-left** map coordinate of a pixel represented by pixel number (P) and line number (L) in C/Python indexing is given by\n",
    "\n",
    "$$\\begin{equation*}\n",
    "\\left[ \\begin{array}{c}\n",
    "X_{left} \\\\\n",
    "Y_{top}\n",
    "\\end{array} \\right] = \\left[ \\begin{array}{c}\n",
    "G_0 \\\\\n",
    "G_3 \\end{array}\\right] + \\left[ \\begin{array}{cc}\n",
    "G_1 & G_2 \\\\\n",
    "G_4 & G_5 \n",
    "\\end{array} \\right] \\cdot \\left[ \\begin{array}{c}\n",
    "P \\\\\n",
    "L \n",
    "\\end{array} \\right]\n",
    "\\end{equation*}\n",
    "$$\n",
    "\n",
    "\n",
    "Here is the exact manner in which pixel indices are interpreted by GDAL\n",
    "![Raster Layout](notebook_images/Raster_layout.png)"
   ]
  },
  {
   "cell_type": "code",
   "execution_count": null,
   "metadata": {
    "hideCode": false,
    "hidePrompt": false
   },
   "outputs": [],
   "source": [
    "##To confirm the Top-left interpretation, lets look gdalinfo output for the SRTM tile again\n",
    "!gdalinfo DEM/N34W120.hgt"
   ]
  },
  {
   "cell_type": "code",
   "execution_count": null,
   "metadata": {
    "hideCode": false,
    "hidePrompt": false
   },
   "outputs": [],
   "source": [
    "##An image can include coordinate information even if the coordinate system information is missing\n",
    "##But this is highly discouraged\n",
    "\n",
    "!gdalinfo DEM/dem_ortho.grd"
   ]
  },
  {
   "cell_type": "code",
   "execution_count": null,
   "metadata": {
    "hideCode": false,
    "hidePrompt": false
   },
   "outputs": [],
   "source": [
    "###Programmatic method of querying the geotransform\n",
    "from osgeo import gdal\n",
    "\n",
    "ds = gdal.Open('DEM/N34W120.hgt', gdal.GA_ReadOnly)\n",
    "print(ds.GetGeoTransform())\n",
    "ds = None"
   ]
  },
  {
   "cell_type": "markdown",
   "metadata": {
    "hideCode": true,
    "hidePrompt": true
   },
   "source": [
    "Most geospatial data formats prefer North-up orientation for storing map data. Hence, it is very common to see a negative $G_5$ term in the GeoTransform representation."
   ]
  },
  {
   "cell_type": "code",
   "execution_count": null,
   "metadata": {
    "hideCode": false,
    "hidePrompt": false
   },
   "outputs": [],
   "source": [
    "###For a dataset with no coordinate system / map information - i.e, plain raster\n",
    "ds = gdal.Open('stripmap/interferogram/topophase.cor.vrt', gdal.GA_ReadOnly)\n",
    "print(ds.GetGeoTransform())\n",
    "ds = None"
   ]
  },
  {
   "cell_type": "markdown",
   "metadata": {
    "hideCode": true,
    "hidePrompt": true
   },
   "source": [
    "### e. Ground Control Points (GCPs)"
   ]
  },
  {
   "cell_type": "markdown",
   "metadata": {
    "hideCode": true,
    "hidePrompt": true
   },
   "source": [
    "GCPs are another mechanism to associate geocoordinate information with raster images. GCPs represent an explicit mapping from a (pixel, line) location to (X,Y) location in map coordinates. These are usually not the most accurate representations, but for some applications are more than sufficient. For example, radar images acquired over very flat terrain or oceans can be geocoded reasonably well using GCPs. We are not going to use this feature in our tutorials, but one should be aware that this information is available with most SLC products delivered by different agencies.\n",
    "\n",
    "Sentinel-1 SLC and GRD geotiff files are all annotated with GCPs. Shown below is an example output of gdalinfo on a Sentinel-1 SLC image\n",
    "\n",
    "```bash\n",
    "> gdalinfo s1a-iw1-slc-vv-20160408t091355-20160408t091428-010728-01001f-001.tiff\n",
    "Driver: GTiff/GeoTIFF\n",
    "Files: s1a-iw1-slc-vv-20160408t091355-20160408t091428-010728-01001f-001.tiff\n",
    "Size is 20665, 17916\n",
    "Coordinate System is `'\n",
    "GCP Projection =\n",
    "GEOGCS[\"WGS 84\",\n",
    "    DATUM[\"WGS_1984\",\n",
    "        SPHEROID[\"unnamed\",6378137,298.2572235604902,\n",
    "            AUTHORITY[\"EPSG\",\"4326\"]],\n",
    "        AUTHORITY[\"EPSG\",\"6326\"]],\n",
    "    PRIMEM[\"Greenwich\",0],\n",
    "    UNIT[\"degree\",0.0174532925199433],\n",
    "    AUTHORITY[\"EPSG\",\"4326\"]]\n",
    "GCP[  0]: Id=1, Info=\n",
    "          (0,0) -> (130.457799786776,32.2907336141953,478.460773384615)\n",
    "GCP[  1]: Id=2, Info=\n",
    "          (1034,0) -> (130.506581179458,32.2986697089719,478.460773384615)\n",
    "GCP[  2]: Id=3, Info=\n",
    "          (2068,0) -> (130.554913356166,32.3065128120191,478.460773384615)\n",
    "GCP[  3]: Id=4, Info=\n",
    "          (3102,0) -> (130.602812666404,32.3142661230211,478.460773384615)\n",
    "...\n",
    "GCP[270]: Id=271, Info=\n",
    "          (18612,17915) -> (130.826037469855,34.4318305450677,0)\n",
    "GCP[271]: Id=272, Info=\n",
    "          (19646,17915) -> (130.869763720912,34.438454503529,0)\n",
    "GCP[272]: Id=273, Info=\n",
    "          (20664,17915) -> (130.912557438728,34.4449210788505,0)\n",
    "Metadata:\n",
    "  AREA_OR_POINT=Area\n",
    "  TIFFTAG_DATETIME=2016:04:08 16:04:16\n",
    "  TIFFTAG_IMAGEDESCRIPTION=Sentinel-1A IW SLC L1\n",
    "  TIFFTAG_SOFTWARE=Sentinel-1 IPF 002.62\n",
    "Image Structure Metadata:\n",
    "  INTERLEAVE=BAND\n",
    "Corner Coordinates:\n",
    "Upper Left  (    0.0,    0.0)\n",
    "Lower Left  (    0.0,17916.0)\n",
    "Upper Right (20665.0,    0.0)\n",
    "Lower Right (20665.0,17916.0)\n",
    "Center      (10332.5, 8958.0)\n",
    "Band 1 Block=20665x1 Type=CInt16, ColorInterp=Gray\n",
    "```"
   ]
  },
  {
   "cell_type": "markdown",
   "metadata": {
    "hideCode": true,
    "hidePrompt": true
   },
   "source": [
    "### f. Other features"
   ]
  },
  {
   "cell_type": "markdown",
   "metadata": {
    "hideCode": true,
    "hidePrompt": true
   },
   "source": [
    "There are other useful features that GDAL provides for working with raster data. One can read more about these here: \n",
    "http://www.gdal.org/gdal_datamodel.html"
   ]
  },
  {
   "cell_type": "markdown",
   "metadata": {
    "hideCode": true,
    "hidePrompt": true
   },
   "source": [
    "# 3. Raster data formats"
   ]
  },
  {
   "cell_type": "markdown",
   "metadata": {
    "hideCode": true,
    "hidePrompt": true
   },
   "source": [
    "We have already mentioned that GDAL can support over 80+ data formats. GDAL tries to provide a unified interface to reading data from these different formats. Support for different formats depends on what libraries were used when building the GDAL library. You can find out the various raster formats that GDAL supports using **gdalinfo**."
   ]
  },
  {
   "cell_type": "code",
   "execution_count": null,
   "metadata": {
    "hideCode": false,
    "hidePrompt": false
   },
   "outputs": [],
   "source": [
    "#List all supported formats in your GDAL build\n",
    "!gdalinfo --formats"
   ]
  },
  {
   "cell_type": "markdown",
   "metadata": {
    "hideCode": true,
    "hidePrompt": true
   },
   "source": [
    "The capability for each format is indicated with a string in the output and here is the corresponding legend:\n",
    "\n",
    "1. r: read\n",
    "2. ro: read only\n",
    "3. w: write \"Create dataset by copying another\"\n",
    "4. w+: write with support to update \"create writable dataset\"\n",
    "5. s: supports subdatasets\n",
    "6. v: supports virtual IO - eg. /vsimem/\n",
    "\n",
    "Virtual features are special and we will revisit this later in this tutorial."
   ]
  },
  {
   "cell_type": "markdown",
   "metadata": {
    "hideCode": true,
    "hidePrompt": true
   },
   "source": [
    "To demonstrate that different formats can be used to represent the same data, we have included a folder called **DEM** that contains the SRTM 90m DEM for the same tile in 3 different formats - SRTM native hgt format (from LPDAAC), GMT format (from GMTSAR's dem service) and Geotiff format (OpenTopography). You can verify that the contents are same by running the command."
   ]
  },
  {
   "cell_type": "code",
   "execution_count": null,
   "metadata": {
    "hideCode": false,
    "hidePrompt": false
   },
   "outputs": [],
   "source": [
    "!gdalinfo -stats DEM/N34W120.hgt"
   ]
  },
  {
   "cell_type": "code",
   "execution_count": null,
   "metadata": {
    "hideCode": false,
    "hidePrompt": false
   },
   "outputs": [],
   "source": [
    "!gdalinfo -stats DEM/dem_ortho.grd"
   ]
  },
  {
   "cell_type": "code",
   "execution_count": null,
   "metadata": {
    "hideCode": false,
    "hidePrompt": false
   },
   "outputs": [],
   "source": [
    "!gdalinfo -stats DEM/opentopo.tif"
   ]
  },
  {
   "cell_type": "markdown",
   "metadata": {
    "hideCode": true,
    "hidePrompt": true
   },
   "source": [
    "<br>\n",
    "<div class=\"alert alert-info\">\n",
    "<b>Note :</b>\n",
    "As you can see that GDAL supports a wide range of data formats and provides a unified interface. If you plan to work with raster datasets, we strongly recommend that you use one of these supported formats as a basis. There needs to be a really compelling reason to pick a different format.\n",
    "</div>\n",
    "\n"
   ]
  },
  {
   "cell_type": "markdown",
   "metadata": {
    "hideCode": true,
    "hidePrompt": true
   },
   "source": [
    "# 4. Virtual File Systems"
   ]
  },
  {
   "cell_type": "markdown",
   "metadata": {
    "hideCode": true,
    "hidePrompt": true
   },
   "source": [
    "## 4.1 What are Virtual File Systems? \n",
    "\n",
    "GDAL does not necessarily your need data to be stored on a local file. It provides a file like interface to various data sources and these are referred to as Virtual Formats. Such systems are called Virtual File Systems. For a complete list of Virtual File Systems supported by GDAL - see http://www.gdal.org/gdal_virtual_file_systems.html\n",
    "\n",
    "We will look at a couple of examples of how these work. "
   ]
  },
  {
   "cell_type": "markdown",
   "metadata": {
    "hideCode": true,
    "hidePrompt": true
   },
   "source": [
    "### a. vsicurl"
   ]
  },
  {
   "cell_type": "markdown",
   "metadata": {
    "hideCode": true,
    "hidePrompt": true
   },
   "source": [
    "This is meant to be used with datasets that are served online via http / https/ ftp . To enable this feature, GDAL needs to be built with \"curl\" support. Here is an example of how we would use this feature"
   ]
  },
  {
   "cell_type": "code",
   "execution_count": null,
   "metadata": {
    "hideCode": false,
    "hidePrompt": false,
    "scrolled": true
   },
   "outputs": [],
   "source": [
    "##Let's look at opentopography's ellipsoid corrected dataset\n",
    "!gdalinfo /vsicurl/https://cloud.sdsc.edu/v1/AUTH_opentopography/Raster/SRTM_GL1_Ellip/SRTM_GL1_Ellip_srtm/North/North_30_60/N34W120_wgs84.tif"
   ]
  },
  {
   "cell_type": "markdown",
   "metadata": {
    "hideCode": true,
    "hidePrompt": true
   },
   "source": [
    "### b. vsizip / vsitar / vsigzip"
   ]
  },
  {
   "cell_type": "code",
   "execution_count": null,
   "metadata": {
    "hideCode": false,
    "hidePrompt": false,
    "scrolled": true
   },
   "outputs": [],
   "source": [
    "###Directly interact with data inside zip / tar files\n",
    "!gdalinfo /vsizip/DEM/N34W120.SRTMGL3.hgt.zip/N34W120.hgt"
   ]
  },
  {
   "cell_type": "markdown",
   "metadata": {
    "hideCode": true,
    "hidePrompt": true
   },
   "source": [
    "### c. vsis3/ vsigs/ vsiaz"
   ]
  },
  {
   "cell_type": "markdown",
   "metadata": {
    "hideCode": true,
    "hidePrompt": true
   },
   "source": [
    "Lot of the new updates in GDAL are focused on extending support to data stored on cloud platforms - allowing users to interact with small portions of data without having to download everything."
   ]
  },
  {
   "cell_type": "markdown",
   "metadata": {
    "hideCode": true,
    "hidePrompt": true
   },
   "source": [
    "### d. vsimem"
   ]
  },
  {
   "cell_type": "markdown",
   "metadata": {
    "hideCode": true,
    "hidePrompt": true
   },
   "source": [
    "These are feature that allows one to use in memory arrays just like other GDAL datasets. Here is an example:"
   ]
  },
  {
   "cell_type": "code",
   "execution_count": null,
   "metadata": {
    "hideCode": false,
    "hidePrompt": false
   },
   "outputs": [],
   "source": [
    "from osgeo import gdal\n",
    "\n",
    "##Get memory driver\n",
    "memdrv = gdal.GetDriverByName('MEM')\n",
    "\n",
    "##Open source dataset in read only mode\n",
    "ds = gdal.Open('DEM/opentopo.tif', gdal.GA_ReadOnly)\n",
    "\n",
    "##Create an in-memory copy\n",
    "memds = memdrv.CreateCopy('dummyname', ds)\n",
    "\n",
    "##Close source\n",
    "ds = None\n",
    "\n",
    "##Use copy for operations\n",
    "print(memds.GetProjection())\n",
    "\n",
    "##Close memory copy\n",
    "memds = None"
   ]
  },
  {
   "cell_type": "markdown",
   "metadata": {
    "hideCode": true,
    "hidePrompt": true
   },
   "source": [
    "# 5. Virtual Raster Table (VRT) format"
   ]
  },
  {
   "cell_type": "markdown",
   "metadata": {
    "hideCode": true,
    "hidePrompt": true
   },
   "source": [
    "Virtual Raster Table (VRT) format extends the idea of virtualization to actual disks on file. VRT is a custom format supported by GDAL that is similar to \"links\" or \"shortcuts\" on operating systems - except that it has more functionality than just pointing to other data sources.\n",
    "\n",
    "Often, when working with raster datasets, we tend to generate a fairly large volume of intermediate products due to operations like cropping, multilooking and masking. VRT's offer the option of building workflow pipelines that generate such products on the fly. We will rely extensively on this feature for our time-series exercises later. \n",
    "\n",
    "Details on GDAL's VRT feature can be found here: http://www.gdal.org/gdal_vrttut.html\n",
    "\n",
    "You may have already noticed that ISCE generates a **.vrt** file for every raster product that is generated by the workflows. We will be looking at VRTs in greater detail as part of the other notebooks on raster data manipulation. But here are some short examples that demonstrate the capabilities of this format."
   ]
  },
  {
   "cell_type": "markdown",
   "metadata": {},
   "source": [
    "### a. Cropping of datasets"
   ]
  },
  {
   "cell_type": "markdown",
   "metadata": {},
   "source": [
    "ISCE uses GDAL VRT files to virtually extract a single burst from the Sentinel-1 SAFE products. From our TOPS processing tutorial, you will remember that Sentinel-1 TOPS mode data is delivered as SAFE products which contains TIFF files for each imaged swath. Each swath consists of number of bursts or scans. \n",
    "\n",
    "To avoid replicating this data on disk again, we use a simple VRT file to point to the location of burst data within the TIFF files. For example, if you were to look at the contents of master/IW1/burst04.slc.vrt, you will see something like \n",
    "\n",
    "```xml\n",
    "<VRTDataset rasterXSize=\"20665\" rasterYSize=\"1493\">\n",
    "    <VRTRasterBand dataType=\"CFloat32\" band=\"1\">\n",
    "        <NoDataValue>0.0</NoDataValue>\n",
    "        <SimpleSource>\n",
    "            <SourceFilename relativeToVRT=\"1\">/vsizip//Users/agram/data/isce/japan/data/S1A_IW_SLC__1SSV_20160408T091355_20160408T091430_010728_01001F_83EB.zip/S1A_IW_SLC__1SSV_20160408T091355_20160408T091430_010728_01001F_83EB.SAFE/measurement/s1a-iw1-slc-vv-20160408t091355-20160408t091428-010728-01001f-001.tiff</SourceFilename>\n",
    "            <SourceBand>1</SourceBand>\n",
    "            <SourceProperties RasterXSize=\"20665\" RasterYSize=\"17916\" DataType=\"CInt16\"/>\n",
    "            <SrcRect xOff=\"130\" yOff=\"4498\" xSize=\"20468\" ySize=\"1458\"/>\n",
    "            <DstRect xOff=\"130\" yOff=\"19\" xSize=\"20468\" ySize=\"1458\"/>\n",
    "        </SimpleSource>\n",
    "    </VRTRasterBand>\n",
    "</VRTDataset>\n",
    "```"
   ]
  },
  {
   "cell_type": "markdown",
   "metadata": {
    "hidePrompt": true
   },
   "source": [
    "For clarity, lets annotate the vrt file to describe what is happening. Note that VRT format is built on top of XML. So, we will use XML's comment feature to annotate the XML for your understanding.\n",
    "\n",
    "```xml\n",
    "<!--Size of the virtual dataset-->\n",
    "<VRTDataset rasterXSize=\"20665\" rasterYSize=\"1493\">\n",
    "    <!-- Band 1 of the dataset and its data type -->\n",
    "    <VRTRasterBand dataType=\"CFloat32\" band=\"1\">\n",
    "        <!--No data value for this dataset-->\n",
    "        <NoDataValue>0.0</NoDataValue>\n",
    "        <!--We use a simple source to suggest that we don't alter contents of the data in source-->\n",
    "        <SimpleSource>\n",
    "            <!--Name of the source - notice that we point to a TIFF inside a zip file -->\n",
    "            <SourceFilename relativeToVRT=\"1\">/vsizip//Users/agram/data/isce/japan/data/S1A_IW_SLC__1SSV_20160408T091355_20160408T091430_010728_01001F_83EB.zip/S1A_IW_SLC__1SSV_20160408T091355_20160408T091430_010728_01001F_83EB.SAFE/measurement/s1a-iw1-slc-vv-20160408t091355-20160408t091428-010728-01001f-001.tiff</SourceFilename>\n",
    "            <!--Source may contain multiple bands. Indicate band from source -->\n",
    "            <SourceBand>1</SourceBand>\n",
    "            <!--Properties of the source. This is optional. GDAL will figure it out on the fly if not provided, but will be slow as it actually has to read the source to figure this out. Note that source is of type CInt16 -->\n",
    "            <SourceProperties RasterXSize=\"20665\" RasterYSize=\"17916\" DataType=\"CInt16\"/>\n",
    "            <!--Indicate spatial subset of source data in pixels and lines -->\n",
    "            <SrcRect xOff=\"130\" yOff=\"4498\" xSize=\"20468\" ySize=\"1458\"/>\n",
    "            <!--Indicate spatial location of destination-->\n",
    "            <DstRect xOff=\"130\" yOff=\"19\" xSize=\"20468\" ySize=\"1458\"/>\n",
    "        </SimpleSource>\n",
    "    </VRTRasterBand>\n",
    "</VRTDataset>\n",
    "```"
   ]
  },
  {
   "cell_type": "markdown",
   "metadata": {},
   "source": [
    "### b. Modify some metadata"
   ]
  },
  {
   "cell_type": "markdown",
   "metadata": {},
   "source": [
    "Remember the GMT format dataset from the exercise above? Remember that it was tagged with spatial coordinate information but not with coordinate system metadata. We can fix that quickly by writing a VRT that points to the file with the coordinate information included in it."
   ]
  },
  {
   "cell_type": "code",
   "execution_count": null,
   "metadata": {},
   "outputs": [],
   "source": [
    "!gdal_translate -of VRT -a_srs EPSG:4326 DEM/dem_ortho.grd DEM/dem_ortho.grd.vrt"
   ]
  },
  {
   "cell_type": "code",
   "execution_count": null,
   "metadata": {
    "scrolled": true
   },
   "outputs": [],
   "source": [
    "!cat DEM/dem_ortho.grd.vrt"
   ]
  },
  {
   "cell_type": "code",
   "execution_count": null,
   "metadata": {
    "scrolled": true
   },
   "outputs": [],
   "source": [
    "!gdalinfo DEM/dem_ortho.grd.vrt"
   ]
  },
  {
   "cell_type": "markdown",
   "metadata": {},
   "source": [
    "### c. Mosaicking"
   ]
  },
  {
   "cell_type": "markdown",
   "metadata": {},
   "source": [
    "A very common use case is the need to put together many tiles of rasters to create a wide-area map. One such example is the SRTM DEM. Remember that this data is distributed as 1 deg x 1 deg tiles. With the VRT format, one can put together a single file that represents the global collection of the SRTM DEM with the appropriate parts of the raster pointing to the corresponding tiles. For example, here is how the Open Topography system uses VRTs. Allow sometime for the following command to execute before moving to next cell..."
   ]
  },
  {
   "cell_type": "code",
   "execution_count": null,
   "metadata": {
    "scrolled": true
   },
   "outputs": [],
   "source": [
    "!gdalinfo /vsicurl/https://cloud.sdsc.edu/v1/AUTH_opentopography/Raster/SRTM_GL1_Ellip/SRTM_GL1_Ellip_srtm.vrt"
   ]
  },
  {
   "cell_type": "markdown",
   "metadata": {},
   "source": [
    "### d. Derived datasets"
   ]
  },
  {
   "cell_type": "markdown",
   "metadata": {},
   "source": [
    "Often, we end up in situations where we need to manipulate the data slightly for use with other analysis tools. For example, derive power in dB or amplitude or phase from coregistered SLCs. Generating these derived products could use up a lot of disk space. VRTs provide a mechanism called **pixel functions** to do these transformations on the fly. Set of pixel functions available are (current list):\n",
    "\n",
    "* \"real\": extract real part from a single raster band (just a copy if the input is non-complex)\n",
    "* \"imag\": extract imaginary part from a single raster band (0 for non-complex)\n",
    "* \"complex\": make a complex band merging two bands used as real and imag values\n",
    "* \"mod\": extract module from a single raster band (real or complex)\n",
    "* \"phase\": extract phase from a single raster band [-PI,PI] (0 or PI for non-complex)\n",
    "* \"conj\": computes the complex conjugate of a single raster band (just a copy if the input is non-complex)\n",
    "* \"sum\": sum 2 or more raster bands\n",
    "* \"diff\": computes the difference between 2 raster bands (b1 - b2)\n",
    "* \"mul\": multiply 2 or more raster bands\n",
    "* \"cmul\": multiply the first band for the complex conjugate of the second\n",
    "* \"inv\": inverse (1./x). Note: no check is performed on zero division\n",
    "* \"intensity\": computes the intensity Re(x*conj(x)) of a single raster band (real or complex)\n",
    "* \"sqrt\": perform the square root of a single raster band (real only)\n",
    "* \"log10\": compute the logarithm (base 10) of the abs of a single raster band (real or complex): log10( abs( x ) )\n",
    "* \"dB\": perform conversion to dB of the abs of a single raster band (real or complex): 20. * log10( abs( x ) )\n",
    "* \"dB2amp\": perform scale conversion from logarithmic to linear (amplitude) (i.e. 10 ^ ( x / 20 ) ) of a single raster band (real only)\n",
    "* \"dB2pow\": perform scale conversion from logarithmic to linear (power) (i.e. 10 ^ ( x / 10 ) ) of a single raster band (real only)\n",
    "\n",
    "\n",
    "Note that this list is very relevant for SAR/InSAR users ;)"
   ]
  },
  {
   "cell_type": "markdown",
   "metadata": {},
   "source": [
    "# You are now ready for the next set of notebooks on raster manipulation!!!"
   ]
  }
 ],
 "metadata": {
  "hide_code_all_hidden": true,
  "kernelspec": {
   "display_name": "Python 3",
   "language": "python",
   "name": "python3"
  },
  "language_info": {
   "codemirror_mode": {
    "name": "ipython",
    "version": 3
   },
   "file_extension": ".py",
   "mimetype": "text/x-python",
   "name": "python",
   "nbconvert_exporter": "python",
   "pygments_lexer": "ipython3",
   "version": "3.6.6"
  }
 },
 "nbformat": 4,
 "nbformat_minor": 2
}
