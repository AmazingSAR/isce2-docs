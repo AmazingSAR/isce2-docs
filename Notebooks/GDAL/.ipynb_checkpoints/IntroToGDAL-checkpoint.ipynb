{
 "cells": [
  {
   "cell_type": "markdown",
   "metadata": {},
   "source": [
    "# Working with ISCE products in GIS Software - Using GDAL"
   ]
  },
  {
   "cell_type": "markdown",
   "metadata": {},
   "source": [
    "In this tutorial, we will include useful demonstrations of using GDAL for working with radar data products generated using the ISCE software. We will start with very basics of geospatial data representations and work through various common operations involving geospatial imagery."
   ]
  },
  {
   "cell_type": "markdown",
   "metadata": {},
   "source": [
    "## 1. GIS - Geographic Information System"
   ]
  },
  {
   "cell_type": "markdown",
   "metadata": {},
   "source": [
    "GIS is a framework for organizing, managing, visualizing and analyzing geospatial data. As geophysicists, geologists or geodesists, we all use these set of tools to work with data on maps. Any data that can be plotted on a map can be classified as **geospatial** data. \n",
    "\n",
    "Most popular free GIS tools include:\n",
    "\n",
    "1. Generic Mapping Tools (GMT) http://gmt.soest.hawaii.edu/\n",
    "2. Geospatial Data Abstraction Library (GDAL) http://www.gdal.org/\n",
    "3. QGIS https://qgis.org/\n",
    "4. PROJ.4 / pyproj https://proj4.org/\n",
    "5. Others like Shapely, Fiona, Caropy, Basemap etc \n",
    "\n",
    "In this tutorial, we will focus on the Geospatial Data Abstraction Library (GDAL)."
   ]
  },
  {
   "cell_type": "markdown",
   "metadata": {},
   "source": [
    "### 1.1 Types of geospatial data"
   ]
  },
  {
   "cell_type": "markdown",
   "metadata": {},
   "source": [
    "Geospatial data can generally be classified into 2 types"
   ]
  },
  {
   "cell_type": "markdown",
   "metadata": {},
   "source": [
    "#### Raster data"
   ]
  },
  {
   "cell_type": "markdown",
   "metadata": {},
   "source": [
    "From the ARCGIS webpage:\n",
    "\n",
    "In its simplest form, a raster consists of a matrix of cells (or pixels) organized into rows and columns (or a grid) where each cell contains a value representing information. Typical examples of raster imagery include:\n",
    "\n",
    "1. Weather radar maps\n",
    "2. Satellite imagery\n",
    "\n",
    "Clearly, from the exercises that we have been doing with SAR data - these types of imagery fall under raster datasets. This tutorial will focus on raster data manipulation."
   ]
  },
  {
   "cell_type": "markdown",
   "metadata": {},
   "source": [
    "#### Vector data"
   ]
  },
  {
   "cell_type": "markdown",
   "metadata": {},
   "source": [
    "Vector data refers to datasets that attempt to represent information using goemetric constructs like points, line and polygons. Typical examples of vector data include:\n",
    "\n",
    "1. Highways, country boundaries etc\n",
    "2. Earthquake locations from a catalog\n",
    "\n",
    "With InSAR, these types of datasets tend to be used in an ancillary fashion to assist in interpretation. This type of data will not discussed in detail as such in this tutorial."
   ]
  },
  {
   "cell_type": "markdown",
   "metadata": {},
   "source": [
    "### 1.2 Why GDAL?"
   ]
  },
  {
   "cell_type": "markdown",
   "metadata": {},
   "source": [
    "* Free and Open Source (https://github.com/OSGeo/gdal)\n",
    "* Support for over 80+ Image formats and map projections\n",
    "* Command line as well as C/C++/Python/R API\n",
    "* Used extensively by worlds large geospatial data services\n",
    "* Extensive test suite and active developer community\n",
    "* GDAL also includes extensive support for vector datasets"
   ]
  },
  {
   "cell_type": "markdown",
   "metadata": {},
   "source": [
    "# 2. Raster data formats (gdalinfo)"
   ]
  },
  {
   "cell_type": "markdown",
   "metadata": {},
   "source": [
    "We use raster imagery formats every day of our life - when browsing the web. Any format that can represent a matrix of numbers like JPEG, PNG etc is a raster format. "
   ]
  },
  {
   "cell_type": "markdown",
   "metadata": {
    "heading_collapsed": true
   },
   "source": [
    "### Question: What formats does GDAL support?"
   ]
  },
  {
   "cell_type": "code",
   "execution_count": 4,
   "metadata": {
    "hidden": true
   },
   "outputs": [
    {
     "name": "stdout",
     "output_type": "stream",
     "text": [
      "Supported Formats:\r\n",
      "  KEA -raster- (rw+): KEA Image Format (.kea)\r\n",
      "  VRT -raster- (rw+v): Virtual Raster\r\n",
      "  DERIVED -raster- (ro): Derived datasets using VRT pixel functions\r\n",
      "  GTiff -raster- (rw+vs): GeoTIFF\r\n",
      "  NITF -raster- (rw+vs): National Imagery Transmission Format\r\n",
      "  RPFTOC -raster- (rovs): Raster Product Format TOC format\r\n",
      "  ECRGTOC -raster- (rovs): ECRG TOC format\r\n",
      "  HFA -raster- (rw+v): Erdas Imagine Images (.img)\r\n",
      "  SAR_CEOS -raster- (rov): CEOS SAR Image\r\n",
      "  CEOS -raster- (rov): CEOS Image\r\n",
      "  JAXAPALSAR -raster- (rov): JAXA PALSAR Product Reader (Level 1.1/1.5)\r\n",
      "  GFF -raster- (rov): Ground-based SAR Applications Testbed File Format (.gff)\r\n",
      "  ELAS -raster- (rw+v): ELAS\r\n",
      "  AIG -raster- (rov): Arc/Info Binary Grid\r\n",
      "  AAIGrid -raster- (rwv): Arc/Info ASCII Grid\r\n",
      "  GRASSASCIIGrid -raster- (rov): GRASS ASCII Grid\r\n",
      "  SDTS -raster- (rov): SDTS Raster\r\n",
      "  DTED -raster- (rwv): DTED Elevation Raster\r\n",
      "  PNG -raster- (rwv): Portable Network Graphics\r\n",
      "  JPEG -raster- (rwv): JPEG JFIF\r\n",
      "  MEM -raster- (rw+): In Memory Raster\r\n",
      "  JDEM -raster- (rov): Japanese DEM (.mem)\r\n",
      "  GIF -raster- (rwv): Graphics Interchange Format (.gif)\r\n",
      "  BIGGIF -raster- (rov): Graphics Interchange Format (.gif)\r\n",
      "  ESAT -raster- (rov): Envisat Image Format\r\n",
      "  XPM -raster- (rwv): X11 PixMap Format\r\n",
      "  BMP -raster- (rw+v): MS Windows Device Independent Bitmap\r\n",
      "  DIMAP -raster- (rov): SPOT DIMAP\r\n",
      "  AirSAR -raster- (rov): AirSAR Polarimetric Image\r\n",
      "  RS2 -raster- (rovs): RadarSat 2 XML Product\r\n",
      "  SAFE -raster- (rov): Sentinel-1 SAR SAFE Product\r\n",
      "  PCIDSK -raster,vector- (rw+v): PCIDSK Database File\r\n",
      "  PCRaster -raster- (rw+): PCRaster Raster File\r\n",
      "  ILWIS -raster- (rw+v): ILWIS Raster Map\r\n",
      "  SGI -raster- (rw+v): SGI Image File Format 1.0\r\n",
      "  SRTMHGT -raster- (rwv): SRTMHGT File Format\r\n",
      "  Leveller -raster- (rw+v): Leveller heightfield\r\n",
      "  Terragen -raster- (rw+v): Terragen heightfield\r\n",
      "  GMT -raster- (rw): GMT NetCDF Grid Format\r\n",
      "  netCDF -raster,vector- (rw+s): Network Common Data Format\r\n",
      "  HDF4 -raster- (ros): Hierarchical Data Format Release 4\r\n",
      "  HDF4Image -raster- (rw+): HDF4 Dataset\r\n",
      "  ISIS3 -raster- (rw+v): USGS Astrogeology ISIS cube (Version 3)\r\n",
      "  ISIS2 -raster- (rw+v): USGS Astrogeology ISIS cube (Version 2)\r\n",
      "  PDS -raster- (rov): NASA Planetary Data System\r\n",
      "  PDS4 -raster- (rw+vs): NASA Planetary Data System 4\r\n",
      "  VICAR -raster- (rov): MIPL VICAR file\r\n",
      "  TIL -raster- (rov): EarthWatch .TIL\r\n",
      "  ERS -raster- (rw+v): ERMapper .ers Labelled\r\n",
      "  JP2OpenJPEG -raster,vector- (rwv): JPEG-2000 driver based on OpenJPEG library\r\n",
      "  L1B -raster- (rovs): NOAA Polar Orbiter Level 1b Data Set\r\n",
      "  FIT -raster- (rwv): FIT Image\r\n",
      "  GRIB -raster- (rwv): GRIdded Binary (.grb, .grb2)\r\n",
      "  RMF -raster- (rw+v): Raster Matrix Format\r\n",
      "  WCS -raster- (rovs): OGC Web Coverage Service\r\n",
      "  WMS -raster- (rwvs): OGC Web Map Service\r\n",
      "  MSGN -raster- (rov): EUMETSAT Archive native (.nat)\r\n",
      "  RST -raster- (rw+v): Idrisi Raster A.1\r\n",
      "  INGR -raster- (rw+v): Intergraph Raster\r\n",
      "  GSAG -raster- (rwv): Golden Software ASCII Grid (.grd)\r\n",
      "  GSBG -raster- (rw+v): Golden Software Binary Grid (.grd)\r\n",
      "  GS7BG -raster- (rw+v): Golden Software 7 Binary Grid (.grd)\r\n",
      "  COSAR -raster- (rov): COSAR Annotated Binary Matrix (TerraSAR-X)\r\n",
      "  TSX -raster- (rov): TerraSAR-X Product\r\n",
      "  COASP -raster- (ro): DRDC COASP SAR Processor Raster\r\n",
      "  R -raster- (rwv): R Object Data Store\r\n",
      "  MAP -raster- (rov): OziExplorer .MAP\r\n",
      "  KMLSUPEROVERLAY -raster- (rwv): Kml Super Overlay\r\n",
      "  WEBP -raster- (rwv): WEBP\r\n",
      "  PDF -raster,vector- (w+): Geospatial PDF\r\n",
      "  Rasterlite -raster- (rwvs): Rasterlite\r\n",
      "  MBTiles -raster,vector- (rw+v): MBTiles\r\n",
      "  PLMOSAIC -raster- (ro): Planet Labs Mosaics API\r\n",
      "  CALS -raster- (rwv): CALS (Type 1)\r\n",
      "  WMTS -raster- (rwv): OGC Web Map Tile Service\r\n",
      "  SENTINEL2 -raster- (rovs): Sentinel 2\r\n",
      "  MRF -raster- (rw+v): Meta Raster Format\r\n",
      "  PNM -raster- (rw+v): Portable Pixmap Format (netpbm)\r\n",
      "  DOQ1 -raster- (rov): USGS DOQ (Old Style)\r\n",
      "  DOQ2 -raster- (rov): USGS DOQ (New Style)\r\n",
      "  PAux -raster- (rw+v): PCI .aux Labelled\r\n",
      "  MFF -raster- (rw+v): Vexcel MFF Raster\r\n",
      "  MFF2 -raster- (rw+): Vexcel MFF2 (HKV) Raster\r\n",
      "  FujiBAS -raster- (rov): Fuji BAS Scanner Image\r\n",
      "  GSC -raster- (rov): GSC Geogrid\r\n",
      "  FAST -raster- (rov): EOSAT FAST Format\r\n",
      "  BT -raster- (rw+v): VTP .bt (Binary Terrain) 1.3 Format\r\n",
      "  LAN -raster- (rw+v): Erdas .LAN/.GIS\r\n",
      "  CPG -raster- (rov): Convair PolGASP\r\n",
      "  IDA -raster- (rw+v): Image Data and Analysis\r\n",
      "  NDF -raster- (rov): NLAPS Data Format\r\n",
      "  EIR -raster- (rov): Erdas Imagine Raw\r\n",
      "  DIPEx -raster- (rov): DIPEx\r\n",
      "  LCP -raster- (rwv): FARSITE v.4 Landscape File (.lcp)\r\n",
      "  GTX -raster- (rw+v): NOAA Vertical Datum .GTX\r\n",
      "  LOSLAS -raster- (rov): NADCON .los/.las Datum Grid Shift\r\n",
      "  NTv2 -raster- (rw+vs): NTv2 Datum Grid Shift\r\n",
      "  CTable2 -raster- (rw+v): CTable2 Datum Grid Shift\r\n",
      "  ACE2 -raster- (rov): ACE2\r\n",
      "  SNODAS -raster- (rov): Snow Data Assimilation System\r\n",
      "  KRO -raster- (rw+v): KOLOR Raw\r\n",
      "  ROI_PAC -raster- (rw+v): ROI_PAC raster\r\n",
      "  RRASTER -raster- (rw+v): R Raster\r\n",
      "  ARG -raster- (rwv): Azavea Raster Grid format\r\n",
      "  RIK -raster- (rov): Swedish Grid RIK (.rik)\r\n",
      "  USGSDEM -raster- (rwv): USGS Optional ASCII DEM (and CDED)\r\n",
      "  GXF -raster- (rov): GeoSoft Grid Exchange Format\r\n",
      "  BAG -raster- (ro): Bathymetry Attributed Grid\r\n",
      "  HDF5 -raster- (ros): Hierarchical Data Format Release 5\r\n",
      "  HDF5Image -raster- (ro): HDF5 Dataset\r\n",
      "  NWT_GRD -raster- (rw+v): Northwood Numeric Grid Format .grd/.tab\r\n",
      "  NWT_GRC -raster- (rov): Northwood Classified Grid Format .grc/.tab\r\n",
      "  ADRG -raster- (rw+vs): ARC Digitized Raster Graphics\r\n",
      "  SRP -raster- (rovs): Standard Raster Product (ASRP/USRP)\r\n",
      "  BLX -raster- (rwv): Magellan topo (.blx)\r\n",
      "  PostGISRaster -raster- (rws): PostGIS Raster driver\r\n",
      "  SAGA -raster- (rw+v): SAGA GIS Binary Grid (.sdat, .sg-grd-z)\r\n",
      "  XYZ -raster- (rwv): ASCII Gridded XYZ\r\n",
      "  HF2 -raster- (rwv): HF2/HFZ heightfield raster\r\n",
      "  JPEGLS -raster- (rwv): JPEGLS\r\n",
      "  OZI -raster- (rov): OziExplorer Image File\r\n",
      "  CTG -raster- (rov): USGS LULC Composite Theme Grid\r\n",
      "  E00GRID -raster- (rov): Arc/Info Export E00 GRID\r\n",
      "  ZMap -raster- (rwv): ZMap Plus Grid\r\n",
      "  NGSGEOID -raster- (rov): NOAA NGS Geoid Height Grids\r\n",
      "  IRIS -raster- (rov): IRIS data (.PPI, .CAPPi etc)\r\n",
      "  PRF -raster- (rov): Racurs PHOTOMOD PRF\r\n",
      "  RDA -raster- (ro): DigitalGlobe Raster Data Access driver\r\n",
      "  GPKG -raster,vector- (rw+vs): GeoPackage\r\n",
      "  CAD -raster,vector- (rovs): AutoCAD Driver\r\n",
      "  PLSCENES -raster,vector- (ro): Planet Labs Scenes API\r\n",
      "  GenBin -raster- (rov): Generic Binary (.hdr Labelled)\r\n",
      "  ENVI -raster- (rw+v): ENVI .hdr Labelled\r\n",
      "  EHdr -raster- (rw+v): ESRI .hdr Labelled\r\n",
      "  ISCE -raster- (rw+v): ISCE raster\r\n",
      "  HTTP -raster,vector- (ro): HTTP Fetching Wrapper\r\n"
     ]
    }
   ],
   "source": [
    "!gdalinfo --formats"
   ]
  },
  {
   "cell_type": "markdown",
   "metadata": {
    "heading_collapsed": true
   },
   "source": [
    "### Question: Does GDAL support all these formats equally well?"
   ]
  },
  {
   "cell_type": "markdown",
   "metadata": {
    "hidden": true
   },
   "source": [
    "**No.** \n",
    "* GDAL was primarily designed to work with GeoTiffs. \n",
    "* Other formats evolved over time and support for many formats is community-contributed. \n",
    "* GDAL does not attempt to support all the features of all data formats. \n",
    "* GDAL attempts to support basic geospatial data representation functionality for these formats. "
   ]
  },
  {
   "cell_type": "markdown",
   "metadata": {},
   "source": [
    "### Question: What are the basic functionalities that GDAL attempts to support?"
   ]
  },
  {
   "cell_type": "markdown",
   "metadata": {},
   "source": [
    "This question is best answered using actual examples and the **gdalinfo** command.\n",
    "\n",
    "We will explore the data in the sub-folder **DEM** for this exercise."
   ]
  },
  {
   "cell_type": "code",
   "execution_count": 6,
   "metadata": {},
   "outputs": [
    {
     "name": "stdout",
     "output_type": "stream",
     "text": [
      "N34W120.SRTMGL3.hgt.zip  dem_ortho.grd            opentopo.tif\r\n",
      "N34W120.hgt              getopen.sh\r\n"
     ]
    }
   ],
   "source": [
    "ls DEM"
   ]
  },
  {
   "cell_type": "markdown",
   "metadata": {},
   "source": [
    "You should see three different files that essentially contain the same information. \n",
    "\n",
    "1. N34W120.SRTMGL3.hgt.zip and N34W120.hgt - SRTM tile downloaded from NASA's LPDAAC\n",
    "2. dem_ortho.grd - SRTM DEM downloaded via GMTSAR's dem service\n",
    "3. opentopo.tif - SRTM DEM downloaded via the OpenTopography service\n",
    "\n",
    "Let's run **gdalinfo** on all these files."
   ]
  },
  {
   "cell_type": "code",
   "execution_count": 7,
   "metadata": {},
   "outputs": [
    {
     "name": "stdout",
     "output_type": "stream",
     "text": [
      "Driver: SRTMHGT/SRTMHGT File Format\r\n",
      "Files: DEM/N34W120.hgt\r\n",
      "Size is 1201, 1201\r\n",
      "Coordinate System is:\r\n",
      "GEOGCS[\"WGS 84\",\r\n",
      "    DATUM[\"WGS_1984\",\r\n",
      "        SPHEROID[\"WGS 84\",6378137,298.257223563,\r\n",
      "            AUTHORITY[\"EPSG\",\"7030\"]],\r\n",
      "        AUTHORITY[\"EPSG\",\"6326\"]],\r\n",
      "    PRIMEM[\"Greenwich\",0,\r\n",
      "        AUTHORITY[\"EPSG\",\"8901\"]],\r\n",
      "    UNIT[\"degree\",0.0174532925199433,\r\n",
      "        AUTHORITY[\"EPSG\",\"9122\"]],\r\n",
      "    AUTHORITY[\"EPSG\",\"4326\"]]\r\n",
      "Origin = (-120.000416666666666,35.000416666666666)\r\n",
      "Pixel Size = (0.000833333333333,-0.000833333333333)\r\n",
      "Metadata:\r\n",
      "  AREA_OR_POINT=Point\r\n",
      "Corner Coordinates:\r\n",
      "Upper Left  (-120.0004167,  35.0004167) (120d 0' 1.50\"W, 35d 0' 1.50\"N)\r\n",
      "Lower Left  (-120.0004167,  33.9995833) (120d 0' 1.50\"W, 33d59'58.50\"N)\r\n",
      "Upper Right (-118.9995833,  35.0004167) (118d59'58.50\"W, 35d 0' 1.50\"N)\r\n",
      "Lower Right (-118.9995833,  33.9995833) (118d59'58.50\"W, 33d59'58.50\"N)\r\n",
      "Center      (-119.5000000,  34.5000000) (119d30' 0.00\"W, 34d30' 0.00\"N)\r\n",
      "Band 1 Block=1201x1 Type=Int16, ColorInterp=Undefined\r\n",
      "  NoData Value=-32768\r\n",
      "  Unit Type: m\r\n"
     ]
    }
   ],
   "source": [
    "!gdalinfo DEM/N34W120.hgt"
   ]
  },
  {
   "cell_type": "code",
   "execution_count": 8,
   "metadata": {},
   "outputs": [
    {
     "name": "stdout",
     "output_type": "stream",
     "text": [
      "Driver: netCDF/Network Common Data Format\r\n",
      "Files: DEM/dem_ortho.grd\r\n",
      "Size is 1201, 1201\r\n",
      "Coordinate System is `'\r\n",
      "Origin = (-120.000416666666666,35.000416666666666)\r\n",
      "Pixel Size = (0.000833333333333,-0.000833333333333)\r\n",
      "Metadata:\r\n",
      "  NC_GLOBAL#Conventions=COARDS/CF-1.0\r\n",
      "  NC_GLOBAL#GMT_version=4.5.7 [64-bit]\r\n",
      "  NC_GLOBAL#history=grdreformat all.grd=nf/1/0/-32768 dem_ortho.grd\r\n",
      "  NC_GLOBAL#title=all.grd\r\n",
      "  x#actual_range={-120,-119}\r\n",
      "  x#long_name=x\r\n",
      "  y#actual_range={34,35}\r\n",
      "  y#long_name=y\r\n",
      "  z#actual_range={-7,2690}\r\n",
      "  z#long_name=z\r\n",
      "  z#_FillValue=nan\r\n",
      "Corner Coordinates:\r\n",
      "Upper Left  (-120.0004167,  35.0004167) \r\n",
      "Lower Left  (-120.0004167,  33.9995833) \r\n",
      "Upper Right (-118.9995833,  35.0004167) \r\n",
      "Lower Right (-118.9995833,  33.9995833) \r\n",
      "Center      (-119.5000000,  34.5000000) \r\n",
      "Band 1 Block=1201x1 Type=Float32, ColorInterp=Undefined\r\n",
      "  NoData Value=nan\r\n",
      "  Metadata:\r\n",
      "    actual_range={-7,2690}\r\n",
      "    long_name=z\r\n",
      "    NETCDF_VARNAME=z\r\n",
      "    _FillValue=nan\r\n"
     ]
    }
   ],
   "source": [
    "!gdalinfo DEM/dem_ortho.grd"
   ]
  },
  {
   "cell_type": "code",
   "execution_count": 9,
   "metadata": {},
   "outputs": [
    {
     "name": "stdout",
     "output_type": "stream",
     "text": [
      "Driver: GTiff/GeoTIFF\r\n",
      "Files: DEM/opentopo.tif\r\n",
      "Size is 1200, 1200\r\n",
      "Coordinate System is:\r\n",
      "GEOGCS[\"WGS 84\",\r\n",
      "    DATUM[\"WGS_1984\",\r\n",
      "        SPHEROID[\"WGS 84\",6378137,298.257223563,\r\n",
      "            AUTHORITY[\"EPSG\",\"7030\"]],\r\n",
      "        AUTHORITY[\"EPSG\",\"6326\"]],\r\n",
      "    PRIMEM[\"Greenwich\",0],\r\n",
      "    UNIT[\"degree\",0.0174532925199433],\r\n",
      "    AUTHORITY[\"EPSG\",\"4326\"]]\r\n",
      "Origin = (-120.000416666680309,35.000416666672351)\r\n",
      "Pixel Size = (0.000833333333333,-0.000833333333333)\r\n",
      "Metadata:\r\n",
      "  AREA_OR_POINT=Area\r\n",
      "Image Structure Metadata:\r\n",
      "  INTERLEAVE=BAND\r\n",
      "Corner Coordinates:\r\n",
      "Upper Left  (-120.0004167,  35.0004167) (120d 0' 1.50\"W, 35d 0' 1.50\"N)\r\n",
      "Lower Left  (-120.0004167,  34.0004167) (120d 0' 1.50\"W, 34d 0' 1.50\"N)\r\n",
      "Upper Right (-119.0004167,  35.0004167) (119d 0' 1.50\"W, 35d 0' 1.50\"N)\r\n",
      "Lower Right (-119.0004167,  34.0004167) (119d 0' 1.50\"W, 34d 0' 1.50\"N)\r\n",
      "Center      (-119.5004167,  34.5004167) (119d30' 1.50\"W, 34d30' 1.50\"N)\r\n",
      "Band 1 Block=1200x3 Type=Int16, ColorInterp=Gray\r\n",
      "  NoData Value=-32768\r\n"
     ]
    }
   ],
   "source": [
    "!gdalinfo DEM/opentopo.tif"
   ]
  },
  {
   "cell_type": "markdown",
   "metadata": {},
   "source": [
    "The basic raster data functionality that GDAL supports is \n",
    "1. Representation of simple 2D matrix like data structures\n",
    "   - Number of these 2D images of same size can be stacked as bands in a single image (remember unw/cor files from ISCE)\n",
    "2. Representation of map coordinate information\n",
    "3. Setting of masks and nodata values\n",
    "4. Setting of Ground Control Points (GCP)\n",
    "   - Try **gdalinfo** on a Sentinel-1 tiff file"
   ]
  },
  {
   "cell_type": "markdown",
   "metadata": {},
   "source": [
    "### What other information can I quickly gather about raster data?"
   ]
  },
  {
   "cell_type": "markdown",
   "metadata": {},
   "source": [
    "**gdalinfo** can help report statistics and histograms for your datasets. Some formats include support for such representations internally and some don't. GDAL will identify the input format and use a reasonable approach to generate these."
   ]
  },
  {
   "cell_type": "code",
   "execution_count": 10,
   "metadata": {},
   "outputs": [
    {
     "name": "stdout",
     "output_type": "stream",
     "text": [
      "Driver: SRTMHGT/SRTMHGT File Format\n",
      "Files: DEM/N34W120.hgt\n",
      "Size is 1201, 1201\n",
      "Coordinate System is:\n",
      "GEOGCS[\"WGS 84\",\n",
      "    DATUM[\"WGS_1984\",\n",
      "        SPHEROID[\"WGS 84\",6378137,298.257223563,\n",
      "            AUTHORITY[\"EPSG\",\"7030\"]],\n",
      "        AUTHORITY[\"EPSG\",\"6326\"]],\n",
      "    PRIMEM[\"Greenwich\",0,\n",
      "        AUTHORITY[\"EPSG\",\"8901\"]],\n",
      "    UNIT[\"degree\",0.0174532925199433,\n",
      "        AUTHORITY[\"EPSG\",\"9122\"]],\n",
      "    AUTHORITY[\"EPSG\",\"4326\"]]\n",
      "Origin = (-120.000416666666666,35.000416666666666)\n",
      "Pixel Size = (0.000833333333333,-0.000833333333333)\n",
      "Metadata:\n",
      "  AREA_OR_POINT=Point\n",
      "Corner Coordinates:\n",
      "Upper Left  (-120.0004167,  35.0004167) (120d 0' 1.50\"W, 35d 0' 1.50\"N)\n",
      "Lower Left  (-120.0004167,  33.9995833) (120d 0' 1.50\"W, 33d59'58.50\"N)\n",
      "Upper Right (-118.9995833,  35.0004167) (118d59'58.50\"W, 35d 0' 1.50\"N)\n",
      "Lower Right (-118.9995833,  33.9995833) (118d59'58.50\"W, 33d59'58.50\"N)\n",
      "Center      (-119.5000000,  34.5000000) (119d30' 0.00\"W, 34d30' 0.00\"N)\n",
      "Band 1 Block=1201x1 Type=Int16, ColorInterp=Undefined\n",
      "  Minimum=-7.000, Maximum=2690.000, Mean=629.985, StdDev=613.197\n",
      "  NoData Value=-32768\n",
      "  Unit Type: m\n",
      "  Metadata:\n",
      "    STATISTICS_MAXIMUM=2690\n",
      "    STATISTICS_MEAN=629.98525722044\n",
      "    STATISTICS_MINIMUM=-7\n",
      "    STATISTICS_STDDEV=613.19740114364\n"
     ]
    }
   ],
   "source": [
    "!gdalinfo -stats DEM/N34W120.hgt"
   ]
  },
  {
   "cell_type": "code",
   "execution_count": null,
   "metadata": {},
   "outputs": [],
   "source": []
  }
 ],
 "metadata": {
  "kernelspec": {
   "display_name": "Python 3",
   "language": "python",
   "name": "python3"
  },
  "language_info": {
   "codemirror_mode": {
    "name": "ipython",
    "version": 3
   },
   "file_extension": ".py",
   "mimetype": "text/x-python",
   "name": "python",
   "nbconvert_exporter": "python",
   "pygments_lexer": "ipython3",
   "version": "3.6.6"
  }
 },
 "nbformat": 4,
 "nbformat_minor": 2
}
