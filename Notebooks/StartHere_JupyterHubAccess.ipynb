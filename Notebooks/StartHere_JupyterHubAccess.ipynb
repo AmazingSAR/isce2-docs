{
 "cells": [
  {
   "cell_type": "markdown",
   "metadata": {
    "slideshow": {
     "slide_type": "slide"
    }
   },
   "source": [
    "<center><h1>Welcome to UNAVCO Short Course</h1></center>\n",
    "\n",
    "<center><h2>On InSAR Processing and Theory</h2></center>\n",
    "<center> <h2> Aug 13-17, 2018 </h2><center>\n",
    "    <center><h3>Paul Rosen, Piyush Agram, David Bekaert, Heresh Fattahi (JPL)</h3></center>\n",
    "    <center><h3>Gareth Funning (UC Riverside)</h3></center>\n",
    "    <center><h3>Scott Baker (UNAVCO)</h3></center>"
   ]
  },
  {
   "cell_type": "markdown",
   "metadata": {
    "slideshow": {
     "slide_type": "slide"
    }
   },
   "source": [
    "<center><h2>To log into your Jupyter hub account </h2></center>\n",
    "<center><h3>https://149.165.157.145/hub/login</h3></center>\n",
    "\n",
    "<center> Login with your credentials </center>\n",
    "<center>Bookmark this URL in your browser </center>"
   ]
  },
  {
   "cell_type": "markdown",
   "metadata": {
    "slideshow": {
     "slide_type": "slide"
    }
   },
   "source": [
    "<center><h2>Types of Jupyter interfaces </h2></center>\n",
    "\n",
    "There are 3 different Jupyter environments that you can work with\n",
    "\n",
    "1. Jupyter Lab \n",
    "\n",
    "2. Jupyter notebook\n"
   ]
  },
  {
   "cell_type": "markdown",
   "metadata": {
    "slideshow": {
     "slide_type": "slide"
    }
   },
   "source": [
    "<center> <h2>Jupyter Lab </h2></center>\n",
    "\n",
    "<center><img src=\"screenshots/Lab.png\" width=\"800\"/></center>\n"
   ]
  },
  {
   "cell_type": "markdown",
   "metadata": {
    "slideshow": {
     "slide_type": "slide"
    }
   },
   "source": [
    "<center><h2>Jupyter Notebook</h2></center>\n",
    "\n",
    "<center><img src=\"screenshots/Notebook.png\" width=\"800\"/></center>"
   ]
  },
  {
   "cell_type": "markdown",
   "metadata": {
    "slideshow": {
     "slide_type": "slide"
    }
   },
   "source": [
    "<center> <h2> Which Jupyter environment to use? </h2></center>\n",
    "\n",
    "1. Instructors will tell you which environment to use \n",
    "\n",
    "\n",
    "2. The notebook environment can be easily replicated on your laptops using macports / conda\n",
    "\n",
    "3. The lab environment will allow you to have a terminal open along with your notebook in the same tab"
   ]
  },
  {
   "cell_type": "markdown",
   "metadata": {
    "slideshow": {
     "slide_type": "slide"
    }
   },
   "source": [
    "<center><h2>Ground rules</h2></center>\n",
    "\n",
    "1. Your user name on the machine in \"jovyan\"\n",
    "\n",
    "2. You will see 2 folders in /home/jovyan\n",
    "```\n",
    "   /home/jovyan\n",
    "      |- course-material\n",
    "      |- work\n",
    "```      \n",
    "3. \"course-material\" is read only folder. You cannot edit contents in this folder. \n",
    "\n",
    "4. \"work\" is where you will execute all the exercises. You will copy over data from \"course-material\" as needed.\n",
    "\n",
    "5. Do not create anything outside the \"work\" folder. This will note be saved between sessions."
   ]
  },
  {
   "cell_type": "markdown",
   "metadata": {
    "slideshow": {
     "slide_type": "slide"
    }
   },
   "source": [
    "<center><h1>course-material</h1></center>\n",
    "\n",
    "```bash\n",
    "   /data/course-material\n",
    "      |- datasets\n",
    "      |- notebooks\n",
    "```\n",
    "\n",
    "1. **notebooks** folder contains all the notebooks for the exercises\n",
    "   - Any updates made by instructors will update this folder\n",
    "\n",
    "2. Copy this over to the **work** area for the exercises as needed\n",
    "\n",
    "3. **datasets** folder contains data for the exercises\n",
    "   - You will either download data as part of the exercise or use data from this folder as needed"
   ]
  }
 ],
 "metadata": {
  "celltoolbar": "Slideshow",
  "kernelspec": {
   "display_name": "Python 3",
   "language": "python",
   "name": "python3"
  },
  "language_info": {
   "codemirror_mode": {
    "name": "ipython",
    "version": 3
   },
   "file_extension": ".py",
   "mimetype": "text/x-python",
   "name": "python",
   "nbconvert_exporter": "python",
   "pygments_lexer": "ipython3",
   "version": "3.6.6"
  }
 },
 "nbformat": 4,
 "nbformat_minor": 2
}
