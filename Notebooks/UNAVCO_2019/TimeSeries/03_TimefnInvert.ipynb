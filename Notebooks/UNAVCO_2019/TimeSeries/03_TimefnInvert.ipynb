{
 "cells": [
  {
   "cell_type": "markdown",
   "metadata": {},
   "source": [
    "# TimefnInvert.py "
   ]
  },
  {
   "cell_type": "markdown",
   "metadata": {},
   "source": [
    "This is the simplest time-series inversion method that can handle disconnected interferogram networks. The time-series inversion is driven by a model for deformation provided by the users. "
   ]
  },
  {
   "cell_type": "code",
   "execution_count": null,
   "metadata": {},
   "outputs": [],
   "source": [
    "cd /home/jovyan/work/notebooks/TimeSeries/GRFN/GIAnT"
   ]
  },
  {
   "cell_type": "markdown",
   "metadata": {},
   "source": [
    "## 1. Recap"
   ]
  },
  {
   "cell_type": "markdown",
   "metadata": {},
   "source": [
    "For our GRFN dataset, we have a good idea on when the eruptions occured. \n",
    "\n",
    "Here is a link related to the eruptions: https://disasters.nasa.gov/kilauea-hawaii-eruption-2018\n",
    "\n",
    "This was confirmed by inspection of the SBAS time-series in the **plotts_notebook**.\n"
   ]
  },
  {
   "cell_type": "markdown",
   "metadata": {},
   "source": [
    "## 2. How can we represent the deformation mathematically?"
   ]
  },
  {
   "cell_type": "markdown",
   "metadata": {},
   "source": [
    "1. We noticed that the eruption occured sometime between Apr-23-2018 and May-5-2018.\n",
    "\n",
    "2. Reading up on the event, we know that the eruption actually occured on May-3-2018.\n",
    "\n",
    "3. We also noticed that the rate of displacement was different before and after the eruption. \n",
    "\n",
    "4. How can we capture this as a math function?"
   ]
  },
  {
   "cell_type": "markdown",
   "metadata": {},
   "source": [
    "Here is one possible candidate?\n",
    "\n",
    "$$d(t) = v * \\left(t - t_0 \\right) + a * \\left( t - t_0 \\right)^2 + D \\cdot u \\left(t - t_{erupt} \\right) $$\n",
    "\n",
    "\n",
    "How can we use GIAnT to estimate the parameters $v$, $a$ and $D$?"
   ]
  },
  {
   "cell_type": "markdown",
   "metadata": {},
   "source": [
    "## 3. Updating userfn.py with Timefn"
   ]
  },
  {
   "cell_type": "markdown",
   "metadata": {},
   "source": [
    "**Appendix B** of the GIAnT user manual provides details on how different math functions can be combined into a model. \n",
    "\n",
    "The list of functions that operate supported by GIAnT are shown below. These functions are evaluated on time elapsed in fractional years since the first acquisition."
   ]
  },
  {
   "cell_type": "markdown",
   "metadata": {},
   "source": [
    "<table>\n",
    "    <thead>\n",
    "        <tr>\n",
    "            <td>Function name</td><td>Description</td>\n",
    "        </tr>\n",
    "    </thead>\n",
    "    <tr>\n",
    "        <td>Linear</td><td>Constant rate of deformation</td>\n",
    "    </tr>\n",
    "    <tr>\n",
    "        <td>Polynomial</td><td>Polynomial of specified order</td>\n",
    "    </tr>\n",
    "    <tr>\n",
    "        <td>Power</td><td>Time raised to specified order</td>\n",
    "    </tr>\n",
    "    <tr>\n",
    "        <td>Exponential decay</td><td>For transient signals</td>\n",
    "    </tr>\n",
    "    <tr>\n",
    "        <td>Logarithmic decay</td><td>For transient signals</td>\n",
    "    </tr>\n",
    "    <tr>\n",
    "        <td>Step function </td><td>Modeling coseismic jumps</td>\n",
    "    </tr>\n",
    "    <tr>\n",
    "        <td>B-splines</td><td>For transients, used with regularization</td>\n",
    "    </tr>\n",
    "    <tr>\n",
    "        <td>Integrated B-splines</td><td>For transients, used with regularization</td>\n",
    "    </tr>\n",
    "</table>\n",
    "        "
   ]
  },
  {
   "cell_type": "markdown",
   "metadata": {},
   "source": [
    "Let's add the model representation shown above to **userfn.py**. To do this, we need to know the eruption time in fractional years since the first acquisition. Let's read the dates from **RAW-STACK.h5** and figure this out."
   ]
  },
  {
   "cell_type": "code",
   "execution_count": null,
   "metadata": {},
   "outputs": [],
   "source": [
    "import h5py\n",
    "import datetime\n",
    "\n",
    "fid = h5py.File('Stack/RAW-STACK.h5')\n",
    "firstdate = fid['dates'][0]\n",
    "fid.close()\n",
    "\n",
    "print('First date: ', datetime.date.fromordinal(int(firstdate)))"
   ]
  },
  {
   "cell_type": "markdown",
   "metadata": {},
   "source": [
    "Now that we have the dates, we can add the following to **userfn.py**\n",
    "\n",
    "```python\n",
    "def timedict():\n",
    "    import datetime\n",
    "    t_erupt = (datetime.date(2018,5,3) - datetime.date(2018,3,30)).days/365.25\n",
    "    \n",
    "    rep = [['POLY', [2], [0.]],\n",
    "           ['STEP', [t_erupt]]]\n",
    "    return rep\n",
    "```"
   ]
  },
  {
   "cell_type": "code",
   "execution_count": null,
   "metadata": {},
   "outputs": [],
   "source": [
    "#Look at userfn.py to confirm changes\n",
    "!cat userfn.py"
   ]
  },
  {
   "cell_type": "markdown",
   "metadata": {},
   "source": [
    "## 4. Run TimefnInvert.py"
   ]
  },
  {
   "cell_type": "code",
   "execution_count": null,
   "metadata": {},
   "outputs": [],
   "source": [
    "!TimefnInvert.py"
   ]
  },
  {
   "cell_type": "markdown",
   "metadata": {},
   "source": [
    "## 4. Looking at the outputs"
   ]
  },
  {
   "cell_type": "code",
   "execution_count": null,
   "metadata": {},
   "outputs": [],
   "source": [
    "##List contents \n",
    "!ls -ltr "
   ]
  },
  {
   "cell_type": "code",
   "execution_count": null,
   "metadata": {},
   "outputs": [],
   "source": [
    "##List contents of Stack\n",
    "!ls Stack/*"
   ]
  },
  {
   "cell_type": "markdown",
   "metadata": {},
   "source": [
    "### Exploring contents of the HDF5 file from command line"
   ]
  },
  {
   "cell_type": "code",
   "execution_count": null,
   "metadata": {},
   "outputs": [],
   "source": [
    "##Using HDF5 tools\n",
    "!h5ls Stack/TS-PARAMS.h5"
   ]
  },
  {
   "cell_type": "code",
   "execution_count": null,
   "metadata": {},
   "outputs": [],
   "source": [
    "##More verbose\n",
    "!h5ls -v Stack/TS-PARAMS.h5"
   ]
  },
  {
   "cell_type": "code",
   "execution_count": null,
   "metadata": {},
   "outputs": [],
   "source": [
    "##Using gdal\n",
    "!gdalinfo Stack/TS-PARAMS.h5"
   ]
  },
  {
   "cell_type": "markdown",
   "metadata": {},
   "source": [
    "## 5. Visualizing the estimated model"
   ]
  },
  {
   "cell_type": "code",
   "execution_count": null,
   "metadata": {},
   "outputs": [],
   "source": [
    "import h5py\n",
    "\n",
    "##Lets get the data\n",
    "fid = h5py.File('Stack/TS-PARAMS.h5', 'r')\n",
    "\n",
    "\n",
    "#Read model names\n",
    "mname = fid['mName'][:]\n",
    "print(mname)\n",
    "\n",
    "#Load model\n",
    "model = fid['parms'][:]\n",
    "\n",
    "fid.close()"
   ]
  },
  {
   "cell_type": "code",
   "execution_count": null,
   "metadata": {},
   "outputs": [],
   "source": [
    "%matplotlib inline\n",
    "\n",
    "import matplotlib.pyplot as plt\n",
    "\n",
    "plt.figure(figsize=(10,12))\n",
    "for ii in range(4):\n",
    "    plt.subplot(2,2,ii+1)\n",
    "    plt.imshow(model[:,:,ii]);\n",
    "    plt.colorbar();\n",
    "    plt.title(mname[0])"
   ]
  },
  {
   "cell_type": "markdown",
   "metadata": {},
   "source": [
    "### Lets move on to the plotts_notebook to look at the estimated time-series"
   ]
  }
 ],
 "metadata": {
  "kernelspec": {
   "display_name": "Python 3",
   "language": "python",
   "name": "python3"
  },
  "language_info": {
   "codemirror_mode": {
    "name": "ipython",
    "version": 3
   },
   "file_extension": ".py",
   "mimetype": "text/x-python",
   "name": "python",
   "nbconvert_exporter": "python",
   "pygments_lexer": "ipython3",
   "version": "3.6.6"
  }
 },
 "nbformat": 4,
 "nbformat_minor": 2
}
