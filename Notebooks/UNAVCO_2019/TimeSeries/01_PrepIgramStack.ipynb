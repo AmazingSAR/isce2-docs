{
 "cells": [
  {
   "cell_type": "markdown",
   "metadata": {},
   "source": [
    "# PrepIgramStack.py "
   ]
  },
  {
   "cell_type": "markdown",
   "metadata": {},
   "source": [
    "This is the first step of GIAnT processing. This step requires 3 inputs:\n",
    "\n",
    "1. **example.rsc** - ROI_PAC metadata file \n",
    "\n",
    "2. **ifg.list** - List of interferograms \n",
    "\n",
    "3. **prepdataxml.py** - Script to setup XML file to describe data formats\n",
    "\n",
    "4. **userfn.py** - Functions to map dates to files on disk\n",
    "\n",
    "We will walk through each of these in detail in this notebook and run **PrepIgramStack.py** after setting up the inputs."
   ]
  },
  {
   "cell_type": "code",
   "execution_count": 2,
   "metadata": {},
   "outputs": [
    {
     "name": "stdout",
     "output_type": "stream",
     "text": [
      "/home/jovyan/work/notebooks/TimeSeries/GRFN/GIAnT\n"
     ]
    }
   ],
   "source": [
    "cd /home/jovyan/work/notebooks/TimeSeries/GRFN/GIAnT"
   ]
  },
  {
   "cell_type": "markdown",
   "metadata": {},
   "source": [
    "## 1. example.rsc"
   ]
  },
  {
   "cell_type": "markdown",
   "metadata": {},
   "source": [
    "**example.rsc** is a simple key-value pair text file with metadata in ROI_PAC rsc format. Let's take a look."
   ]
  },
  {
   "cell_type": "code",
   "execution_count": 3,
   "metadata": {},
   "outputs": [
    {
     "name": "stdout",
     "output_type": "stream",
     "text": [
      "WIDTH     1800\r\n",
      "FILE_LENGTH 1620\r\n",
      "HEADING_DEG  -12.0 \r\n",
      "WAVELENGTH   0.031228381041666666\r\n",
      "CENTER_LINE_UTC   43200\r\n"
     ]
    }
   ],
   "source": [
    "!cat example.rsc"
   ]
  },
  {
   "cell_type": "markdown",
   "metadata": {},
   "source": [
    "Shown above is the bare minimum rsc file needed to process data with GIAnT."
   ]
  },
  {
   "cell_type": "markdown",
   "metadata": {},
   "source": [
    "## 2. ifg.list"
   ]
  },
  {
   "cell_type": "markdown",
   "metadata": {},
   "source": [
    "**ifg.list** is simple four-column text file in the format\n",
    "\n",
    "|primary-yyyymmdd | secondary-yyyymmdd | bperp | sensor name|\n",
    "-----------------------------------------------------\n",
    "\n",
    "We generated this file as part of the **PrepGIAnT** notebook. Let's take a look at it."
   ]
  },
  {
   "cell_type": "code",
   "execution_count": 2,
   "metadata": {},
   "outputs": [
    {
     "name": "stdout",
     "output_type": "stream",
     "text": [
      "20180423  20180330  0.0  S1\r\n",
      "20180423  20180411  0.0  S1\r\n",
      "20180505  20180411  0.0  S1\r\n",
      "20180517  20180423  0.0  S1\r\n",
      "20180505  20180423  0.0  S1\r\n",
      "20180517  20180505  0.0  S1\r\n",
      "20180529  20180505  0.0  S1\r\n",
      "20180517  20180511  0.0  S1\r\n",
      "20180604  20180511  0.0  S1\r\n",
      "20180529  20180511  0.0  S1\r\n",
      "20180610  20180517  0.0  S1\r\n",
      "20180604  20180517  0.0  S1\r\n",
      "20180529  20180517  0.0  S1\r\n",
      "20180529  20180523  0.0  S1\r\n",
      "20180610  20180523  0.0  S1\r\n",
      "20180604  20180523  0.0  S1\r\n",
      "20180604  20180529  0.0  S1\r\n",
      "20180610  20180529  0.0  S1\r\n",
      "20180610  20180604  0.0  S1\r\n"
     ]
    }
   ],
   "source": [
    "!cat ifg.list"
   ]
  },
  {
   "cell_type": "markdown",
   "metadata": {},
   "source": [
    "### Some comments\n",
    "\n",
    "1. For this exercise, we are not going to use the baseline information for estimating the time-series. Hence, we have set it to 0.0. \n",
    "\n",
    "2. We are also using data from a single sensor. Hence, we have picked **S1** as our sensor name. One should use different sensor names if combining data from different instruments.\n",
    "\n",
    "3. Dates can also be supplied in yymmdd format, where it is assumed that the date is after the year 2000. It's best to use 4 digits for the year."
   ]
  },
  {
   "cell_type": "markdown",
   "metadata": {},
   "source": [
    "## 3. prepdataxml.py "
   ]
  },
  {
   "cell_type": "markdown",
   "metadata": {},
   "source": [
    "GIAnT is designed to use XML files as inputs. However, to make things easier for the users, a python utility has been provided to generate the XML input files. We use one such utility to generate the input XML file.\n",
    "\n",
    "Let's take a look at the **prepdataxml.py** file and understand the inputs that are being set. "
   ]
  },
  {
   "cell_type": "code",
   "execution_count": 4,
   "metadata": {},
   "outputs": [
    {
     "name": "stdout",
     "output_type": "stream",
     "text": [
      "\r\n",
      "#!/usr/bin/env python\r\n",
      "\r\n",
      "import tsinsar as ts\r\n",
      "import argparse\r\n",
      "import numpy as np\r\n",
      "\r\n",
      "if __name__ == '__main__':\r\n",
      "\r\n",
      "    ######Prepare the data.xml\r\n",
      "    g = ts.TSXML('data')\r\n",
      "    g.prepare_data_xml('example.rsc', proc='RPAC',\r\n",
      "                       xlim=[0,1800], ylim=[0, 1620],        ##Assuming no cropping\r\n",
      "                       rxlim = [740,744], rylim=[553,557], ##Reference region \r\n",
      "                       latfile='', lonfile='', hgtfile='', ##Needed only for tropospheric corrections\r\n",
      "                       inc = 21., cohth=0.3, chgendian='False',  ## Coherence thresholds\r\n",
      "                       unwfmt='GRD', corfmt='GRD',         ##Read data using GDAL\r\n",
      "                       mask='watermask.flt')         ##Only needed if mask file is used\r\n",
      "    g.writexml('data.xml')\r\n"
     ]
    }
   ],
   "source": [
    "#Look at the python script\n",
    "!cat prepdataxml.py"
   ]
  },
  {
   "cell_type": "code",
   "execution_count": 6,
   "metadata": {},
   "outputs": [
    {
     "name": "stdout",
     "output_type": "stream",
     "text": [
      "logger - INFO - GIANT Toolbox - v 1.0\n",
      "logger - INFO - ---------------------\n",
      "/opt/conda/envs/python2/lib/python2.7/site-packages/h5py/__init__.py:36: RuntimeWarning: numpy.dtype size changed, may indicate binary incompatibility. Expected 96, got 88\n",
      "  from ._conv import register_converters as _register_converters\n",
      "/opt/conda/envs/python2/lib/python2.7/site-packages/h5py/__init__.py:45: RuntimeWarning: numpy.dtype size changed, may indicate binary incompatibility. Expected 96, got 88\n",
      "  from . import h5a, h5d, h5ds, h5f, h5fd, h5g, h5r, h5s, h5t, h5p, h5z\n",
      "/opt/conda/envs/python2/lib/python2.7/site-packages/h5py/_hl/group.py:22: RuntimeWarning: numpy.dtype size changed, may indicate binary incompatibility. Expected 96, got 88\n",
      "  from .. import h5g, h5i, h5o, h5r, h5t, h5l, h5p\n",
      "prepare_data_xml - INFO - Using ROI-PAC products.\n",
      "addsubelement - INFO - Creating Field: proc , Value=RPAC, Type=STR\n",
      "addsubelement - INFO - Creating Field: width , Value=1800, Type=INT\n",
      "addsubelement - INFO - Creating Field: file_length , Value=1620, Type=INT\n",
      "addsubelement - INFO - Creating Field: wavelength , Value=0.0312283810417, Type=FLOAT\n",
      "addsubelement - INFO - Creating Field: heading , Value=-12.0, Type=FLOAT\n",
      "addsubelement - INFO - Creating Field: utc , Value=43200, Type=INT\n",
      "addsubelement - INFO - Creating Field: mask , Value=watermask.flt, Type=STR\n",
      "addsubelement - INFO - Creating Field: cthresh , Value=0.3, Type=FLOAT\n",
      "addsubelement - INFO - Creating Field: latfile , Value=, Type=STR\n",
      "addsubelement - INFO - Creating Field: lonfile , Value=, Type=STR\n",
      "addsubelement - INFO - Creating Field: hgtfile , Value=, Type=STR\n",
      "addsubelement - INFO - Creating Field: incidence , Value=21.0, Type=FLOAT\n",
      "addsubelement - INFO - Creating Field: looks , Value=1, Type=INT\n",
      "addsubelement - INFO - Creating Field: width , Value=1800, Type=INT\n",
      "addsubelement - INFO - Creating Field: xmin , Value=0, Type=INT\n",
      "addsubelement - INFO - Creating Field: xmax , Value=1800, Type=INT\n",
      "addsubelement - INFO - Creating Field: length , Value=1620, Type=INT\n",
      "addsubelement - INFO - Creating Field: ymin , Value=0, Type=INT\n",
      "addsubelement - INFO - Creating Field: ymax , Value=1620, Type=INT\n",
      "addsubelement - INFO - Creating Field: rxmin , Value=740, Type=INT\n",
      "addsubelement - INFO - Creating Field: rxmax , Value=744, Type=INT\n",
      "addsubelement - INFO - Creating Field: rymin , Value=553, Type=INT\n",
      "addsubelement - INFO - Creating Field: rymax , Value=557, Type=INT\n",
      "addsubelement - INFO - Creating Field: latfile , Value=lat.flt, Type=STR\n",
      "addsubelement - INFO - Creating Field: lonfile , Value=lon.flt, Type=STR\n",
      "addsubelement - INFO - Creating Field: incidence , Value=21.0, Type=FLOAT\n",
      "addsubelement - INFO - Creating Field: hgtfile , Value=hgt.flt, Type=STR\n",
      "addsubelement - INFO - Creating Field: h5dir , Value=Stack, Type=STR\n",
      "addsubelement - INFO - Creating Field: atmosdir , Value=Atmos, Type=STR\n",
      "addsubelement - INFO - Creating Field: figsdir , Value=Figs, Type=STR\n",
      "addsubelement - INFO - Creating Field: respdir , Value=RESP, Type=STR\n",
      "addsubelement - INFO - Creating Field: unwfmt , Value=GRD, Type=STR\n",
      "addsubelement - INFO - Creating Field: corfmt , Value=GRD, Type=STR\n",
      "addsubelement - INFO - Creating Field: demfmt , Value=RMG, Type=STR\n",
      "addsubelement - INFO - Creating Field: chgendian , Value=False, Type=BOOL\n",
      "addsubelement - INFO - Creating Field: endianlist , Value=[\"UNW\", \"COR\", \"HGT\"], Type=LIST\n",
      "addsubelement - INFO - Creating Field: masktype , Value=f4, Type=STR\n"
     ]
    }
   ],
   "source": [
    "#Run the python script\n",
    "!python prepdataxml.py"
   ]
  },
  {
   "cell_type": "code",
   "execution_count": 7,
   "metadata": {},
   "outputs": [
    {
     "name": "stdout",
     "output_type": "stream",
     "text": [
      "<data>\r\n",
      "  <proc>\r\n",
      "    <value>RPAC</value>\r\n",
      "    <type>STR</type>\r\n",
      "    <help>Processor used for generating the interferograms.</help>\r\n",
      "  </proc>\r\n",
      "  <master>\r\n",
      "    <width>\r\n",
      "      <value>1800</value>\r\n",
      "      <type>INT</type>\r\n",
      "      <help>WIDTH of the IFGs to be read in.</help>\r\n",
      "    </width>\r\n",
      "    <file_length>\r\n",
      "      <value>1620</value>\r\n",
      "      <type>INT</type>\r\n",
      "      <help>FILE_LENGTH of the IFGS to be read in.</help>\r\n",
      "    </file_length>\r\n",
      "    <wavelength>\r\n",
      "      <value>0.0312283810417</value>\r\n",
      "      <type>FLOAT</type>\r\n",
      "      <help>WAVELENGTH of the Stack. If combining sensors,ensure that they are all converted to same units.</help>\r\n",
      "    </wavelength>\r\n",
      "    <heading>\r\n",
      "      <value>-12.0</value>\r\n",
      "      <type>FLOAT</type>\r\n",
      "      <help>Heading of the satellite in degrees. Manually adjust for Doris.</help>\r\n",
      "    </heading>\r\n",
      "    <utc>\r\n",
      "      <value>43200</value>\r\n",
      "      <type>INT</type>\r\n",
      "      <help>Average time of acquisition in seconds of the day</help>\r\n",
      "    </utc>\r\n",
      "    <mask>\r\n",
      "      <value>watermask.flt</value>\r\n",
      "      <type>STR</type>\r\n",
      "      <help>Common mask applied to all the images. Useful forfiltering out water bodies.</help>\r\n",
      "    </mask>\r\n",
      "    <cthresh>\r\n",
      "      <value>0.3</value>\r\n",
      "      <type>FLOAT</type>\r\n",
      "      <help>Coherence threshold for pixels to be included in analysis.</help>\r\n",
      "    </cthresh>\r\n",
      "    <latfile>\r\n",
      "      <value></value>\r\n",
      "      <type>STR</type>\r\n",
      "      <help>Latitude file. Same size as IFGs.</help>\r\n",
      "    </latfile>\r\n",
      "    <lonfile>\r\n",
      "      <value></value>\r\n",
      "      <type>STR</type>\r\n",
      "      <help>Longitude file. Same size as IFGs.</help>\r\n",
      "    </lonfile>\r\n",
      "    <hgtfile>\r\n",
      "      <value></value>\r\n",
      "      <type>STR</type>\r\n",
      "      <help>DEM height in radar coordinates. Same size as IFGs.</help>\r\n",
      "    </hgtfile>\r\n",
      "    <incidence>\r\n",
      "      <value>21.0</value>\r\n",
      "      <type>FLOAT</type>\r\n",
      "      <help>Incidence angle file. Same size as IFGs. Can be a constant float too.</help>\r\n",
      "    </incidence>\r\n",
      "  </master>\r\n",
      "  <subimage>\r\n",
      "    <looks>\r\n",
      "      <value>1</value>\r\n",
      "      <type>INT</type>\r\n",
      "      <help>Number of additional looks to be applied for time-series analysis</help>\r\n",
      "    </looks>\r\n",
      "    <width>\r\n",
      "      <value>1800</value>\r\n",
      "      <type>INT</type>\r\n",
      "      <help>WIDTH of the analyzed image</help>\r\n",
      "    </width>\r\n",
      "    <xmin>\r\n",
      "      <value>0</value>\r\n",
      "      <type>INT</type>\r\n",
      "      <help>START of the valid region in X. After taking looks.</help>\r\n",
      "    </xmin>\r\n",
      "    <xmax>\r\n",
      "      <value>1800</value>\r\n",
      "      <type>INT</type>\r\n",
      "      <help>END of the valid region in X. After taking looks.</help>\r\n",
      "    </xmax>\r\n",
      "    <length>\r\n",
      "      <value>1620</value>\r\n",
      "      <type>INT</type>\r\n",
      "      <help>LENGTH of the cropped image</help>\r\n",
      "    </length>\r\n",
      "    <ymin>\r\n",
      "      <value>0</value>\r\n",
      "      <type>INT</type>\r\n",
      "      <help>START of the crop region in Y. After taking looks.</help>\r\n",
      "    </ymin>\r\n",
      "    <ymax>\r\n",
      "      <value>1620</value>\r\n",
      "      <type>INT</type>\r\n",
      "      <help>END of the crop region in Y. After taking looks.</help>\r\n",
      "    </ymax>\r\n",
      "    <rxmin>\r\n",
      "      <value>740</value>\r\n",
      "      <type>INT</type>\r\n",
      "      <help>Start of reference region in X. After multilooking and cropping.</help>\r\n",
      "    </rxmin>\r\n",
      "    <rxmax>\r\n",
      "      <value>744</value>\r\n",
      "      <type>INT</type>\r\n",
      "      <help>End of reference region in X. After multilooking and cropping.</help>\r\n",
      "    </rxmax>\r\n",
      "    <rymin>\r\n",
      "      <value>553</value>\r\n",
      "      <type>INT</type>\r\n",
      "      <help>Start of reference region in Y. After multilooking and cropping.</help>\r\n",
      "    </rymin>\r\n",
      "    <rymax>\r\n",
      "      <value>557</value>\r\n",
      "      <type>INT</type>\r\n",
      "      <help>End of reference region in Y. After multilooking and cropping.</help>\r\n",
      "    </rymax>\r\n",
      "    <latfile>\r\n",
      "      <value>lat.flt</value>\r\n",
      "      <type>STR</type>\r\n",
      "      <help>Latitude file for the cropped and multilooked image.</help>\r\n",
      "    </latfile>\r\n",
      "    <lonfile>\r\n",
      "      <value>lon.flt</value>\r\n",
      "      <type>STR</type>\r\n",
      "      <help>Longitude file for the cropped and multilooked image.</help>\r\n",
      "    </lonfile>\r\n",
      "    <incidence>\r\n",
      "      <value>21.0</value>\r\n",
      "      <type>FLOAT</type>\r\n",
      "      <help>Incidence angle file for the cropped and multilooked image.</help>\r\n",
      "    </incidence>\r\n",
      "    <hgtfile>\r\n",
      "      <value>hgt.flt</value>\r\n",
      "      <type>STR</type>\r\n",
      "      <help>Height file for the cropped and multilooked image.</help>\r\n",
      "    </hgtfile>\r\n",
      "  </subimage>\r\n",
      "  <dirs>\r\n",
      "    <h5dir>\r\n",
      "      <value>Stack</value>\r\n",
      "      <type>STR</type>\r\n",
      "      <help>Directory for storing all the HDF5 files.</help>\r\n",
      "    </h5dir>\r\n",
      "    <atmosdir>\r\n",
      "      <value>Atmos</value>\r\n",
      "      <type>STR</type>\r\n",
      "      <help>Directory for storing all the weather model data.</help>\r\n",
      "    </atmosdir>\r\n",
      "    <figsdir>\r\n",
      "      <value>Figs</value>\r\n",
      "      <type>STR</type>\r\n",
      "      <help>Directory for storing all the PNG previews at intermediate stages.</help>\r\n",
      "    </figsdir>\r\n",
      "    <respdir>\r\n",
      "      <value>RESP</value>\r\n",
      "      <type>STR</type>\r\n",
      "      <help>Directory for storing wavelet impulse responses.</help>\r\n",
      "    </respdir>\r\n",
      "  </dirs>\r\n",
      "  <format>\r\n",
      "    <unwfmt>\r\n",
      "      <value>GRD</value>\r\n",
      "      <type>STR</type>\r\n",
      "      <help>Unwrapped file format. FLT/RMG</help>\r\n",
      "    </unwfmt>\r\n",
      "    <corfmt>\r\n",
      "      <value>GRD</value>\r\n",
      "      <type>STR</type>\r\n",
      "      <help>Coherence file format. FLT/RMG</help>\r\n",
      "    </corfmt>\r\n",
      "    <demfmt>\r\n",
      "      <value>RMG</value>\r\n",
      "      <type>STR</type>\r\n",
      "      <help>DEM file format. FLT/RMG</help>\r\n",
      "    </demfmt>\r\n",
      "    <chgendian>\r\n",
      "      <value>False</value>\r\n",
      "      <type>BOOL</type>\r\n",
      "      <help>Convert Endianness when reading in data.</help>\r\n",
      "    </chgendian>\r\n",
      "    <endianlist>\r\n",
      "      <value>[\"UNW\", \"COR\", \"HGT\"]</value>\r\n",
      "      <type>LIST</type>\r\n",
      "      <help>List for changing endianness. Possible Entries:UNW,COR,HGT,LAT,LON,INC,MASK</help>\r\n",
      "    </endianlist>\r\n",
      "    <masktype>\r\n",
      "      <value>f4</value>\r\n",
      "      <type>STR</type>\r\n",
      "      <help>Mask datatype.</help>\r\n",
      "    </masktype>\r\n",
      "  </format>\r\n",
      "</data>\r\n"
     ]
    }
   ],
   "source": [
    "#Look at the output\n",
    "!cat data.xml"
   ]
  },
  {
   "cell_type": "markdown",
   "metadata": {},
   "source": [
    "You will see that the **data.xml** has been populated with more fields than what you had set. This is a deliberate choice to document all the parameters that were used in the processing - default values in the software are subject to change.\n",
    "\n",
    "Here is a list of all keywords that can be set in the data XML file."
   ]
  },
  {
   "cell_type": "markdown",
   "metadata": {},
   "source": [
    "<table border=10 bordercolor=\"black\">\n",
    "    <thead>\n",
    "        <tr>\n",
    "            <td>Parameter</td><td>Type</td><td>Description</td><td>Default</td><td>Comment</td>\n",
    "        </tr>\n",
    "    </thead>\n",
    "    <tr>\n",
    "        <td>proc</td><td>str</td><td>Processor. One of RPAC, ISCE, GMTSAR or DORIS.</td><td>RPAC</td><td>RPAC is the simplest and most tested.</td>\n",
    "    </tr>\n",
    "    <tr>\n",
    "        <td>looks</td><td>int</td><td>Number of additional looks</td><td>1</td><td>Best done outside of GIAnT</td>         </tr>\n",
    "    <tr>\n",
    "        <td>cohth</td><td>float</td><td>Coherence threshold</td><td>0.0</td><td>One threshold for all interferograms</td>\n",
    "    </tr>\n",
    "    <tr>\n",
    "        <td colspan=\"5\"><u>Formats</u></td>\n",
    "    </tr>\n",
    "    <tr>\n",
    "        <td>corfmt</td><td>str</td><td>Format of coherence files</td><td>RMG</td><td>Can be FLT/RMG/GRD</td>\n",
    "    </tr>\n",
    "    <tr>\n",
    "        <td>unwfmt</td><td>str</td><td>Format of unwrapped files</td><td>RMG</td><td>Can be FLT/RMG/GRD</td>\n",
    "    </tr>\n",
    "    <tr>\n",
    "        <td>mask</td><td>str</td><td>Common mask file name.</td><td>None</td><td>Needs to be flat binary</td>\n",
    "    </tr>\n",
    "    <tr>\n",
    "        <td>masktype</td><td>str</td><td>Data type of mask file</td><td>f4</td><td>Any numpy supported type</td>\n",
    "    </tr>\n",
    "    <tr>\n",
    "        <td colspan=\"5\"><u>Region to process</u></td>\n",
    "    </tr>\n",
    "    <tr>\n",
    "        <td>xmin</td><td>int</td><td>First pixel to process (python-index)</td><td>None</td><td>Best to crop outside GIAnT </td>\n",
    "    </tr>\n",
    "    <tr>\n",
    "        <td>xmax</td><td>int</td><td>Last pixel to process (python-index)</td><td>None</td><td>Best to crop outside GIAnT </td>\n",
    "    </tr>\n",
    "    <tr>\n",
    "        <td>ymin</td><td>int</td><td>First line to process (python-index)</td><td>None</td><td>Best to crop outside GIAnT </td>\n",
    "    </tr>\n",
    "    <tr>\n",
    "        <td>ymax</td><td>int</td><td>Last line to process (python-index)</td><td>None</td><td>Best to crop outside GIAnT </td>\n",
    "    </tr>\n",
    "    <tr>\n",
    "        <td colspan=\"5\"><u>Reference region</u></td>\n",
    "    </tr>\n",
    "    <tr>\n",
    "        <td>rxmin</td><td>int</td><td>First pixel of reference region (python-index)</td><td>None</td><td>Pick a coherent region </td>\n",
    "    </tr>\n",
    "    <tr>\n",
    "        <td>rxmax</td><td>int</td><td>Last pixel of reference region (python-index)</td><td>None</td><td>Pick a coherent region</td>\n",
    "    </tr>\n",
    "    <tr>\n",
    "        <td>rymin</td><td>int</td><td>First line of reference region (python-index)</td><td>None</td><td>Pick a coherent region</td>\n",
    "    </tr>\n",
    "    <tr>\n",
    "        <td>rymax</td><td>int</td><td>Last line of reference region (python-index)</td><td>None</td><td>Pick a coherent region</td>\n",
    "    </tr>\n",
    "    <tr>\n",
    "        <td colspan=\"5\"><u>Inputs for tropospheric corrections</u></td>\n",
    "    </tr>\n",
    "    <tr>\n",
    "        <td>latfile</td><td>str</td><td>Pixel-by-pixel latitude file</td><td>None</td><td>Only used for troposphere correction</td>\n",
    "    </tr>\n",
    "    <tr>\n",
    "        <td>lonfile</td><td>str</td><td>Pixel-by-pixel longitude file</td><td>None</td><td>Only used for troposphere correction</td>\n",
    "    </tr>\n",
    "    <tr>\n",
    "        <td>hgtfile</td><td>str</td><td>Pixel-by-pixel height file</td><td>None</td><td>Only used for troposphere correction</td>\n",
    "    </tr>\n",
    "    <tr>\n",
    "        <td>demfmt</td><td>str</td><td>Height file format</td><td>RMG</td><td>Can be FLT/RMG/GRD</td>\n",
    "    </tr>\n",
    "    <tr>\n",
    "        <td>inc</td><td>str/float</td><td>Pixel-by-pixel incidence angle file/ constant</td><td>23.0</td><td>Only used for troposphere correction</td>\n",
    "    </tr>\n",
    "    <tr>\n",
    "        <td colspan=\"5\"><u>Output directory structure</u></td>\n",
    "    </tr>\n",
    "    <tr>\n",
    "        <td>h5dir</td><td>str</td><td>Directory in which HDF5 files will be created</td><td>./Stack</td><td>Use defaults when possible</td>\n",
    "    </tr>\n",
    "    <tr>\n",
    "        <td>atmosdir</td><td>str</td><td>Directory where weather model data is stored</td><td>./Atmos</td><td>Use defaults when possible</td>\n",
    "    </tr>\n",
    "    <tr>\n",
    "        <td>figsdir</td><td>str</td><td>Directory where thumbnails are generated</td><td>./Figs</td><td>Use defaults when possible</td>\n",
    "    </tr>\n",
    "</table>\n",
    "        "
   ]
  },
  {
   "cell_type": "markdown",
   "metadata": {},
   "source": [
    "## 4. userfn.py "
   ]
  },
  {
   "cell_type": "markdown",
   "metadata": {},
   "source": [
    "**userfn.py** is a mechanism to communicate the mapping between dates of an interferometric pair and the corresponding file names on disk. Let's take a look at the **userfn.py** generated in the PrepGIAnT notebook."
   ]
  },
  {
   "cell_type": "code",
   "execution_count": 8,
   "metadata": {},
   "outputs": [
    {
     "name": "stdout",
     "output_type": "stream",
     "text": [
      "\r\n",
      "#!/usr/bin/env python\r\n",
      "import os \r\n",
      "\r\n",
      "def makefnames(dates1, dates2, sensor):\r\n",
      "    dirname = '../aligned_insar'\r\n",
      "    root = os.path.join(dirname, dates1+'_'+dates2)\r\n",
      "    unwname = root+'_unw.vrt'\r\n",
      "    corname = root+'_cor.vrt'\r\n",
      "    return unwname, corname\r\n"
     ]
    }
   ],
   "source": [
    "!cat userfn.py"
   ]
  },
  {
   "cell_type": "markdown",
   "metadata": {},
   "source": [
    "We now have all the 3 inputs ready for use. Let's go ahead and run **PrepIgramStack.py**"
   ]
  },
  {
   "cell_type": "markdown",
   "metadata": {},
   "source": [
    "## Run PrepIgramStack.py"
   ]
  },
  {
   "cell_type": "code",
   "execution_count": null,
   "metadata": {},
   "outputs": [
    {
     "name": "stdout",
     "output_type": "stream",
     "text": [
      "logger - INFO - GIANT Toolbox - v 1.0\n",
      "logger - INFO - ---------------------\n",
      "/opt/conda/envs/python2/lib/python2.7/site-packages/h5py/__init__.py:36: RuntimeWarning: numpy.dtype size changed, may indicate binary incompatibility. Expected 96, got 88\n",
      "  from ._conv import register_converters as _register_converters\n",
      "/opt/conda/envs/python2/lib/python2.7/site-packages/h5py/__init__.py:45: RuntimeWarning: numpy.dtype size changed, may indicate binary incompatibility. Expected 96, got 88\n",
      "  from . import h5a, h5d, h5ds, h5f, h5fd, h5g, h5r, h5s, h5t, h5p, h5z\n",
      "/opt/conda/envs/python2/lib/python2.7/site-packages/h5py/_hl/group.py:22: RuntimeWarning: numpy.dtype size changed, may indicate binary incompatibility. Expected 96, got 88\n",
      "  from .. import h5g, h5i, h5o, h5r, h5t, h5l, h5p\n",
      "<module> - INFO - Number of interferograms = 19\n",
      "<module> - INFO - Number of unique SAR scenes = 10\n",
      "<module> - INFO - Number of connected components in network: 1\n",
      "<module> - INFO - Output h5file: Stack/RAW-STACK.h5\n",
      "<module> - INFO - PNG preview dir: Figs/Igrams\n",
      "<module> - INFO - Reading in IFGs\n",
      "[============================ 63% ====>                      ]     49s /     29s"
     ]
    }
   ],
   "source": [
    "!PrepIgramStack.py"
   ]
  },
  {
   "cell_type": "markdown",
   "metadata": {},
   "source": [
    "## Looking at the outputs"
   ]
  },
  {
   "cell_type": "code",
   "execution_count": 9,
   "metadata": {},
   "outputs": [
    {
     "name": "stdout",
     "output_type": "stream",
     "text": [
      "total 11424\r\n",
      "-rw-r--r-- 1 jovyan users      532 Aug 15 06:25 ifg.list\r\n",
      "-rw-r--r-- 1 jovyan users      110 Aug 15 06:25 example.rsc\r\n",
      "-rw-r--r-- 1 jovyan users      248 Aug 15 06:26 userfn.py\r\n",
      "-rw-r--r-- 1 jovyan users 11664000 Aug 15 06:26 watermask.flt\r\n",
      "-rw-r--r-- 1 jovyan users      767 Aug 15 06:26 prepdataxml.py\r\n",
      "-rw-r--r-- 1 jovyan users      643 Aug 15 06:26 prepsbasxml.py\r\n",
      "-rw-r--r-- 1 jovyan users      451 Aug 15 06:29 userfn.pyc\r\n",
      "-rw-r--r-- 1 jovyan users     5554 Aug 15 06:30 data.xml\r\n",
      "drwxr-sr-x 3 jovyan users       28 Aug 15 06:30 Figs\r\n",
      "drwxr-sr-x 2 jovyan users       34 Aug 15 06:30 Stack\r\n"
     ]
    }
   ],
   "source": [
    "##List contents \n",
    "!ls -ltr "
   ]
  },
  {
   "cell_type": "code",
   "execution_count": 10,
   "metadata": {},
   "outputs": [
    {
     "name": "stdout",
     "output_type": "stream",
     "text": [
      "Stack/RAW-STACK.h5\r\n"
     ]
    }
   ],
   "source": [
    "##List contents of Stack\n",
    "!ls Stack/*"
   ]
  },
  {
   "cell_type": "code",
   "execution_count": 12,
   "metadata": {},
   "outputs": [
    {
     "name": "stdout",
     "output_type": "stream",
     "text": [
      "Igrams\r\n"
     ]
    }
   ],
   "source": [
    "##List contents of Figs\n",
    "!ls Figs"
   ]
  },
  {
   "cell_type": "code",
   "execution_count": 13,
   "metadata": {},
   "outputs": [
    {
     "name": "stdout",
     "output_type": "stream",
     "text": [
      "I001-20180423-20180330-S1.png  I011-20180610-20180517-S1.png\r\n",
      "I002-20180423-20180411-S1.png  I012-20180604-20180517-S1.png\r\n",
      "I003-20180505-20180411-S1.png  I013-20180529-20180517-S1.png\r\n",
      "I004-20180517-20180423-S1.png  I014-20180529-20180523-S1.png\r\n",
      "I005-20180505-20180423-S1.png  I015-20180610-20180523-S1.png\r\n",
      "I006-20180517-20180505-S1.png  I016-20180604-20180523-S1.png\r\n",
      "I007-20180529-20180505-S1.png  I017-20180604-20180529-S1.png\r\n",
      "I008-20180517-20180511-S1.png  I018-20180610-20180529-S1.png\r\n",
      "I009-20180604-20180511-S1.png  I019-20180610-20180604-S1.png\r\n",
      "I010-20180529-20180511-S1.png\r\n"
     ]
    }
   ],
   "source": [
    "!ls Figs/Igrams"
   ]
  },
  {
   "cell_type": "markdown",
   "metadata": {},
   "source": [
    "### Exploring contents of the HDF5 file from command line"
   ]
  },
  {
   "cell_type": "code",
   "execution_count": 18,
   "metadata": {},
   "outputs": [
    {
     "name": "stdout",
     "output_type": "stream",
     "text": [
      "Jmat                     Dataset {19, 10}\r\n",
      "bperp                    Dataset {19}\r\n",
      "cmask                    Dataset {1620, 1800}\r\n",
      "dates                    Dataset {10}\r\n",
      "igram                    Dataset {19, 1620, 1800}\r\n",
      "tims                     Dataset {10}\r\n",
      "usat                     Dataset {10}\r\n"
     ]
    }
   ],
   "source": [
    "##Using HDF5 tools\n",
    "!h5ls Stack/RAW-STACK.h5"
   ]
  },
  {
   "cell_type": "code",
   "execution_count": 19,
   "metadata": {},
   "outputs": [
    {
     "name": "stdout",
     "output_type": "stream",
     "text": [
      "Opened \"Stack/RAW-STACK.h5\" with sec2 driver.\r\n",
      "Jmat                     Dataset {19/19, 10/10}\r\n",
      "    Attribute: help scalar\r\n",
      "        Type:      variable-length null-terminated ASCII string\r\n",
      "        Data:  \"Connectivity matrix [-1,1,0]\"\r\n",
      "    Location:  1:244950416\r\n",
      "    Links:     1\r\n",
      "    Storage:   1520 logical bytes, 1520 allocated bytes, 100.00% utilization\r\n",
      "    Type:      native double\r\n",
      "bperp                    Dataset {19/19}\r\n",
      "    Attribute: help scalar\r\n",
      "        Type:      variable-length null-terminated ASCII string\r\n",
      "        Data:  \"Array of baseline values.\"\r\n",
      "    Location:  1:244950144\r\n",
      "    Links:     1\r\n",
      "    Storage:   152 logical bytes, 152 allocated bytes, 100.00% utilization\r\n",
      "    Type:      native double\r\n",
      "cmask                    Dataset {1620/1620, 1800/1800}\r\n",
      "    Attribute: help scalar\r\n",
      "        Type:      variable-length null-terminated ASCII string\r\n",
      "        Data:  \"Common mask for pixels.\"\r\n",
      "    Location:  1:1528\r\n",
      "    Links:     1\r\n",
      "    Storage:   23328000 logical bytes, 23328000 allocated bytes, 100.00% utilization\r\n",
      "    Type:      native double\r\n",
      "dates                    Dataset {10/10}\r\n",
      "    Attribute: help scalar\r\n",
      "        Type:      variable-length null-terminated ASCII string\r\n",
      "        Data:  \"Ordinal values of SAR acquisition dates.\"\r\n",
      "    Location:  1:244951232\r\n",
      "    Links:     1\r\n",
      "    Storage:   80 logical bytes, 80 allocated bytes, 100.00% utilization\r\n",
      "    Type:      native double\r\n",
      "igram                    Dataset {19/19, 1620/1620, 1800/1800}\r\n",
      "    Attribute: help scalar\r\n",
      "        Type:      variable-length null-terminated ASCII string\r\n",
      "        Data:  \"Unwrapped IFGs read straight from files.\"\r\n",
      "    Location:  1:928\r\n",
      "    Links:     1\r\n",
      "    Storage:   221616000 logical bytes, 221616000 allocated bytes, 100.00% utilization\r\n",
      "    Type:      native float\r\n",
      "tims                     Dataset {10/10}\r\n",
      "    Attribute: help scalar\r\n",
      "        Type:      variable-length null-terminated ASCII string\r\n",
      "        Data:  \" Array of SAR acquisition times.\"\r\n",
      "    Location:  1:244950688\r\n",
      "    Links:     1\r\n",
      "    Storage:   80 logical bytes, 80 allocated bytes, 100.00% utilization\r\n",
      "    Type:      native double\r\n",
      "usat                     Dataset {10/10}\r\n",
      "    Attribute: help scalar\r\n",
      "        Type:      variable-length null-terminated ASCII string\r\n",
      "        Data:  \"Satellite sensor name for each SAR acquisition.\"\r\n",
      "    Location:  1:244950960\r\n",
      "    Links:     1\r\n",
      "    Storage:   160 logical bytes, 160 allocated bytes, 100.00% utilization\r\n",
      "    Type:      16-byte null-padded ASCII string\r\n"
     ]
    }
   ],
   "source": [
    "##More verbose\n",
    "!h5ls -v Stack/RAW-STACK.h5"
   ]
  },
  {
   "cell_type": "code",
   "execution_count": 20,
   "metadata": {},
   "outputs": [
    {
     "name": "stdout",
     "output_type": "stream",
     "text": [
      "Driver: HDF5/Hierarchical Data Format Release 5\r\n",
      "Files: Stack/RAW-STACK.h5\r\n",
      "Size is 512, 512\r\n",
      "Coordinate System is `'\r\n",
      "Metadata:\r\n",
      "  bperp_help=Array of baseline values.\r\n",
      "  cmask_help=Common mask for pixels.\r\n",
      "  dates_help=Ordinal values of SAR acquisition dates.\r\n",
      "  help=All the raw data read from individual interferograms into a single location for fast access.\r\n",
      "  igram_help=Unwrapped IFGs read straight from files.\r\n",
      "  Jmat_help=Connectivity matrix [-1,1,0]\r\n",
      "  tims_help= Array of SAR acquisition times.\r\n",
      "Subdatasets:\r\n",
      "  SUBDATASET_1_NAME=HDF5:\"Stack/RAW-STACK.h5\"://Jmat\r\n",
      "  SUBDATASET_1_DESC=[19x10] //Jmat (64-bit floating-point)\r\n",
      "  SUBDATASET_2_NAME=HDF5:\"Stack/RAW-STACK.h5\"://cmask\r\n",
      "  SUBDATASET_2_DESC=[1620x1800] //cmask (64-bit floating-point)\r\n",
      "  SUBDATASET_3_NAME=HDF5:\"Stack/RAW-STACK.h5\"://igram\r\n",
      "  SUBDATASET_3_DESC=[19x1620x1800] //igram (32-bit floating-point)\r\n",
      "Corner Coordinates:\r\n",
      "Upper Left  (    0.0,    0.0)\r\n",
      "Lower Left  (    0.0,  512.0)\r\n",
      "Upper Right (  512.0,    0.0)\r\n",
      "Lower Right (  512.0,  512.0)\r\n",
      "Center      (  256.0,  256.0)\r\n"
     ]
    }
   ],
   "source": [
    "##Using gdal\n",
    "!gdalinfo Stack/RAW-STACK.h5"
   ]
  },
  {
   "cell_type": "markdown",
   "metadata": {},
   "source": [
    "### Working with HDF5 file in Python"
   ]
  },
  {
   "cell_type": "code",
   "execution_count": 21,
   "metadata": {},
   "outputs": [
    {
     "name": "stderr",
     "output_type": "stream",
     "text": [
      "/opt/conda/envs/python2/lib/python2.7/site-packages/h5py/__init__.py:36: RuntimeWarning: numpy.dtype size changed, may indicate binary incompatibility. Expected 96, got 88\n",
      "  from ._conv import register_converters as _register_converters\n",
      "/opt/conda/envs/python2/lib/python2.7/site-packages/h5py/__init__.py:45: RuntimeWarning: numpy.dtype size changed, may indicate binary incompatibility. Expected 96, got 88\n",
      "  from . import h5a, h5d, h5ds, h5f, h5fd, h5g, h5r, h5s, h5t, h5p, h5z\n",
      "/opt/conda/envs/python2/lib/python2.7/site-packages/h5py/_hl/group.py:22: RuntimeWarning: numpy.dtype size changed, may indicate binary incompatibility. Expected 96, got 88\n",
      "  from .. import h5g, h5i, h5o, h5r, h5t, h5l, h5p\n"
     ]
    }
   ],
   "source": [
    "import h5py"
   ]
  },
  {
   "cell_type": "code",
   "execution_count": 24,
   "metadata": {},
   "outputs": [
    {
     "name": "stdout",
     "output_type": "stream",
     "text": [
      "(u'Jmat', (19, 10), dtype('<f8'), 'Connectivity matrix [-1,1,0]')\n",
      "(u'bperp', (19,), dtype('<f8'), 'Array of baseline values.')\n",
      "(u'cmask', (1620, 1800), dtype('<f8'), 'Common mask for pixels.')\n",
      "(u'dates', (10,), dtype('<f8'), 'Ordinal values of SAR acquisition dates.')\n",
      "(u'igram', (19, 1620, 1800), dtype('<f4'), 'Unwrapped IFGs read straight from files.')\n",
      "(u'tims', (10,), dtype('<f8'), ' Array of SAR acquisition times.')\n",
      "(u'usat', (10,), dtype('S16'), 'Satellite sensor name for each SAR acquisition.')\n"
     ]
    }
   ],
   "source": [
    "##Example of working with h5py\n",
    "fid = h5py.File('Stack/RAW-STACK.h5', 'r')\n",
    "\n",
    "for ds in fid.keys():\n",
    "    print(ds, fid[ds].shape, fid[ds].dtype, fid[ds].attrs['help'])\n",
    "    \n",
    "fid.close()"
   ]
  },
  {
   "cell_type": "code",
   "execution_count": 26,
   "metadata": {},
   "outputs": [
    {
     "data": {
      "image/png": "[encoded data removed]",
      "text/plain": [
       "<Figure size 432x288 with 2 Axes>"
      ]
     },
     "metadata": {},
     "output_type": "display_data"
    }
   ],
   "source": [
    "%matplotlib inline\n",
    "\n",
    "import matplotlib.pyplot as plt\n",
    "\n",
    "##Extracting arrays\n",
    "fid = h5py.File('Stack/RAW-STACK.h5', 'r')\n",
    "\n",
    "#Access to array. Does not copy it over like matlab\n",
    "igram = fid['igram']\n",
    "\n",
    "###Data accessed only when slicing provided\n",
    "data = igram[3,:,:]\n",
    "\n",
    "fid.close()\n",
    "\n",
    "plt.figure()\n",
    "plt.imshow(data)\n",
    "plt.colorbar();"
   ]
  },
  {
   "cell_type": "markdown",
   "metadata": {},
   "source": [
    "A good tutorial for getting started with h5py can be found here: http://docs.h5py.org/en/latest/quick.html#core-concepts"
   ]
  },
  {
   "cell_type": "markdown",
   "metadata": {},
   "source": [
    "### We have now prepared our datacube for analysis. Move on to the next step ..."
   ]
  }
 ],
 "metadata": {
  "kernelspec": {
   "display_name": "Python 2",
   "language": "python",
   "name": "python2"
  },
  "language_info": {
   "codemirror_mode": {
    "name": "ipython",
    "version": 2
   },
   "file_extension": ".py",
   "mimetype": "text/x-python",
   "name": "python",
   "nbconvert_exporter": "python",
   "pygments_lexer": "ipython2",
   "version": "2.7.15"
  }
 },
 "nbformat": 4,
 "nbformat_minor": 2
}
