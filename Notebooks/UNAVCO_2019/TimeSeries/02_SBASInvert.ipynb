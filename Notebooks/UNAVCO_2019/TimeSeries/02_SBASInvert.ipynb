{
 "cells": [
  {
   "cell_type": "markdown",
   "metadata": {},
   "source": [
    "# SBASInvert.py "
   ]
  },
  {
   "cell_type": "markdown",
   "metadata": {},
   "source": [
    "This is the simplest time-series inversion method that is included with **GIAnT**."
   ]
  },
  {
   "cell_type": "code",
   "execution_count": 1,
   "metadata": {},
   "outputs": [
    {
     "name": "stdout",
     "output_type": "stream",
     "text": [
      "/home/jovyan/work/notebooks/TimeSeries/GRFN/GIAnT\n"
     ]
    }
   ],
   "source": [
    "cd /home/jovyan/work/notebooks/TimeSeries/GRFN/GIAnT"
   ]
  },
  {
   "cell_type": "markdown",
   "metadata": {},
   "source": [
    "## 1. Preparing for SBAS"
   ]
  },
  {
   "cell_type": "markdown",
   "metadata": {},
   "source": [
    "Before running an **SBAS** inversion, we need to setup some related parameters. This is done via the **prepsbasxml.py** script.\n",
    "\n",
    "Let's take a look at this script that we generated in the PrepGIAnT notebook."
   ]
  },
  {
   "cell_type": "code",
   "execution_count": 2,
   "metadata": {},
   "outputs": [
    {
     "name": "stdout",
     "output_type": "stream",
     "text": [
      "\r\n",
      "#!/usr/bin/env python\r\n",
      "\r\n",
      "import tsinsar as ts\r\n",
      "import argparse\r\n",
      "import numpy as np\r\n",
      "\r\n",
      "if __name__ == '__main__':\r\n",
      "    g = ts.TSXML('params')\r\n",
      "    g. prepare_sbas_xml(nvalid = 11, \r\n",
      "                        netramp=False,   ##No deramping requested\r\n",
      "                        atmos='',        ##No troposphere correction requested\r\n",
      "                        demerr = False,  ##No dem error correction requested\r\n",
      "                        uwcheck=False,   ##For future, not implemented yet\r\n",
      "                        regu=True,       ##For Mints. Not relevant for tutorial\r\n",
      "                        filt = 0.05)     ##Filter length in years\r\n",
      "    g.writexml('sbas.xml')\r\n"
     ]
    }
   ],
   "source": [
    "!cat prepsbasxml.py"
   ]
  },
  {
   "cell_type": "markdown",
   "metadata": {},
   "source": [
    "### Understanding the parameters"
   ]
  },
  {
   "cell_type": "markdown",
   "metadata": {},
   "source": [
    "Here is the complete list of parameters available for controlling the SBAS inversion."
   ]
  },
  {
   "cell_type": "markdown",
   "metadata": {},
   "source": [
    "<table>\n",
    "    <thead>\n",
    "        <tr>\n",
    "            <td>Parameter</td><td>Type</td><td>Description</td><td>Default</td><td>Comment</td>\n",
    "        </tr>\n",
    "    </thead>\n",
    "    <tr>\n",
    "        <td>netramp</td><td>bool</td><td>Network deramping</td><td>False</td><td>Used to account for orbit errors. Modeled as a ramp </td>\n",
    "    </tr>\n",
    "    <tr>\n",
    "        <td>atmos</td><td>str</td><td>Weather model for PyAPS</td><td>None</td><td>One of ECMWF, ERA, NARR, MERRA, TROPO</td>\n",
    "    </tr>\n",
    "    <tr>\n",
    "        <td>demerr</td><td>bool</td><td>Estimate DEM error</td><td>False</td><td>Recommended for radar geometry stacks where data has not been filtered heavily. For tight baselines like S1 - very little impact</td>\n",
    "    </tr>\n",
    "    <tr>\n",
    "        <td>nvalid</td><td>int</td><td>Min ifgs where a pixel is coherent</td><td>0</td><td>N-SBAS setting. Not recommended for well connected networks like S1</td>\n",
    "    </tr>\n",
    "    <tr>\n",
    "        <td>regu</td><td>bool</td><td>Use regularization for inversion</td><td>False</td><td>Used with splines</td>\n",
    "    <tr>\n",
    "    <tr>\n",
    "        <td>masterdate</td><td>str</td><td>Reference date for inversion</td><td>None</td><td>If not provided, earliest date will be used</td>\n",
    "    </tr>\n",
    "    <tr>\n",
    "        <td colspan=\"5\"><u>GPS ramp related parameters</u></td>\n",
    "    </tr>\n",
    "    <tr>\n",
    "        <td>gpsramp</td><td>bool</td><td>GPS-based deramping</td><td>False</td><td>Use GPS time-series / velocity to constrain ramps. Not tested in a while. </td>\n",
    "    </tr>\n",
    "    <tr><td>stnlist</td></tr>\n",
    "    <tr><td>stntype</td>\n",
    "    </tr>\n",
    "    <tr><td>gpspath</td></tr>\n",
    "    <tr><td>gpstype</td></tr>\n",
    "    <tr><td>gpsvert</td></tr>\n",
    "    <tr><td>gpspreproc</td><td colspan=\"4\">Not tested extensively lately</tr>\n",
    "    <tr><td>gpsmodel</td></tr>\n",
    "    <tr><td>gpspad</td></tr>\n",
    "    <tr><td>gpsmin</td></tr>\n",
    "    <tr>\n",
    "        <td colspan=\"5\"><u>Troposphere estimation from data</u></td>\n",
    "    </tr>\n",
    "    <tr><td>tropomin</td><tr>\n",
    "    <tr><td>tropomax</td><td colspan=\"4\">Not tested extensively lately</td></tr>\n",
    "    <tr><td>tropolooks</td></tr>\n",
    "</table>"
   ]
  },
  {
   "cell_type": "code",
   "execution_count": 3,
   "metadata": {},
   "outputs": [
    {
     "name": "stdout",
     "output_type": "stream",
     "text": [
      "logger - INFO - GIANT Toolbox - v 1.0\n",
      "logger - INFO - ---------------------\n",
      "/opt/conda/envs/python2/lib/python2.7/site-packages/h5py/__init__.py:36: RuntimeWarning: numpy.dtype size changed, may indicate binary incompatibility. Expected 96, got 88\n",
      "  from ._conv import register_converters as _register_converters\n",
      "/opt/conda/envs/python2/lib/python2.7/site-packages/h5py/__init__.py:45: RuntimeWarning: numpy.dtype size changed, may indicate binary incompatibility. Expected 96, got 88\n",
      "  from . import h5a, h5d, h5ds, h5f, h5fd, h5g, h5r, h5s, h5t, h5p, h5z\n",
      "/opt/conda/envs/python2/lib/python2.7/site-packages/h5py/_hl/group.py:22: RuntimeWarning: numpy.dtype size changed, may indicate binary incompatibility. Expected 96, got 88\n",
      "  from .. import h5g, h5i, h5o, h5r, h5t, h5l, h5p\n",
      "addsubelement - INFO - Creating Field: nvalid , Value=11, Type=INT\n",
      "addsubelement - INFO - Creating Field: uwcheck , Value=False, Type=BOOL\n",
      "addsubelement - INFO - Creating Field: netramp , Value=False, Type=BOOL\n",
      "addsubelement - INFO - Creating Field: gpsramp , Value=False, Type=BOOL\n",
      "addsubelement - INFO - Creating Field: stnlist , Value=, Type=STR\n",
      "addsubelement - INFO - Creating Field: stntype , Value=, Type=STR\n",
      "addsubelement - INFO - Creating Field: gpspath , Value=, Type=STR\n",
      "addsubelement - INFO - Creating Field: gpstype , Value=, Type=STR\n",
      "addsubelement - INFO - Creating Field: gpsvert , Value=False, Type=BOOL\n",
      "addsubelement - INFO - Creating Field: gpsmodel , Value=False, Type=BOOL\n",
      "addsubelement - INFO - Creating Field: gpspreproc , Value=False, Type=BOOL\n",
      "addsubelement - INFO - Creating Field: gpspad , Value=3, Type=INT\n",
      "addsubelement - INFO - Creating Field: gpsmin , Value=5, Type=INT\n",
      "addsubelement - INFO - Creating Field: atmos , Value=, Type=STR\n",
      "addsubelement - INFO - Creating Field: demerr , Value=False, Type=BOOL\n",
      "addsubelement - INFO - Creating Field: regularize , Value=True, Type=BOOL\n",
      "addsubelement - INFO - Creating Field: masterdate , Value=, Type=STR\n",
      "addsubelement - INFO - Creating Field: filterlen , Value=0.05, Type=FLOAT\n",
      "addsubelement - INFO - Creating Field: tropomin , Value=1, Type=INT\n",
      "addsubelement - INFO - Creating Field: tropomax , Value=None, Type=INT\n",
      "addsubelement - INFO - Creating Field: tropolooks , Value=8, Type=INT\n"
     ]
    }
   ],
   "source": [
    "#Run the script\n",
    "!python prepsbasxml.py"
   ]
  },
  {
   "cell_type": "code",
   "execution_count": 4,
   "metadata": {},
   "outputs": [
    {
     "name": "stdout",
     "output_type": "stream",
     "text": [
      "logger - INFO - GIANT Toolbox - v 1.0\n",
      "logger - INFO - ---------------------\n",
      "/opt/conda/envs/python2/lib/python2.7/site-packages/h5py/__init__.py:36: RuntimeWarning: numpy.dtype size changed, may indicate binary incompatibility. Expected 96, got 88\n",
      "  from ._conv import register_converters as _register_converters\n",
      "/opt/conda/envs/python2/lib/python2.7/site-packages/h5py/__init__.py:45: RuntimeWarning: numpy.dtype size changed, may indicate binary incompatibility. Expected 96, got 88\n",
      "  from . import h5a, h5d, h5ds, h5f, h5fd, h5g, h5r, h5s, h5t, h5p, h5z\n",
      "/opt/conda/envs/python2/lib/python2.7/site-packages/h5py/_hl/group.py:22: RuntimeWarning: numpy.dtype size changed, may indicate binary incompatibility. Expected 96, got 88\n",
      "  from .. import h5g, h5i, h5o, h5r, h5t, h5l, h5p\n",
      "addsubelement - INFO - Creating Field: nvalid , Value=11, Type=INT\n",
      "addsubelement - INFO - Creating Field: uwcheck , Value=False, Type=BOOL\n",
      "addsubelement - INFO - Creating Field: netramp , Value=False, Type=BOOL\n",
      "addsubelement - INFO - Creating Field: gpsramp , Value=False, Type=BOOL\n",
      "addsubelement - INFO - Creating Field: stnlist , Value=, Type=STR\n",
      "addsubelement - INFO - Creating Field: stntype , Value=, Type=STR\n",
      "addsubelement - INFO - Creating Field: gpspath , Value=, Type=STR\n",
      "addsubelement - INFO - Creating Field: gpstype , Value=, Type=STR\n",
      "addsubelement - INFO - Creating Field: gpsvert , Value=False, Type=BOOL\n",
      "addsubelement - INFO - Creating Field: gpsmodel , Value=False, Type=BOOL\n",
      "addsubelement - INFO - Creating Field: gpspreproc , Value=False, Type=BOOL\n",
      "addsubelement - INFO - Creating Field: gpspad , Value=3, Type=INT\n",
      "addsubelement - INFO - Creating Field: gpsmin , Value=5, Type=INT\n",
      "addsubelement - INFO - Creating Field: atmos , Value=, Type=STR\n",
      "addsubelement - INFO - Creating Field: demerr , Value=False, Type=BOOL\n",
      "addsubelement - INFO - Creating Field: regularize , Value=True, Type=BOOL\n",
      "addsubelement - INFO - Creating Field: masterdate , Value=, Type=STR\n",
      "addsubelement - INFO - Creating Field: filterlen , Value=0.05, Type=FLOAT\n",
      "addsubelement - INFO - Creating Field: tropomin , Value=1, Type=INT\n",
      "addsubelement - INFO - Creating Field: tropomax , Value=None, Type=INT\n",
      "addsubelement - INFO - Creating Field: tropolooks , Value=8, Type=INT\n"
     ]
    }
   ],
   "source": [
    "#Run the python script\n",
    "!python prepsbasxml.py"
   ]
  },
  {
   "cell_type": "code",
   "execution_count": 5,
   "metadata": {},
   "outputs": [
    {
     "name": "stdout",
     "output_type": "stream",
     "text": [
      "<params>\r\n",
      "  <proc>\r\n",
      "    <nvalid>\r\n",
      "      <value>11</value>\r\n",
      "      <type>INT</type>\r\n",
      "      <help>Minimum number of coherent IFGs for a single pixel. If zero, pixel should be coherent in all IFGs.</help>\r\n",
      "    </nvalid>\r\n",
      "    <uwcheck>\r\n",
      "      <value>False</value>\r\n",
      "      <type>BOOL</type>\r\n",
      "    </uwcheck>\r\n",
      "    <netramp>\r\n",
      "      <value>False</value>\r\n",
      "      <type>BOOL</type>\r\n",
      "      <help>Network deramp. Remove ramps from IFGs in a network sense.</help>\r\n",
      "    </netramp>\r\n",
      "    <gpsramp>\r\n",
      "      <value>False</value>\r\n",
      "      <type>BOOL</type>\r\n",
      "      <help>GPS deramping. Use GPS network information to correct ramps.</help>\r\n",
      "    </gpsramp>\r\n",
      "    <stnlist>\r\n",
      "      <value></value>\r\n",
      "      <type>STR</type>\r\n",
      "      <help>Station list for position of GPS stations.</help>\r\n",
      "    </stnlist>\r\n",
      "    <stntype>\r\n",
      "      <value></value>\r\n",
      "      <type>STR</type>\r\n",
      "      <help>Type of station list. False for Sopac, True for (Name,Lat,Lon), velocity for (Name,lat,lon,ve,vn,vu)</help>\r\n",
      "    </stntype>\r\n",
      "    <gpspath>\r\n",
      "      <value></value>\r\n",
      "      <type>STR</type>\r\n",
      "      <help>Directory that stores the files for SOPAC or full path of the velotable.</help>\r\n",
      "    </gpspath>\r\n",
      "    <gpstype>\r\n",
      "      <value></value>\r\n",
      "      <type>STR</type>\r\n",
      "      <help>Type of data that is provided. Can be sopac or velocity.</help>\r\n",
      "    </gpstype>\r\n",
      "    <gpsvert>\r\n",
      "      <value>False</value>\r\n",
      "      <type>BOOL</type>\r\n",
      "      <help>Use vertical components from the GPS data.</help>\r\n",
      "    </gpsvert>\r\n",
      "    <gpsmodel>\r\n",
      "      <value>False</value>\r\n",
      "      <type>BOOL</type>\r\n",
      "      <help>Use SOPAC model header for the GPS stations.</help>\r\n",
      "    </gpsmodel>\r\n",
      "    <gpspreproc>\r\n",
      "      <value>False</value>\r\n",
      "      <type>BOOL</type>\r\n",
      "      <help>Preprocess and smoothen the data using before using.</help>\r\n",
      "    </gpspreproc>\r\n",
      "    <gpspad>\r\n",
      "      <value>3</value>\r\n",
      "      <type>INT</type>\r\n",
      "      <help>Number of pixels around GPS station to be averaged for comparison.</help>\r\n",
      "    </gpspad>\r\n",
      "    <gpsmin>\r\n",
      "      <value>5</value>\r\n",
      "      <type>INT</type>\r\n",
      "      <help>Minimum number of GPS needed for ramp correction.</help>\r\n",
      "    </gpsmin>\r\n",
      "    <atmos>\r\n",
      "      <value></value>\r\n",
      "      <type>STR</type>\r\n",
      "      <help>Atmospheric correction using weather models.</help>\r\n",
      "    </atmos>\r\n",
      "    <demerr>\r\n",
      "      <value>False</value>\r\n",
      "      <type>BOOL</type>\r\n",
      "      <help>Correct for DEM Error. Use in case when IFGs</help>\r\n",
      "    </demerr>\r\n",
      "    <regularize>\r\n",
      "      <value>True</value>\r\n",
      "      <type>BOOL</type>\r\n",
      "      <help>Regularization of the inverted time-series, if</help>\r\n",
      "    </regularize>\r\n",
      "    <masterdate>\r\n",
      "      <value></value>\r\n",
      "      <type>STR</type>\r\n",
      "      <help>SAR acquisition to be chosen as time zero. If none, first acquisition is used. </help>\r\n",
      "    </masterdate>\r\n",
      "    <filterlen>\r\n",
      "      <value>0.05</value>\r\n",
      "      <type>FLOAT</type>\r\n",
      "      <help>Width of the Gaussian filter used for smoothing final time-series</help>\r\n",
      "    </filterlen>\r\n",
      "    <tropomin>\r\n",
      "      <value>1</value>\r\n",
      "      <type>INT</type>\r\n",
      "      <help>Minimum scale to be analyzed for empirical tropospheric corrections.</help>\r\n",
      "    </tropomin>\r\n",
      "    <tropomax>\r\n",
      "      <value>None</value>\r\n",
      "      <type>INT</type>\r\n",
      "      <help>Maximum scale to be analyzed for empirical tropospheric corrections.</help>\r\n",
      "    </tropomax>\r\n",
      "    <tropolooks>\r\n",
      "      <value>8</value>\r\n",
      "      <type>INT</type>\r\n",
      "      <help>Number of additional looks to be applied before estimating tropospheric parameters.</help>\r\n",
      "    </tropolooks>\r\n",
      "  </proc>\r\n",
      "</params>\r\n"
     ]
    }
   ],
   "source": [
    "#Look at the output\n",
    "!cat sbas.xml"
   ]
  },
  {
   "cell_type": "markdown",
   "metadata": {},
   "source": [
    "You will see that the **sbas.xml** has been populated with more fields than what you had set. This is a deliberate choice to document all the parameters that were used in the processing - default values in the software are subject to change."
   ]
  },
  {
   "cell_type": "markdown",
   "metadata": {},
   "source": [
    "## 2. Understanding SBAS"
   ]
  },
  {
   "cell_type": "markdown",
   "metadata": {},
   "source": [
    "Let's work through a very simple synthetic problem to understand the SBAS algorithm implemented in GIAnT.\n",
    "\n",
    "Consider four SAR acquisitions- call them **A, B, C** and **D**. \n",
    "\n",
    "Let's assume that we have the following interferograms are used - **AB, AC, BC, BD** and **CD**."
   ]
  },
  {
   "cell_type": "markdown",
   "metadata": {},
   "source": [
    "The corresponding connectivity matrix (**Jmat** in GIAnT) can then be written as \n",
    "\n",
    "$$J = \\left \\lgroup \\matrix{ 1 & -1 & 0 & 0\\cr 1 & 0 & -1 & 0\\cr 0 & 1 & -1 & 0\\cr 0 & 1 & 0 & -1\\cr 0 & 0 & 1 & -1 } \\right \\rgroup$$"
   ]
  },
  {
   "cell_type": "markdown",
   "metadata": {},
   "source": [
    "Let's choose scene **A** as the reference and then our inversion problem reduces to \n",
    "\n",
    "$$\\left \\lgroup \\matrix{\\phi_{AB} \\cr \\phi_{AC} \\cr \\phi_{BC} \\cr \\phi_{BD} \\cr \\phi_{CD} } \\right \\rgroup = \\left \\lgroup \\matrix{ -1 & 0 & 0\\cr 0 & -1 & 0\\cr 1 & -1 & 0\\cr 1 & 0 & -1\\cr 0 & 1 & -1 } \\right \\rgroup \\cdot \\left \\lgroup \\matrix{\\phi_{B} \\cr \\phi_{C} \\cr \\phi_{D} } \\right \\rgroup$$"
   ]
  },
  {
   "cell_type": "markdown",
   "metadata": {},
   "source": [
    "This is a simple least-squares problem that we can solve with functions already available in numpy / scipy. The key is that the matrix be full rank - else the matrix is ill-constrained."
   ]
  },
  {
   "cell_type": "markdown",
   "metadata": {},
   "source": [
    "## 3. Run SBASInvert.py"
   ]
  },
  {
   "cell_type": "code",
   "execution_count": 6,
   "metadata": {},
   "outputs": [
    {
     "name": "stdout",
     "output_type": "stream",
     "text": [
      "logger - INFO - GIANT Toolbox - v 1.0\n",
      "logger - INFO - ---------------------\n",
      "/opt/conda/envs/python2/lib/python2.7/site-packages/h5py/__init__.py:36: RuntimeWarning: numpy.dtype size changed, may indicate binary incompatibility. Expected 96, got 88\n",
      "  from ._conv import register_converters as _register_converters\n",
      "/opt/conda/envs/python2/lib/python2.7/site-packages/h5py/__init__.py:45: RuntimeWarning: numpy.dtype size changed, may indicate binary incompatibility. Expected 96, got 88\n",
      "  from . import h5a, h5d, h5ds, h5f, h5fd, h5g, h5r, h5s, h5t, h5p, h5z\n",
      "/opt/conda/envs/python2/lib/python2.7/site-packages/h5py/_hl/group.py:22: RuntimeWarning: numpy.dtype size changed, may indicate binary incompatibility. Expected 96, got 88\n",
      "  from .. import h5g, h5i, h5o, h5r, h5t, h5l, h5p\n",
      "<module> - INFO - Number of interferograms = 19\n",
      "<module> - INFO - Number of unique SAR scenes = 10\n",
      "<module> - INFO - Number of connected components in network: 1\n",
      "Timefn - INFO - Adding 10 linear pieces (SBAS)\n",
      "<module> - INFO - Output h5file: Stack/LS-PARAMS.h5\n",
      "[============================================================]      7s /      0s\n"
     ]
    }
   ],
   "source": [
    "!SBASInvert.py"
   ]
  },
  {
   "cell_type": "markdown",
   "metadata": {},
   "source": [
    "## 4. Looking at the outputs"
   ]
  },
  {
   "cell_type": "code",
   "execution_count": 7,
   "metadata": {},
   "outputs": [
    {
     "name": "stdout",
     "output_type": "stream",
     "text": [
      "total 11428\r\n",
      "-rw-r--r-- 1 jovyan users      532 Aug 16 03:32 ifg.list\r\n",
      "-rw-r--r-- 1 jovyan users      110 Aug 16 03:32 example.rsc\r\n",
      "-rw-r--r-- 1 jovyan users      248 Aug 16 03:33 userfn.py\r\n",
      "-rw-r--r-- 1 jovyan users 11664000 Aug 16 03:34 watermask.flt\r\n",
      "-rw-r--r-- 1 jovyan users      767 Aug 16 03:34 prepdataxml.py\r\n",
      "-rw-r--r-- 1 jovyan users      643 Aug 16 03:34 prepsbasxml.py\r\n",
      "-rw-r--r-- 1 jovyan users     5554 Aug 16 03:40 data.xml\r\n",
      "-rw-r--r-- 1 jovyan users      451 Aug 16 03:40 userfn.pyc\r\n",
      "drwxr-sr-x 3 jovyan users       28 Aug 16 03:40 Figs\r\n",
      "-rw-r--r-- 1 jovyan users     3313 Aug 16 03:58 sbas.xml\r\n",
      "drwxr-sr-x 2 jovyan users       58 Aug 16 04:00 Stack\r\n"
     ]
    }
   ],
   "source": [
    "##List contents \n",
    "!ls -ltr "
   ]
  },
  {
   "cell_type": "code",
   "execution_count": 8,
   "metadata": {},
   "outputs": [
    {
     "name": "stdout",
     "output_type": "stream",
     "text": [
      "Stack/LS-PARAMS.h5  Stack/RAW-STACK.h5\r\n"
     ]
    }
   ],
   "source": [
    "##List contents of Stack\n",
    "!ls Stack/*"
   ]
  },
  {
   "cell_type": "markdown",
   "metadata": {},
   "source": [
    "### Exploring contents of the HDF5 file from command line"
   ]
  },
  {
   "cell_type": "code",
   "execution_count": 10,
   "metadata": {},
   "outputs": [
    {
     "name": "stdout",
     "output_type": "stream",
     "text": [
      "cmask                    Dataset {1620, 1800}\r\n",
      "dates                    Dataset {10}\r\n",
      "mName                    Dataset {10}\r\n",
      "masterind                Dataset {SCALAR}\r\n",
      "parms                    Dataset {1620, 1800, 9}\r\n",
      "rawts                    Dataset {10, 1620, 1800}\r\n",
      "recons                   Dataset {10, 1620, 1800}\r\n",
      "regF                     Dataset {10}\r\n",
      "tims                     Dataset {10}\r\n"
     ]
    }
   ],
   "source": [
    "##Using HDF5 tools\n",
    "!h5ls Stack/LS-PARAMS.h5"
   ]
  },
  {
   "cell_type": "code",
   "execution_count": 11,
   "metadata": {},
   "outputs": [
    {
     "name": "stdout",
     "output_type": "stream",
     "text": [
      "Opened \"Stack/LS-PARAMS.h5\" with sec2 driver.\r\n",
      "cmask                    Dataset {1620/1620, 1800/1800}\r\n",
      "    Attribute: help scalar\r\n",
      "        Type:      variable-length null-terminated ASCII string\r\n",
      "        Data:  \"Common pixel mask.\"\r\n",
      "    Location:  1:7512\r\n",
      "    Links:     1\r\n",
      "    Storage:   11664000 logical bytes, 11664000 allocated bytes, 100.00% utilization\r\n",
      "    Type:      native float\r\n",
      "dates                    Dataset {10/10}\r\n",
      "    Attribute: help scalar\r\n",
      "        Type:      variable-length null-terminated ASCII string\r\n",
      "        Data:  \"Ordinal values of SAR acquisition dates.\"\r\n",
      "    Location:  1:7240\r\n",
      "    Links:     1\r\n",
      "    Storage:   80 logical bytes, 80 allocated bytes, 100.00% utilization\r\n",
      "    Type:      native double\r\n",
      "mName                    Dataset {10/10}\r\n",
      "    Attribute: help scalar\r\n",
      "        Type:      variable-length null-terminated ASCII string\r\n",
      "        Data:  \"Unique names for model parameters.\"\r\n",
      "    Location:  1:6424\r\n",
      "    Links:     1\r\n",
      "    Storage:   80 logical bytes, 80 allocated bytes, 100.00% utilization\r\n",
      "    Type:      8-byte null-padded ASCII string\r\n",
      "masterind                Dataset {SCALAR}\r\n",
      "    Attribute: help scalar\r\n",
      "        Type:      variable-length null-terminated ASCII string\r\n",
      "        Data:  \"Master scene index.\"\r\n",
      "    Location:  1:7784\r\n",
      "    Links:     1\r\n",
      "    Storage:   8 logical bytes, 8 allocated bytes, 100.00% utilization\r\n",
      "    Type:      native long\r\n",
      "parms                    Dataset {1620/1620, 1800/1800, 9/9}\r\n",
      "    Attribute: help scalar\r\n",
      "        Type:      variable-length null-terminated ASCII string\r\n",
      "        Data:  \"Stores all the relevant parameters from the SBAS inversion.\"\r\n",
      "    Location:  1:928\r\n",
      "    Links:     1\r\n",
      "    Storage:   104976000 logical bytes, 104976000 allocated bytes, 100.00% utilization\r\n",
      "    Type:      native float\r\n",
      "rawts                    Dataset {10/10, 1620/1620, 1800/1800}\r\n",
      "    Attribute: help scalar\r\n",
      "        Type:      variable-length null-terminated ASCII string\r\n",
      "        Data:  \"Raw unfiltered time-series\"\r\n",
      "    Location:  1:6144\r\n",
      "    Links:     1\r\n",
      "    Storage:   116640000 logical bytes, 116640000 allocated bytes, 100.00% utilization\r\n",
      "    Type:      native float\r\n",
      "recons                   Dataset {10/10, 1620/1620, 1800/1800}\r\n",
      "    Attribute: help scalar\r\n",
      "        Type:      variable-length null-terminated ASCII string\r\n",
      "        Data:  \"Reconstructed time-series\"\r\n",
      "    Location:  1:1528\r\n",
      "    Links:     1\r\n",
      "    Storage:   116640000 logical bytes, 116640000 allocated bytes, 100.00% utilization\r\n",
      "    Type:      native float\r\n",
      "regF                     Dataset {10/10}\r\n",
      "    Attribute: help scalar\r\n",
      "        Type:      variable-length null-terminated ASCII string\r\n",
      "        Data:  \"regF family indicator for model parameters.\"\r\n",
      "    Location:  1:6696\r\n",
      "    Links:     1\r\n",
      "    Storage:   80 logical bytes, 80 allocated bytes, 100.00% utilization\r\n",
      "    Type:      native double\r\n",
      "tims                     Dataset {10/10}\r\n",
      "    Attribute: help scalar\r\n",
      "        Type:      variable-length null-terminated ASCII string\r\n",
      "        Data:  \"SAR acquisition time in years.\"\r\n",
      "    Location:  1:6968\r\n",
      "    Links:     1\r\n",
      "    Storage:   80 logical bytes, 80 allocated bytes, 100.00% utilization\r\n",
      "    Type:      native double\r\n"
     ]
    }
   ],
   "source": [
    "##More verbose\n",
    "!h5ls -v Stack/LS-PARAMS.h5"
   ]
  },
  {
   "cell_type": "code",
   "execution_count": 12,
   "metadata": {},
   "outputs": [
    {
     "name": "stdout",
     "output_type": "stream",
     "text": [
      "Driver: HDF5/Hierarchical Data Format Release 5\r\n",
      "Files: Stack/LS-PARAMS.h5\r\n",
      "Size is 512, 512\r\n",
      "Coordinate System is `'\r\n",
      "Metadata:\r\n",
      "  cmask_help=Common pixel mask.\r\n",
      "  dates_help=Ordinal values of SAR acquisition dates.\r\n",
      "  help=Regular SBAS Inversion results. Raw + filtered series.\r\n",
      "  parms_help=Stores all the relevant parameters from the SBAS inversion.\r\n",
      "  rawts_help=Raw unfiltered time-series\r\n",
      "  recons_help=Reconstructed time-series\r\n",
      "  regF_help=regF family indicator for model parameters.\r\n",
      "  tims_help=SAR acquisition time in years.\r\n",
      "Subdatasets:\r\n",
      "  SUBDATASET_1_NAME=HDF5:\"Stack/LS-PARAMS.h5\"://cmask\r\n",
      "  SUBDATASET_1_DESC=[1620x1800] //cmask (32-bit floating-point)\r\n",
      "  SUBDATASET_2_NAME=HDF5:\"Stack/LS-PARAMS.h5\"://parms\r\n",
      "  SUBDATASET_2_DESC=[1620x1800x9] //parms (32-bit floating-point)\r\n",
      "  SUBDATASET_3_NAME=HDF5:\"Stack/LS-PARAMS.h5\"://rawts\r\n",
      "  SUBDATASET_3_DESC=[10x1620x1800] //rawts (32-bit floating-point)\r\n",
      "  SUBDATASET_4_NAME=HDF5:\"Stack/LS-PARAMS.h5\"://recons\r\n",
      "  SUBDATASET_4_DESC=[10x1620x1800] //recons (32-bit floating-point)\r\n",
      "Corner Coordinates:\r\n",
      "Upper Left  (    0.0,    0.0)\r\n",
      "Lower Left  (    0.0,  512.0)\r\n",
      "Upper Right (  512.0,    0.0)\r\n",
      "Lower Right (  512.0,  512.0)\r\n",
      "Center      (  256.0,  256.0)\r\n"
     ]
    }
   ],
   "source": [
    "##Using gdal\n",
    "!gdalinfo Stack/LS-PARAMS.h5"
   ]
  },
  {
   "cell_type": "markdown",
   "metadata": {},
   "source": [
    "### Lets move on to the plotts_notebook to look at the estimated time-series"
   ]
  }
 ],
 "metadata": {
  "kernelspec": {
   "display_name": "Python 2",
   "language": "python",
   "name": "python2"
  },
  "language_info": {
   "codemirror_mode": {
    "name": "ipython",
    "version": 2
   },
   "file_extension": ".py",
   "mimetype": "text/x-python",
   "name": "python",
   "nbconvert_exporter": "python",
   "pygments_lexer": "ipython2",
   "version": "2.7.15"
  }
 },
 "nbformat": 4,
 "nbformat_minor": 2
}
