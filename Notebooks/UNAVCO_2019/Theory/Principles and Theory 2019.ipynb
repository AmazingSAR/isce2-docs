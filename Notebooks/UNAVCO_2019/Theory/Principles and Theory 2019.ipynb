{
 "cells": [
  {
   "cell_type": "code",
   "execution_count": 1,
   "metadata": {
    "hideCode": false,
    "hideOutput": true,
    "hidePrompt": true,
    "scrolled": true,
    "slideshow": {
     "slide_type": "skip"
    }
   },
   "outputs": [],
   "source": [
    "from notebook.services.config import ConfigManager\n",
    "cm = ConfigManager()\n",
    "\n",
    "cm.update('livereveal', {\n",
    "              'width': \"90%\",\n",
    "              'height': \"90%\",\n",
    "              'scroll': True,\n",
    "})\n",
    "\n",
    "import warnings\n",
    "warnings.filterwarnings('ignore')\n",
    "\n",
    "bShowInline = True  # Set = False for document generation\n",
    "%matplotlib inline\n",
    "import matplotlib.pyplot as plt"
   ]
  },
  {
   "cell_type": "markdown",
   "metadata": {
    "slideshow": {
     "slide_type": "slide"
    }
   },
   "source": [
    "<img src=\"Figs2019/Banner.png\" width=\"100%\" />\n",
    "<font face=\"Calibri\">\n",
    "<br>\n",
    "<font size=\"7\"> <b> Synthetic Aperture Radar Interferometry <b> </font>\n",
    "\n",
    "<font size=\"5\"> <b> Principles, Phenomenology, and Theory <font color='rgba(200,0,0,0.2)'> </font> </b> </font>\n",
    "\n",
    "<br> <img src=\"Figs2019/NASALogo.png\" width=\"250\" align=\"right\" /> <br> \n",
    "<font size=\"4\"> <b> Paul A Rosen</b> \n",
    "<font size=\"3\">  <br>\n",
    "<font> <b>Date: </b> August 8, 2019 </font>\n",
    "</font>"
   ]
  },
  {
   "cell_type": "markdown",
   "metadata": {
    "hideCode": true,
    "hidePrompt": true,
    "slideshow": {
     "slide_type": "slide"
    }
   },
   "source": [
    "\n",
    "Contributors to content include: Scott Hensley, Anthony Freeman, Jakob van Zyl, Piyush Agram, Howard Zebker\n",
    "\n",
    "This notebook presents the basics of synthetic aperture radar interferometry. The student will be exposed to:\n",
    "    \n",
    "1. What is Radar?\n",
    "2. Basic definitions\n",
    "3. What is Synthetic Aperture Radar?\n",
    "4. Properties of Radar Images\n",
    "5. What is Synthetic Aperture Radar Interferometry?\n",
    "6. What other modalities of SAR are important?\n",
    "7. What is range-Doppler geometry, why is it important, and how does it relate to geographic coordinates?\n",
    "8. SAR Interferometry Theory\n",
    "9. Decorrelation Theory\n",
    "\n"
   ]
  },
  {
   "cell_type": "markdown",
   "metadata": {
    "hideCode": true,
    "hidePrompt": true,
    "slideshow": {
     "slide_type": "slide"
    }
   },
   "source": [
    "## Lecture Outline\n",
    "\n",
    "\n",
    "### First Segment: Radar Imaging Fundamentals\n",
    "\n",
    "\n",
    "1. <font color='green'>Basic Principles of Radar and SAR</font>\n",
    "2. <font color='green'>Properties of Radar Images</font>\n",
    "\n",
    "Second Segment: Geometric Aspects of Interferometry and Interferometric Phase\n",
    "\n",
    "1. Topographic Mapping\n",
    "2. Deformation Mapping\n",
    "3. Phase Unwrapping and Atmosphere\n",
    "\n",
    "Third Segment: Interferometric Correlation\n",
    "\n",
    "1. SNR and Interferometric Correlation\n",
    "2. Geometric, Temporal, Volumetric Decorrelation\n"
   ]
  },
  {
   "cell_type": "markdown",
   "metadata": {
    "hideCode": true,
    "hidePrompt": true,
    "slideshow": {
     "slide_type": "skip"
    }
   },
   "source": [
    "## Introduction and Motivation\n",
    "\n",
    "You are reading this because you are interested in the geodetic aspects of synthetic aperture radar (SAR), particularly interferometric synthetic aperture radar (InSAR).  From a technical perspective, SAR and InSAR are quite complex, and even to experts in the field be a source of wonder as to how an instrument that illuminates a very large footprint on the ground can deliver almost arbitrarily fine resolution images, and relative motions of image points over time at mm to cm accuracy.  This can be illustrated by first looking at an \"image\" of the raw data before processing.\n",
    "\n",
    "\n",
    "\n"
   ]
  },
  {
   "cell_type": "markdown",
   "metadata": {
    "hideCode": true,
    "hidePrompt": true,
    "slideshow": {
     "slide_type": "slide"
    }
   },
   "source": [
    "![label](Figs2019/Slide003.png)"
   ]
  },
  {
   "cell_type": "markdown",
   "metadata": {
    "hideCode": true,
    "hidePrompt": true,
    "slideshow": {
     "slide_type": "slide"
    }
   },
   "source": [
    "![label](Figs2019/Slide004.png)"
   ]
  },
  {
   "cell_type": "markdown",
   "metadata": {
    "hideCode": true,
    "hidePrompt": true,
    "slideshow": {
     "slide_type": "slide"
    }
   },
   "source": [
    "![label](Figs2019/Slide005.png)"
   ]
  },
  {
   "cell_type": "markdown",
   "metadata": {
    "hideCode": true,
    "hidePrompt": true,
    "slideshow": {
     "slide_type": "slide"
    }
   },
   "source": [
    "![label](Figs2019/Slide006.png)"
   ]
  },
  {
   "cell_type": "markdown",
   "metadata": {
    "hideCode": true,
    "hidePrompt": true,
    "slideshow": {
     "slide_type": "slide"
    }
   },
   "source": [
    "![label](Figs2019/Slide007.png)"
   ]
  },
  {
   "cell_type": "markdown",
   "metadata": {
    "hideCode": true,
    "hidePrompt": true,
    "slideshow": {
     "slide_type": "slide"
    }
   },
   "source": [
    "![label](Figs2019/Slide008.png)"
   ]
  },
  {
   "cell_type": "markdown",
   "metadata": {
    "hideCode": true,
    "hidePrompt": true,
    "slideshow": {
     "slide_type": "slide"
    }
   },
   "source": [
    "![label](Figs2019/Slide009.png)"
   ]
  },
  {
   "cell_type": "markdown",
   "metadata": {
    "hideCode": true,
    "hidePrompt": true,
    "slideshow": {
     "slide_type": "slide"
    }
   },
   "source": [
    "![label](Figs2019/Slide010.png)"
   ]
  },
  {
   "cell_type": "markdown",
   "metadata": {
    "hideCode": true,
    "hidePrompt": true,
    "slideshow": {
     "slide_type": "slide"
    }
   },
   "source": [
    "![label](Figs2019/Slide012.png)"
   ]
  },
  {
   "cell_type": "markdown",
   "metadata": {
    "hideCode": true,
    "hidePrompt": true,
    "slideshow": {
     "slide_type": "slide"
    }
   },
   "source": [
    "![label](Figs2019/Slide013.png)"
   ]
  },
  {
   "cell_type": "markdown",
   "metadata": {
    "hideCode": false,
    "hidePrompt": true,
    "slideshow": {
     "slide_type": "slide"
    }
   },
   "source": [
    "**Table of Radar and Spacecraft Parameters and constants used for any computed examples in this notebook**\n",
    "\n",
    "| Parameter | Symbol | Value | Comment |\n",
    "| --- | --- | --- | --- | \n",
    "| Wavelength | $\\lambda $ | 0.24 m | (L-band)  \n",
    "| Antenna Length | $L_a$ | 10 m | |  \n",
    "| Antenna Width | $W_a$ | 2 m | |  \n",
    "| Off-nadir boresight angle | $\\theta_l$ | 30$^\\circ$ | |\n",
    "| Azimuth squint of  boresight angle | $\\theta_{sq}$ | 0$^\\circ$ | |\n",
    "| Spacecraft Velocity | $v_{sc}$ | 7,500 m/s | Assumed constant |\n",
    "| Spacecraft Altitude | $h_{sc}$ | 750,000 m | Assumed constant | \n",
    "| Radar Range Bandwidth | $B_r$ | 10 MHz | |\n",
    "| Radar Pulse Duration | $\\tau_r$ | 20 $\\mu$s | Determines average power |\n",
    "| Nominal Pulse Rate | $f_p$ | 1600 Hz | Determines average power and ambiguity levels |\n",
    "| Peak Power on Transmit | $P_T$ | 4,000 W | Determines SNR |\n",
    "| Radar Noise Temperature | $T_r$ | 300 K | Determines SNR |\n",
    "| Corner Reflector Dimension | $L_{cr}$ | 2.4 m | Determines SNR |\n",
    "| Speed of light         | $c $  | 299792456 m/s | |  \n",
    "| Boltzman constant      | $k$   | 1.38064852 $\\times$ 10$^{-23}$ m$^2$ kg s$^{-2}$ K$^{-1}$ | -228.6 dB |  \n",
    "| Gravitational Constant | $G$   | 6.672 $\\times$ 10$^{-11}$ m$^3$ kg$^{−1}$ s$^{−2}$ | |  \n",
    "| Earth's Mass           | $M_E$ | 5.9742 $\\times$ 10$^{24}$ kg | |"
   ]
  },
  {
   "cell_type": "code",
   "execution_count": 2,
   "metadata": {
    "slideshow": {
     "slide_type": "skip"
    }
   },
   "outputs": [],
   "source": [
    "import numpy as np\n",
    "Lambda = 0.24\n",
    "L_a = 10.\n",
    "W_a = 2. \n",
    "theta_l = 30. * np.pi/180.\n",
    "theta_sq = 0. * np.pi/180.\n",
    "v_sc = 7500.\n",
    "h_sc = 750000. \n",
    "B_r = 20.e6\n",
    "tau_r = 10.e-6\n",
    "f_p = 1600.\n",
    "P_T = 4000.\n",
    "T_r = 300.\n",
    "L_cr =2.4\n",
    "c = 299792456 \n",
    "k = 1.38064852e-23\n",
    "G = 6.672e-11\n",
    "M_E = 5.9742e24"
   ]
  },
  {
   "cell_type": "markdown",
   "metadata": {
    "hideCode": true,
    "hidePrompt": true,
    "slideshow": {
     "slide_type": "slide"
    }
   },
   "source": [
    "![label](Figs2019/Slide018.png)"
   ]
  },
  {
   "cell_type": "markdown",
   "metadata": {
    "hideCode": false,
    "hidePrompt": true,
    "slideshow": {
     "slide_type": "slide"
    }
   },
   "source": [
    "![label](Figs2019/Slide014.png)"
   ]
  },
  {
   "cell_type": "markdown",
   "metadata": {
    "slideshow": {
     "slide_type": "slide"
    }
   },
   "source": [
    "## Range coding to achieve better resolution\n",
    "\n",
    "If it is not possible to transmit a narrow enough pulse with sufficient power to achieve the desired results, it is customary to transmit a coded waveform in the pulse to create a broader bandwidth to the pulsed signal.  The resolution is then the reciprocal of the bandwidth. "
   ]
  },
  {
   "cell_type": "code",
   "execution_count": 3,
   "metadata": {
    "hidePrompt": true,
    "slideshow": {
     "slide_type": "fragment"
    }
   },
   "outputs": [],
   "source": [
    "rho = h_sc / np.cos(theta_l)\n",
    "Delta_rho_taur = c *  tau_r / 2.\n",
    "Delta_rho_Br   = c * (1./B_r) / 2."
   ]
  },
  {
   "cell_type": "code",
   "execution_count": 4,
   "metadata": {
    "hideCode": true,
    "hidePrompt": true,
    "slideshow": {
     "slide_type": "fragment"
    }
   },
   "outputs": [
    {
     "name": "stdout",
     "output_type": "stream",
     "text": [
      "Spacecraft altitude = 750000.00 m\n",
      "Pulse length = 10.00 microsec\n",
      "Pulse Bandwidth= 20.00 MegaHertz\n",
      "Range from spacecraft to boresight intersection with ground = 866025.40 m\n",
      "Range resolution based on pulse duration = 1498.96 m\n",
      "Range resolution based on bandwidth of coded range pulse = 7.49 m\n"
     ]
    }
   ],
   "source": [
    "print(\"Spacecraft altitude =\",\"{:.2f}\".format(h_sc),\"m\")\n",
    "print(\"Pulse length =\",\"{:.2f}\".format(1.e6*tau_r),\"microsec\")\n",
    "print(\"Pulse Bandwidth=\",\"{:.2f}\".format(1.e-6*B_r),\"MegaHertz\")\n",
    "print(\"Range from spacecraft to boresight intersection with ground =\",\"{:.2f}\".format(rho),\"m\")\n",
    "print(\"Range resolution based on pulse duration = \"\"{:.2f}\".format(Delta_rho_taur),\"m\")\n",
    "print(\"Range resolution based on bandwidth of coded range pulse = \"\"{:.2f}\".format(Delta_rho_Br),\"m\")"
   ]
  },
  {
   "cell_type": "markdown",
   "metadata": {
    "hideCode": false,
    "hidePrompt": true,
    "slideshow": {
     "slide_type": "slide"
    }
   },
   "source": [
    "![label](Figs2019/Slide019.png)"
   ]
  },
  {
   "cell_type": "markdown",
   "metadata": {
    "slideshow": {
     "slide_type": "slide"
    }
   },
   "source": [
    "## Ground Resolution Variability with Swath and Terrain"
   ]
  },
  {
   "cell_type": "code",
   "execution_count": 5,
   "metadata": {
    "hidePrompt": true,
    "slideshow": {
     "slide_type": "fragment"
    }
   },
   "outputs": [],
   "source": [
    "tau_p = 0.\n",
    "theta=np.linspace(25.,45.,100)\n",
    "Delta_rhog_Br = Delta_rho_Br / np.sin((theta-tau_p) * np.pi / 180.)\n",
    "tau_p = 10.\n",
    "Delta_rhog_Br_10deg = Delta_rho_Br / np.sin((theta-tau_p) * np.pi / 180.)\n",
    "tau_p = 20.\n",
    "Delta_rhog_Br_20deg = Delta_rho_Br / np.sin((theta-tau_p) * np.pi / 180.)"
   ]
  },
  {
   "cell_type": "code",
   "execution_count": 6,
   "metadata": {
    "hideCode": true,
    "hidePrompt": true,
    "slideshow": {
     "slide_type": "fragment"
    }
   },
   "outputs": [
    {
     "data": {
      "image/png": "[encoded data removed]",
      "text/plain": [
       "<Figure size 432x288 with 1 Axes>"
      ]
     },
     "metadata": {},
     "output_type": "display_data"
    }
   ],
   "source": [
    "plt.style.use('seaborn-whitegrid')\n",
    "fig = plt.figure()\n",
    "ax = plt.axes()\n",
    "plt.plot(theta,Delta_rhog_Br,label='0$^\\circ$ slope')\n",
    "plt.plot(theta,Delta_rhog_Br_10deg,label='10$^\\circ$ slope')\n",
    "plt.plot(theta,Delta_rhog_Br_20deg,label='20$^\\circ$ slope')\n",
    "plt.xlabel(\"Look angle $(^\\circ)$\")\n",
    "plt.ylabel(\"Ground Range Resolution \")\n",
    "plt.title(\"Ground Range Resolution versus look angle for different slopes\")\n",
    "plt.legend(loc='best');"
   ]
  },
  {
   "cell_type": "markdown",
   "metadata": {
    "hideCode": true,
    "hidePrompt": true,
    "slideshow": {
     "slide_type": "slide"
    }
   },
   "source": [
    "![label](Figs2019/Slide016.png)"
   ]
  },
  {
   "cell_type": "markdown",
   "metadata": {
    "slideshow": {
     "slide_type": "slide"
    }
   },
   "source": [
    "## Some Example Beam Dimensions"
   ]
  },
  {
   "cell_type": "code",
   "execution_count": 7,
   "metadata": {
    "hidePrompt": true,
    "slideshow": {
     "slide_type": "fragment"
    }
   },
   "outputs": [],
   "source": [
    "theta_3db_az = 0.866 * Lambda / L_a  # 0.866 factor typically more representative of actual 3dB point\n",
    "theta_3db_el = 0.866 * Lambda / W_a\n",
    "Delta_X_az = rho * theta_3db_az\n",
    "Delta_X_el = rho * theta_3db_el / np.cos(theta_l)"
   ]
  },
  {
   "cell_type": "code",
   "execution_count": 8,
   "metadata": {
    "hideCode": true,
    "hidePrompt": true,
    "slideshow": {
     "slide_type": "fragment"
    }
   },
   "outputs": [
    {
     "name": "stdout",
     "output_type": "stream",
     "text": [
      "Antenna Length in azimuth (along track) = 10.00 m\n",
      "Antenna Width in elevation (perp to boresight and azimuth)= 2.00 m\n",
      "Azimuth beamwidth = 1.19 degrees\n",
      "Elevation beamwidth = 5.95 degrees\n",
      "Azimuth beam extent at reference range = 17999.47 m\n",
      "Elevation beam extent at reference range = 103920.00 m\n"
     ]
    }
   ],
   "source": [
    "print(\"Antenna Length in azimuth (along track) =\",\"{:.2f}\".format(L_a),\"m\")\n",
    "print(\"Antenna Width in elevation (perp to boresight and azimuth)=\",\"{:.2f}\".format(W_a),\"m\")\n",
    "print(\"Azimuth beamwidth =\",\"{:.2f}\".format(180.*theta_3db_az/np.pi),\"degrees\")\n",
    "print(\"Elevation beamwidth =\",\"{:.2f}\".format(180.*theta_3db_el/np.pi),\"degrees\")\n",
    "print(\"Azimuth beam extent at reference range =\",\"{:.2f}\".format(Delta_X_az),\"m\")\n",
    "print(\"Elevation beam extent at reference range =\",\"{:.2f}\".format(Delta_X_el),\"m\")"
   ]
  },
  {
   "cell_type": "markdown",
   "metadata": {
    "hideCode": true,
    "hidePrompt": true,
    "slideshow": {
     "slide_type": "slide"
    }
   },
   "source": [
    "![label](Figs2019/Slide022.png)"
   ]
  },
  {
   "cell_type": "code",
   "execution_count": 9,
   "metadata": {
    "hideCode": true,
    "hidePrompt": true,
    "slideshow": {
     "slide_type": "slide"
    }
   },
   "outputs": [
    {
     "data": {
      "text/html": [
       "<video width=960 controls autoplay>\n",
       "    <source src=\"Figs2019/SAR.mp4\" type=\"video/mp4\"/>\n",
       "</video>\n"
      ],
      "text/plain": [
       "<IPython.core.display.HTML object>"
      ]
     },
     "metadata": {},
     "output_type": "display_data"
    }
   ],
   "source": [
    "%%html\n",
    "<video width=960 controls autoplay>\n",
    "    <source src=\"Figs2019/SAR.mp4\" type=\"video/mp4\"/>\n",
    "</video>"
   ]
  },
  {
   "cell_type": "markdown",
   "metadata": {
    "hideCode": true,
    "hidePrompt": true,
    "slideshow": {
     "slide_type": "slide"
    }
   },
   "source": [
    "![label](Figs2019/Slide029.png)"
   ]
  },
  {
   "cell_type": "markdown",
   "metadata": {
    "slideshow": {
     "slide_type": "slide"
    }
   },
   "source": [
    "## Azimuth Resolution Example\n",
    "\n",
    "The two-way propagation of the signal from spacecraft to ground and back again gives a factor of two greater Doppler bandwidth extent across the azimuth beam than one might expect.  Thus the synthetic aperture length can be thought of as twice the illuminated swath extent."
   ]
  },
  {
   "cell_type": "code",
   "execution_count": 10,
   "metadata": {
    "hidePrompt": true
   },
   "outputs": [],
   "source": [
    "# allow for some playing with parameters locally. \n",
    "\n",
    "theta_3db_az = 0.866 * Lambda / L_a  # 0.866 factor typically more representative of actual 3dB point\n",
    "Delta_X_az = rho * theta_3db_az\n",
    "SynAp_az = 2. * Delta_X_az\n",
    "theta_SynAp = 0.866 * Lambda / SynAp_az\n",
    "delta_x_SynAp = rho * theta_SynAp\n",
    "\n"
   ]
  },
  {
   "cell_type": "code",
   "execution_count": 11,
   "metadata": {
    "hideCode": true,
    "hidePrompt": true,
    "slideshow": {
     "slide_type": "fragment"
    }
   },
   "outputs": [
    {
     "name": "stdout",
     "output_type": "stream",
     "text": [
      "Azimuth antenna length = 10.00 m\n",
      "Azimuth beam extent at reference range illuminating a target = 17999.47 m\n",
      "Synthetic aperture length (effective) = 35998.94 m\n",
      "Synthetic aperture effective beamwidth = 0.331 millidegrees\n",
      "Synthetic aperture resolution = 5.000 m\n"
     ]
    }
   ],
   "source": [
    "print(\"Azimuth antenna length =\",\"{:.2f}\".format(L_a),\"m\")\n",
    "print(\"Azimuth beam extent at reference range illuminating a target =\",\"{:.2f}\".format(Delta_X_az),\"m\")\n",
    "print(\"Synthetic aperture length (effective) =\",\"{:.2f}\".format(SynAp_az),\"m\")\n",
    "print(\"Synthetic aperture effective beamwidth =\",\"{:.3f}\".format(1000.*180.*theta_SynAp/np.pi),\"millidegrees\")\n",
    "print(\"Synthetic aperture resolution =\",\"{:.3f}\".format(delta_x_SynAp),\"m\")"
   ]
  },
  {
   "cell_type": "markdown",
   "metadata": {
    "hideCode": true,
    "hidePrompt": true,
    "slideshow": {
     "slide_type": "slide"
    }
   },
   "source": [
    "![label](Figs2019/Slide027.png)"
   ]
  },
  {
   "cell_type": "markdown",
   "metadata": {
    "hideCode": true,
    "hidePrompt": true,
    "slideshow": {
     "slide_type": "slide"
    }
   },
   "source": [
    "![label](Figs2019/Slide028.png)"
   ]
  },
  {
   "cell_type": "markdown",
   "metadata": {
    "slideshow": {
     "slide_type": "slide"
    }
   },
   "source": [
    "![label](Figs2019/Slide028a.png)"
   ]
  },
  {
   "cell_type": "markdown",
   "metadata": {
    "slideshow": {
     "slide_type": "slide"
    }
   },
   "source": [
    "![label](Figs2019/Slide028b.png)"
   ]
  },
  {
   "cell_type": "markdown",
   "metadata": {
    "slideshow": {
     "slide_type": "slide"
    }
   },
   "source": [
    "## Learning more about SAR \n",
    "\n",
    "We have developed a comprehensive notebook that covers Synthetic Aperture Radar Theory and Processing Methods in much greater detail.  \n",
    "\n",
    "It is included in the set of course notebooks under the \"notebooks/SAR Processor Tutorial\" folder. This notebook \n",
    "- simulates radar echoes from point targets\n",
    "- develops the radar equation and the signal-to-noise ratio of corner reflector targets\n",
    "- develops the range and azimuth signals and processing methods analytically and computationally. \n",
    "- describes linear FM signals and range compression\n",
    "- describes Doppler and synthetic aperture concepts, including range migration\n",
    "- contrasts standard range doppler processing methods to time domain approaches\n"
   ]
  },
  {
   "cell_type": "markdown",
   "metadata": {
    "hideCode": true,
    "hidePrompt": true,
    "slideshow": {
     "slide_type": "slide"
    }
   },
   "source": [
    "![label](Figs2019/Slide033.png)"
   ]
  },
  {
   "cell_type": "markdown",
   "metadata": {
    "hideCode": true,
    "hidePrompt": true,
    "slideshow": {
     "slide_type": "slide"
    }
   },
   "source": [
    "![label](Figs2019/Slide034.png)"
   ]
  },
  {
   "cell_type": "markdown",
   "metadata": {
    "slideshow": {
     "slide_type": "slide"
    }
   },
   "source": [
    "![label](Figs2019/Slide034a.png)"
   ]
  },
  {
   "cell_type": "markdown",
   "metadata": {
    "hideCode": true,
    "hidePrompt": true,
    "slideshow": {
     "slide_type": "slide"
    }
   },
   "source": [
    "![label](Figs2019/Slide035.png)"
   ]
  },
  {
   "cell_type": "markdown",
   "metadata": {
    "hideCode": true,
    "hidePrompt": true,
    "slideshow": {
     "slide_type": "slide"
    }
   },
   "source": [
    "![label](Figs2019/Slide036.png)"
   ]
  },
  {
   "cell_type": "markdown",
   "metadata": {
    "hideCode": true,
    "hidePrompt": true,
    "slideshow": {
     "slide_type": "slide"
    }
   },
   "source": [
    "![label](Figs2019/Slide037.png)"
   ]
  },
  {
   "cell_type": "markdown",
   "metadata": {
    "hideCode": true,
    "hidePrompt": true,
    "slideshow": {
     "slide_type": "slide"
    }
   },
   "source": [
    "![label](Figs2019/Slide038.png)"
   ]
  },
  {
   "cell_type": "markdown",
   "metadata": {
    "hideCode": true,
    "hidePrompt": true,
    "slideshow": {
     "slide_type": "slide"
    }
   },
   "source": [
    "![label](Figs2019/Slide039.png)"
   ]
  },
  {
   "cell_type": "markdown",
   "metadata": {
    "hideCode": true,
    "hidePrompt": true,
    "slideshow": {
     "slide_type": "slide"
    }
   },
   "source": [
    "![label](Figs2019/Slide040.png)"
   ]
  },
  {
   "cell_type": "markdown",
   "metadata": {
    "hideCode": true,
    "hidePrompt": true,
    "slideshow": {
     "slide_type": "slide"
    }
   },
   "source": [
    "![label](Figs2019/Slide041.png)"
   ]
  },
  {
   "cell_type": "markdown",
   "metadata": {
    "hideCode": true,
    "hidePrompt": true,
    "slideshow": {
     "slide_type": "slide"
    }
   },
   "source": [
    "![label](Figs2019/Slide042.png)"
   ]
  },
  {
   "cell_type": "markdown",
   "metadata": {
    "hideCode": true,
    "hidePrompt": true,
    "slideshow": {
     "slide_type": "slide"
    }
   },
   "source": [
    "![label](Figs2019/Slide043.png)"
   ]
  },
  {
   "cell_type": "markdown",
   "metadata": {
    "hideCode": true,
    "hidePrompt": true,
    "slideshow": {
     "slide_type": "slide"
    }
   },
   "source": [
    "![label](Figs2019/Slide044.png)"
   ]
  },
  {
   "cell_type": "markdown",
   "metadata": {
    "slideshow": {
     "slide_type": "slide"
    }
   },
   "source": [
    "## Lecture Outline \n",
    "The lecture is divided into three segments:\n",
    "First Segment: Radar Imaging Fundamentals\n",
    "1. Basic Principles of Radar and SAR\n",
    "2. Properties of Radar Images\n",
    "\n",
    "### Second Segment: Geometric Aspects of Interferometry and Interferometric Phase\n",
    "\n",
    "1. <font color='green'>Topographic Mapping</font>\n",
    "2. <font color='green'>Deformation Mapping</font>\n",
    "3. <font color='green'>Phase Unwrapping and Atmosphere</font>\n",
    "\n",
    "Third Segment: Interferometric Correlation\n",
    "\n",
    "1. SNR and Interferometric Correlation\n",
    "2. Geometric, Temporal, Volumetric Decorrelation\n",
    "\n",
    "\n",
    "\n"
   ]
  },
  {
   "cell_type": "markdown",
   "metadata": {
    "hideCode": true,
    "hidePrompt": true,
    "slideshow": {
     "slide_type": "slide"
    }
   },
   "source": [
    "![label](Figs2019/Slide047.png)"
   ]
  },
  {
   "cell_type": "markdown",
   "metadata": {
    "hideCode": true,
    "hidePrompt": true,
    "slideshow": {
     "slide_type": "slide"
    }
   },
   "source": [
    "![label](Figs2019/Slide048.png)"
   ]
  },
  {
   "cell_type": "markdown",
   "metadata": {
    "hideCode": true,
    "hidePrompt": true,
    "slideshow": {
     "slide_type": "slide"
    }
   },
   "source": [
    "![label](Figs2019/Slide049.png)"
   ]
  },
  {
   "cell_type": "markdown",
   "metadata": {
    "hideCode": true,
    "hidePrompt": true,
    "slideshow": {
     "slide_type": "slide"
    }
   },
   "source": [
    "![label](Figs2019/Slide050.png)"
   ]
  },
  {
   "cell_type": "markdown",
   "metadata": {
    "hideCode": true,
    "hidePrompt": true,
    "slideshow": {
     "slide_type": "slide"
    }
   },
   "source": [
    "![label](Figs2019/Slide051.png)"
   ]
  },
  {
   "cell_type": "markdown",
   "metadata": {
    "hideCode": true,
    "hidePrompt": true,
    "slideshow": {
     "slide_type": "slide"
    }
   },
   "source": [
    "![label](Figs2019/Slide052.png)"
   ]
  },
  {
   "cell_type": "markdown",
   "metadata": {
    "hideCode": true,
    "hidePrompt": true,
    "slideshow": {
     "slide_type": "slide"
    }
   },
   "source": [
    "![label](Figs2019/Slide053.png)"
   ]
  },
  {
   "cell_type": "markdown",
   "metadata": {
    "hideCode": true,
    "hidePrompt": true,
    "slideshow": {
     "slide_type": "slide"
    }
   },
   "source": [
    "![label](Figs2019/Slide054.png)"
   ]
  },
  {
   "cell_type": "markdown",
   "metadata": {
    "hideCode": true,
    "hidePrompt": true,
    "slideshow": {
     "slide_type": "slide"
    }
   },
   "source": [
    "![label](Figs2019/Slide055.png)"
   ]
  },
  {
   "cell_type": "markdown",
   "metadata": {
    "hideCode": true,
    "hidePrompt": true,
    "slideshow": {
     "slide_type": "slide"
    }
   },
   "source": [
    "![label](Figs2019/Slide056.png)"
   ]
  },
  {
   "cell_type": "markdown",
   "metadata": {
    "hideCode": true,
    "hidePrompt": true,
    "slideshow": {
     "slide_type": "slide"
    }
   },
   "source": [
    "![label](Figs2019/Slide057.png)"
   ]
  },
  {
   "cell_type": "markdown",
   "metadata": {
    "hideCode": true,
    "hidePrompt": true,
    "slideshow": {
     "slide_type": "slide"
    }
   },
   "source": [
    "![label](Figs2019/Slide058.png)"
   ]
  },
  {
   "cell_type": "markdown",
   "metadata": {
    "hideCode": true,
    "hidePrompt": true,
    "slideshow": {
     "slide_type": "slide"
    }
   },
   "source": [
    "![label](Figs2019/Slide059.png)"
   ]
  },
  {
   "cell_type": "markdown",
   "metadata": {
    "hideCode": true,
    "hidePrompt": true,
    "slideshow": {
     "slide_type": "slide"
    }
   },
   "source": [
    "![label](Figs2019/Slide060.png)"
   ]
  },
  {
   "cell_type": "markdown",
   "metadata": {
    "hideCode": true,
    "hidePrompt": true,
    "slideshow": {
     "slide_type": "slide"
    }
   },
   "source": [
    "![label](Figs2019/Slide061.png)"
   ]
  },
  {
   "cell_type": "markdown",
   "metadata": {
    "hideCode": true,
    "hidePrompt": true,
    "slideshow": {
     "slide_type": "slide"
    }
   },
   "source": [
    "## Phase Gradient\n",
    "\n",
    "* For a number of applications including flight planning and unwrapping studies it is desirable to be able to compute the interferometric phase gradient for an arbitrarily sloped surface, look geometry and baseline.\n",
    "\n",
    "* The interferometric phase is well approximated for most applications  by\n",
    "\\begin{equation*}\n",
    "\\Delta\\phi = -\\frac{2\\pi p}{\\lambda} \\langle \\vec{b}, \\vec{l} \\rangle\n",
    "\\end{equation*}\n",
    "where  $\\vec{b}$ is the baseline vector,  $\\vec{l}$ a unit vector pointing to the target and $\\lambda$ is the wavelength, and $\\langle , \\rangle$ is the inner, or dot, product.\n",
    "\n",
    "* The phase gradient is\n",
    "\\begin{equation*}\n",
    "\\nabla\\Delta\\phi =  \\begin{bmatrix}\\frac{\\partial \\Delta\\phi}{\\partial s} \\\\ \\frac{\\partial\\Delta\\phi}{\\partial \\rho} \\end{bmatrix}\n",
    "=  -\\frac{2\\pi p}{\\lambda} \\begin{bmatrix}\\langle \\vec{b}, \\frac{\\partial\\vec{l}}{\\partial s} \\rangle \\\\ \\langle \\vec{b}, \\frac{\\partial\\vec{l}}{\\partial \\rho} \\rangle \\end{bmatrix}\n",
    "\\end{equation*}\n",
    "where $s$ is the along track coordinate and $\\rho$ is the range."
   ]
  },
  {
   "cell_type": "markdown",
   "metadata": {
    "hideCode": true,
    "hidePrompt": true,
    "slideshow": {
     "slide_type": "slide"
    }
   },
   "source": [
    "## Phase Gradient Observations\n",
    "\n",
    "* There in a change in phase with respect to range regardless of whether the terrain is sloped in the range direction or not. The phase rate, or fringe rate, with respect to a flat surface is called the flat surface (or spherical earth) fringe frequency. \n",
    "\n",
    "\\begin{equation*}\n",
    "\\frac{\\partial\\Delta\\phi}{\\partial \\rho} = \\frac{2\\pi p}{\\lambda} \\frac{b \\cos(\\theta - \\alpha)}{\\rho\\tan(\\theta -\\psi_c)} =\\frac{2\\pi p}{\\lambda} \\frac{b_\\perp}{\\rho\\tan(\\theta -\\psi_c)}\n",
    "\\end{equation*}\n",
    "\n",
    "* Note that the fringe rate depends on the local slope and the perpendicular baseline length.\n",
    "\n",
    "* The fringe rate in the azimuth or along track direction is zero unless there is an azimuth slope. It also depends on the magnitude of the local slope and the perpendicular baseline length\n",
    "\n",
    "\\begin{equation*}\n",
    "\\frac{\\partial\\Delta\\phi}{\\partial s} = \\frac{2\\pi p}{\\lambda} \\frac{b \\cos(\\theta - \\alpha)}{\\rho} \\sin(\\theta)\\tan(\\psi_s) =\\frac{2\\pi p}{\\lambda} \\frac{b_\\perp}{\\rho} \\sin(\\theta)\\tan(\\psi_s)\n",
    "\\end{equation*}\n"
   ]
  },
  {
   "cell_type": "markdown",
   "metadata": {
    "slideshow": {
     "slide_type": "slide"
    }
   },
   "source": [
    "## Flattened Phase\n",
    "\n",
    "In many interferometric workflows, either through explicit motion compensation to a common reference of images as they are formed, or at some later point in the interferogram formation,  the flat Earth fringes are removed, leaving an interferogram with fringes that are proportional to the topography.  These are referred to as \"flattened phase\" or \"flattened fringes\".\n",
    "\n",
    "The flattened phase is given by \n",
    "\n",
    "\\begin{equation}\n",
    "\\Delta\\phi_{flat} = - \\frac {2 \\pi p}{\\lambda}\\bigg( \\langle\\hat{l},\\vec{b}\\rangle - \\langle\\hat{l}_0,\\vec{b}\\rangle \\bigg)\n",
    "\\end{equation}\n",
    "\n",
    "where $\\hat{l}$ is the look vector to a point and $\\hat{l}_0$ is the corresponding look vector to the flat surface at the same range.\n",
    "\n",
    "Making the usual 2-dimensional simplification, \n",
    "\n",
    "\\begin{eqnarray}\n",
    "\\Delta\\phi_{flat} & = & \\frac {2 \\pi p}{\\lambda} b \\big(\\sin(\\theta-\\alpha) - \\sin(\\theta_0-\\alpha) \\big) \\\\\n",
    " & \\approx & \\frac {2 \\pi p}{\\lambda} b \\cos(\\theta-\\alpha) \\delta\\theta \\\\\n",
    " & \\approx & \\frac {2 \\pi p}{\\lambda} b_{\\perp} \\delta\\theta \\\\\n",
    " \\end{eqnarray}"
   ]
  },
  {
   "cell_type": "markdown",
   "metadata": {
    "slideshow": {
     "slide_type": "slide"
    }
   },
   "source": [
    "## Flattened phase (cont.)\n",
    "\n",
    "\n",
    "From the figure we have \n",
    "\\begin{equation}\n",
    "\\delta\\theta \\approx \\frac{h_T}{\\rho\\sin\\theta_0}\n",
    "\\end{equation}\n",
    "\n",
    "<br> <img src=\"Figs2019/intgeom.png\" width=\"350\" align=\"left\" /> <br> \n",
    "which gives \n",
    "\n",
    "\\begin{eqnarray}\n",
    "\\Delta\\phi_{flat} & \\approx & \\frac {2 \\pi p}{\\lambda} b_{\\perp} \\delta\\theta \\\\\n",
    "                  & \\approx & \\frac {2 \\pi p}{\\lambda} b_{\\perp} \\frac{h_T}{\\rho\\sin\\theta_0} \\\\\n",
    "\\end{eqnarray}"
   ]
  },
  {
   "cell_type": "markdown",
   "metadata": {
    "slideshow": {
     "slide_type": "slide"
    }
   },
   "source": [
    "## Sensitivity of Height with Respect to Phase\n",
    "\n",
    "* Sensitivity to Phase:\n",
    "$\\frac{\\partial\\vec{T}}{\\partial\\Delta\\phi} = \\frac{-\\lambda\\rho\\sin\\theta}{2 \\pi p b \\cos(\\theta-\\alpha)} \\begin{bmatrix} 0\\\\ \\cos \\theta \\\\ \\sin \\theta \\end{bmatrix} \\qquad \\qquad p=1,2$\n",
    "\n",
    "<br> <img src=\"Figs2019/sens.png\" width=\"350\" align=\"left\" /> <br> \n",
    "\n",
    "* Ambiguity Height:\n",
    "\\begin{equation}\n",
    "h_a = 2\\pi \\frac{\\partial\\vec{T_z}}{\\partial\\Delta\\phi} = \\frac{-\\lambda\\rho}{2 \\pi p b \\cos(\\theta-\\alpha)} \n",
    "\\end{equation}\n",
    "\n",
    "Observe that \n",
    "\\begin{equation}\n",
    "\\frac{\\partial\\vec{T}}{\\partial\\Delta\\phi}\n",
    "\\end{equation}\n",
    "is parallel to \n",
    "\\begin{equation}\n",
    "\\hat{l} \\times \\hat{v}\n",
    "\\end{equation}\n",
    "\n"
   ]
  },
  {
   "cell_type": "markdown",
   "metadata": {
    "hideCode": true,
    "hidePrompt": true,
    "slideshow": {
     "slide_type": "slide"
    }
   },
   "source": [
    "![label](Figs2019/Slide068.png)"
   ]
  },
  {
   "cell_type": "markdown",
   "metadata": {
    "hideCode": true,
    "hidePrompt": true,
    "slideshow": {
     "slide_type": "slide"
    }
   },
   "source": [
    "![label](Figs2019/Slide069.png)"
   ]
  },
  {
   "cell_type": "markdown",
   "metadata": {
    "hideCode": true,
    "hidePrompt": true,
    "slideshow": {
     "slide_type": "slide"
    }
   },
   "source": [
    "![label](Figs2019/Slide070.png)"
   ]
  },
  {
   "cell_type": "markdown",
   "metadata": {
    "hideCode": true,
    "hidePrompt": true,
    "slideshow": {
     "slide_type": "slide"
    }
   },
   "source": [
    "![label](Figs2019/Slide071.png)"
   ]
  },
  {
   "cell_type": "markdown",
   "metadata": {
    "slideshow": {
     "slide_type": "slide"
    }
   },
   "source": [
    "# Differential Interferometry Sensitivities\n",
    "\n",
    "* Differential interferometry can detect millimeter level surface deformation\n",
    "\n",
    "* Differential phase is much more sensitive to displacements than to topography\n",
    "\n",
    "$\\qquad \\qquad{\\rm Topographic \\ Sensitivity:} \\frac{\\partial\\Delta\\phi}{\\partial h} = \\frac{2\\pi p b \\cos(\\theta-\\alpha)}{\\lambda \\rho \\sin \\theta}$\n",
    "\n",
    "$\\qquad \\qquad{\\rm Displacement \\ Sensitivity:} \\frac{\\partial\\Delta\\phi}{\\partial \\Delta\\rho} = \\frac{4\\pi}{\\lambda}$\n",
    "\n",
    "* Since $b/\\rho \\ll 1$, it takes a much larger change in $h$ than in $\\Delta\\rho$ to affect a change in $\\Delta\\phi$\n",
    "\n",
    "* \"Meter-scale topography - millimeter scale topographic change\""
   ]
  },
  {
   "cell_type": "markdown",
   "metadata": {
    "hideCode": true,
    "hidePrompt": true,
    "slideshow": {
     "slide_type": "slide"
    }
   },
   "source": [
    "![label](Figs2019/Slide075.png)"
   ]
  },
  {
   "cell_type": "markdown",
   "metadata": {
    "hideCode": true,
    "hidePrompt": true,
    "slideshow": {
     "slide_type": "slide"
    }
   },
   "source": [
    "![label](Figs2019/Slide077.png)"
   ]
  },
  {
   "cell_type": "markdown",
   "metadata": {
    "hideCode": true,
    "hidePrompt": true,
    "slideshow": {
     "slide_type": "slide"
    }
   },
   "source": [
    "![label](Figs2019/Slide078.png)"
   ]
  },
  {
   "cell_type": "markdown",
   "metadata": {
    "hideCode": true,
    "hidePrompt": true,
    "slideshow": {
     "slide_type": "slide"
    }
   },
   "source": [
    "![label](Figs2019/Slide079.png)"
   ]
  },
  {
   "cell_type": "markdown",
   "metadata": {
    "hideCode": true,
    "hidePrompt": true,
    "slideshow": {
     "slide_type": "slide"
    }
   },
   "source": [
    "![label](Figs2019/Slide080.png)"
   ]
  },
  {
   "cell_type": "markdown",
   "metadata": {
    "hideCode": true,
    "hidePrompt": true,
    "slideshow": {
     "slide_type": "slide"
    }
   },
   "source": [
    "![label](Figs2019/Slide081.png)"
   ]
  },
  {
   "cell_type": "markdown",
   "metadata": {
    "hideCode": true,
    "hidePrompt": true,
    "slideshow": {
     "slide_type": "slide"
    }
   },
   "source": [
    "![label](Figs2019/Slide082.png)"
   ]
  },
  {
   "cell_type": "markdown",
   "metadata": {
    "hideCode": true,
    "hidePrompt": true,
    "slideshow": {
     "slide_type": "slide"
    }
   },
   "source": [
    "![label](Figs2019/Slide084.png)"
   ]
  },
  {
   "cell_type": "markdown",
   "metadata": {
    "slideshow": {
     "slide_type": "slide"
    }
   },
   "source": [
    "## Phase Unwrapping Algorithms\n",
    "\n",
    "ISCE Supports several popular phase unwrapping approaches:\n",
    "\n",
    "- Standard Residue - branch cut - methods as described above\n",
    "    - ISCE support a single-image version and a patch-based algorithm for extra long files\n",
    "\n",
    "- Minimum cost flow algorithms that pose the unwrapping problem as a network flow problem (snaphu from Stanford University)\n",
    "\n",
    "- Secondary phase unwrapping of connected components"
   ]
  },
  {
   "cell_type": "markdown",
   "metadata": {
    "hideCode": true,
    "hidePrompt": true,
    "slideshow": {
     "slide_type": "slide"
    }
   },
   "source": [
    "![label](Figs2019/Slide090.png)"
   ]
  },
  {
   "cell_type": "markdown",
   "metadata": {
    "slideshow": {
     "slide_type": "slide"
    }
   },
   "source": [
    "## Interferometric Error Sources\n",
    "\n",
    "Intrinsic <br>\n",
    "- Propagation delay errors from atmosphere and ionosphere\n",
    "- Phase unwrapping errors\n",
    "- Interferometric decorrelation <br>\n",
    "\n",
    "Imaging System related\n",
    "- Layover and shadow in radar imagery from slant range geometry\n",
    "- Multiple scattering within and among resolution cells\n",
    "- Range and azimuth ambiguities due to design constraints\n",
    "- Range and azimuth sidelobes due to bandwidth/resolution constraints\n",
    "- Multipath and channel cross-talk noise as low-level interference\n",
    "- Calibration errors\n"
   ]
  },
  {
   "cell_type": "markdown",
   "metadata": {
    "hideCode": true,
    "hidePrompt": true,
    "slideshow": {
     "slide_type": "slide"
    }
   },
   "source": [
    "![label](Figs2019/Slide086.png)"
   ]
  },
  {
   "cell_type": "markdown",
   "metadata": {
    "hideCode": true,
    "hidePrompt": true,
    "slideshow": {
     "slide_type": "slide"
    }
   },
   "source": [
    "![label](Figs2019/Slide087.png)"
   ]
  },
  {
   "cell_type": "markdown",
   "metadata": {
    "hideCode": true,
    "hidePrompt": true,
    "slideshow": {
     "slide_type": "slide"
    }
   },
   "source": [
    "![label](Figs2019/Slide089.png)"
   ]
  },
  {
   "cell_type": "markdown",
   "metadata": {
    "hideCode": true,
    "hidePrompt": true,
    "slideshow": {
     "slide_type": "slide"
    }
   },
   "source": [
    "![label](Figs2019/Slide092.png)"
   ]
  },
  {
   "cell_type": "markdown",
   "metadata": {
    "hideCode": true,
    "hidePrompt": true,
    "slideshow": {
     "slide_type": "slide"
    }
   },
   "source": [
    "![label](Figs2019/Slide093.png)"
   ]
  },
  {
   "cell_type": "markdown",
   "metadata": {
    "slideshow": {
     "slide_type": "slide"
    }
   },
   "source": [
    "# Lecture Outline\n",
    "    \n",
    "The lecture is divided into three segments:\n",
    "\n",
    "\n",
    "First Segment: Radar Imaging Fundamentals\n",
    "\n",
    "1. Basic Principles of Radar and SAR\n",
    "2. Properties of Radar Images\n",
    "\n",
    "\n",
    "Second Segment: Geometric Aspects of Interferometry and Interferometric Phase\n",
    "\n",
    "1. Topographic Mapping\n",
    "2. Deformation Mapping\n",
    "3. Phase Unwrapping and Atmosphere\n",
    "\n",
    "## Third Segment: Interferometric Correlation\n",
    "\n",
    "1. <font color='green'>SNR and Interferometric Correlation</font>\n",
    "2. <font color='green'>Geometric, Temporal, Volumetric Decorrelation</font>\n",
    "\n"
   ]
  },
  {
   "cell_type": "markdown",
   "metadata": {
    "hideCode": true,
    "hidePrompt": true,
    "slideshow": {
     "slide_type": "slide"
    }
   },
   "source": [
    "![label](Figs2019/Slide094.png)"
   ]
  },
  {
   "cell_type": "markdown",
   "metadata": {
    "hideCode": true,
    "hidePrompt": true,
    "slideshow": {
     "slide_type": "slide"
    }
   },
   "source": [
    "![label](Figs2019/Slide095.png)"
   ]
  },
  {
   "cell_type": "markdown",
   "metadata": {
    "hideCode": true,
    "hidePrompt": true,
    "slideshow": {
     "slide_type": "slide"
    }
   },
   "source": [
    "![label](Figs2019/Slide096.png)"
   ]
  },
  {
   "cell_type": "markdown",
   "metadata": {
    "hideCode": true,
    "hidePrompt": true,
    "slideshow": {
     "slide_type": "slide"
    }
   },
   "source": [
    "![label](Figs2019/Slide097.png)"
   ]
  },
  {
   "cell_type": "markdown",
   "metadata": {
    "hideCode": true,
    "hidePrompt": true,
    "slideshow": {
     "slide_type": "slide"
    }
   },
   "source": [
    "![label](Figs2019/Slide098.png)"
   ]
  },
  {
   "cell_type": "markdown",
   "metadata": {
    "hideCode": true,
    "hidePrompt": true,
    "slideshow": {
     "slide_type": "slide"
    }
   },
   "source": [
    "![label](Figs2019/Slide099.png)"
   ]
  },
  {
   "cell_type": "markdown",
   "metadata": {
    "hideCode": true,
    "hidePrompt": true,
    "slideshow": {
     "slide_type": "slide"
    }
   },
   "source": [
    "![label](Figs2019/Slide100.png)"
   ]
  },
  {
   "cell_type": "markdown",
   "metadata": {
    "hideCode": true,
    "hidePrompt": true,
    "slideshow": {
     "slide_type": "slide"
    }
   },
   "source": [
    "![label](Figs2019/Slide101.png)"
   ]
  },
  {
   "cell_type": "markdown",
   "metadata": {
    "hideCode": true,
    "hidePrompt": true,
    "slideshow": {
     "slide_type": "slide"
    }
   },
   "source": [
    "![label](Figs2019/Slide102.png)"
   ]
  },
  {
   "cell_type": "markdown",
   "metadata": {
    "hideCode": true,
    "hidePrompt": true,
    "slideshow": {
     "slide_type": "slide"
    }
   },
   "source": [
    "![label](Figs2019/Slide103.png)"
   ]
  },
  {
   "cell_type": "markdown",
   "metadata": {
    "hideCode": true,
    "hidePrompt": true,
    "slideshow": {
     "slide_type": "slide"
    }
   },
   "source": [
    "![label](Figs2019/Slide104.png)"
   ]
  },
  {
   "cell_type": "markdown",
   "metadata": {
    "hideCode": true,
    "hidePrompt": true,
    "slideshow": {
     "slide_type": "slide"
    }
   },
   "source": [
    "![label](Figs2019/Slide105.png)"
   ]
  },
  {
   "cell_type": "markdown",
   "metadata": {
    "hideCode": true,
    "hidePrompt": true,
    "slideshow": {
     "slide_type": "slide"
    }
   },
   "source": [
    "![label](Figs2019/Slide106.png)"
   ]
  },
  {
   "cell_type": "markdown",
   "metadata": {
    "hideCode": true,
    "hidePrompt": true,
    "slideshow": {
     "slide_type": "slide"
    }
   },
   "source": [
    "![label](Figs2019/Slide107.png)"
   ]
  },
  {
   "cell_type": "markdown",
   "metadata": {
    "hideCode": true,
    "hidePrompt": true,
    "slideshow": {
     "slide_type": "slide"
    }
   },
   "source": [
    "![label](Figs2019/Slide108.png)"
   ]
  },
  {
   "cell_type": "markdown",
   "metadata": {
    "hideCode": true,
    "hidePrompt": true,
    "slideshow": {
     "slide_type": "slide"
    }
   },
   "source": [
    "![label](Figs2019/Slide109.png)"
   ]
  },
  {
   "cell_type": "markdown",
   "metadata": {
    "hideCode": true,
    "hidePrompt": true,
    "slideshow": {
     "slide_type": "slide"
    }
   },
   "source": [
    "![label](Figs2019/Slide110.png)"
   ]
  },
  {
   "cell_type": "markdown",
   "metadata": {
    "hideCode": true,
    "hidePrompt": true,
    "slideshow": {
     "slide_type": "slide"
    }
   },
   "source": [
    "![label](Figs2019/Slide111.png)"
   ]
  },
  {
   "cell_type": "markdown",
   "metadata": {
    "hideCode": true,
    "hidePrompt": true,
    "slideshow": {
     "slide_type": "slide"
    }
   },
   "source": [
    "![label](Figs2019/Slide113.png)"
   ]
  },
  {
   "cell_type": "markdown",
   "metadata": {
    "hideCode": true,
    "hidePrompt": true,
    "slideshow": {
     "slide_type": "slide"
    }
   },
   "source": [
    "![label](Figs2019/Slide114.png)"
   ]
  },
  {
   "cell_type": "markdown",
   "metadata": {
    "hideCode": true,
    "hidePrompt": true,
    "slideshow": {
     "slide_type": "slide"
    }
   },
   "source": [
    "# Other Resources: \n",
    "\n",
    "\n",
    "* Treatise on Geophysics, Interferometric Synthetic Aperture Radar Geodesy (2015), Simons M. and Rosen, P.; Schubert, G. (ed.), 2nd Ed., Volume 3- Geodesy, Elsevier Press, 339-385; http://web.gps.caltech.edu/~simons/publications/pdfs/Simons_etal_2015.pdf\n",
    "\n",
    "\n",
    "* Synthetic Aperture Radar Interferometry (2000) Rosen, P. A.; Hensley, S.; Joughin, I. R.; Li, F. K.; Madsen, S. N.; Rodriquez, E. & Goldstein, R. M. Proc. IEEE, 88, 333-382\n",
    "\n",
    "\n",
    "* Synthetic Aperture Radar Interferometry to measure Earth's surface topography and its deformation (2000) Burgmann, R.; Rosen, P. & Fielding, E. Ann.~Rev.~Earth Planet.~Sci., 28, 169-209\n",
    "\n",
    "* Synthetic Aperture Radar Interferometry: Principles and Applications (1999) Madsen, S. N. & Zebker, H. A., Manual of Remote Sensing, Artech House, 3\n",
    "\n",
    "\n",
    "* Radar interferometry and its application to changes in the earth's surface (1998) Massonnet, D. & Feigl, K. L., Reviews of Geophysics, 36, 441-500\n",
    "\n",
    "\n",
    "* Synthetic Aperture Radar Interferometry (1998) Bamler, R. & Hartl, P., Inverse Problems, 14, 1-54\n",
    "\n",
    "\n",
    "* Remote Sensing with Imaging Radar (2009) Richards, J.A., Springer. \n"
   ]
  },
  {
   "cell_type": "code",
   "execution_count": null,
   "metadata": {
    "hideCode": true,
    "hidePrompt": true
   },
   "outputs": [],
   "source": []
  }
 ],
 "metadata": {
  "celltoolbar": "Hide code",
  "hide_code_all_hidden": true,
  "hide_input": false,
  "kernelspec": {
   "display_name": "Python 3",
   "language": "python",
   "name": "python3"
  },
  "language_info": {
   "codemirror_mode": {
    "name": "ipython",
    "version": 3
   },
   "file_extension": ".py",
   "mimetype": "text/x-python",
   "name": "python",
   "nbconvert_exporter": "python",
   "pygments_lexer": "ipython3",
   "version": "3.7.6"
  },
  "rise": {
   "history": false,
   "transition": "none"
  },
  "toc": {
   "base_numbering": 1,
   "nav_menu": {},
   "number_sections": true,
   "sideBar": true,
   "skip_h1_title": false,
   "title_cell": "Table of Contents",
   "title_sidebar": "Contents",
   "toc_cell": false,
   "toc_position": {},
   "toc_section_display": true,
   "toc_window_display": false
  }
 },
 "nbformat": 4,
 "nbformat_minor": 2
}
