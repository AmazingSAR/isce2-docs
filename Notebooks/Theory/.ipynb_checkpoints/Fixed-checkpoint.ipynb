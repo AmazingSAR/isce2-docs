{
 "cells": [
  {
   "cell_type": "markdown",
   "metadata": {
    "slideshow": {
     "slide_type": "skip"
    }
   },
   "source": [
    "# Principles and Theory of SAR Interferometry\n",
    "    \n",
    "Notebook author:  Paul A. Rosen, Jet Propulsion Laboratory, California Institute of  Technology\n",
    "\n",
    "Contributors to content include: Scott Hensley, Anthony Freeman, Jakob van Zyl, Piyush Agram, Howard Zebker\n",
    "\n",
    "This notebook presents the basics of synthetic aperture radar interferometry. The student will be exposed to:\n",
    "    \n",
    "1. What is Radar?\n",
    "2. Basic definitions\n",
    "3. What is Synthetic Aperture Radar?\n",
    "4. Properties of Radar Images\n",
    "5. What is Synthetic Aperture Radar Interferometry?\n",
    "6. What other modalities of SAR are important?\n",
    "7. What is range-Doppler geometry, why is it important, and how does it relate to geographic coordinates?\n",
    "8. SAR Interferometry Theory\n",
    "9. Decorrelation Theory\n",
    "\n"
   ]
  },
  {
   "cell_type": "markdown",
   "metadata": {
    "slideshow": {
     "slide_type": "slide"
    }
   },
   "source": [
    "<img src=\"InSARPrinciplesTheory_UNAVCO_18/Slide001.png\" width=\"768\">"
   ]
  },
  {
   "cell_type": "markdown",
   "metadata": {
    "slideshow": {
     "slide_type": "skip"
    }
   },
   "source": [
    "## Introduction and Motivation\n",
    "\n",
    "You are reading this because you are interested in the geodetic aspects of synthetic aperture radar (SAR), particularly interferometric synthetic aperture radar (InSAR).  From a technical perspective, SAR and InSAR are quite complex, and even to experts in the field be a source of wonder as to how an instrument that illuminates a very large footprint on the ground can deliver almost arbitrarily fine resolution images, and relative motions of image points over time at mm to cm accuracy.  This can be illustrated by first looking at an \"image\" of the raw data before processing.\n",
    "\n",
    "\n",
    "\n"
   ]
  },
  {
   "cell_type": "markdown",
   "metadata": {
    "slideshow": {
     "slide_type": "slide"
    }
   },
   "source": [
    "<img src=\"InSARPrinciplesTheory_UNAVCO_18/Slide003.png\" width=\"600\">"
   ]
  },
  {
   "cell_type": "markdown",
   "metadata": {
    "slideshow": {
     "slide_type": "slide"
    }
   },
   "source": [
    "<img src=\"InSARPrinciplesTheory_UNAVCO_18/Slide003.png\" width=\"768\">"
   ]
  },
  {
   "cell_type": "markdown",
   "metadata": {
    "slideshow": {
     "slide_type": "slide"
    }
   },
   "source": [
    "<img src=\"InSARPrinciplesTheory_UNAVCO_18/Slide004.png\" width=\"768\">"
   ]
  },
  {
   "cell_type": "markdown",
   "metadata": {
    "slideshow": {
     "slide_type": "slide"
    }
   },
   "source": [
    "<img src=\"InSARPrinciplesTheory_UNAVCO_18/Slide005.png\" width=\"768\">"
   ]
  },
  {
   "cell_type": "markdown",
   "metadata": {
    "slideshow": {
     "slide_type": "slide"
    }
   },
   "source": [
    "<img src=\"InSARPrinciplesTheory_UNAVCO_18/Slide006.png\" width=\"768\">"
   ]
  },
  {
   "cell_type": "markdown",
   "metadata": {
    "slideshow": {
     "slide_type": "slide"
    }
   },
   "source": [
    "<img src=\"InSARPrinciplesTheory_UNAVCO_18/Slide007.png\" width=\"768\">"
   ]
  },
  {
   "cell_type": "markdown",
   "metadata": {
    "slideshow": {
     "slide_type": "slide"
    }
   },
   "source": [
    "<img src=\"InSARPrinciplesTheory_UNAVCO_18/Slide008.png\" width=\"768\">"
   ]
  },
  {
   "cell_type": "markdown",
   "metadata": {
    "slideshow": {
     "slide_type": "slide"
    }
   },
   "source": [
    "<img src=\"InSARPrinciplesTheory_UNAVCO_18/Slide009.png\" width=\"768\">"
   ]
  },
  {
   "cell_type": "markdown",
   "metadata": {
    "slideshow": {
     "slide_type": "slide"
    }
   },
   "source": [
    "<img src=\"InSARPrinciplesTheory_UNAVCO_18/Slide010.png\" width=\"768\">"
   ]
  },
  {
   "cell_type": "markdown",
   "metadata": {
    "slideshow": {
     "slide_type": "slide"
    }
   },
   "source": [
    "<img src=\"InSARPrinciplesTheory_UNAVCO_18/Slide011.png\" width=\"768\">"
   ]
  },
  {
   "cell_type": "markdown",
   "metadata": {
    "slideshow": {
     "slide_type": "slide"
    }
   },
   "source": [
    "<img src=\"InSARPrinciplesTheory_UNAVCO_18/Slide012.png\" width=\"768\">"
   ]
  },
  {
   "cell_type": "markdown",
   "metadata": {
    "slideshow": {
     "slide_type": "slide"
    }
   },
   "source": [
    "<img src=\"InSARPrinciplesTheory_UNAVCO_18/Slide013.png\" width=\"768\">"
   ]
  },
  {
   "cell_type": "markdown",
   "metadata": {
    "slideshow": {
     "slide_type": "slide"
    }
   },
   "source": [
    "<img src=\"InSARPrinciplesTheory_UNAVCO_18/Slide014.png\" width=\"768\">"
   ]
  },
  {
   "cell_type": "markdown",
   "metadata": {
    "slideshow": {
     "slide_type": "slide"
    }
   },
   "source": [
    "<img src=\"InSARPrinciplesTheory_UNAVCO_18/Slide015.png\" width=\"768\">"
   ]
  },
  {
   "cell_type": "markdown",
   "metadata": {
    "slideshow": {
     "slide_type": "slide"
    }
   },
   "source": [
    "<img src=\"InSARPrinciplesTheory_UNAVCO_18/Slide016.png\" width=\"768\">"
   ]
  },
  {
   "cell_type": "markdown",
   "metadata": {
    "slideshow": {
     "slide_type": "slide"
    }
   },
   "source": [
    "<img src=\"InSARPrinciplesTheory_UNAVCO_18/Slide017.png\" width=\"768\">"
   ]
  },
  {
   "cell_type": "markdown",
   "metadata": {
    "slideshow": {
     "slide_type": "slide"
    }
   },
   "source": [
    "<img src=\"InSARPrinciplesTheory_UNAVCO_18/Slide018.png\" width=\"768\">"
   ]
  },
  {
   "cell_type": "markdown",
   "metadata": {
    "slideshow": {
     "slide_type": "slide"
    }
   },
   "source": [
    "<img src=\"InSARPrinciplesTheory_UNAVCO_18/Slide019.png\" width=\"768\">"
   ]
  },
  {
   "cell_type": "markdown",
   "metadata": {
    "slideshow": {
     "slide_type": "slide"
    }
   },
   "source": [
    "<img src=\"InSARPrinciplesTheory_UNAVCO_18/Slide020.png\" width=\"768\">"
   ]
  },
  {
   "cell_type": "markdown",
   "metadata": {
    "slideshow": {
     "slide_type": "slide"
    }
   },
   "source": [
    "<img src=\"InSARPrinciplesTheory_UNAVCO_18/Slide021.png\" width=\"768\">"
   ]
  },
  {
   "cell_type": "markdown",
   "metadata": {
    "slideshow": {
     "slide_type": "slide"
    }
   },
   "source": [
    "<img src=\"InSARPrinciplesTheory_UNAVCO_18/Slide022.png\" width=\"768\">"
   ]
  },
  {
   "cell_type": "markdown",
   "metadata": {
    "slideshow": {
     "slide_type": "slide"
    }
   },
   "source": [
    "<img src=\"InSARPrinciplesTheory_UNAVCO_18/Slide023.png\" width=\"768\">"
   ]
  },
  {
   "cell_type": "markdown",
   "metadata": {
    "slideshow": {
     "slide_type": "slide"
    }
   },
   "source": [
    "<img src=\"InSARPrinciplesTheory_UNAVCO_18/Slide024.png\" width=\"768\">"
   ]
  },
  {
   "cell_type": "markdown",
   "metadata": {
    "slideshow": {
     "slide_type": "slide"
    }
   },
   "source": [
    "<img src=\"InSARPrinciplesTheory_UNAVCO_18/Slide025.png\" width=\"768\">"
   ]
  },
  {
   "cell_type": "markdown",
   "metadata": {
    "slideshow": {
     "slide_type": "slide"
    }
   },
   "source": [
    "<img src=\"InSARPrinciplesTheory_UNAVCO_18/Slide026.png\" width=\"768\">"
   ]
  },
  {
   "cell_type": "markdown",
   "metadata": {
    "slideshow": {
     "slide_type": "slide"
    }
   },
   "source": [
    "<img src=\"InSARPrinciplesTheory_UNAVCO_18/Slide027.png\" width=\"768\">"
   ]
  },
  {
   "cell_type": "markdown",
   "metadata": {
    "slideshow": {
     "slide_type": "slide"
    }
   },
   "source": [
    "<img src=\"InSARPrinciplesTheory_UNAVCO_18/Slide028.png\" width=\"768\">"
   ]
  },
  {
   "cell_type": "markdown",
   "metadata": {
    "slideshow": {
     "slide_type": "slide"
    }
   },
   "source": [
    "<img src=\"InSARPrinciplesTheory_UNAVCO_18/Slide029.png\" width=\"768\">"
   ]
  },
  {
   "cell_type": "markdown",
   "metadata": {
    "slideshow": {
     "slide_type": "slide"
    }
   },
   "source": [
    "<img src=\"InSARPrinciplesTheory_UNAVCO_18/Slide030.png\" width=\"768\">"
   ]
  },
  {
   "cell_type": "markdown",
   "metadata": {
    "slideshow": {
     "slide_type": "slide"
    }
   },
   "source": [
    "<img src=\"InSARPrinciplesTheory_UNAVCO_18/Slide031.png\" width=\"768\">"
   ]
  },
  {
   "cell_type": "markdown",
   "metadata": {
    "slideshow": {
     "slide_type": "slide"
    }
   },
   "source": [
    "<img src=\"InSARPrinciplesTheory_UNAVCO_18/Slide032.png\" width=\"768\">"
   ]
  },
  {
   "cell_type": "markdown",
   "metadata": {
    "slideshow": {
     "slide_type": "slide"
    }
   },
   "source": [
    "<img src=\"InSARPrinciplesTheory_UNAVCO_18/Slide033.png\" width=\"768\">"
   ]
  },
  {
   "cell_type": "markdown",
   "metadata": {
    "slideshow": {
     "slide_type": "slide"
    }
   },
   "source": [
    "<img src=\"InSARPrinciplesTheory_UNAVCO_18/Slide034.png\" width=\"768\">"
   ]
  },
  {
   "cell_type": "markdown",
   "metadata": {
    "slideshow": {
     "slide_type": "slide"
    }
   },
   "source": [
    "<img src=\"InSARPrinciplesTheory_UNAVCO_18/Slide035.png\" width=\"768\">"
   ]
  },
  {
   "cell_type": "markdown",
   "metadata": {
    "slideshow": {
     "slide_type": "slide"
    }
   },
   "source": [
    "<img src=\"InSARPrinciplesTheory_UNAVCO_18/Slide036.png\" width=\"768\">"
   ]
  },
  {
   "cell_type": "markdown",
   "metadata": {
    "slideshow": {
     "slide_type": "slide"
    }
   },
   "source": [
    "<img src=\"InSARPrinciplesTheory_UNAVCO_18/Slide037.png\" width=\"768\">"
   ]
  },
  {
   "cell_type": "markdown",
   "metadata": {
    "slideshow": {
     "slide_type": "slide"
    }
   },
   "source": [
    "<img src=\"InSARPrinciplesTheory_UNAVCO_18/Slide038.png\" width=\"768\">"
   ]
  },
  {
   "cell_type": "markdown",
   "metadata": {
    "slideshow": {
     "slide_type": "slide"
    }
   },
   "source": [
    "<img src=\"InSARPrinciplesTheory_UNAVCO_18/Slide039.png\" width=\"768\">"
   ]
  },
  {
   "cell_type": "markdown",
   "metadata": {
    "slideshow": {
     "slide_type": "slide"
    }
   },
   "source": [
    "<img src=\"InSARPrinciplesTheory_UNAVCO_18/Slide040.png\" width=\"768\">"
   ]
  },
  {
   "cell_type": "markdown",
   "metadata": {
    "slideshow": {
     "slide_type": "slide"
    }
   },
   "source": [
    "<img src=\"InSARPrinciplesTheory_UNAVCO_18/Slide041.png\" width=\"768\">"
   ]
  },
  {
   "cell_type": "markdown",
   "metadata": {
    "slideshow": {
     "slide_type": "slide"
    }
   },
   "source": [
    "<img src=\"InSARPrinciplesTheory_UNAVCO_18/Slide042.png\" width=\"768\">"
   ]
  },
  {
   "cell_type": "markdown",
   "metadata": {
    "slideshow": {
     "slide_type": "slide"
    }
   },
   "source": [
    "<img src=\"InSARPrinciplesTheory_UNAVCO_18/Slide043.png\" width=\"768\">"
   ]
  },
  {
   "cell_type": "markdown",
   "metadata": {
    "slideshow": {
     "slide_type": "slide"
    }
   },
   "source": [
    "<img src=\"InSARPrinciplesTheory_UNAVCO_18/Slide044.png\" width=\"768\">"
   ]
  },
  {
   "cell_type": "markdown",
   "metadata": {
    "slideshow": {
     "slide_type": "slide"
    }
   },
   "source": [
    "<img src=\"InSARPrinciplesTheory_UNAVCO_18/Slide045.png\" width=\"768\">"
   ]
  },
  {
   "cell_type": "markdown",
   "metadata": {
    "slideshow": {
     "slide_type": "slide"
    }
   },
   "source": [
    "<img src=\"InSARPrinciplesTheory_UNAVCO_18/Slide046.png\" width=\"768\">"
   ]
  },
  {
   "cell_type": "markdown",
   "metadata": {
    "slideshow": {
     "slide_type": "slide"
    }
   },
   "source": [
    "<img src=\"InSARPrinciplesTheory_UNAVCO_18/Slide047.png\" width=\"768\">"
   ]
  },
  {
   "cell_type": "markdown",
   "metadata": {
    "slideshow": {
     "slide_type": "slide"
    }
   },
   "source": [
    "<img src=\"InSARPrinciplesTheory_UNAVCO_18/Slide048.png\" width=\"768\">"
   ]
  },
  {
   "cell_type": "markdown",
   "metadata": {
    "slideshow": {
     "slide_type": "slide"
    }
   },
   "source": [
    "<img src=\"InSARPrinciplesTheory_UNAVCO_18/Slide049.png\" width=\"768\">"
   ]
  },
  {
   "cell_type": "markdown",
   "metadata": {
    "slideshow": {
     "slide_type": "slide"
    }
   },
   "source": [
    "<img src=\"InSARPrinciplesTheory_UNAVCO_18/Slide050.png\" width=\"768\">"
   ]
  },
  {
   "cell_type": "markdown",
   "metadata": {
    "slideshow": {
     "slide_type": "slide"
    }
   },
   "source": [
    "<img src=\"InSARPrinciplesTheory_UNAVCO_18/Slide051.png\" width=\"768\">"
   ]
  },
  {
   "cell_type": "markdown",
   "metadata": {
    "slideshow": {
     "slide_type": "slide"
    }
   },
   "source": [
    "<img src=\"InSARPrinciplesTheory_UNAVCO_18/Slide052.png\" width=\"768\">"
   ]
  },
  {
   "cell_type": "markdown",
   "metadata": {
    "slideshow": {
     "slide_type": "slide"
    }
   },
   "source": [
    "<img src=\"InSARPrinciplesTheory_UNAVCO_18/Slide053.png\" width=\"768\">"
   ]
  },
  {
   "cell_type": "markdown",
   "metadata": {
    "slideshow": {
     "slide_type": "slide"
    }
   },
   "source": [
    "<img src=\"InSARPrinciplesTheory_UNAVCO_18/Slide054.png\" width=\"768\">"
   ]
  },
  {
   "cell_type": "markdown",
   "metadata": {
    "slideshow": {
     "slide_type": "slide"
    }
   },
   "source": [
    "<img src=\"InSARPrinciplesTheory_UNAVCO_18/Slide055.png\" width=\"768\">"
   ]
  },
  {
   "cell_type": "markdown",
   "metadata": {
    "slideshow": {
     "slide_type": "slide"
    }
   },
   "source": [
    "<img src=\"InSARPrinciplesTheory_UNAVCO_18/Slide056.png\" width=\"768\">"
   ]
  },
  {
   "cell_type": "markdown",
   "metadata": {
    "slideshow": {
     "slide_type": "slide"
    }
   },
   "source": [
    "<img src=\"InSARPrinciplesTheory_UNAVCO_18/Slide057.png\" width=\"768\">"
   ]
  },
  {
   "cell_type": "markdown",
   "metadata": {
    "slideshow": {
     "slide_type": "slide"
    }
   },
   "source": [
    "<img src=\"InSARPrinciplesTheory_UNAVCO_18/Slide058.png\" width=\"768\">"
   ]
  },
  {
   "cell_type": "markdown",
   "metadata": {
    "slideshow": {
     "slide_type": "slide"
    }
   },
   "source": [
    "<img src=\"InSARPrinciplesTheory_UNAVCO_18/Slide059.png\" width=\"768\">"
   ]
  },
  {
   "cell_type": "markdown",
   "metadata": {
    "slideshow": {
     "slide_type": "slide"
    }
   },
   "source": [
    "<img src=\"InSARPrinciplesTheory_UNAVCO_18/Slide060.png\" width=\"768\">"
   ]
  },
  {
   "cell_type": "markdown",
   "metadata": {
    "slideshow": {
     "slide_type": "slide"
    }
   },
   "source": [
    "<img src=\"InSARPrinciplesTheory_UNAVCO_18/Slide061.png\" width=\"768\">"
   ]
  },
  {
   "cell_type": "markdown",
   "metadata": {
    "slideshow": {
     "slide_type": "slide"
    }
   },
   "source": [
    "<img src=\"InSARPrinciplesTheory_UNAVCO_18/Slide062.png\" width=\"768\">"
   ]
  },
  {
   "cell_type": "markdown",
   "metadata": {
    "slideshow": {
     "slide_type": "slide"
    }
   },
   "source": [
    "<img src=\"InSARPrinciplesTheory_UNAVCO_18/Slide063.png\" width=\"768\">"
   ]
  },
  {
   "cell_type": "markdown",
   "metadata": {
    "slideshow": {
     "slide_type": "slide"
    }
   },
   "source": [
    "<img src=\"InSARPrinciplesTheory_UNAVCO_18/Slide064.png\" width=\"768\">"
   ]
  },
  {
   "cell_type": "markdown",
   "metadata": {
    "slideshow": {
     "slide_type": "slide"
    }
   },
   "source": [
    "<img src=\"InSARPrinciplesTheory_UNAVCO_18/Slide065.png\" width=\"768\">"
   ]
  },
  {
   "cell_type": "markdown",
   "metadata": {
    "slideshow": {
     "slide_type": "slide"
    }
   },
   "source": [
    "<img src=\"InSARPrinciplesTheory_UNAVCO_18/Slide066.png\" width=\"768\">"
   ]
  },
  {
   "cell_type": "markdown",
   "metadata": {
    "slideshow": {
     "slide_type": "slide"
    }
   },
   "source": [
    "<img src=\"InSARPrinciplesTheory_UNAVCO_18/Slide067.png\" width=\"768\">"
   ]
  },
  {
   "cell_type": "markdown",
   "metadata": {
    "slideshow": {
     "slide_type": "slide"
    }
   },
   "source": [
    "<img src=\"InSARPrinciplesTheory_UNAVCO_18/Slide068.png\" width=\"768\">"
   ]
  },
  {
   "cell_type": "markdown",
   "metadata": {
    "slideshow": {
     "slide_type": "slide"
    }
   },
   "source": [
    "<img src=\"InSARPrinciplesTheory_UNAVCO_18/Slide069.png\" width=\"768\">"
   ]
  },
  {
   "cell_type": "markdown",
   "metadata": {
    "slideshow": {
     "slide_type": "slide"
    }
   },
   "source": [
    "<img src=\"InSARPrinciplesTheory_UNAVCO_18/Slide070.png\" width=\"768\">"
   ]
  },
  {
   "cell_type": "markdown",
   "metadata": {
    "slideshow": {
     "slide_type": "slide"
    }
   },
   "source": [
    "<img src=\"InSARPrinciplesTheory_UNAVCO_18/Slide071.png\" width=\"768\">"
   ]
  },
  {
   "cell_type": "markdown",
   "metadata": {
    "slideshow": {
     "slide_type": "slide"
    }
   },
   "source": [
    "<img src=\"InSARPrinciplesTheory_UNAVCO_18/Slide072.png\" width=\"768\">"
   ]
  },
  {
   "cell_type": "markdown",
   "metadata": {
    "slideshow": {
     "slide_type": "slide"
    }
   },
   "source": [
    "<img src=\"InSARPrinciplesTheory_UNAVCO_18/Slide073.png\" width=\"768\">"
   ]
  },
  {
   "cell_type": "markdown",
   "metadata": {
    "slideshow": {
     "slide_type": "slide"
    }
   },
   "source": [
    "<img src=\"InSARPrinciplesTheory_UNAVCO_18/Slide074.png\" width=\"768\">"
   ]
  },
  {
   "cell_type": "markdown",
   "metadata": {
    "slideshow": {
     "slide_type": "slide"
    }
   },
   "source": [
    "<img src=\"InSARPrinciplesTheory_UNAVCO_18/Slide075.png\" width=\"768\">"
   ]
  },
  {
   "cell_type": "markdown",
   "metadata": {
    "slideshow": {
     "slide_type": "slide"
    }
   },
   "source": [
    "<img src=\"InSARPrinciplesTheory_UNAVCO_18/Slide076.png\" width=\"768\">"
   ]
  },
  {
   "cell_type": "markdown",
   "metadata": {
    "slideshow": {
     "slide_type": "slide"
    }
   },
   "source": [
    "<img src=\"InSARPrinciplesTheory_UNAVCO_18/Slide077.png\" width=\"768\">"
   ]
  },
  {
   "cell_type": "markdown",
   "metadata": {
    "slideshow": {
     "slide_type": "slide"
    }
   },
   "source": [
    "<img src=\"InSARPrinciplesTheory_UNAVCO_18/Slide078.png\" width=\"768\">"
   ]
  },
  {
   "cell_type": "markdown",
   "metadata": {
    "slideshow": {
     "slide_type": "slide"
    }
   },
   "source": [
    "<img src=\"InSARPrinciplesTheory_UNAVCO_18/Slide079.png\" width=\"768\">"
   ]
  },
  {
   "cell_type": "markdown",
   "metadata": {
    "slideshow": {
     "slide_type": "slide"
    }
   },
   "source": [
    "<img src=\"InSARPrinciplesTheory_UNAVCO_18/Slide080.png\" width=\"768\">"
   ]
  },
  {
   "cell_type": "markdown",
   "metadata": {
    "slideshow": {
     "slide_type": "slide"
    }
   },
   "source": [
    "<img src=\"InSARPrinciplesTheory_UNAVCO_18/Slide081.png\" width=\"768\">"
   ]
  },
  {
   "cell_type": "markdown",
   "metadata": {
    "slideshow": {
     "slide_type": "slide"
    }
   },
   "source": [
    "<img src=\"InSARPrinciplesTheory_UNAVCO_18/Slide082.png\" width=\"768\">"
   ]
  },
  {
   "cell_type": "markdown",
   "metadata": {
    "slideshow": {
     "slide_type": "slide"
    }
   },
   "source": [
    "<img src=\"InSARPrinciplesTheory_UNAVCO_18/Slide083.png\" width=\"768\">"
   ]
  },
  {
   "cell_type": "markdown",
   "metadata": {
    "slideshow": {
     "slide_type": "slide"
    }
   },
   "source": [
    "<img src=\"InSARPrinciplesTheory_UNAVCO_18/Slide084.png\" width=\"768\">"
   ]
  },
  {
   "cell_type": "markdown",
   "metadata": {
    "slideshow": {
     "slide_type": "slide"
    }
   },
   "source": [
    "<img src=\"InSARPrinciplesTheory_UNAVCO_18/Slide085.png\" width=\"768\">"
   ]
  },
  {
   "cell_type": "markdown",
   "metadata": {
    "slideshow": {
     "slide_type": "slide"
    }
   },
   "source": [
    "<img src=\"InSARPrinciplesTheory_UNAVCO_18/Slide086.png\" width=\"768\">"
   ]
  },
  {
   "cell_type": "markdown",
   "metadata": {
    "slideshow": {
     "slide_type": "slide"
    }
   },
   "source": [
    "<img src=\"InSARPrinciplesTheory_UNAVCO_18/Slide087.png\" width=\"768\">"
   ]
  },
  {
   "cell_type": "markdown",
   "metadata": {
    "slideshow": {
     "slide_type": "slide"
    }
   },
   "source": [
    "<img src=\"InSARPrinciplesTheory_UNAVCO_18/Slide088.png\" width=\"768\">"
   ]
  },
  {
   "cell_type": "markdown",
   "metadata": {
    "slideshow": {
     "slide_type": "slide"
    }
   },
   "source": [
    "<img src=\"InSARPrinciplesTheory_UNAVCO_18/Slide089.png\" width=\"768\">"
   ]
  },
  {
   "cell_type": "markdown",
   "metadata": {
    "slideshow": {
     "slide_type": "slide"
    }
   },
   "source": [
    "<img src=\"InSARPrinciplesTheory_UNAVCO_18/Slide090.png\" width=\"768\">"
   ]
  },
  {
   "cell_type": "markdown",
   "metadata": {
    "slideshow": {
     "slide_type": "slide"
    }
   },
   "source": [
    "<img src=\"InSARPrinciplesTheory_UNAVCO_18/Slide091.png\" width=\"768\">"
   ]
  },
  {
   "cell_type": "markdown",
   "metadata": {
    "slideshow": {
     "slide_type": "slide"
    }
   },
   "source": [
    "<img src=\"InSARPrinciplesTheory_UNAVCO_18/Slide092.png\" width=\"768\">"
   ]
  },
  {
   "cell_type": "markdown",
   "metadata": {
    "slideshow": {
     "slide_type": "slide"
    }
   },
   "source": [
    "<img src=\"InSARPrinciplesTheory_UNAVCO_18/Slide093.png\" width=\"768\">"
   ]
  },
  {
   "cell_type": "markdown",
   "metadata": {
    "slideshow": {
     "slide_type": "slide"
    }
   },
   "source": [
    "<img src=\"InSARPrinciplesTheory_UNAVCO_18/Slide094.png\" width=\"768\">"
   ]
  },
  {
   "cell_type": "markdown",
   "metadata": {
    "slideshow": {
     "slide_type": "slide"
    }
   },
   "source": [
    "<img src=\"InSARPrinciplesTheory_UNAVCO_18/Slide095.png\" width=\"768\">"
   ]
  },
  {
   "cell_type": "markdown",
   "metadata": {
    "slideshow": {
     "slide_type": "slide"
    }
   },
   "source": [
    "<img src=\"InSARPrinciplesTheory_UNAVCO_18/Slide096.png\" width=\"768\">"
   ]
  },
  {
   "cell_type": "markdown",
   "metadata": {
    "slideshow": {
     "slide_type": "slide"
    }
   },
   "source": [
    "<img src=\"InSARPrinciplesTheory_UNAVCO_18/Slide097.png\" width=\"768\">"
   ]
  },
  {
   "cell_type": "markdown",
   "metadata": {
    "slideshow": {
     "slide_type": "slide"
    }
   },
   "source": [
    "<img src=\"InSARPrinciplesTheory_UNAVCO_18/Slide098.png\" width=\"768\">"
   ]
  },
  {
   "cell_type": "markdown",
   "metadata": {
    "slideshow": {
     "slide_type": "slide"
    }
   },
   "source": [
    "<img src=\"InSARPrinciplesTheory_UNAVCO_18/Slide099.png\" width=\"768\">"
   ]
  },
  {
   "cell_type": "markdown",
   "metadata": {
    "slideshow": {
     "slide_type": "slide"
    }
   },
   "source": [
    "<img src=\"InSARPrinciplesTheory_UNAVCO_18/Slide100.png\" width=\"768\">"
   ]
  },
  {
   "cell_type": "markdown",
   "metadata": {
    "slideshow": {
     "slide_type": "slide"
    }
   },
   "source": [
    "<img src=\"InSARPrinciplesTheory_UNAVCO_18/Slide101.png\" width=\"768\">"
   ]
  },
  {
   "cell_type": "markdown",
   "metadata": {
    "slideshow": {
     "slide_type": "slide"
    }
   },
   "source": [
    "<img src=\"InSARPrinciplesTheory_UNAVCO_18/Slide102.png\" width=\"768\">"
   ]
  },
  {
   "cell_type": "markdown",
   "metadata": {
    "slideshow": {
     "slide_type": "slide"
    }
   },
   "source": [
    "<img src=\"InSARPrinciplesTheory_UNAVCO_18/Slide103.png\" width=\"768\">"
   ]
  },
  {
   "cell_type": "markdown",
   "metadata": {
    "slideshow": {
     "slide_type": "slide"
    }
   },
   "source": [
    "<img src=\"InSARPrinciplesTheory_UNAVCO_18/Slide104.png\" width=\"768\">"
   ]
  },
  {
   "cell_type": "markdown",
   "metadata": {
    "slideshow": {
     "slide_type": "slide"
    }
   },
   "source": [
    "<img src=\"InSARPrinciplesTheory_UNAVCO_18/Slide105.png\" width=\"768\">"
   ]
  },
  {
   "cell_type": "markdown",
   "metadata": {
    "slideshow": {
     "slide_type": "slide"
    }
   },
   "source": [
    "<img src=\"InSARPrinciplesTheory_UNAVCO_18/Slide106.png\" width=\"768\">"
   ]
  },
  {
   "cell_type": "markdown",
   "metadata": {
    "slideshow": {
     "slide_type": "slide"
    }
   },
   "source": [
    "<img src=\"InSARPrinciplesTheory_UNAVCO_18/Slide107.png\" width=\"768\">"
   ]
  },
  {
   "cell_type": "markdown",
   "metadata": {
    "slideshow": {
     "slide_type": "slide"
    }
   },
   "source": [
    "<img src=\"InSARPrinciplesTheory_UNAVCO_18/Slide108.png\" width=\"768\">"
   ]
  },
  {
   "cell_type": "markdown",
   "metadata": {
    "slideshow": {
     "slide_type": "slide"
    }
   },
   "source": [
    "<img src=\"InSARPrinciplesTheory_UNAVCO_18/Slide109.png\" width=\"768\">"
   ]
  },
  {
   "cell_type": "markdown",
   "metadata": {
    "slideshow": {
     "slide_type": "slide"
    }
   },
   "source": [
    "<img src=\"InSARPrinciplesTheory_UNAVCO_18/Slide110.png\" width=\"768\">"
   ]
  },
  {
   "cell_type": "markdown",
   "metadata": {
    "slideshow": {
     "slide_type": "slide"
    }
   },
   "source": [
    "<img src=\"InSARPrinciplesTheory_UNAVCO_18/Slide111.png\" width=\"768\">"
   ]
  },
  {
   "cell_type": "markdown",
   "metadata": {
    "slideshow": {
     "slide_type": "slide"
    }
   },
   "source": [
    "<img src=\"InSARPrinciplesTheory_UNAVCO_18/Slide112.png\" width=\"768\">"
   ]
  },
  {
   "cell_type": "markdown",
   "metadata": {
    "slideshow": {
     "slide_type": "slide"
    }
   },
   "source": [
    "<img src=\"InSARPrinciplesTheory_UNAVCO_18/Slide113.png\" width=\"768\">"
   ]
  },
  {
   "cell_type": "markdown",
   "metadata": {
    "slideshow": {
     "slide_type": "slide"
    }
   },
   "source": [
    "<img src=\"InSARPrinciplesTheory_UNAVCO_18/Slide114.png\" width=\"768\">"
   ]
  },
  {
   "cell_type": "markdown",
   "metadata": {
    "slideshow": {
     "slide_type": "slide"
    }
   },
   "source": [
    "<img src=\"InSARPrinciplesTheory_UNAVCO_18/Slide115.png\" width=\"768\">"
   ]
  }
 ],
 "metadata": {
  "celltoolbar": "Slideshow",
  "kernelspec": {
   "display_name": "Python 3",
   "language": "python",
   "name": "python3"
  },
  "language_info": {
   "codemirror_mode": {
    "name": "ipython",
    "version": 3
   },
   "file_extension": ".py",
   "mimetype": "text/x-python",
   "name": "python",
   "nbconvert_exporter": "python",
   "pygments_lexer": "ipython3",
   "version": "3.6.6"
  },
  "rise": {
   "header": "Piyush Shanker Agram",
   "transition": "fade"
  }
 },
 "nbformat": 4,
 "nbformat_minor": 2
}
